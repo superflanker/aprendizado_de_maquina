{
  "cells": [
    {
      "cell_type": "markdown",
      "id": "3f389fa6",
      "metadata": {
        "id": "3f389fa6",
        "pycharm": {
          "name": "#%% md\n"
        }
      },
      "source": [
        "# Prova 2 - Prevendo probabilidade de sobrevivência: Desastre Titanic"
      ]
    },
    {
      "cell_type": "code",
      "execution_count": 95,
      "id": "95ec3b46",
      "metadata": {
        "id": "95ec3b46",
        "pycharm": {
          "name": "#%%\n"
        }
      },
      "outputs": [],
      "source": [
        "import math as math\n",
        "import numpy as np\n",
        "import matplotlib.pyplot as plt\n",
        "import pandas as pd\n",
        "import seaborn as sns"
      ]
    },
    {
      "cell_type": "markdown",
      "id": "51bef8ee",
      "metadata": {
        "id": "51bef8ee",
        "pycharm": {
          "name": "#%% md\n"
        }
      },
      "source": [
        "# Definição do Problema\n",
        "\n",
        "\n",
        "O Titanic era o maior navio em operação na época de sua viagem inaugural e transportava 2.224 pessoas nessa viagem, que partiu de Southampton em 10 de abril de 1912. Seu destino era Nova York, nos Estados Unidos, mas sua última parada foi em Cobh (Queenstown), na Irlanda, em 11 de abril de 1912.\n",
        "\n",
        "Este conjunto de dados contém os registros de todos os passageiros, incluindo informações sobre sua sobrevivência.\n",
        "\n",
        "\n",
        "Referências:\n",
        "\n",
        "- Will Cukierski. (2012). Titanic - Machine Learning from Disaster. Kaggle. https://kaggle.com/competitions/titanic\n",
        "\n",
        "- https://www.kaggle.com/competitions/titanic\n",
        "\n",
        "- https://www.kaggle.com/code/nphantawee/learning-classification-problem-with-titanic\n"
      ]
    },
    {
      "cell_type": "code",
      "execution_count": 96,
      "id": "M5guR4uDv4Hz",
      "metadata": {
        "colab": {
          "base_uri": "https://localhost:8080/",
          "height": 206
        },
        "id": "M5guR4uDv4Hz",
        "outputId": "e0e7fb95-809b-419c-ba05-cdb93a11cf6e"
      },
      "outputs": [
        {
          "data": {
            "text/html": [
              "<div>\n",
              "<style scoped>\n",
              "    .dataframe tbody tr th:only-of-type {\n",
              "        vertical-align: middle;\n",
              "    }\n",
              "\n",
              "    .dataframe tbody tr th {\n",
              "        vertical-align: top;\n",
              "    }\n",
              "\n",
              "    .dataframe thead th {\n",
              "        text-align: right;\n",
              "    }\n",
              "</style>\n",
              "<table border=\"1\" class=\"dataframe\">\n",
              "  <thead>\n",
              "    <tr style=\"text-align: right;\">\n",
              "      <th></th>\n",
              "      <th>PassengerId</th>\n",
              "      <th>Survived</th>\n",
              "      <th>Pclass</th>\n",
              "      <th>Name</th>\n",
              "      <th>Sex</th>\n",
              "      <th>Age</th>\n",
              "      <th>SibSp</th>\n",
              "      <th>Parch</th>\n",
              "      <th>Ticket</th>\n",
              "      <th>Fare</th>\n",
              "      <th>Cabin</th>\n",
              "      <th>Embarked</th>\n",
              "    </tr>\n",
              "  </thead>\n",
              "  <tbody>\n",
              "    <tr>\n",
              "      <th>0</th>\n",
              "      <td>1</td>\n",
              "      <td>0</td>\n",
              "      <td>3</td>\n",
              "      <td>Braund, Mr. Owen Harris</td>\n",
              "      <td>male</td>\n",
              "      <td>22.0</td>\n",
              "      <td>1</td>\n",
              "      <td>0</td>\n",
              "      <td>A/5 21171</td>\n",
              "      <td>7.2500</td>\n",
              "      <td>NaN</td>\n",
              "      <td>S</td>\n",
              "    </tr>\n",
              "    <tr>\n",
              "      <th>1</th>\n",
              "      <td>2</td>\n",
              "      <td>1</td>\n",
              "      <td>1</td>\n",
              "      <td>Cumings, Mrs. John Bradley (Florence Briggs Th...</td>\n",
              "      <td>female</td>\n",
              "      <td>38.0</td>\n",
              "      <td>1</td>\n",
              "      <td>0</td>\n",
              "      <td>PC 17599</td>\n",
              "      <td>71.2833</td>\n",
              "      <td>C85</td>\n",
              "      <td>C</td>\n",
              "    </tr>\n",
              "    <tr>\n",
              "      <th>2</th>\n",
              "      <td>3</td>\n",
              "      <td>1</td>\n",
              "      <td>3</td>\n",
              "      <td>Heikkinen, Miss. Laina</td>\n",
              "      <td>female</td>\n",
              "      <td>26.0</td>\n",
              "      <td>0</td>\n",
              "      <td>0</td>\n",
              "      <td>STON/O2. 3101282</td>\n",
              "      <td>7.9250</td>\n",
              "      <td>NaN</td>\n",
              "      <td>S</td>\n",
              "    </tr>\n",
              "    <tr>\n",
              "      <th>3</th>\n",
              "      <td>4</td>\n",
              "      <td>1</td>\n",
              "      <td>1</td>\n",
              "      <td>Futrelle, Mrs. Jacques Heath (Lily May Peel)</td>\n",
              "      <td>female</td>\n",
              "      <td>35.0</td>\n",
              "      <td>1</td>\n",
              "      <td>0</td>\n",
              "      <td>113803</td>\n",
              "      <td>53.1000</td>\n",
              "      <td>C123</td>\n",
              "      <td>S</td>\n",
              "    </tr>\n",
              "    <tr>\n",
              "      <th>4</th>\n",
              "      <td>5</td>\n",
              "      <td>0</td>\n",
              "      <td>3</td>\n",
              "      <td>Allen, Mr. William Henry</td>\n",
              "      <td>male</td>\n",
              "      <td>35.0</td>\n",
              "      <td>0</td>\n",
              "      <td>0</td>\n",
              "      <td>373450</td>\n",
              "      <td>8.0500</td>\n",
              "      <td>NaN</td>\n",
              "      <td>S</td>\n",
              "    </tr>\n",
              "  </tbody>\n",
              "</table>\n",
              "</div>"
            ],
            "text/plain": [
              "   PassengerId  Survived  Pclass   \n",
              "0            1         0       3  \\\n",
              "1            2         1       1   \n",
              "2            3         1       3   \n",
              "3            4         1       1   \n",
              "4            5         0       3   \n",
              "\n",
              "                                                Name     Sex   Age  SibSp   \n",
              "0                            Braund, Mr. Owen Harris    male  22.0      1  \\\n",
              "1  Cumings, Mrs. John Bradley (Florence Briggs Th...  female  38.0      1   \n",
              "2                             Heikkinen, Miss. Laina  female  26.0      0   \n",
              "3       Futrelle, Mrs. Jacques Heath (Lily May Peel)  female  35.0      1   \n",
              "4                           Allen, Mr. William Henry    male  35.0      0   \n",
              "\n",
              "   Parch            Ticket     Fare Cabin Embarked  \n",
              "0      0         A/5 21171   7.2500   NaN        S  \n",
              "1      0          PC 17599  71.2833   C85        C  \n",
              "2      0  STON/O2. 3101282   7.9250   NaN        S  \n",
              "3      0            113803  53.1000  C123        S  \n",
              "4      0            373450   8.0500   NaN        S  "
            ]
          },
          "execution_count": 96,
          "metadata": {},
          "output_type": "execute_result"
        }
      ],
      "source": [
        "# Carregando os dados\n",
        "df = pd.read_csv('train.csv')\n",
        "df.head()"
      ]
    },
    {
      "cell_type": "code",
      "execution_count": 97,
      "id": "OKpvQGMmegxC",
      "metadata": {
        "colab": {
          "base_uri": "https://localhost:8080/"
        },
        "id": "OKpvQGMmegxC",
        "outputId": "d8b663bb-b841-4953-83c9-9432a0c3bc09"
      },
      "outputs": [
        {
          "name": "stdout",
          "output_type": "stream",
          "text": [
            "<class 'pandas.core.frame.DataFrame'>\n",
            "RangeIndex: 891 entries, 0 to 890\n",
            "Data columns (total 12 columns):\n",
            " #   Column       Non-Null Count  Dtype  \n",
            "---  ------       --------------  -----  \n",
            " 0   PassengerId  891 non-null    int64  \n",
            " 1   Survived     891 non-null    int64  \n",
            " 2   Pclass       891 non-null    int64  \n",
            " 3   Name         891 non-null    object \n",
            " 4   Sex          891 non-null    object \n",
            " 5   Age          714 non-null    float64\n",
            " 6   SibSp        891 non-null    int64  \n",
            " 7   Parch        891 non-null    int64  \n",
            " 8   Ticket       891 non-null    object \n",
            " 9   Fare         891 non-null    float64\n",
            " 10  Cabin        204 non-null    object \n",
            " 11  Embarked     889 non-null    object \n",
            "dtypes: float64(2), int64(5), object(5)\n",
            "memory usage: 83.7+ KB\n"
          ]
        }
      ],
      "source": [
        "# Dando uma olhada inicial nos dados:\n",
        "df.info()"
      ]
    },
    {
      "cell_type": "markdown",
      "id": "Ef-bCSc7esCH",
      "metadata": {
        "id": "Ef-bCSc7esCH"
      },
      "source": [
        "Usando o comando .info(), percebemos que:\n",
        "\n",
        "- as características com natureza numérica são: ['PassengerId', 'Survived', 'Pclass', 'SibSp', 'Parch','Age', 'Fare']\n",
        "- as características com natureza categórica são: ['Name', 'Sex', 'Ticket', 'Cabin', 'Embarked']"
      ]
    },
    {
      "cell_type": "code",
      "execution_count": 98,
      "id": "6tWqa_7jethE",
      "metadata": {
        "colab": {
          "base_uri": "https://localhost:8080/",
          "height": 460
        },
        "id": "6tWqa_7jethE",
        "outputId": "f3a5059c-d5d6-43e7-8a31-c28ac20b4770"
      },
      "outputs": [
        {
          "data": {
            "text/plain": [
              "PassengerId      0\n",
              "Survived         0\n",
              "Pclass           0\n",
              "Name             0\n",
              "Sex              0\n",
              "Age            177\n",
              "SibSp            0\n",
              "Parch            0\n",
              "Ticket           0\n",
              "Fare             0\n",
              "Cabin          687\n",
              "Embarked         2\n",
              "dtype: int64"
            ]
          },
          "execution_count": 98,
          "metadata": {},
          "output_type": "execute_result"
        }
      ],
      "source": [
        "# identificando dados faltantes\n",
        "\n",
        "df.isna().sum()"
      ]
    },
    {
      "cell_type": "code",
      "execution_count": 99,
      "id": "r0Tjwqr2fGkm",
      "metadata": {
        "colab": {
          "base_uri": "https://localhost:8080/",
          "height": 517
        },
        "id": "r0Tjwqr2fGkm",
        "outputId": "568dc2bd-6afe-458e-8383-27edf37867a3"
      },
      "outputs": [
        {
          "data": {
            "text/plain": [
              "<Axes: >"
            ]
          },
          "execution_count": 99,
          "metadata": {},
          "output_type": "execute_result"
        },
        {
          "data": {
            "image/png": "[encoded data removed]",
            "text/plain": [
              "<Figure size 640x480 with 1 Axes>"
            ]
          },
          "metadata": {},
          "output_type": "display_data"
        }
      ],
      "source": [
        "# Verificando a posição desses dados faltantes no conjunto de dados\n",
        "\n",
        "sns.heatmap(data=df.isna(),yticklabels=False,cmap='coolwarm',cbar=False)"
      ]
    },
    {
      "cell_type": "markdown",
      "id": "Ljzxd05hgZDm",
      "metadata": {
        "id": "Ljzxd05hgZDm"
      },
      "source": [
        "# Dados ausentes: cabine\n",
        "\n",
        "Existem muitos dados faltantes para a cabine dos passageiros, portanto, iremos remover essa característica."
      ]
    },
    {
      "cell_type": "code",
      "execution_count": 100,
      "id": "3lVLdC8FgNKD",
      "metadata": {
        "id": "3lVLdC8FgNKD"
      },
      "outputs": [],
      "source": [
        "df.drop(columns=['Cabin'],axis=1,inplace=True)"
      ]
    },
    {
      "cell_type": "code",
      "execution_count": 101,
      "id": "fKgv0Jt6gR1d",
      "metadata": {
        "colab": {
          "base_uri": "https://localhost:8080/"
        },
        "id": "fKgv0Jt6gR1d",
        "outputId": "f0fb6714-f42c-4d69-d895-da99ca3d8d23"
      },
      "outputs": [
        {
          "data": {
            "text/plain": [
              "Index(['PassengerId', 'Survived', 'Pclass', 'Name', 'Sex', 'Age', 'SibSp',\n",
              "       'Parch', 'Ticket', 'Fare', 'Embarked'],\n",
              "      dtype='object')"
            ]
          },
          "execution_count": 101,
          "metadata": {},
          "output_type": "execute_result"
        }
      ],
      "source": [
        "df.columns # Perceba que a coluna 'Cabin' foi removida do Dataframe"
      ]
    },
    {
      "cell_type": "markdown",
      "id": "2qRu5eOagFDP",
      "metadata": {
        "id": "2qRu5eOagFDP"
      },
      "source": [
        "# Dados ausentes: local de embarque\n",
        "\n",
        "Como só dois passageiros não possuem essa característica registrada, iremos preenchê-la com a categoria mais presente (frequente)."
      ]
    },
    {
      "cell_type": "code",
      "execution_count": 102,
      "id": "ty-95J9DguVG",
      "metadata": {
        "colab": {
          "base_uri": "https://localhost:8080/",
          "height": 466
        },
        "id": "ty-95J9DguVG",
        "outputId": "6bb71123-3198-4d7d-d8f1-53d7f64cdf94"
      },
      "outputs": [
        {
          "data": {
            "text/plain": [
              "<Axes: xlabel='Embarked', ylabel='count'>"
            ]
          },
          "execution_count": 102,
          "metadata": {},
          "output_type": "execute_result"
        },
        {
          "data": {
            "image/png": "[encoded data removed]",
            "text/plain": [
              "<Figure size 640x480 with 1 Axes>"
            ]
          },
          "metadata": {},
          "output_type": "display_data"
        }
      ],
      "source": [
        "sns.countplot(x=df['Embarked'])"
      ]
    },
    {
      "cell_type": "code",
      "execution_count": 103,
      "id": "QUd404sng2HI",
      "metadata": {
        "colab": {
          "base_uri": "https://localhost:8080/",
          "height": 35
        },
        "id": "QUd404sng2HI",
        "outputId": "c9036cb8-0751-44c3-9a50-5d5d91afbd6f"
      },
      "outputs": [
        {
          "data": {
            "text/plain": [
              "'S'"
            ]
          },
          "metadata": {},
          "output_type": "display_data"
        }
      ],
      "source": [
        "# Também podemos verificar isso calculando a moda:\n",
        "\n",
        "local_embarque_mais_freq = df['Embarked'].mode()[0]\n",
        "\n",
        "display(local_embarque_mais_freq)"
      ]
    },
    {
      "cell_type": "code",
      "execution_count": 104,
      "id": "R5QaZ0O0hS4E",
      "metadata": {
        "colab": {
          "base_uri": "https://localhost:8080/"
        },
        "id": "R5QaZ0O0hS4E",
        "outputId": "ec1204b3-95ed-47de-f255-0248bf0b4993"
      },
      "outputs": [],
      "source": [
        "# Preenchendo os dados ausentes com o local de embarque mais frequente.\n",
        "df['Embarked'].fillna(local_embarque_mais_freq, inplace = True)"
      ]
    },
    {
      "cell_type": "code",
      "execution_count": 105,
      "id": "jnsiYhq-hlDi",
      "metadata": {
        "colab": {
          "base_uri": "https://localhost:8080/"
        },
        "id": "jnsiYhq-hlDi",
        "outputId": "7b1e6160-1895-4f25-c721-78a731ec9b6c"
      },
      "outputs": [
        {
          "data": {
            "text/plain": [
              "0"
            ]
          },
          "execution_count": 105,
          "metadata": {},
          "output_type": "execute_result"
        }
      ],
      "source": [
        "# Checando se de fato não temos mais dados ausentes associados à essa característica:\n",
        "df['Embarked'].isna().sum()"
      ]
    },
    {
      "cell_type": "markdown",
      "id": "ARTyjeqoh2hh",
      "metadata": {
        "id": "ARTyjeqoh2hh"
      },
      "source": [
        "# Dados ausentes: Idade\n",
        "\n",
        "É rezoável acreditar que passageiros de diferentes classes (1a, 2a e 3a) podem ter diferentes faixas de renda e idade. Os mais velhos podem ser aqueles que ganham salários mais altos e podem gastar mais. Por isso, iremos agrupar os dados pela classe e preencher os valores com a média de idade associada a cada classe:"
      ]
    },
    {
      "cell_type": "code",
      "execution_count": 106,
      "id": "1KxqHVaViHMK",
      "metadata": {
        "colab": {
          "base_uri": "https://localhost:8080/",
          "height": 552
        },
        "id": "1KxqHVaViHMK",
        "outputId": "42612e62-22c6-48ff-8b57-11d7f1dba750"
      },
      "outputs": [
        {
          "name": "stderr",
          "output_type": "stream",
          "text": [
            "/tmp/ipykernel_43268/1790045382.py:3: FutureWarning: \n",
            "\n",
            "Passing `palette` without assigning `hue` is deprecated and will be removed in v0.14.0. Assign the `x` variable to `hue` and set `legend=False` for the same effect.\n",
            "\n",
            "  ax = sns.boxplot(data=df,x=df['Pclass'],y=df['Age'],palette='coolwarm')\n"
          ]
        },
        {
          "data": {
            "image/png": "[encoded data removed]",
            "text/plain": [
              "<Figure size 1200x500 with 1 Axes>"
            ]
          },
          "metadata": {},
          "output_type": "display_data"
        }
      ],
      "source": [
        "# Agrupa pela classe e encontra a idade média.\n",
        "plt.figure(figsize=(12, 5))\n",
        "ax = sns.boxplot(data=df,x=df['Pclass'],y=df['Age'],palette='coolwarm')\n",
        "medians = df.groupby(['Pclass'])['Age'].median().values # encontra mediada\n",
        "median_labels = [str(np.round(s, 2)) for s in medians]\n",
        "pos = range(len(medians))\n",
        "for tick,label in zip(pos,ax.get_xticklabels()):\n",
        "    ax.text(pos[tick], medians[tick] + 0.5, median_labels[tick],\n",
        "            horizontalalignment='center', size=13, color='r', weight='semibold')"
      ]
    },
    {
      "cell_type": "code",
      "execution_count": 107,
      "id": "yJjHTlX-Hvqp",
      "metadata": {
        "id": "yJjHTlX-Hvqp"
      },
      "outputs": [],
      "source": [
        "# cria uma função para preencher a idade:\n",
        "def fill_age_na(cols):\n",
        "    Age = cols[0]\n",
        "    Pclass = cols[1]\n",
        "    if pd.isnull(Age):\n",
        "        if Pclass == 1:\n",
        "            return 37\n",
        "        elif Pclass == 2:\n",
        "            return 29\n",
        "        else:\n",
        "            return 24\n",
        "    else:\n",
        "        return Age"
      ]
    },
    {
      "cell_type": "code",
      "execution_count": 108,
      "id": "bmfIkv-SH6eX",
      "metadata": {
        "colab": {
          "base_uri": "https://localhost:8080/"
        },
        "id": "bmfIkv-SH6eX",
        "outputId": "820986ee-91f5-4e42-96dd-7ec7b00484b6"
      },
      "outputs": [],
      "source": [
        "df['Age'] = df[['Age','Pclass']].apply(fill_age_na,axis=1)"
      ]
    },
    {
      "cell_type": "code",
      "execution_count": 109,
      "id": "Vo4B-vX7H67j",
      "metadata": {
        "colab": {
          "base_uri": "https://localhost:8080/"
        },
        "id": "Vo4B-vX7H67j",
        "outputId": "d639ffb1-86dd-4c1f-8bca-c1181ab205ee"
      },
      "outputs": [
        {
          "data": {
            "text/plain": [
              "0"
            ]
          },
          "execution_count": 109,
          "metadata": {},
          "output_type": "execute_result"
        }
      ],
      "source": [
        "df['Age'].isna().sum() # note que não temos mais dados ausentes associados à idade"
      ]
    },
    {
      "cell_type": "markdown",
      "id": "1vd6XD3-ID6o",
      "metadata": {
        "id": "1vd6XD3-ID6o"
      },
      "source": [
        "# Engenharia de Características\n",
        "\n"
      ]
    },
    {
      "cell_type": "code",
      "execution_count": 110,
      "id": "sPIbCGKZILz_",
      "metadata": {
        "id": "sPIbCGKZILz_"
      },
      "outputs": [],
      "source": [
        "# Criando uma nova característica que leva em conta o tamanho do nome do passageiro (em número de caracteres). A ideia é que nomes mais longos podem ser mais difíceis de serem pronunciados e, portanto, numa chamada de emergência, resultar numa maior probabilidade de morte.\n",
        "df['NameLength'] = df['Name'].apply(len)"
      ]
    },
    {
      "cell_type": "code",
      "execution_count": 111,
      "id": "XkGtkWMrImS5",
      "metadata": {
        "colab": {
          "base_uri": "https://localhost:8080/",
          "height": 447
        },
        "id": "XkGtkWMrImS5",
        "outputId": "5f7a1b2f-f330-4b61-e27b-6dceb34c30c8"
      },
      "outputs": [
        {
          "data": {
            "text/plain": [
              "<Axes: >"
            ]
          },
          "execution_count": 111,
          "metadata": {},
          "output_type": "execute_result"
        },
        {
          "data": {
            "image/png": "[encoded data removed]",
            "text/plain": [
              "<Figure size 640x480 with 1 Axes>"
            ]
          },
          "metadata": {},
          "output_type": "display_data"
        }
      ],
      "source": [
        "df['NameLength'].hist(bins=30) # A maior parte dos passageiros possuem nomes com cerca de 20 a 30 caracteres"
      ]
    },
    {
      "cell_type": "markdown",
      "id": "O6EJJztmItGa",
      "metadata": {
        "id": "O6EJJztmItGa"
      },
      "source": [
        "# Eliminando características desnecessárias"
      ]
    },
    {
      "cell_type": "markdown",
      "id": "N4h2dHViIzOw",
      "metadata": {
        "id": "N4h2dHViIzOw"
      },
      "source": [
        "Com base nos dados, parece razoável removermos as seguintes características:\n",
        "\n",
        "- PassengerID: É apenas um identificador do passageiro, sem relevância para a análise.\n",
        "- Name: O comprimento do nome parece ser mais útil do que o nome em si.\n",
        "- Ticket: Não parece fazer sentido que o número do Ticket tenha relação com a sobrevivência (a menos que ele possa indicar onde o passageiro estava hospedado na embarcação, mas ignoraremos essa questão nesse script)"
      ]
    },
    {
      "cell_type": "code",
      "execution_count": 112,
      "id": "SLHlg8nTI1OV",
      "metadata": {
        "id": "SLHlg8nTI1OV"
      },
      "outputs": [],
      "source": [
        "cols_drop = ['PassengerId','Name','Ticket']\n",
        "df.drop(cols_drop, axis=1, inplace = True)"
      ]
    },
    {
      "cell_type": "markdown",
      "id": "W84-fTQqI7tS",
      "metadata": {
        "id": "W84-fTQqI7tS"
      },
      "source": [
        "# Análise exploratória dos dados"
      ]
    },
    {
      "cell_type": "markdown",
      "id": "IXcfpNnkTipm",
      "metadata": {
        "id": "IXcfpNnkTipm"
      },
      "source": [
        "## Modelo que não se baseia em dados\n",
        "\n",
        "Sabendo que existem apenas duas classes, $y=0$ ou $y=1$, poderíamos estabelecer um modelo inicial que prevê $\\hat{y}=0$ ou $\\hat{y}=1$ aleatoriamente. Note que esse modelo foi construído sem qualquer análise em cima dos dados.\n",
        "\n",
        "Esse modelo teria uma tendência a aprensentar uma taxa de acerto (acurácia) de **50 %**, conforme ilustrado abaixo"
      ]
    },
    {
      "cell_type": "code",
      "execution_count": 113,
      "id": "QVC4TY4lWGmK",
      "metadata": {
        "colab": {
          "base_uri": "https://localhost:8080/",
          "height": 34
        },
        "id": "QVC4TY4lWGmK",
        "outputId": "e0e7c5db-80f4-488d-a2f3-a0b68f3159d5"
      },
      "outputs": [
        {
          "data": {
            "text/plain": [
              "0.4983164983164983"
            ]
          },
          "metadata": {},
          "output_type": "display_data"
        }
      ],
      "source": [
        "m               = df.shape[0] # número de passageiros\n",
        "y_est_aleatorio = np.random.randint(0, 2, size=(m,))\n",
        "aux_df          =  df['Survived'] == y_est_aleatorio # Modelo que gera 1's ou 0's aleatoriamente\n",
        "\n",
        "display(aux_df.mean())"
      ]
    },
    {
      "cell_type": "markdown",
      "id": "951eX94VYluR",
      "metadata": {
        "id": "951eX94VYluR"
      },
      "source": [
        "A capacidade de acertar desse modelo com saída aleatória independe do desbalanceamento presente nos dados.\n",
        "\n",
        "\n",
        "Na sequência desse script, tentaremos obter modelos com uma taxa de acerto maior do que esta."
      ]
    },
    {
      "cell_type": "markdown",
      "id": "erWOtrZaZB1h",
      "metadata": {
        "id": "erWOtrZaZB1h"
      },
      "source": [
        "## Qual foi o percentual de pessoas que sobreviveu ao desastre?"
      ]
    },
    {
      "cell_type": "code",
      "execution_count": 114,
      "id": "wnzCMdk6ZHHj",
      "metadata": {
        "colab": {
          "base_uri": "https://localhost:8080/"
        },
        "id": "wnzCMdk6ZHHj",
        "outputId": "a55eed96-ba57-4196-a073-5ee76ca14bb8"
      },
      "outputs": [
        {
          "name": "stdout",
          "output_type": "stream",
          "text": [
            "0.3838383838383838\n"
          ]
        }
      ],
      "source": [
        "print(df['Survived'].mean())"
      ]
    },
    {
      "cell_type": "markdown",
      "id": "UrI2_gzxbEDo",
      "metadata": {
        "id": "UrI2_gzxbEDo"
      },
      "source": [
        "Veja que apenas 38.38 % das pessoas sobreviveram ao desastre. Esse dado estatístico já poderia ser usado para constituir um modelo aprimorado, que faz sempre a seguinte previsão:\n",
        "\n",
        "- Independentemente de qualquer característica do passageiro, atribuir uma probabilidade de sobrevivência de 38.38 %.\n",
        "\n",
        "Nesse sentido, usando um valor de limiar para tomada de decisão de 50 %, como 38.38 % < 50 %, esse modelo nos daria a saída $\\hat{y}=0$ independentemente de qualquer característica $x$. Ou seja, o modelo indicaria a morte de todos os passageiros, e sua taxa de acerto (acurácia) seria de 100 % - 38.38 % = **61.62 %**, já que 61.62 % dos passageiros de fato morreram."
      ]
    },
    {
      "cell_type": "markdown",
      "id": "oDjZ_PJEKKYd",
      "metadata": {
        "id": "oDjZ_PJEKKYd"
      },
      "source": [
        "## Sexo masculino ou sexo feminino apresentou maior percentual de sobrevivência?"
      ]
    },
    {
      "cell_type": "code",
      "execution_count": 115,
      "id": "FgLqL0LBJFnB",
      "metadata": {
        "colab": {
          "base_uri": "https://localhost:8080/",
          "height": 536
        },
        "id": "FgLqL0LBJFnB",
        "outputId": "527e9648-efc2-489f-edbf-acb27017cf73"
      },
      "outputs": [
        {
          "name": "stdout",
          "output_type": "stream",
          "text": [
            "Sex\n",
            "female    0.742038\n",
            "male      0.188908\n",
            "Name: Survived, dtype: float64\n"
          ]
        },
        {
          "data": {
            "text/plain": [
              "<Axes: xlabel='Sex', ylabel='count'>"
            ]
          },
          "execution_count": 115,
          "metadata": {},
          "output_type": "execute_result"
        },
        {
          "data": {
            "image/png": "[encoded data removed]",
            "text/plain": [
              "<Figure size 640x480 with 1 Axes>"
            ]
          },
          "metadata": {},
          "output_type": "display_data"
        }
      ],
      "source": [
        "print(df.groupby(['Sex'])['Survived'].mean())\n",
        "sns.countplot(x=df['Sex'],hue=df['Survived'])"
      ]
    },
    {
      "cell_type": "markdown",
      "id": "xFOZw7O_sTyh",
      "metadata": {
        "id": "xFOZw7O_sTyh"
      },
      "source": [
        "Note que os dados estatísticos acima já poderiam ser usados para constituir um terceiro modelo, que faz a seguinte previsão:\n",
        "\n",
        "- Caso o passageiro seja do sexo feminino, atribuir uma probabilidade de sobrevivência de 74.2038%\n",
        "\n",
        "- Caso o passageiro seja do sexo masculino, atribuir uma probabilidade de sobrevivência de 18.8908%\n",
        "\n",
        "Nesse sentido, usando um valor de limiar para tomada de decisão de 50 %, isso significa que, o modelo sugere $\\hat{y}=0$ para sexo masculino e $\\hat{y}=1$ para sexo feminino.\n",
        "\n",
        "Abaixo nós calculamos qual seria a taxa de acerto (acurácia) desse modelo estatístico."
      ]
    },
    {
      "cell_type": "code",
      "execution_count": 116,
      "id": "XXU34197d6b_",
      "metadata": {
        "colab": {
          "base_uri": "https://localhost:8080/",
          "height": 34
        },
        "id": "XXU34197d6b_",
        "outputId": "f0c24584-4cdf-45f8-8e31-25343420f896"
      },
      "outputs": [
        {
          "data": {
            "text/plain": [
              "0.7867564534231201"
            ]
          },
          "metadata": {},
          "output_type": "display_data"
        }
      ],
      "source": [
        "y_df     = df['Survived']\n",
        "y_est_df = (df['Sex'] == 'female') # atribuirá True para sexo feminino e False para sexo masculino\n",
        "y_est_df = y_est_df.astype(int)    # transforma True em 1 e False em 0\n",
        "aux_df   =  y_df == y_est_df\n",
        "\n",
        "display(aux_df.mean())\n",
        "\n"
      ]
    },
    {
      "cell_type": "markdown",
      "id": "FcwgF6RDge0q",
      "metadata": {
        "id": "FcwgF6RDge0q"
      },
      "source": [
        "Com esse modelo, teríamos uma taxa de acerto (acurácia) de **78.68 %**!"
      ]
    },
    {
      "cell_type": "markdown",
      "id": "ZvyOGwlLd5oJ",
      "metadata": {
        "id": "ZvyOGwlLd5oJ"
      },
      "source": [
        "\n",
        "\n",
        "\n",
        "Será que, via algoritmo de aprendizado de máquina, conseguiremos obter um modelo melhor do que este?\n",
        "\n",
        "A ideia básica consiste em entender que o modelo de aprendizado de máquina gerará uma probabilidade de sobrevivência processando múltiplas características simultaneamente, e não apenas uma."
      ]
    },
    {
      "cell_type": "markdown",
      "id": "wa1kyXscJXPA",
      "metadata": {
        "id": "wa1kyXscJXPA"
      },
      "source": [
        "# Convertendo variáveis categóricas em variáveis numéricas"
      ]
    },
    {
      "cell_type": "code",
      "execution_count": 117,
      "id": "ZyqOFB7sJsBk",
      "metadata": {
        "colab": {
          "base_uri": "https://localhost:8080/",
          "height": 206
        },
        "id": "ZyqOFB7sJsBk",
        "outputId": "2626625b-7d3b-4925-b6be-cd5ed51b39cc"
      },
      "outputs": [
        {
          "data": {
            "text/html": [
              "<div>\n",
              "<style scoped>\n",
              "    .dataframe tbody tr th:only-of-type {\n",
              "        vertical-align: middle;\n",
              "    }\n",
              "\n",
              "    .dataframe tbody tr th {\n",
              "        vertical-align: top;\n",
              "    }\n",
              "\n",
              "    .dataframe thead th {\n",
              "        text-align: right;\n",
              "    }\n",
              "</style>\n",
              "<table border=\"1\" class=\"dataframe\">\n",
              "  <thead>\n",
              "    <tr style=\"text-align: right;\">\n",
              "      <th></th>\n",
              "      <th>Survived</th>\n",
              "      <th>Pclass</th>\n",
              "      <th>Sex</th>\n",
              "      <th>Age</th>\n",
              "      <th>SibSp</th>\n",
              "      <th>Parch</th>\n",
              "      <th>Fare</th>\n",
              "      <th>Embarked</th>\n",
              "      <th>NameLength</th>\n",
              "    </tr>\n",
              "  </thead>\n",
              "  <tbody>\n",
              "    <tr>\n",
              "      <th>0</th>\n",
              "      <td>0</td>\n",
              "      <td>3</td>\n",
              "      <td>male</td>\n",
              "      <td>22.0</td>\n",
              "      <td>1</td>\n",
              "      <td>0</td>\n",
              "      <td>7.2500</td>\n",
              "      <td>S</td>\n",
              "      <td>23</td>\n",
              "    </tr>\n",
              "    <tr>\n",
              "      <th>1</th>\n",
              "      <td>1</td>\n",
              "      <td>1</td>\n",
              "      <td>female</td>\n",
              "      <td>38.0</td>\n",
              "      <td>1</td>\n",
              "      <td>0</td>\n",
              "      <td>71.2833</td>\n",
              "      <td>C</td>\n",
              "      <td>51</td>\n",
              "    </tr>\n",
              "    <tr>\n",
              "      <th>2</th>\n",
              "      <td>1</td>\n",
              "      <td>3</td>\n",
              "      <td>female</td>\n",
              "      <td>26.0</td>\n",
              "      <td>0</td>\n",
              "      <td>0</td>\n",
              "      <td>7.9250</td>\n",
              "      <td>S</td>\n",
              "      <td>22</td>\n",
              "    </tr>\n",
              "    <tr>\n",
              "      <th>3</th>\n",
              "      <td>1</td>\n",
              "      <td>1</td>\n",
              "      <td>female</td>\n",
              "      <td>35.0</td>\n",
              "      <td>1</td>\n",
              "      <td>0</td>\n",
              "      <td>53.1000</td>\n",
              "      <td>S</td>\n",
              "      <td>44</td>\n",
              "    </tr>\n",
              "    <tr>\n",
              "      <th>4</th>\n",
              "      <td>0</td>\n",
              "      <td>3</td>\n",
              "      <td>male</td>\n",
              "      <td>35.0</td>\n",
              "      <td>0</td>\n",
              "      <td>0</td>\n",
              "      <td>8.0500</td>\n",
              "      <td>S</td>\n",
              "      <td>24</td>\n",
              "    </tr>\n",
              "  </tbody>\n",
              "</table>\n",
              "</div>"
            ],
            "text/plain": [
              "   Survived  Pclass     Sex   Age  SibSp  Parch     Fare Embarked  NameLength\n",
              "0         0       3    male  22.0      1      0   7.2500        S          23\n",
              "1         1       1  female  38.0      1      0  71.2833        C          51\n",
              "2         1       3  female  26.0      0      0   7.9250        S          22\n",
              "3         1       1  female  35.0      1      0  53.1000        S          44\n",
              "4         0       3    male  35.0      0      0   8.0500        S          24"
            ]
          },
          "execution_count": 117,
          "metadata": {},
          "output_type": "execute_result"
        }
      ],
      "source": [
        "df.head() # Olhando os dados atuais"
      ]
    },
    {
      "cell_type": "code",
      "execution_count": 118,
      "id": "A3QUcyAwJt5J",
      "metadata": {
        "colab": {
          "base_uri": "https://localhost:8080/"
        },
        "id": "A3QUcyAwJt5J",
        "outputId": "a8ed1f77-2948-48da-dbf4-60d82cdcdd83"
      },
      "outputs": [
        {
          "data": {
            "text/plain": [
              "['Sex', 'Embarked']"
            ]
          },
          "execution_count": 118,
          "metadata": {},
          "output_type": "execute_result"
        }
      ],
      "source": [
        "categorical_feature = []\n",
        "for i in range(df.shape[1]):\n",
        "    # Se os dados da coluna são do tipo objeto/categórico\n",
        "    if df[df.columns[i]].dtype == 'object':\n",
        "        categorical_feature.append(df.columns[i])\n",
        "\n",
        "categorical_feature"
      ]
    },
    {
      "cell_type": "code",
      "execution_count": 119,
      "id": "Z-m0db5QJv0s",
      "metadata": {
        "colab": {
          "base_uri": "https://localhost:8080/",
          "height": 206
        },
        "id": "Z-m0db5QJv0s",
        "outputId": "9d4c8fdb-b274-4569-83fb-a438512acf3a"
      },
      "outputs": [
        {
          "data": {
            "text/html": [
              "<div>\n",
              "<style scoped>\n",
              "    .dataframe tbody tr th:only-of-type {\n",
              "        vertical-align: middle;\n",
              "    }\n",
              "\n",
              "    .dataframe tbody tr th {\n",
              "        vertical-align: top;\n",
              "    }\n",
              "\n",
              "    .dataframe thead th {\n",
              "        text-align: right;\n",
              "    }\n",
              "</style>\n",
              "<table border=\"1\" class=\"dataframe\">\n",
              "  <thead>\n",
              "    <tr style=\"text-align: right;\">\n",
              "      <th></th>\n",
              "      <th>Survived</th>\n",
              "      <th>Pclass</th>\n",
              "      <th>Age</th>\n",
              "      <th>SibSp</th>\n",
              "      <th>Parch</th>\n",
              "      <th>Fare</th>\n",
              "      <th>NameLength</th>\n",
              "      <th>Sex_male</th>\n",
              "      <th>Embarked_Q</th>\n",
              "      <th>Embarked_S</th>\n",
              "    </tr>\n",
              "  </thead>\n",
              "  <tbody>\n",
              "    <tr>\n",
              "      <th>0</th>\n",
              "      <td>0</td>\n",
              "      <td>3</td>\n",
              "      <td>22.0</td>\n",
              "      <td>1</td>\n",
              "      <td>0</td>\n",
              "      <td>7.2500</td>\n",
              "      <td>23</td>\n",
              "      <td>1</td>\n",
              "      <td>0</td>\n",
              "      <td>1</td>\n",
              "    </tr>\n",
              "    <tr>\n",
              "      <th>1</th>\n",
              "      <td>1</td>\n",
              "      <td>1</td>\n",
              "      <td>38.0</td>\n",
              "      <td>1</td>\n",
              "      <td>0</td>\n",
              "      <td>71.2833</td>\n",
              "      <td>51</td>\n",
              "      <td>0</td>\n",
              "      <td>0</td>\n",
              "      <td>0</td>\n",
              "    </tr>\n",
              "    <tr>\n",
              "      <th>2</th>\n",
              "      <td>1</td>\n",
              "      <td>3</td>\n",
              "      <td>26.0</td>\n",
              "      <td>0</td>\n",
              "      <td>0</td>\n",
              "      <td>7.9250</td>\n",
              "      <td>22</td>\n",
              "      <td>0</td>\n",
              "      <td>0</td>\n",
              "      <td>1</td>\n",
              "    </tr>\n",
              "    <tr>\n",
              "      <th>3</th>\n",
              "      <td>1</td>\n",
              "      <td>1</td>\n",
              "      <td>35.0</td>\n",
              "      <td>1</td>\n",
              "      <td>0</td>\n",
              "      <td>53.1000</td>\n",
              "      <td>44</td>\n",
              "      <td>0</td>\n",
              "      <td>0</td>\n",
              "      <td>1</td>\n",
              "    </tr>\n",
              "    <tr>\n",
              "      <th>4</th>\n",
              "      <td>0</td>\n",
              "      <td>3</td>\n",
              "      <td>35.0</td>\n",
              "      <td>0</td>\n",
              "      <td>0</td>\n",
              "      <td>8.0500</td>\n",
              "      <td>24</td>\n",
              "      <td>1</td>\n",
              "      <td>0</td>\n",
              "      <td>1</td>\n",
              "    </tr>\n",
              "  </tbody>\n",
              "</table>\n",
              "</div>"
            ],
            "text/plain": [
              "   Survived  Pclass   Age  SibSp  Parch     Fare  NameLength  Sex_male   \n",
              "0         0       3  22.0      1      0   7.2500          23         1  \\\n",
              "1         1       1  38.0      1      0  71.2833          51         0   \n",
              "2         1       3  26.0      0      0   7.9250          22         0   \n",
              "3         1       1  35.0      1      0  53.1000          44         0   \n",
              "4         0       3  35.0      0      0   8.0500          24         1   \n",
              "\n",
              "   Embarked_Q  Embarked_S  \n",
              "0           0           1  \n",
              "1           0           0  \n",
              "2           0           1  \n",
              "3           0           1  \n",
              "4           0           1  "
            ]
          },
          "execution_count": 119,
          "metadata": {},
          "output_type": "execute_result"
        }
      ],
      "source": [
        "# converte dados categóricos em numéricos\n",
        "df = pd.get_dummies(data=df,columns=categorical_feature,drop_first=True)\n",
        "# Converte colunas Booleanas em numéricas (0 e 1)\n",
        "df = df.astype({col: 'int' for col in df.select_dtypes(include='bool').columns})\n",
        "df.head()"
      ]
    },
    {
      "cell_type": "markdown",
      "id": "tBZQ_ruVdvkO",
      "metadata": {
        "id": "tBZQ_ruVdvkO"
      },
      "source": [
        "## Cálculo de correlação entre as variáveis do problema"
      ]
    },
    {
      "cell_type": "code",
      "execution_count": 120,
      "id": "z5OmHBYbW-QJ",
      "metadata": {
        "colab": {
          "base_uri": "https://localhost:8080/",
          "height": 836
        },
        "id": "z5OmHBYbW-QJ",
        "outputId": "ab5d7c6f-3ca4-4830-cb2c-3b85fa4da1e0"
      },
      "outputs": [
        {
          "data": {
            "image/png": "[encoded data removed]",
            "text/plain": [
              "<Figure size 1500x1000 with 2 Axes>"
            ]
          },
          "metadata": {},
          "output_type": "display_data"
        }
      ],
      "source": [
        "fig = plt.figure(figsize=(15,10))\n",
        "sns.heatmap(df.corr(),annot=True,cmap='coolwarm',linewidths=0.2)\n",
        "plt.show()"
      ]
    },
    {
      "cell_type": "markdown",
      "id": "d_bAnjioYsiO",
      "metadata": {
        "id": "d_bAnjioYsiO"
      },
      "source": [
        "**Pergunta 1:** Usando as suas próprias palavras, faça uma análise dos valores de correlação mostrados acima.\n",
        "\n",
        "**Resposta:** A partir do gráfico, pode-se dizer que:\n",
        "- A correlação moderada negativa entre a variável *Survived* e a variável *Pclass*  sugere que as classes mais altas têm maior chance de sobreviver ao desastre.\n",
        "- A correlação positiva leve da variável *Survived* com *Fare* e *NameLength* sugere que pessoas que pagaram tarifas mais altas e que possuíam nomes mais longos têm maior chance de sobreviver ao desastre.\n",
        "- A correlação forte negativa entre as variáveis *Survived* e *Sex_male* sugere que homens tem menos probabilidade de sobreviver ao desastre. Em outras palavras, mulheres têm melhores chances de sobrevivência.\n",
        "- *SibSp* e *Parch* têm correlação moderada positiva, sugerindo que são relacionadas.\n",
        "- As variáveis *Embarked_Q* e *Embarked_S* têm correlação negativa forte, sugerindo exclusão mútua (A pessoa somente pode embarcar por um dos pontos de embarque)\n",
        "- As variáveis *Embarked_Q*, *Embarked_S* e *Parch* têm correlação fraca com a variável *survived*, sugerindo que estas têm pouca influência sobre o resultado do desastre (sobrevivi ou não? Eis a questão imposta pelo problema)"
      ]
    },
    {
      "cell_type": "code",
      "execution_count": 121,
      "id": "7aea2489",
      "metadata": {
        "id": "7aea2489",
        "pycharm": {
          "name": "#%%\n"
        }
      },
      "outputs": [],
      "source": [
        "X_df = df.iloc[:, 1:] # cria novo dataframe com todas as características x1, x2, ..., x10\n",
        "y_df = df.iloc[:, 0] # cria novo dataframe com valor alvo para todas as amostras"
      ]
    },
    {
      "cell_type": "code",
      "execution_count": 122,
      "id": "n2h5XuCJqdYj",
      "metadata": {
        "colab": {
          "base_uri": "https://localhost:8080/",
          "height": 206
        },
        "id": "n2h5XuCJqdYj",
        "outputId": "8c315ac9-2a0d-49ed-de66-4ddb271ce377"
      },
      "outputs": [
        {
          "data": {
            "text/html": [
              "<div>\n",
              "<style scoped>\n",
              "    .dataframe tbody tr th:only-of-type {\n",
              "        vertical-align: middle;\n",
              "    }\n",
              "\n",
              "    .dataframe tbody tr th {\n",
              "        vertical-align: top;\n",
              "    }\n",
              "\n",
              "    .dataframe thead th {\n",
              "        text-align: right;\n",
              "    }\n",
              "</style>\n",
              "<table border=\"1\" class=\"dataframe\">\n",
              "  <thead>\n",
              "    <tr style=\"text-align: right;\">\n",
              "      <th></th>\n",
              "      <th>Pclass</th>\n",
              "      <th>Age</th>\n",
              "      <th>SibSp</th>\n",
              "      <th>Parch</th>\n",
              "      <th>Fare</th>\n",
              "      <th>NameLength</th>\n",
              "      <th>Sex_male</th>\n",
              "      <th>Embarked_Q</th>\n",
              "      <th>Embarked_S</th>\n",
              "    </tr>\n",
              "  </thead>\n",
              "  <tbody>\n",
              "    <tr>\n",
              "      <th>0</th>\n",
              "      <td>3</td>\n",
              "      <td>22.0</td>\n",
              "      <td>1</td>\n",
              "      <td>0</td>\n",
              "      <td>7.2500</td>\n",
              "      <td>23</td>\n",
              "      <td>1</td>\n",
              "      <td>0</td>\n",
              "      <td>1</td>\n",
              "    </tr>\n",
              "    <tr>\n",
              "      <th>1</th>\n",
              "      <td>1</td>\n",
              "      <td>38.0</td>\n",
              "      <td>1</td>\n",
              "      <td>0</td>\n",
              "      <td>71.2833</td>\n",
              "      <td>51</td>\n",
              "      <td>0</td>\n",
              "      <td>0</td>\n",
              "      <td>0</td>\n",
              "    </tr>\n",
              "    <tr>\n",
              "      <th>2</th>\n",
              "      <td>3</td>\n",
              "      <td>26.0</td>\n",
              "      <td>0</td>\n",
              "      <td>0</td>\n",
              "      <td>7.9250</td>\n",
              "      <td>22</td>\n",
              "      <td>0</td>\n",
              "      <td>0</td>\n",
              "      <td>1</td>\n",
              "    </tr>\n",
              "    <tr>\n",
              "      <th>3</th>\n",
              "      <td>1</td>\n",
              "      <td>35.0</td>\n",
              "      <td>1</td>\n",
              "      <td>0</td>\n",
              "      <td>53.1000</td>\n",
              "      <td>44</td>\n",
              "      <td>0</td>\n",
              "      <td>0</td>\n",
              "      <td>1</td>\n",
              "    </tr>\n",
              "    <tr>\n",
              "      <th>4</th>\n",
              "      <td>3</td>\n",
              "      <td>35.0</td>\n",
              "      <td>0</td>\n",
              "      <td>0</td>\n",
              "      <td>8.0500</td>\n",
              "      <td>24</td>\n",
              "      <td>1</td>\n",
              "      <td>0</td>\n",
              "      <td>1</td>\n",
              "    </tr>\n",
              "  </tbody>\n",
              "</table>\n",
              "</div>"
            ],
            "text/plain": [
              "   Pclass   Age  SibSp  Parch     Fare  NameLength  Sex_male  Embarked_Q   \n",
              "0       3  22.0      1      0   7.2500          23         1           0  \\\n",
              "1       1  38.0      1      0  71.2833          51         0           0   \n",
              "2       3  26.0      0      0   7.9250          22         0           0   \n",
              "3       1  35.0      1      0  53.1000          44         0           0   \n",
              "4       3  35.0      0      0   8.0500          24         1           0   \n",
              "\n",
              "   Embarked_S  \n",
              "0           1  \n",
              "1           0  \n",
              "2           1  \n",
              "3           1  \n",
              "4           1  "
            ]
          },
          "execution_count": 122,
          "metadata": {},
          "output_type": "execute_result"
        }
      ],
      "source": [
        "X_df.head()"
      ]
    },
    {
      "cell_type": "code",
      "execution_count": 123,
      "id": "_PquVfIwqi9q",
      "metadata": {
        "colab": {
          "base_uri": "https://localhost:8080/",
          "height": 241
        },
        "id": "_PquVfIwqi9q",
        "outputId": "ba5ef475-d32c-4be8-95a6-d9da0c6cb80a"
      },
      "outputs": [
        {
          "data": {
            "text/plain": [
              "0    0\n",
              "1    1\n",
              "2    1\n",
              "3    1\n",
              "4    0\n",
              "Name: Survived, dtype: int64"
            ]
          },
          "execution_count": 123,
          "metadata": {},
          "output_type": "execute_result"
        }
      ],
      "source": [
        "y_df.head()"
      ]
    },
    {
      "cell_type": "code",
      "execution_count": 124,
      "id": "e8b92e54",
      "metadata": {
        "colab": {
          "base_uri": "https://localhost:8080/"
        },
        "id": "e8b92e54",
        "outputId": "deb9144e-1ea2-42cf-a7dc-84460093ae80",
        "pycharm": {
          "name": "#%%\n"
        }
      },
      "outputs": [
        {
          "name": "stdout",
          "output_type": "stream",
          "text": [
            "X Shape: (891, 9)\n",
            "y Shape: (891,)\n"
          ]
        }
      ],
      "source": [
        "# Transformando de Dataframe para numpy array:\n",
        "X = X_df.to_numpy()\n",
        "y = y_df.to_numpy()\n",
        "\n",
        "print(f\"X Shape: {X.shape}\")\n",
        "print(f\"y Shape: {y.shape}\")"
      ]
    },
    {
      "cell_type": "code",
      "execution_count": 125,
      "id": "5KwklRlK7RZg",
      "metadata": {
        "colab": {
          "base_uri": "https://localhost:8080/"
        },
        "id": "5KwklRlK7RZg",
        "outputId": "f5192371-f4d7-4fdc-e0b5-477a12cb63ca"
      },
      "outputs": [
        {
          "name": "stdout",
          "output_type": "stream",
          "text": [
            "Número de características: 9\n"
          ]
        }
      ],
      "source": [
        "# número de características\n",
        "\n",
        "n = X.shape[1]\n",
        "\n",
        "print(f\"Número de características: {n}\")"
      ]
    },
    {
      "cell_type": "markdown",
      "id": "HcT_DeFSujzL",
      "metadata": {
        "id": "HcT_DeFSujzL"
      },
      "source": [
        "## Preparando os dados"
      ]
    },
    {
      "cell_type": "code",
      "execution_count": 126,
      "id": "LHxNaY_YvMYp",
      "metadata": {
        "colab": {
          "base_uri": "https://localhost:8080/"
        },
        "id": "LHxNaY_YvMYp",
        "outputId": "5f26915c-24f8-4250-e6f9-9878fdc374d5"
      },
      "outputs": [
        {
          "name": "stdout",
          "output_type": "stream",
          "text": [
            "X_trein.shape: (712, 9)\n",
            "y_trein.shape: (712,)\n",
            "X_val.shape: (179, 9)\n",
            "y_val.shape: (179,)\n"
          ]
        }
      ],
      "source": [
        "from sklearn.model_selection import train_test_split\n",
        "\n",
        "X_trein, X_val, y_trein, y_val = train_test_split(X, y, test_size=0.2, random_state=42) # reservando 20% dos dados para validação\n",
        "\n",
        "\n",
        "print(\"X_trein.shape:\", X_trein.shape)\n",
        "print(\"y_trein.shape:\", y_trein.shape)\n",
        "print(\"X_val.shape:\", X_val.shape)\n",
        "print(\"y_val.shape:\", y_val.shape)"
      ]
    },
    {
      "cell_type": "markdown",
      "id": "9a7de797",
      "metadata": {
        "id": "9a7de797",
        "pycharm": {
          "name": "#%% md\n"
        }
      },
      "source": [
        "# Modelo de Regressão Logística treinado usando Scikit Learn"
      ]
    },
    {
      "cell_type": "markdown",
      "id": "oSrTQBOIronR",
      "metadata": {
        "id": "oSrTQBOIronR"
      },
      "source": [
        "O código abaixo importa a função logistic regression model do scikit-learn e treina um modelo para os dados.\n"
      ]
    },
    {
      "cell_type": "code",
      "execution_count": 127,
      "id": "c2766634",
      "metadata": {
        "colab": {
          "base_uri": "https://localhost:8080/",
          "height": 219
        },
        "id": "c2766634",
        "outputId": "4d7f901b-b810-4f5a-a419-6162c0ba12e8",
        "pycharm": {
          "name": "#%%\n"
        }
      },
      "outputs": [
        {
          "name": "stderr",
          "output_type": "stream",
          "text": [
            "/home/augusto/development/money_carousell/venv/lib/python3.10/site-packages/sklearn/linear_model/_logistic.py:469: ConvergenceWarning: lbfgs failed to converge (status=1):\n",
            "STOP: TOTAL NO. of ITERATIONS REACHED LIMIT.\n",
            "\n",
            "Increase the number of iterations (max_iter) or scale the data as shown in:\n",
            "    https://scikit-learn.org/stable/modules/preprocessing.html\n",
            "Please also refer to the documentation for alternative solver options:\n",
            "    https://scikit-learn.org/stable/modules/linear_model.html#logistic-regression\n",
            "  n_iter_i = _check_optimize_result(\n"
          ]
        },
        {
          "data": {
            "text/html": [
              "<style>#sk-container-id-3 {\n",
              "  /* Definition of color scheme common for light and dark mode */\n",
              "  --sklearn-color-text: black;\n",
              "  --sklearn-color-line: gray;\n",
              "  /* Definition of color scheme for unfitted estimators */\n",
              "  --sklearn-color-unfitted-level-0: #fff5e6;\n",
              "  --sklearn-color-unfitted-level-1: #f6e4d2;\n",
              "  --sklearn-color-unfitted-level-2: #ffe0b3;\n",
              "  --sklearn-color-unfitted-level-3: chocolate;\n",
              "  /* Definition of color scheme for fitted estimators */\n",
              "  --sklearn-color-fitted-level-0: #f0f8ff;\n",
              "  --sklearn-color-fitted-level-1: #d4ebff;\n",
              "  --sklearn-color-fitted-level-2: #b3dbfd;\n",
              "  --sklearn-color-fitted-level-3: cornflowerblue;\n",
              "\n",
              "  /* Specific color for light theme */\n",
              "  --sklearn-color-text-on-default-background: var(--sg-text-color, var(--theme-code-foreground, var(--jp-content-font-color1, black)));\n",
              "  --sklearn-color-background: var(--sg-background-color, var(--theme-background, var(--jp-layout-color0, white)));\n",
              "  --sklearn-color-border-box: var(--sg-text-color, var(--theme-code-foreground, var(--jp-content-font-color1, black)));\n",
              "  --sklearn-color-icon: #696969;\n",
              "\n",
              "  @media (prefers-color-scheme: dark) {\n",
              "    /* Redefinition of color scheme for dark theme */\n",
              "    --sklearn-color-text-on-default-background: var(--sg-text-color, var(--theme-code-foreground, var(--jp-content-font-color1, white)));\n",
              "    --sklearn-color-background: var(--sg-background-color, var(--theme-background, var(--jp-layout-color0, #111)));\n",
              "    --sklearn-color-border-box: var(--sg-text-color, var(--theme-code-foreground, var(--jp-content-font-color1, white)));\n",
              "    --sklearn-color-icon: #878787;\n",
              "  }\n",
              "}\n",
              "\n",
              "#sk-container-id-3 {\n",
              "  color: var(--sklearn-color-text);\n",
              "}\n",
              "\n",
              "#sk-container-id-3 pre {\n",
              "  padding: 0;\n",
              "}\n",
              "\n",
              "#sk-container-id-3 input.sk-hidden--visually {\n",
              "  border: 0;\n",
              "  clip: rect(1px 1px 1px 1px);\n",
              "  clip: rect(1px, 1px, 1px, 1px);\n",
              "  height: 1px;\n",
              "  margin: -1px;\n",
              "  overflow: hidden;\n",
              "  padding: 0;\n",
              "  position: absolute;\n",
              "  width: 1px;\n",
              "}\n",
              "\n",
              "#sk-container-id-3 div.sk-dashed-wrapped {\n",
              "  border: 1px dashed var(--sklearn-color-line);\n",
              "  margin: 0 0.4em 0.5em 0.4em;\n",
              "  box-sizing: border-box;\n",
              "  padding-bottom: 0.4em;\n",
              "  background-color: var(--sklearn-color-background);\n",
              "}\n",
              "\n",
              "#sk-container-id-3 div.sk-container {\n",
              "  /* jupyter's `normalize.less` sets `[hidden] { display: none; }`\n",
              "     but bootstrap.min.css set `[hidden] { display: none !important; }`\n",
              "     so we also need the `!important` here to be able to override the\n",
              "     default hidden behavior on the sphinx rendered scikit-learn.org.\n",
              "     See: https://github.com/scikit-learn/scikit-learn/issues/21755 */\n",
              "  display: inline-block !important;\n",
              "  position: relative;\n",
              "}\n",
              "\n",
              "#sk-container-id-3 div.sk-text-repr-fallback {\n",
              "  display: none;\n",
              "}\n",
              "\n",
              "div.sk-parallel-item,\n",
              "div.sk-serial,\n",
              "div.sk-item {\n",
              "  /* draw centered vertical line to link estimators */\n",
              "  background-image: linear-gradient(var(--sklearn-color-text-on-default-background), var(--sklearn-color-text-on-default-background));\n",
              "  background-size: 2px 100%;\n",
              "  background-repeat: no-repeat;\n",
              "  background-position: center center;\n",
              "}\n",
              "\n",
              "/* Parallel-specific style estimator block */\n",
              "\n",
              "#sk-container-id-3 div.sk-parallel-item::after {\n",
              "  content: \"\";\n",
              "  width: 100%;\n",
              "  border-bottom: 2px solid var(--sklearn-color-text-on-default-background);\n",
              "  flex-grow: 1;\n",
              "}\n",
              "\n",
              "#sk-container-id-3 div.sk-parallel {\n",
              "  display: flex;\n",
              "  align-items: stretch;\n",
              "  justify-content: center;\n",
              "  background-color: var(--sklearn-color-background);\n",
              "  position: relative;\n",
              "}\n",
              "\n",
              "#sk-container-id-3 div.sk-parallel-item {\n",
              "  display: flex;\n",
              "  flex-direction: column;\n",
              "}\n",
              "\n",
              "#sk-container-id-3 div.sk-parallel-item:first-child::after {\n",
              "  align-self: flex-end;\n",
              "  width: 50%;\n",
              "}\n",
              "\n",
              "#sk-container-id-3 div.sk-parallel-item:last-child::after {\n",
              "  align-self: flex-start;\n",
              "  width: 50%;\n",
              "}\n",
              "\n",
              "#sk-container-id-3 div.sk-parallel-item:only-child::after {\n",
              "  width: 0;\n",
              "}\n",
              "\n",
              "/* Serial-specific style estimator block */\n",
              "\n",
              "#sk-container-id-3 div.sk-serial {\n",
              "  display: flex;\n",
              "  flex-direction: column;\n",
              "  align-items: center;\n",
              "  background-color: var(--sklearn-color-background);\n",
              "  padding-right: 1em;\n",
              "  padding-left: 1em;\n",
              "}\n",
              "\n",
              "\n",
              "/* Toggleable style: style used for estimator/Pipeline/ColumnTransformer box that is\n",
              "clickable and can be expanded/collapsed.\n",
              "- Pipeline and ColumnTransformer use this feature and define the default style\n",
              "- Estimators will overwrite some part of the style using the `sk-estimator` class\n",
              "*/\n",
              "\n",
              "/* Pipeline and ColumnTransformer style (default) */\n",
              "\n",
              "#sk-container-id-3 div.sk-toggleable {\n",
              "  /* Default theme specific background. It is overwritten whether we have a\n",
              "  specific estimator or a Pipeline/ColumnTransformer */\n",
              "  background-color: var(--sklearn-color-background);\n",
              "}\n",
              "\n",
              "/* Toggleable label */\n",
              "#sk-container-id-3 label.sk-toggleable__label {\n",
              "  cursor: pointer;\n",
              "  display: block;\n",
              "  width: 100%;\n",
              "  margin-bottom: 0;\n",
              "  padding: 0.5em;\n",
              "  box-sizing: border-box;\n",
              "  text-align: center;\n",
              "}\n",
              "\n",
              "#sk-container-id-3 label.sk-toggleable__label-arrow:before {\n",
              "  /* Arrow on the left of the label */\n",
              "  content: \"▸\";\n",
              "  float: left;\n",
              "  margin-right: 0.25em;\n",
              "  color: var(--sklearn-color-icon);\n",
              "}\n",
              "\n",
              "#sk-container-id-3 label.sk-toggleable__label-arrow:hover:before {\n",
              "  color: var(--sklearn-color-text);\n",
              "}\n",
              "\n",
              "/* Toggleable content - dropdown */\n",
              "\n",
              "#sk-container-id-3 div.sk-toggleable__content {\n",
              "  max-height: 0;\n",
              "  max-width: 0;\n",
              "  overflow: hidden;\n",
              "  text-align: left;\n",
              "  /* unfitted */\n",
              "  background-color: var(--sklearn-color-unfitted-level-0);\n",
              "}\n",
              "\n",
              "#sk-container-id-3 div.sk-toggleable__content.fitted {\n",
              "  /* fitted */\n",
              "  background-color: var(--sklearn-color-fitted-level-0);\n",
              "}\n",
              "\n",
              "#sk-container-id-3 div.sk-toggleable__content pre {\n",
              "  margin: 0.2em;\n",
              "  border-radius: 0.25em;\n",
              "  color: var(--sklearn-color-text);\n",
              "  /* unfitted */\n",
              "  background-color: var(--sklearn-color-unfitted-level-0);\n",
              "}\n",
              "\n",
              "#sk-container-id-3 div.sk-toggleable__content.fitted pre {\n",
              "  /* unfitted */\n",
              "  background-color: var(--sklearn-color-fitted-level-0);\n",
              "}\n",
              "\n",
              "#sk-container-id-3 input.sk-toggleable__control:checked~div.sk-toggleable__content {\n",
              "  /* Expand drop-down */\n",
              "  max-height: 200px;\n",
              "  max-width: 100%;\n",
              "  overflow: auto;\n",
              "}\n",
              "\n",
              "#sk-container-id-3 input.sk-toggleable__control:checked~label.sk-toggleable__label-arrow:before {\n",
              "  content: \"▾\";\n",
              "}\n",
              "\n",
              "/* Pipeline/ColumnTransformer-specific style */\n",
              "\n",
              "#sk-container-id-3 div.sk-label input.sk-toggleable__control:checked~label.sk-toggleable__label {\n",
              "  color: var(--sklearn-color-text);\n",
              "  background-color: var(--sklearn-color-unfitted-level-2);\n",
              "}\n",
              "\n",
              "#sk-container-id-3 div.sk-label.fitted input.sk-toggleable__control:checked~label.sk-toggleable__label {\n",
              "  background-color: var(--sklearn-color-fitted-level-2);\n",
              "}\n",
              "\n",
              "/* Estimator-specific style */\n",
              "\n",
              "/* Colorize estimator box */\n",
              "#sk-container-id-3 div.sk-estimator input.sk-toggleable__control:checked~label.sk-toggleable__label {\n",
              "  /* unfitted */\n",
              "  background-color: var(--sklearn-color-unfitted-level-2);\n",
              "}\n",
              "\n",
              "#sk-container-id-3 div.sk-estimator.fitted input.sk-toggleable__control:checked~label.sk-toggleable__label {\n",
              "  /* fitted */\n",
              "  background-color: var(--sklearn-color-fitted-level-2);\n",
              "}\n",
              "\n",
              "#sk-container-id-3 div.sk-label label.sk-toggleable__label,\n",
              "#sk-container-id-3 div.sk-label label {\n",
              "  /* The background is the default theme color */\n",
              "  color: var(--sklearn-color-text-on-default-background);\n",
              "}\n",
              "\n",
              "/* On hover, darken the color of the background */\n",
              "#sk-container-id-3 div.sk-label:hover label.sk-toggleable__label {\n",
              "  color: var(--sklearn-color-text);\n",
              "  background-color: var(--sklearn-color-unfitted-level-2);\n",
              "}\n",
              "\n",
              "/* Label box, darken color on hover, fitted */\n",
              "#sk-container-id-3 div.sk-label.fitted:hover label.sk-toggleable__label.fitted {\n",
              "  color: var(--sklearn-color-text);\n",
              "  background-color: var(--sklearn-color-fitted-level-2);\n",
              "}\n",
              "\n",
              "/* Estimator label */\n",
              "\n",
              "#sk-container-id-3 div.sk-label label {\n",
              "  font-family: monospace;\n",
              "  font-weight: bold;\n",
              "  display: inline-block;\n",
              "  line-height: 1.2em;\n",
              "}\n",
              "\n",
              "#sk-container-id-3 div.sk-label-container {\n",
              "  text-align: center;\n",
              "}\n",
              "\n",
              "/* Estimator-specific */\n",
              "#sk-container-id-3 div.sk-estimator {\n",
              "  font-family: monospace;\n",
              "  border: 1px dotted var(--sklearn-color-border-box);\n",
              "  border-radius: 0.25em;\n",
              "  box-sizing: border-box;\n",
              "  margin-bottom: 0.5em;\n",
              "  /* unfitted */\n",
              "  background-color: var(--sklearn-color-unfitted-level-0);\n",
              "}\n",
              "\n",
              "#sk-container-id-3 div.sk-estimator.fitted {\n",
              "  /* fitted */\n",
              "  background-color: var(--sklearn-color-fitted-level-0);\n",
              "}\n",
              "\n",
              "/* on hover */\n",
              "#sk-container-id-3 div.sk-estimator:hover {\n",
              "  /* unfitted */\n",
              "  background-color: var(--sklearn-color-unfitted-level-2);\n",
              "}\n",
              "\n",
              "#sk-container-id-3 div.sk-estimator.fitted:hover {\n",
              "  /* fitted */\n",
              "  background-color: var(--sklearn-color-fitted-level-2);\n",
              "}\n",
              "\n",
              "/* Specification for estimator info (e.g. \"i\" and \"?\") */\n",
              "\n",
              "/* Common style for \"i\" and \"?\" */\n",
              "\n",
              ".sk-estimator-doc-link,\n",
              "a:link.sk-estimator-doc-link,\n",
              "a:visited.sk-estimator-doc-link {\n",
              "  float: right;\n",
              "  font-size: smaller;\n",
              "  line-height: 1em;\n",
              "  font-family: monospace;\n",
              "  background-color: var(--sklearn-color-background);\n",
              "  border-radius: 1em;\n",
              "  height: 1em;\n",
              "  width: 1em;\n",
              "  text-decoration: none !important;\n",
              "  margin-left: 1ex;\n",
              "  /* unfitted */\n",
              "  border: var(--sklearn-color-unfitted-level-1) 1pt solid;\n",
              "  color: var(--sklearn-color-unfitted-level-1);\n",
              "}\n",
              "\n",
              ".sk-estimator-doc-link.fitted,\n",
              "a:link.sk-estimator-doc-link.fitted,\n",
              "a:visited.sk-estimator-doc-link.fitted {\n",
              "  /* fitted */\n",
              "  border: var(--sklearn-color-fitted-level-1) 1pt solid;\n",
              "  color: var(--sklearn-color-fitted-level-1);\n",
              "}\n",
              "\n",
              "/* On hover */\n",
              "div.sk-estimator:hover .sk-estimator-doc-link:hover,\n",
              ".sk-estimator-doc-link:hover,\n",
              "div.sk-label-container:hover .sk-estimator-doc-link:hover,\n",
              ".sk-estimator-doc-link:hover {\n",
              "  /* unfitted */\n",
              "  background-color: var(--sklearn-color-unfitted-level-3);\n",
              "  color: var(--sklearn-color-background);\n",
              "  text-decoration: none;\n",
              "}\n",
              "\n",
              "div.sk-estimator.fitted:hover .sk-estimator-doc-link.fitted:hover,\n",
              ".sk-estimator-doc-link.fitted:hover,\n",
              "div.sk-label-container:hover .sk-estimator-doc-link.fitted:hover,\n",
              ".sk-estimator-doc-link.fitted:hover {\n",
              "  /* fitted */\n",
              "  background-color: var(--sklearn-color-fitted-level-3);\n",
              "  color: var(--sklearn-color-background);\n",
              "  text-decoration: none;\n",
              "}\n",
              "\n",
              "/* Span, style for the box shown on hovering the info icon */\n",
              ".sk-estimator-doc-link span {\n",
              "  display: none;\n",
              "  z-index: 9999;\n",
              "  position: relative;\n",
              "  font-weight: normal;\n",
              "  right: .2ex;\n",
              "  padding: .5ex;\n",
              "  margin: .5ex;\n",
              "  width: min-content;\n",
              "  min-width: 20ex;\n",
              "  max-width: 50ex;\n",
              "  color: var(--sklearn-color-text);\n",
              "  box-shadow: 2pt 2pt 4pt #999;\n",
              "  /* unfitted */\n",
              "  background: var(--sklearn-color-unfitted-level-0);\n",
              "  border: .5pt solid var(--sklearn-color-unfitted-level-3);\n",
              "}\n",
              "\n",
              ".sk-estimator-doc-link.fitted span {\n",
              "  /* fitted */\n",
              "  background: var(--sklearn-color-fitted-level-0);\n",
              "  border: var(--sklearn-color-fitted-level-3);\n",
              "}\n",
              "\n",
              ".sk-estimator-doc-link:hover span {\n",
              "  display: block;\n",
              "}\n",
              "\n",
              "/* \"?\"-specific style due to the `<a>` HTML tag */\n",
              "\n",
              "#sk-container-id-3 a.estimator_doc_link {\n",
              "  float: right;\n",
              "  font-size: 1rem;\n",
              "  line-height: 1em;\n",
              "  font-family: monospace;\n",
              "  background-color: var(--sklearn-color-background);\n",
              "  border-radius: 1rem;\n",
              "  height: 1rem;\n",
              "  width: 1rem;\n",
              "  text-decoration: none;\n",
              "  /* unfitted */\n",
              "  color: var(--sklearn-color-unfitted-level-1);\n",
              "  border: var(--sklearn-color-unfitted-level-1) 1pt solid;\n",
              "}\n",
              "\n",
              "#sk-container-id-3 a.estimator_doc_link.fitted {\n",
              "  /* fitted */\n",
              "  border: var(--sklearn-color-fitted-level-1) 1pt solid;\n",
              "  color: var(--sklearn-color-fitted-level-1);\n",
              "}\n",
              "\n",
              "/* On hover */\n",
              "#sk-container-id-3 a.estimator_doc_link:hover {\n",
              "  /* unfitted */\n",
              "  background-color: var(--sklearn-color-unfitted-level-3);\n",
              "  color: var(--sklearn-color-background);\n",
              "  text-decoration: none;\n",
              "}\n",
              "\n",
              "#sk-container-id-3 a.estimator_doc_link.fitted:hover {\n",
              "  /* fitted */\n",
              "  background-color: var(--sklearn-color-fitted-level-3);\n",
              "}\n",
              "</style><div id=\"sk-container-id-3\" class=\"sk-top-container\"><div class=\"sk-text-repr-fallback\"><pre>LogisticRegression()</pre><b>In a Jupyter environment, please rerun this cell to show the HTML representation or trust the notebook. <br />On GitHub, the HTML representation is unable to render, please try loading this page with nbviewer.org.</b></div><div class=\"sk-container\" hidden><div class=\"sk-item\"><div class=\"sk-estimator fitted sk-toggleable\"><input class=\"sk-toggleable__control sk-hidden--visually\" id=\"sk-estimator-id-3\" type=\"checkbox\" checked><label for=\"sk-estimator-id-3\" class=\"sk-toggleable__label fitted sk-toggleable__label-arrow fitted\">&nbsp;&nbsp;LogisticRegression<a class=\"sk-estimator-doc-link fitted\" rel=\"noreferrer\" target=\"_blank\" href=\"https://scikit-learn.org/1.5/modules/generated/sklearn.linear_model.LogisticRegression.html\">?<span>Documentation for LogisticRegression</span></a><span class=\"sk-estimator-doc-link fitted\">i<span>Fitted</span></span></label><div class=\"sk-toggleable__content fitted\"><pre>LogisticRegression()</pre></div> </div></div></div></div>"
            ],
            "text/plain": [
              "LogisticRegression()"
            ]
          },
          "execution_count": 127,
          "metadata": {},
          "output_type": "execute_result"
        }
      ],
      "source": [
        "from sklearn.linear_model import LogisticRegression\n",
        "\n",
        "modelo_RegLog = LogisticRegression()\n",
        "modelo_RegLog.fit(X_trein, y_trein)"
      ]
    },
    {
      "cell_type": "markdown",
      "id": "docvOhOhcEgh",
      "metadata": {
        "id": "docvOhOhcEgh"
      },
      "source": [
        "# Fazendo previsões"
      ]
    },
    {
      "cell_type": "code",
      "execution_count": 128,
      "id": "8c7be5d2",
      "metadata": {
        "colab": {
          "base_uri": "https://localhost:8080/"
        },
        "id": "8c7be5d2",
        "outputId": "c79a095d-4c90-4623-e2a8-e828241e85b0",
        "pycharm": {
          "name": "#%%\n"
        }
      },
      "outputs": [
        {
          "name": "stdout",
          "output_type": "stream",
          "text": [
            "Previsão feita para os dados de treinamento: [0 0 0 0 0 1 0 0 0 0 1 0 0 0 0 1 1 1 0 1 0 0 1 1 0 0 1 0 0 0 0 1 0 1 0 0 0\n",
            " 1 0 1 0 0 1 0 0 0 1 0 1 1 1 0 1 0 1 0 1 1 1 1 0 0 1 0 1 0 0 0 0 0 0 1 0 0\n",
            " 0 0 0 0 1 0 1 1 0 1 0 0 0 0 1 1 0 1 0 0 0 1 0 0 0 1 0 0 0 1 0 0 0 1 0 0 0\n",
            " 0 0 1 1 0 0 0 0 0 1 1 0 0 0 0 0 0 1 0 0 0 1 0 0 0 1 1 1 0 1 0 0 0 0 1 1 0\n",
            " 1 1 0 0 0 1 0 0 0 1 1 0 0 0 0 0 0 0 0 1 0 0 0 1 0 0 0 0 0 0 0 0 0 1 1 1 0\n",
            " 1 1 0 0 0 0 1 0 0 0 0 0 1 1 1 0 1 0 1 1 0 0 0 0 0 1 1 1 1 1 1 1 0 0 0 1 1\n",
            " 0 1 0 1 1 1 0 1 1 0 0 1 1 0 1 1 0 0 0 1 0 0 0 0 0 1 0 1 1 1 0 1 0 0 0 0 0\n",
            " 0 0 0 0 0 0 0 0 0 1 0 0 0 0 1 0 0 0 0 0 0 0 0 0 1 0 0 0 0 0 1 1 1 0 0 0 1\n",
            " 1 0 1 1 0 1 1 1 0 0 0 0 1 1 0 1 0 0 0 1 0 0 0 0 1 1 0 0 1 0 0 0 0 1 0 1 0\n",
            " 0 0 0 0 1 1 0 1 0 0 1 0 0 0 0 1 1 0 0 0 0 0 0 0 0 1 0 0 1 1 0 1 1 0 1 0 0\n",
            " 1 0 1 0 1 0 1 0 1 0 0 0 0 0 0 1 0 0 1 0 0 0 0 0 0 1 0 0 0 0 0 1 1 0 0 1 1\n",
            " 0 0 1 0 0 0 1 0 0 0 0 0 0 1 0 1 0 0 1 0 1 1 1 0 0 0 0 1 1 0 0 0 0 1 0 1 0\n",
            " 0 0 1 1 0 0 0 0 1 0 1 0 0 0 0 0 0 1 1 1 1 1 0 0 0 1 1 1 0 0 0 0 0 1 1 0 0\n",
            " 0 1 0 1 0 0 1 0 0 0 0 1 1 0 0 0 0 0 0 1 0 0 1 0 0 1 0 0 0 0 0 0 0 0 0 1 1\n",
            " 1 0 0 1 0 0 0 0 1 1 1 0 0 0 0 0 0 0 1 1 0 1 1 0 0 0 0 0 1 0 1 1 0 0 0 0 1\n",
            " 0 0 0 0 1 0 0 0 0 0 0 1 1 1 0 1 0 0 1 1 1 0 1 1 1 0 0 0 0 1 0 0 0 0 0 0 0\n",
            " 1 0 0 0 0 0 1 1 0 1 1 1 0 0 0 1 1 1 1 0 0 0 0 0 1 1 0 0 1 1 0 1 0 1 0 1 0\n",
            " 0 0 0 1 1 0 0 0 1 0 0 0 1 0 1 0 0 1 1 0 1 0 1 1 1 0 1 0 0 0 0 0 1 0 0 0 0\n",
            " 0 0 0 0 0 0 0 1 1 0 1 0 0 0 0 0 1 0 0 0 0 0 0 0 0 0 0 0 1 0 0 0 1 0 0 0 0\n",
            " 0 0 1 0 1 0 0 1 1]\n"
          ]
        }
      ],
      "source": [
        "y_pred = modelo_RegLog.predict(X_trein)\n",
        "\n",
        "print(\"Previsão feita para os dados de treinamento:\", y_pred)"
      ]
    },
    {
      "cell_type": "markdown",
      "id": "M892iNa4sElo",
      "metadata": {
        "id": "M892iNa4sElo"
      },
      "source": [
        "## Calculando Taxa de acerto do modelo (acurácia)\n",
        "\n",
        "Você pode calcular a taxa de acerto (acurácia) do modelo usando a função `score`. A acurácia corresponde ao percentual de amostras que foram corretamente classificadas pelo modelo."
      ]
    },
    {
      "cell_type": "code",
      "execution_count": 129,
      "id": "rCu_Qe_yr75D",
      "metadata": {
        "colab": {
          "base_uri": "https://localhost:8080/"
        },
        "id": "rCu_Qe_yr75D",
        "outputId": "010503fc-f8a6-4ed8-ec69-f9d640363b01"
      },
      "outputs": [
        {
          "name": "stdout",
          "output_type": "stream",
          "text": [
            "Taxa de acerto (acurácia) para os dados de treinamento (%): 79.63483146067416\n",
            "Taxa de acerto (acurácia) para os dados de validação (%): 82.12290502793296\n"
          ]
        }
      ],
      "source": [
        "print(\"Taxa de acerto (acurácia) para os dados de treinamento (%):\", 100*modelo_RegLog.score(X_trein, y_trein))\n",
        "\n",
        "print(\"Taxa de acerto (acurácia) para os dados de validação (%):\", 100*modelo_RegLog.score(X_val, y_val))"
      ]
    },
    {
      "cell_type": "markdown",
      "id": "3475821f",
      "metadata": {
        "id": "3475821f",
        "pycharm": {
          "name": "#%% md\n"
        }
      },
      "source": [
        "**Pergunta 2:** Note que a acurácia de validação obtida por este modelo de Regressão Logística foi de **80.44 %**. Compare este valor com o resultado obtido pelos modelos estatísticos anteriores, que não se beseavam em modelos de aprendizado de máquina. Faça uma análise desses resultados.\n",
        "\n",
        "**Resposta:** O valor obtido pelo modelo de aprendizado de máquina (na hora da execução, 82,12%) é maior que os obtidos nos testes de validação dos modelos estatísticos (78,68%), provavelmente porque o modelo de aprendizado de máquina captura mais detalhes dos dados em si do que os modelos estatisticos mais simples. Embora se obtenha uma taxa elevada com o modelo estatístico, os modelos de aprendizado de máquina têm geralmente melhor performance justamente porque são capazes de explorar os detalhes mais sutis dos dados de forma eficaz."
      ]
    },
    {
      "cell_type": "markdown",
      "id": "LmnYRUoMtdmb",
      "metadata": {
        "id": "LmnYRUoMtdmb"
      },
      "source": [
        "# Rede neural treinada usando Tensorflow"
      ]
    },
    {
      "cell_type": "markdown",
      "id": "DqLF-Ge2vXUq",
      "metadata": {
        "id": "DqLF-Ge2vXUq"
      },
      "source": [
        "## Análise do desbalanceamento nos rótulos e atribuição de pesos diferentes"
      ]
    },
    {
      "cell_type": "code",
      "execution_count": 130,
      "id": "0ec89357",
      "metadata": {
        "colab": {
          "base_uri": "https://localhost:8080/"
        },
        "id": "0ec89357",
        "outputId": "3c8e2ff2-e736-4000-da59-fd275c49de9f",
        "pycharm": {
          "name": "#%%\n"
        }
      },
      "outputs": [
        {
          "name": "stdout",
          "output_type": "stream",
          "text": [
            "[444 268]\n",
            "Número de amostras positivas no conjunto de dados de treinamento: 268 (37.64% do total)\n",
            "Peso para classe 0: 0.0022522522522522522\n",
            "Peso para classe 1: 0.0037313432835820895\n"
          ]
        }
      ],
      "source": [
        "qtdade_amostras_cada_classe = np.bincount(y_trein) # função do numpy que conta a quantidade de amostras para cada classe\n",
        "print(qtdade_amostras_cada_classe)\n",
        "print(\n",
        "    \"Número de amostras positivas no conjunto de dados de treinamento: {} ({:.2f}% do total)\".format(\n",
        "        qtdade_amostras_cada_classe[1], 100 * float(qtdade_amostras_cada_classe[1]) / len(y_trein)\n",
        "    )\n",
        ")\n",
        "\n",
        "peso_classe_0 = 1.0 / qtdade_amostras_cada_classe[0]\n",
        "peso_classe_1 = 1.0 / qtdade_amostras_cada_classe[1]\n",
        "\n",
        "print(\"Peso para classe 0:\", peso_classe_0 )\n",
        "print(\"Peso para classe 1:\", peso_classe_1 )\n",
        "\n",
        "pesos_classes = {0: peso_classe_0, 1: peso_classe_1} # cria um dicionário com o peso de cada classe"
      ]
    },
    {
      "cell_type": "markdown",
      "id": "U9Kp00krvgvt",
      "metadata": {
        "id": "U9Kp00krvgvt"
      },
      "source": [
        "## Normalizando os dados usando média e desvio padrão"
      ]
    },
    {
      "cell_type": "code",
      "execution_count": 131,
      "id": "652c5388",
      "metadata": {
        "id": "652c5388",
        "pycharm": {
          "name": "#%%\n"
        }
      },
      "outputs": [],
      "source": [
        "media    = np.mean(X_trein, axis=0)\n",
        "X_trein -= media\n",
        "X_val   -= media\n",
        "desvio   = np.std(X_trein, axis=0)\n",
        "X_trein /= desvio\n",
        "X_val   /= desvio"
      ]
    },
    {
      "cell_type": "markdown",
      "id": "pkcIzWgZ3g_3",
      "metadata": {
        "id": "pkcIzWgZ3g_3"
      },
      "source": [
        "## Criando uma rede neural para classificação binária"
      ]
    },
    {
      "cell_type": "code",
      "execution_count": 132,
      "id": "nNZM7olAen58",
      "metadata": {
        "colab": {
          "base_uri": "https://localhost:8080/",
          "height": 238
        },
        "id": "nNZM7olAen58",
        "outputId": "0a8e21ac-3f07-4da0-944e-6f0cf9380259"
      },
      "outputs": [
        {
          "data": {
            "text/html": [
              "<pre style=\"white-space:pre;overflow-x:auto;line-height:normal;font-family:Menlo,'DejaVu Sans Mono',consolas,'Courier New',monospace\"><span style=\"font-weight: bold\">Model: \"sequential_2\"</span>\n",
              "</pre>\n"
            ],
            "text/plain": [
              "\u001b[1mModel: \"sequential_2\"\u001b[0m\n"
            ]
          },
          "metadata": {},
          "output_type": "display_data"
        },
        {
          "data": {
            "text/html": [
              "<pre style=\"white-space:pre;overflow-x:auto;line-height:normal;font-family:Menlo,'DejaVu Sans Mono',consolas,'Courier New',monospace\">┏━━━━━━━━━━━━━━━━━━━━━━━━━━━━━━━━━┳━━━━━━━━━━━━━━━━━━━━━━━━┳━━━━━━━━━━━━━━━┓\n",
              "┃<span style=\"font-weight: bold\"> Layer (type)                    </span>┃<span style=\"font-weight: bold\"> Output Shape           </span>┃<span style=\"font-weight: bold\">       Param # </span>┃\n",
              "┡━━━━━━━━━━━━━━━━━━━━━━━━━━━━━━━━━╇━━━━━━━━━━━━━━━━━━━━━━━━╇━━━━━━━━━━━━━━━┩\n",
              "│ dense_6 (<span style=\"color: #0087ff; text-decoration-color: #0087ff\">Dense</span>)                 │ (<span style=\"color: #00d7ff; text-decoration-color: #00d7ff\">None</span>, <span style=\"color: #00af00; text-decoration-color: #00af00\">32</span>)             │           <span style=\"color: #00af00; text-decoration-color: #00af00\">320</span> │\n",
              "├─────────────────────────────────┼────────────────────────┼───────────────┤\n",
              "│ dense_7 (<span style=\"color: #0087ff; text-decoration-color: #0087ff\">Dense</span>)                 │ (<span style=\"color: #00d7ff; text-decoration-color: #00d7ff\">None</span>, <span style=\"color: #00af00; text-decoration-color: #00af00\">32</span>)             │         <span style=\"color: #00af00; text-decoration-color: #00af00\">1,056</span> │\n",
              "├─────────────────────────────────┼────────────────────────┼───────────────┤\n",
              "│ dense_8 (<span style=\"color: #0087ff; text-decoration-color: #0087ff\">Dense</span>)                 │ (<span style=\"color: #00d7ff; text-decoration-color: #00d7ff\">None</span>, <span style=\"color: #00af00; text-decoration-color: #00af00\">1</span>)              │            <span style=\"color: #00af00; text-decoration-color: #00af00\">33</span> │\n",
              "└─────────────────────────────────┴────────────────────────┴───────────────┘\n",
              "</pre>\n"
            ],
            "text/plain": [
              "┏━━━━━━━━━━━━━━━━━━━━━━━━━━━━━━━━━┳━━━━━━━━━━━━━━━━━━━━━━━━┳━━━━━━━━━━━━━━━┓\n",
              "┃\u001b[1m \u001b[0m\u001b[1mLayer (type)                   \u001b[0m\u001b[1m \u001b[0m┃\u001b[1m \u001b[0m\u001b[1mOutput Shape          \u001b[0m\u001b[1m \u001b[0m┃\u001b[1m \u001b[0m\u001b[1m      Param #\u001b[0m\u001b[1m \u001b[0m┃\n",
              "┡━━━━━━━━━━━━━━━━━━━━━━━━━━━━━━━━━╇━━━━━━━━━━━━━━━━━━━━━━━━╇━━━━━━━━━━━━━━━┩\n",
              "│ dense_6 (\u001b[38;5;33mDense\u001b[0m)                 │ (\u001b[38;5;45mNone\u001b[0m, \u001b[38;5;34m32\u001b[0m)             │           \u001b[38;5;34m320\u001b[0m │\n",
              "├─────────────────────────────────┼────────────────────────┼───────────────┤\n",
              "│ dense_7 (\u001b[38;5;33mDense\u001b[0m)                 │ (\u001b[38;5;45mNone\u001b[0m, \u001b[38;5;34m32\u001b[0m)             │         \u001b[38;5;34m1,056\u001b[0m │\n",
              "├─────────────────────────────────┼────────────────────────┼───────────────┤\n",
              "│ dense_8 (\u001b[38;5;33mDense\u001b[0m)                 │ (\u001b[38;5;45mNone\u001b[0m, \u001b[38;5;34m1\u001b[0m)              │            \u001b[38;5;34m33\u001b[0m │\n",
              "└─────────────────────────────────┴────────────────────────┴───────────────┘\n"
            ]
          },
          "metadata": {},
          "output_type": "display_data"
        },
        {
          "data": {
            "text/html": [
              "<pre style=\"white-space:pre;overflow-x:auto;line-height:normal;font-family:Menlo,'DejaVu Sans Mono',consolas,'Courier New',monospace\"><span style=\"font-weight: bold\"> Total params: </span><span style=\"color: #00af00; text-decoration-color: #00af00\">1,409</span> (5.50 KB)\n",
              "</pre>\n"
            ],
            "text/plain": [
              "\u001b[1m Total params: \u001b[0m\u001b[38;5;34m1,409\u001b[0m (5.50 KB)\n"
            ]
          },
          "metadata": {},
          "output_type": "display_data"
        },
        {
          "data": {
            "text/html": [
              "<pre style=\"white-space:pre;overflow-x:auto;line-height:normal;font-family:Menlo,'DejaVu Sans Mono',consolas,'Courier New',monospace\"><span style=\"font-weight: bold\"> Trainable params: </span><span style=\"color: #00af00; text-decoration-color: #00af00\">1,409</span> (5.50 KB)\n",
              "</pre>\n"
            ],
            "text/plain": [
              "\u001b[1m Trainable params: \u001b[0m\u001b[38;5;34m1,409\u001b[0m (5.50 KB)\n"
            ]
          },
          "metadata": {},
          "output_type": "display_data"
        },
        {
          "data": {
            "text/html": [
              "<pre style=\"white-space:pre;overflow-x:auto;line-height:normal;font-family:Menlo,'DejaVu Sans Mono',consolas,'Courier New',monospace\"><span style=\"font-weight: bold\"> Non-trainable params: </span><span style=\"color: #00af00; text-decoration-color: #00af00\">0</span> (0.00 B)\n",
              "</pre>\n"
            ],
            "text/plain": [
              "\u001b[1m Non-trainable params: \u001b[0m\u001b[38;5;34m0\u001b[0m (0.00 B)\n"
            ]
          },
          "metadata": {},
          "output_type": "display_data"
        }
      ],
      "source": [
        "import keras\n",
        "\n",
        "modelo = keras.Sequential(\n",
        "    [\n",
        "        keras.Input(shape=X_trein.shape[1:]),\n",
        "        keras.layers.Dense(32, activation=\"relu\"),\n",
        "        keras.layers.Dense(32, activation=\"relu\"),\n",
        "        keras.layers.Dense(1, activation=\"sigmoid\"),\n",
        "    ]\n",
        ")\n",
        "modelo.summary()"
      ]
    },
    {
      "cell_type": "markdown",
      "id": "GfMztcA6iiE_",
      "metadata": {
        "id": "GfMztcA6iiE_"
      },
      "source": [
        "Nesse script, quando do treinamento do modelo usando Tensorflow, usaremos 'checkpoint callback' para salvar os melhores pesos encontrados para o modelo. Assim, após o treinamento, podemos usar diretamente o melhor modelo sem a necessidade de retreinar a rede. Para selecionar o melhor modelo, usaremos como métrica de escolha a acurácia de validação."
      ]
    },
    {
      "cell_type": "code",
      "execution_count": 133,
      "id": "uVCqis5Rj1Zh",
      "metadata": {
        "id": "uVCqis5Rj1Zh"
      },
      "outputs": [],
      "source": [
        "checkpoint_cb = keras.callbacks.ModelCheckpoint(\n",
        "    \"modelo_titanic.keras\",\n",
        "    save_best_only=True,\n",
        "    monitor=\"val_binary_accuracy\",  # ou qualquer outra métrica tal como: 'val_precision', 'val_recall', \"val_binary_accuracy\", \"val_loss\"\n",
        ")"
      ]
    },
    {
      "cell_type": "markdown",
      "id": "lUu1Ef7m98xh",
      "metadata": {
        "id": "lUu1Ef7m98xh"
      },
      "source": [
        "Ao usar o ModelCheckpoint com save_best_only=True, o \"melhor modelo\" é determinado com base na métrica monitorada. Por padrão, o Keras utiliza a perda de validação (val_loss) como métrica para rastrear o melhor modelo. O modelo que obtiver a menor perda de validação durante o treinamento será salvo como o \"melhor modelo\".\n",
        "\n",
        "No entanto, você pode especificar uma métrica diferente para monitorar, configurando o parâmetro monitor ao definir o callback ModelCheckpoint. Por exemplo, se você deseja salvar o modelo com a melhor acurácia de validação, pode configurá-lo conforme mostrado acima.\n",
        "\n",
        "Dessa forma, o ModelCheckpoint salvará o modelo que alcançar a melhor pontuação para a métrica especificada, garantindo que você preserve a versão mais alinhada ao seu objetivo."
      ]
    },
    {
      "cell_type": "code",
      "execution_count": 134,
      "id": "eXK4DWltejzP",
      "metadata": {
        "colab": {
          "base_uri": "https://localhost:8080/"
        },
        "id": "eXK4DWltejzP",
        "outputId": "3c1dfc79-32e1-45c0-8baa-0e8123e28484"
      },
      "outputs": [
        {
          "name": "stdout",
          "output_type": "stream",
          "text": [
            "Epoch 1/100\n"
          ]
        },
        {
          "name": "stdout",
          "output_type": "stream",
          "text": [
            "\u001b[1m23/23\u001b[0m \u001b[32m━━━━━━━━━━━━━━━━━━━━\u001b[0m\u001b[37m\u001b[0m \u001b[1m1s\u001b[0m 10ms/step - binary_accuracy: 0.6522 - loss: 0.0017 - precision: 0.5458 - recall: 0.7724 - val_binary_accuracy: 0.7989 - val_loss: 0.4032 - val_precision: 0.7500 - val_recall: 0.7703\n",
            "Epoch 2/100\n",
            "\u001b[1m23/23\u001b[0m \u001b[32m━━━━━━━━━━━━━━━━━━━━\u001b[0m\u001b[37m\u001b[0m \u001b[1m0s\u001b[0m 2ms/step - binary_accuracy: 0.7952 - loss: 0.0014 - precision: 0.7028 - recall: 0.6822 - val_binary_accuracy: 0.8212 - val_loss: 0.4113 - val_precision: 0.7625 - val_recall: 0.8243\n",
            "Epoch 3/100\n",
            "\u001b[1m23/23\u001b[0m \u001b[32m━━━━━━━━━━━━━━━━━━━━\u001b[0m\u001b[37m\u001b[0m \u001b[1m0s\u001b[0m 2ms/step - binary_accuracy: 0.8021 - loss: 0.0013 - precision: 0.7438 - recall: 0.7470 - val_binary_accuracy: 0.8045 - val_loss: 0.4558 - val_precision: 0.7097 - val_recall: 0.8919\n",
            "Epoch 4/100\n",
            "\u001b[1m23/23\u001b[0m \u001b[32m━━━━━━━━━━━━━━━━━━━━\u001b[0m\u001b[37m\u001b[0m \u001b[1m0s\u001b[0m 2ms/step - binary_accuracy: 0.8241 - loss: 0.0012 - precision: 0.7487 - recall: 0.8216 - val_binary_accuracy: 0.8156 - val_loss: 0.4415 - val_precision: 0.7470 - val_recall: 0.8378\n",
            "Epoch 5/100\n",
            "\u001b[1m23/23\u001b[0m \u001b[32m━━━━━━━━━━━━━━━━━━━━\u001b[0m\u001b[37m\u001b[0m \u001b[1m0s\u001b[0m 2ms/step - binary_accuracy: 0.8183 - loss: 0.0012 - precision: 0.7317 - recall: 0.7876 - val_binary_accuracy: 0.8045 - val_loss: 0.4645 - val_precision: 0.7097 - val_recall: 0.8919\n",
            "Epoch 6/100\n",
            "\u001b[1m23/23\u001b[0m \u001b[32m━━━━━━━━━━━━━━━━━━━━\u001b[0m\u001b[37m\u001b[0m \u001b[1m0s\u001b[0m 2ms/step - binary_accuracy: 0.7948 - loss: 0.0012 - precision: 0.6985 - recall: 0.7838 - val_binary_accuracy: 0.8101 - val_loss: 0.4311 - val_precision: 0.7500 - val_recall: 0.8108\n",
            "Epoch 7/100\n",
            "\u001b[1m23/23\u001b[0m \u001b[32m━━━━━━━━━━━━━━━━━━━━\u001b[0m\u001b[37m\u001b[0m \u001b[1m0s\u001b[0m 2ms/step - binary_accuracy: 0.8635 - loss: 0.0011 - precision: 0.8111 - recall: 0.8178 - val_binary_accuracy: 0.8045 - val_loss: 0.4477 - val_precision: 0.7241 - val_recall: 0.8514\n",
            "Epoch 8/100\n",
            "\u001b[1m23/23\u001b[0m \u001b[32m━━━━━━━━━━━━━━━━━━━━\u001b[0m\u001b[37m\u001b[0m \u001b[1m0s\u001b[0m 2ms/step - binary_accuracy: 0.8291 - loss: 0.0011 - precision: 0.7571 - recall: 0.8110 - val_binary_accuracy: 0.8492 - val_loss: 0.4052 - val_precision: 0.8133 - val_recall: 0.8243\n",
            "Epoch 9/100\n",
            "\u001b[1m23/23\u001b[0m \u001b[32m━━━━━━━━━━━━━━━━━━━━\u001b[0m\u001b[37m\u001b[0m \u001b[1m0s\u001b[0m 2ms/step - binary_accuracy: 0.8325 - loss: 0.0012 - precision: 0.7669 - recall: 0.7948 - val_binary_accuracy: 0.8492 - val_loss: 0.3988 - val_precision: 0.8219 - val_recall: 0.8108\n",
            "Epoch 10/100\n",
            "\u001b[1m23/23\u001b[0m \u001b[32m━━━━━━━━━━━━━━━━━━━━\u001b[0m\u001b[37m\u001b[0m \u001b[1m0s\u001b[0m 2ms/step - binary_accuracy: 0.8404 - loss: 0.0011 - precision: 0.8039 - recall: 0.7826 - val_binary_accuracy: 0.8492 - val_loss: 0.3837 - val_precision: 0.8310 - val_recall: 0.7973\n",
            "Epoch 11/100\n",
            "\u001b[1m23/23\u001b[0m \u001b[32m━━━━━━━━━━━━━━━━━━━━\u001b[0m\u001b[37m\u001b[0m \u001b[1m0s\u001b[0m 2ms/step - binary_accuracy: 0.8365 - loss: 0.0011 - precision: 0.8074 - recall: 0.7322 - val_binary_accuracy: 0.8268 - val_loss: 0.4246 - val_precision: 0.7722 - val_recall: 0.8243\n",
            "Epoch 12/100\n",
            "\u001b[1m23/23\u001b[0m \u001b[32m━━━━━━━━━━━━━━━━━━━━\u001b[0m\u001b[37m\u001b[0m \u001b[1m0s\u001b[0m 2ms/step - binary_accuracy: 0.8352 - loss: 0.0011 - precision: 0.7668 - recall: 0.8176 - val_binary_accuracy: 0.8603 - val_loss: 0.3858 - val_precision: 0.8356 - val_recall: 0.8243\n",
            "Epoch 13/100\n",
            "\u001b[1m23/23\u001b[0m \u001b[32m━━━━━━━━━━━━━━━━━━━━\u001b[0m\u001b[37m\u001b[0m \u001b[1m0s\u001b[0m 2ms/step - binary_accuracy: 0.8706 - loss: 9.8366e-04 - precision: 0.8353 - recall: 0.8124 - val_binary_accuracy: 0.8324 - val_loss: 0.4352 - val_precision: 0.7750 - val_recall: 0.8378\n",
            "Epoch 14/100\n",
            "\u001b[1m23/23\u001b[0m \u001b[32m━━━━━━━━━━━━━━━━━━━━\u001b[0m\u001b[37m\u001b[0m \u001b[1m0s\u001b[0m 2ms/step - binary_accuracy: 0.8566 - loss: 0.0011 - precision: 0.8053 - recall: 0.8047 - val_binary_accuracy: 0.8547 - val_loss: 0.3952 - val_precision: 0.8158 - val_recall: 0.8378\n",
            "Epoch 15/100\n",
            "\u001b[1m23/23\u001b[0m \u001b[32m━━━━━━━━━━━━━━━━━━━━\u001b[0m\u001b[37m\u001b[0m \u001b[1m0s\u001b[0m 2ms/step - binary_accuracy: 0.8821 - loss: 9.0637e-04 - precision: 0.8778 - recall: 0.7967 - val_binary_accuracy: 0.8436 - val_loss: 0.4201 - val_precision: 0.7949 - val_recall: 0.8378\n",
            "Epoch 16/100\n",
            "\u001b[1m23/23\u001b[0m \u001b[32m━━━━━━━━━━━━━━━━━━━━\u001b[0m\u001b[37m\u001b[0m \u001b[1m0s\u001b[0m 2ms/step - binary_accuracy: 0.8493 - loss: 0.0010 - precision: 0.8237 - recall: 0.7739 - val_binary_accuracy: 0.8212 - val_loss: 0.4495 - val_precision: 0.7561 - val_recall: 0.8378\n",
            "Epoch 17/100\n",
            "\u001b[1m23/23\u001b[0m \u001b[32m━━━━━━━━━━━━━━━━━━━━\u001b[0m\u001b[37m\u001b[0m \u001b[1m0s\u001b[0m 2ms/step - binary_accuracy: 0.8758 - loss: 9.2373e-04 - precision: 0.8287 - recall: 0.8350 - val_binary_accuracy: 0.8324 - val_loss: 0.4441 - val_precision: 0.7750 - val_recall: 0.8378\n",
            "Epoch 18/100\n",
            "\u001b[1m23/23\u001b[0m \u001b[32m━━━━━━━━━━━━━━━━━━━━\u001b[0m\u001b[37m\u001b[0m \u001b[1m0s\u001b[0m 2ms/step - binary_accuracy: 0.8523 - loss: 9.8147e-04 - precision: 0.8192 - recall: 0.7739 - val_binary_accuracy: 0.8436 - val_loss: 0.4117 - val_precision: 0.7949 - val_recall: 0.8378\n",
            "Epoch 19/100\n",
            "\u001b[1m23/23\u001b[0m \u001b[32m━━━━━━━━━━━━━━━━━━━━\u001b[0m\u001b[37m\u001b[0m \u001b[1m0s\u001b[0m 2ms/step - binary_accuracy: 0.8670 - loss: 9.8447e-04 - precision: 0.8436 - recall: 0.8152 - val_binary_accuracy: 0.8492 - val_loss: 0.4070 - val_precision: 0.8133 - val_recall: 0.8243\n",
            "Epoch 20/100\n",
            "\u001b[1m23/23\u001b[0m \u001b[32m━━━━━━━━━━━━━━━━━━━━\u001b[0m\u001b[37m\u001b[0m \u001b[1m0s\u001b[0m 2ms/step - binary_accuracy: 0.8744 - loss: 9.8494e-04 - precision: 0.8499 - recall: 0.8090 - val_binary_accuracy: 0.8492 - val_loss: 0.4409 - val_precision: 0.8219 - val_recall: 0.8108\n",
            "Epoch 21/100\n",
            "\u001b[1m23/23\u001b[0m \u001b[32m━━━━━━━━━━━━━━━━━━━━\u001b[0m\u001b[37m\u001b[0m \u001b[1m0s\u001b[0m 2ms/step - binary_accuracy: 0.8734 - loss: 9.5261e-04 - precision: 0.8290 - recall: 0.8006 - val_binary_accuracy: 0.7989 - val_loss: 0.5035 - val_precision: 0.7065 - val_recall: 0.8784\n",
            "Epoch 22/100\n",
            "\u001b[1m23/23\u001b[0m \u001b[32m━━━━━━━━━━━━━━━━━━━━\u001b[0m\u001b[37m\u001b[0m \u001b[1m0s\u001b[0m 2ms/step - binary_accuracy: 0.8558 - loss: 9.4621e-04 - precision: 0.7699 - recall: 0.8775 - val_binary_accuracy: 0.8380 - val_loss: 0.4515 - val_precision: 0.7922 - val_recall: 0.8243\n",
            "Epoch 23/100\n",
            "\u001b[1m23/23\u001b[0m \u001b[32m━━━━━━━━━━━━━━━━━━━━\u001b[0m\u001b[37m\u001b[0m \u001b[1m0s\u001b[0m 2ms/step - binary_accuracy: 0.8759 - loss: 9.3553e-04 - precision: 0.8258 - recall: 0.8638 - val_binary_accuracy: 0.8492 - val_loss: 0.4285 - val_precision: 0.8133 - val_recall: 0.8243\n",
            "Epoch 24/100\n",
            "\u001b[1m23/23\u001b[0m \u001b[32m━━━━━━━━━━━━━━━━━━━━\u001b[0m\u001b[37m\u001b[0m \u001b[1m0s\u001b[0m 2ms/step - binary_accuracy: 0.8434 - loss: 0.0010 - precision: 0.8004 - recall: 0.8121 - val_binary_accuracy: 0.8324 - val_loss: 0.4073 - val_precision: 0.7973 - val_recall: 0.7973\n",
            "Epoch 25/100\n",
            "\u001b[1m23/23\u001b[0m \u001b[32m━━━━━━━━━━━━━━━━━━━━\u001b[0m\u001b[37m\u001b[0m \u001b[1m0s\u001b[0m 2ms/step - binary_accuracy: 0.8933 - loss: 8.7213e-04 - precision: 0.8779 - recall: 0.8428 - val_binary_accuracy: 0.8212 - val_loss: 0.4638 - val_precision: 0.7442 - val_recall: 0.8649\n",
            "Epoch 26/100\n",
            "\u001b[1m23/23\u001b[0m \u001b[32m━━━━━━━━━━━━━━━━━━━━\u001b[0m\u001b[37m\u001b[0m \u001b[1m0s\u001b[0m 2ms/step - binary_accuracy: 0.8725 - loss: 8.9563e-04 - precision: 0.8335 - recall: 0.8276 - val_binary_accuracy: 0.8324 - val_loss: 0.4843 - val_precision: 0.7619 - val_recall: 0.8649\n",
            "Epoch 27/100\n",
            "\u001b[1m23/23\u001b[0m \u001b[32m━━━━━━━━━━━━━━━━━━━━\u001b[0m\u001b[37m\u001b[0m \u001b[1m0s\u001b[0m 2ms/step - binary_accuracy: 0.8779 - loss: 8.9039e-04 - precision: 0.8113 - recall: 0.8672 - val_binary_accuracy: 0.8436 - val_loss: 0.4501 - val_precision: 0.8108 - val_recall: 0.8108\n",
            "Epoch 28/100\n",
            "\u001b[1m23/23\u001b[0m \u001b[32m━━━━━━━━━━━━━━━━━━━━\u001b[0m\u001b[37m\u001b[0m \u001b[1m0s\u001b[0m 2ms/step - binary_accuracy: 0.8633 - loss: 9.5270e-04 - precision: 0.8221 - recall: 0.8225 - val_binary_accuracy: 0.8436 - val_loss: 0.4523 - val_precision: 0.8194 - val_recall: 0.7973\n",
            "Epoch 29/100\n",
            "\u001b[1m23/23\u001b[0m \u001b[32m━━━━━━━━━━━━━━━━━━━━\u001b[0m\u001b[37m\u001b[0m \u001b[1m0s\u001b[0m 2ms/step - binary_accuracy: 0.8811 - loss: 9.2565e-04 - precision: 0.8748 - recall: 0.7969 - val_binary_accuracy: 0.8101 - val_loss: 0.4868 - val_precision: 0.7500 - val_recall: 0.8108\n",
            "Epoch 30/100\n",
            "\u001b[1m23/23\u001b[0m \u001b[32m━━━━━━━━━━━━━━━━━━━━\u001b[0m\u001b[37m\u001b[0m \u001b[1m0s\u001b[0m 2ms/step - binary_accuracy: 0.8963 - loss: 8.5361e-04 - precision: 0.8829 - recall: 0.8482 - val_binary_accuracy: 0.8156 - val_loss: 0.4715 - val_precision: 0.7733 - val_recall: 0.7838\n",
            "Epoch 31/100\n",
            "\u001b[1m23/23\u001b[0m \u001b[32m━━━━━━━━━━━━━━━━━━━━\u001b[0m\u001b[37m\u001b[0m \u001b[1m0s\u001b[0m 4ms/step - binary_accuracy: 0.8774 - loss: 8.5127e-04 - precision: 0.8484 - recall: 0.8073 - val_binary_accuracy: 0.8156 - val_loss: 0.5144 - val_precision: 0.7356 - val_recall: 0.8649\n",
            "Epoch 32/100\n",
            "\u001b[1m23/23\u001b[0m \u001b[32m━━━━━━━━━━━━━━━━━━━━\u001b[0m\u001b[37m\u001b[0m \u001b[1m0s\u001b[0m 2ms/step - binary_accuracy: 0.8564 - loss: 9.4496e-04 - precision: 0.8355 - recall: 0.7929 - val_binary_accuracy: 0.8380 - val_loss: 0.4932 - val_precision: 0.7711 - val_recall: 0.8649\n",
            "Epoch 33/100\n",
            "\u001b[1m23/23\u001b[0m \u001b[32m━━━━━━━━━━━━━━━━━━━━\u001b[0m\u001b[37m\u001b[0m \u001b[1m0s\u001b[0m 2ms/step - binary_accuracy: 0.8932 - loss: 7.9302e-04 - precision: 0.8626 - recall: 0.8606 - val_binary_accuracy: 0.8492 - val_loss: 0.4496 - val_precision: 0.8219 - val_recall: 0.8108\n",
            "Epoch 34/100\n",
            "\u001b[1m23/23\u001b[0m \u001b[32m━━━━━━━━━━━━━━━━━━━━\u001b[0m\u001b[37m\u001b[0m \u001b[1m0s\u001b[0m 2ms/step - binary_accuracy: 0.8819 - loss: 8.3991e-04 - precision: 0.8683 - recall: 0.8025 - val_binary_accuracy: 0.8492 - val_loss: 0.4915 - val_precision: 0.8219 - val_recall: 0.8108\n",
            "Epoch 35/100\n",
            "\u001b[1m23/23\u001b[0m \u001b[32m━━━━━━━━━━━━━━━━━━━━\u001b[0m\u001b[37m\u001b[0m \u001b[1m0s\u001b[0m 2ms/step - binary_accuracy: 0.8952 - loss: 8.3279e-04 - precision: 0.8886 - recall: 0.8169 - val_binary_accuracy: 0.8324 - val_loss: 0.5277 - val_precision: 0.7683 - val_recall: 0.8514\n",
            "Epoch 36/100\n",
            "\u001b[1m23/23\u001b[0m \u001b[32m━━━━━━━━━━━━━━━━━━━━\u001b[0m\u001b[37m\u001b[0m \u001b[1m0s\u001b[0m 2ms/step - binary_accuracy: 0.8579 - loss: 9.4734e-04 - precision: 0.8008 - recall: 0.7913 - val_binary_accuracy: 0.8212 - val_loss: 0.5598 - val_precision: 0.7442 - val_recall: 0.8649\n",
            "Epoch 37/100\n",
            "\u001b[1m23/23\u001b[0m \u001b[32m━━━━━━━━━━━━━━━━━━━━\u001b[0m\u001b[37m\u001b[0m \u001b[1m0s\u001b[0m 2ms/step - binary_accuracy: 0.8513 - loss: 9.4744e-04 - precision: 0.8078 - recall: 0.8120 - val_binary_accuracy: 0.8380 - val_loss: 0.5071 - val_precision: 0.7778 - val_recall: 0.8514\n",
            "Epoch 38/100\n",
            "\u001b[1m23/23\u001b[0m \u001b[32m━━━━━━━━━━━━━━━━━━━━\u001b[0m\u001b[37m\u001b[0m \u001b[1m0s\u001b[0m 2ms/step - binary_accuracy: 0.8872 - loss: 8.1473e-04 - precision: 0.8414 - recall: 0.8718 - val_binary_accuracy: 0.8492 - val_loss: 0.4608 - val_precision: 0.8310 - val_recall: 0.7973\n",
            "Epoch 39/100\n",
            "\u001b[1m23/23\u001b[0m \u001b[32m━━━━━━━━━━━━━━━━━━━━\u001b[0m\u001b[37m\u001b[0m \u001b[1m0s\u001b[0m 2ms/step - binary_accuracy: 0.8917 - loss: 8.1372e-04 - precision: 0.8813 - recall: 0.8015 - val_binary_accuracy: 0.8212 - val_loss: 0.4919 - val_precision: 0.7692 - val_recall: 0.8108\n",
            "Epoch 40/100\n",
            "\u001b[1m23/23\u001b[0m \u001b[32m━━━━━━━━━━━━━━━━━━━━\u001b[0m\u001b[37m\u001b[0m \u001b[1m0s\u001b[0m 2ms/step - binary_accuracy: 0.8717 - loss: 8.4052e-04 - precision: 0.8518 - recall: 0.8009 - val_binary_accuracy: 0.8156 - val_loss: 0.5095 - val_precision: 0.7595 - val_recall: 0.8108\n",
            "Epoch 41/100\n",
            "\u001b[1m23/23\u001b[0m \u001b[32m━━━━━━━━━━━━━━━━━━━━\u001b[0m\u001b[37m\u001b[0m \u001b[1m0s\u001b[0m 2ms/step - binary_accuracy: 0.8860 - loss: 8.2550e-04 - precision: 0.8651 - recall: 0.8374 - val_binary_accuracy: 0.8380 - val_loss: 0.5562 - val_precision: 0.7922 - val_recall: 0.8243\n",
            "Epoch 42/100\n",
            "\u001b[1m23/23\u001b[0m \u001b[32m━━━━━━━━━━━━━━━━━━━━\u001b[0m\u001b[37m\u001b[0m \u001b[1m0s\u001b[0m 2ms/step - binary_accuracy: 0.8558 - loss: 9.3807e-04 - precision: 0.8007 - recall: 0.8266 - val_binary_accuracy: 0.8212 - val_loss: 0.4732 - val_precision: 0.8000 - val_recall: 0.7568\n",
            "Epoch 43/100\n",
            "\u001b[1m23/23\u001b[0m \u001b[32m━━━━━━━━━━━━━━━━━━━━\u001b[0m\u001b[37m\u001b[0m \u001b[1m0s\u001b[0m 2ms/step - binary_accuracy: 0.9039 - loss: 8.0395e-04 - precision: 0.8946 - recall: 0.8469 - val_binary_accuracy: 0.8212 - val_loss: 0.5012 - val_precision: 0.7500 - val_recall: 0.8514\n",
            "Epoch 44/100\n",
            "\u001b[1m23/23\u001b[0m \u001b[32m━━━━━━━━━━━━━━━━━━━━\u001b[0m\u001b[37m\u001b[0m \u001b[1m0s\u001b[0m 2ms/step - binary_accuracy: 0.8780 - loss: 8.2472e-04 - precision: 0.8449 - recall: 0.8371 - val_binary_accuracy: 0.8101 - val_loss: 0.5854 - val_precision: 0.7439 - val_recall: 0.8243\n",
            "Epoch 45/100\n",
            "\u001b[1m23/23\u001b[0m \u001b[32m━━━━━━━━━━━━━━━━━━━━\u001b[0m\u001b[37m\u001b[0m \u001b[1m0s\u001b[0m 2ms/step - binary_accuracy: 0.8838 - loss: 8.4990e-04 - precision: 0.8156 - recall: 0.8717 - val_binary_accuracy: 0.8156 - val_loss: 0.5485 - val_precision: 0.7412 - val_recall: 0.8514\n",
            "Epoch 46/100\n",
            "\u001b[1m23/23\u001b[0m \u001b[32m━━━━━━━━━━━━━━━━━━━━\u001b[0m\u001b[37m\u001b[0m \u001b[1m0s\u001b[0m 2ms/step - binary_accuracy: 0.8641 - loss: 9.1473e-04 - precision: 0.8171 - recall: 0.8442 - val_binary_accuracy: 0.8324 - val_loss: 0.4696 - val_precision: 0.8056 - val_recall: 0.7838\n",
            "Epoch 47/100\n",
            "\u001b[1m23/23\u001b[0m \u001b[32m━━━━━━━━━━━━━━━━━━━━\u001b[0m\u001b[37m\u001b[0m \u001b[1m0s\u001b[0m 2ms/step - binary_accuracy: 0.8992 - loss: 7.4041e-04 - precision: 0.8935 - recall: 0.8224 - val_binary_accuracy: 0.8156 - val_loss: 0.5353 - val_precision: 0.7595 - val_recall: 0.8108\n",
            "Epoch 48/100\n",
            "\u001b[1m23/23\u001b[0m \u001b[32m━━━━━━━━━━━━━━━━━━━━\u001b[0m\u001b[37m\u001b[0m \u001b[1m0s\u001b[0m 2ms/step - binary_accuracy: 0.8984 - loss: 7.6616e-04 - precision: 0.8801 - recall: 0.8394 - val_binary_accuracy: 0.7933 - val_loss: 0.5851 - val_precision: 0.7176 - val_recall: 0.8243\n",
            "Epoch 49/100\n",
            "\u001b[1m23/23\u001b[0m \u001b[32m━━━━━━━━━━━━━━━━━━━━\u001b[0m\u001b[37m\u001b[0m \u001b[1m0s\u001b[0m 2ms/step - binary_accuracy: 0.8876 - loss: 8.0195e-04 - precision: 0.8418 - recall: 0.8642 - val_binary_accuracy: 0.8380 - val_loss: 0.5540 - val_precision: 0.7778 - val_recall: 0.8514\n",
            "Epoch 50/100\n",
            "\u001b[1m23/23\u001b[0m \u001b[32m━━━━━━━━━━━━━━━━━━━━\u001b[0m\u001b[37m\u001b[0m \u001b[1m0s\u001b[0m 2ms/step - binary_accuracy: 0.8725 - loss: 8.2713e-04 - precision: 0.8076 - recall: 0.8720 - val_binary_accuracy: 0.8380 - val_loss: 0.4888 - val_precision: 0.8358 - val_recall: 0.7568\n",
            "Epoch 51/100\n",
            "\u001b[1m23/23\u001b[0m \u001b[32m━━━━━━━━━━━━━━━━━━━━\u001b[0m\u001b[37m\u001b[0m \u001b[1m0s\u001b[0m 2ms/step - binary_accuracy: 0.8815 - loss: 7.9684e-04 - precision: 0.8930 - recall: 0.7751 - val_binary_accuracy: 0.8212 - val_loss: 0.5362 - val_precision: 0.7763 - val_recall: 0.7973\n",
            "Epoch 52/100\n",
            "\u001b[1m23/23\u001b[0m \u001b[32m━━━━━━━━━━━━━━━━━━━━\u001b[0m\u001b[37m\u001b[0m \u001b[1m0s\u001b[0m 2ms/step - binary_accuracy: 0.8831 - loss: 7.5780e-04 - precision: 0.8430 - recall: 0.8373 - val_binary_accuracy: 0.8156 - val_loss: 0.5842 - val_precision: 0.7412 - val_recall: 0.8514\n",
            "Epoch 53/100\n",
            "\u001b[1m23/23\u001b[0m \u001b[32m━━━━━━━━━━━━━━━━━━━━\u001b[0m\u001b[37m\u001b[0m \u001b[1m0s\u001b[0m 2ms/step - binary_accuracy: 0.9016 - loss: 7.3065e-04 - precision: 0.8740 - recall: 0.8759 - val_binary_accuracy: 0.8212 - val_loss: 0.5613 - val_precision: 0.7625 - val_recall: 0.8243\n",
            "Epoch 54/100\n",
            "\u001b[1m23/23\u001b[0m \u001b[32m━━━━━━━━━━━━━━━━━━━━\u001b[0m\u001b[37m\u001b[0m \u001b[1m0s\u001b[0m 2ms/step - binary_accuracy: 0.9190 - loss: 6.2846e-04 - precision: 0.8808 - recall: 0.9098 - val_binary_accuracy: 0.8380 - val_loss: 0.5535 - val_precision: 0.7848 - val_recall: 0.8378\n",
            "Epoch 55/100\n",
            "\u001b[1m23/23\u001b[0m \u001b[32m━━━━━━━━━━━━━━━━━━━━\u001b[0m\u001b[37m\u001b[0m \u001b[1m0s\u001b[0m 2ms/step - binary_accuracy: 0.9194 - loss: 6.3838e-04 - precision: 0.9188 - recall: 0.8687 - val_binary_accuracy: 0.8324 - val_loss: 0.6034 - val_precision: 0.7750 - val_recall: 0.8378\n",
            "Epoch 56/100\n",
            "\u001b[1m23/23\u001b[0m \u001b[32m━━━━━━━━━━━━━━━━━━━━\u001b[0m\u001b[37m\u001b[0m \u001b[1m0s\u001b[0m 2ms/step - binary_accuracy: 0.8977 - loss: 6.9277e-04 - precision: 0.8850 - recall: 0.8402 - val_binary_accuracy: 0.8156 - val_loss: 0.6193 - val_precision: 0.7470 - val_recall: 0.8378\n",
            "Epoch 57/100\n",
            "\u001b[1m23/23\u001b[0m \u001b[32m━━━━━━━━━━━━━━━━━━━━\u001b[0m\u001b[37m\u001b[0m \u001b[1m0s\u001b[0m 2ms/step - binary_accuracy: 0.9070 - loss: 6.9755e-04 - precision: 0.8827 - recall: 0.8644 - val_binary_accuracy: 0.8156 - val_loss: 0.5714 - val_precision: 0.7531 - val_recall: 0.8243\n",
            "Epoch 58/100\n",
            "\u001b[1m23/23\u001b[0m \u001b[32m━━━━━━━━━━━━━━━━━━━━\u001b[0m\u001b[37m\u001b[0m \u001b[1m0s\u001b[0m 4ms/step - binary_accuracy: 0.9083 - loss: 7.1420e-04 - precision: 0.8887 - recall: 0.8510 - val_binary_accuracy: 0.8380 - val_loss: 0.5942 - val_precision: 0.8000 - val_recall: 0.8108\n",
            "Epoch 59/100\n",
            "\u001b[1m23/23\u001b[0m \u001b[32m━━━━━━━━━━━━━━━━━━━━\u001b[0m\u001b[37m\u001b[0m \u001b[1m0s\u001b[0m 2ms/step - binary_accuracy: 0.9171 - loss: 6.1904e-04 - precision: 0.9072 - recall: 0.8706 - val_binary_accuracy: 0.8045 - val_loss: 0.5795 - val_precision: 0.7468 - val_recall: 0.7973\n",
            "Epoch 60/100\n",
            "\u001b[1m23/23\u001b[0m \u001b[32m━━━━━━━━━━━━━━━━━━━━\u001b[0m\u001b[37m\u001b[0m \u001b[1m0s\u001b[0m 2ms/step - binary_accuracy: 0.9276 - loss: 6.0197e-04 - precision: 0.9346 - recall: 0.8702 - val_binary_accuracy: 0.8547 - val_loss: 0.5935 - val_precision: 0.8158 - val_recall: 0.8378\n",
            "Epoch 61/100\n",
            "\u001b[1m23/23\u001b[0m \u001b[32m━━━━━━━━━━━━━━━━━━━━\u001b[0m\u001b[37m\u001b[0m \u001b[1m0s\u001b[0m 2ms/step - binary_accuracy: 0.9066 - loss: 6.8707e-04 - precision: 0.8881 - recall: 0.8715 - val_binary_accuracy: 0.8212 - val_loss: 0.6143 - val_precision: 0.7763 - val_recall: 0.7973\n",
            "Epoch 62/100\n",
            "\u001b[1m23/23\u001b[0m \u001b[32m━━━━━━━━━━━━━━━━━━━━\u001b[0m\u001b[37m\u001b[0m \u001b[1m0s\u001b[0m 2ms/step - binary_accuracy: 0.9050 - loss: 7.1296e-04 - precision: 0.9038 - recall: 0.8361 - val_binary_accuracy: 0.7989 - val_loss: 0.6947 - val_precision: 0.7209 - val_recall: 0.8378\n",
            "Epoch 63/100\n",
            "\u001b[1m23/23\u001b[0m \u001b[32m━━━━━━━━━━━━━━━━━━━━\u001b[0m\u001b[37m\u001b[0m \u001b[1m0s\u001b[0m 2ms/step - binary_accuracy: 0.8946 - loss: 6.8431e-04 - precision: 0.8395 - recall: 0.8804 - val_binary_accuracy: 0.8380 - val_loss: 0.6317 - val_precision: 0.7848 - val_recall: 0.8378\n",
            "Epoch 64/100\n",
            "\u001b[1m23/23\u001b[0m \u001b[32m━━━━━━━━━━━━━━━━━━━━\u001b[0m\u001b[37m\u001b[0m \u001b[1m0s\u001b[0m 2ms/step - binary_accuracy: 0.8882 - loss: 7.5308e-04 - precision: 0.8343 - recall: 0.8782 - val_binary_accuracy: 0.8156 - val_loss: 0.6496 - val_precision: 0.7531 - val_recall: 0.8243\n",
            "Epoch 65/100\n",
            "\u001b[1m23/23\u001b[0m \u001b[32m━━━━━━━━━━━━━━━━━━━━\u001b[0m\u001b[37m\u001b[0m \u001b[1m0s\u001b[0m 2ms/step - binary_accuracy: 0.9064 - loss: 6.7746e-04 - precision: 0.8634 - recall: 0.8698 - val_binary_accuracy: 0.7989 - val_loss: 0.7230 - val_precision: 0.7209 - val_recall: 0.8378\n",
            "Epoch 66/100\n",
            "\u001b[1m23/23\u001b[0m \u001b[32m━━━━━━━━━━━━━━━━━━━━\u001b[0m\u001b[37m\u001b[0m \u001b[1m0s\u001b[0m 2ms/step - binary_accuracy: 0.8963 - loss: 7.1852e-04 - precision: 0.8508 - recall: 0.8968 - val_binary_accuracy: 0.8268 - val_loss: 0.6711 - val_precision: 0.7722 - val_recall: 0.8243\n",
            "Epoch 67/100\n",
            "\u001b[1m23/23\u001b[0m \u001b[32m━━━━━━━━━━━━━━━━━━━━\u001b[0m\u001b[37m\u001b[0m \u001b[1m0s\u001b[0m 2ms/step - binary_accuracy: 0.9014 - loss: 7.1489e-04 - precision: 0.8928 - recall: 0.8475 - val_binary_accuracy: 0.8492 - val_loss: 0.5862 - val_precision: 0.8219 - val_recall: 0.8108\n",
            "Epoch 68/100\n",
            "\u001b[1m23/23\u001b[0m \u001b[32m━━━━━━━━━━━━━━━━━━━━\u001b[0m\u001b[37m\u001b[0m \u001b[1m0s\u001b[0m 2ms/step - binary_accuracy: 0.8995 - loss: 6.7770e-04 - precision: 0.8613 - recall: 0.8673 - val_binary_accuracy: 0.8324 - val_loss: 0.6888 - val_precision: 0.7895 - val_recall: 0.8108\n",
            "Epoch 69/100\n",
            "\u001b[1m23/23\u001b[0m \u001b[32m━━━━━━━━━━━━━━━━━━━━\u001b[0m\u001b[37m\u001b[0m \u001b[1m0s\u001b[0m 2ms/step - binary_accuracy: 0.8895 - loss: 7.1510e-04 - precision: 0.8548 - recall: 0.8578 - val_binary_accuracy: 0.8380 - val_loss: 0.6546 - val_precision: 0.7848 - val_recall: 0.8378\n",
            "Epoch 70/100\n",
            "\u001b[1m23/23\u001b[0m \u001b[32m━━━━━━━━━━━━━━━━━━━━\u001b[0m\u001b[37m\u001b[0m \u001b[1m0s\u001b[0m 2ms/step - binary_accuracy: 0.9052 - loss: 7.1755e-04 - precision: 0.8947 - recall: 0.8686 - val_binary_accuracy: 0.8380 - val_loss: 0.6120 - val_precision: 0.8169 - val_recall: 0.7838\n",
            "Epoch 71/100\n",
            "\u001b[1m23/23\u001b[0m \u001b[32m━━━━━━━━━━━━━━━━━━━━\u001b[0m\u001b[37m\u001b[0m \u001b[1m0s\u001b[0m 2ms/step - binary_accuracy: 0.9051 - loss: 6.5006e-04 - precision: 0.8846 - recall: 0.8654 - val_binary_accuracy: 0.8436 - val_loss: 0.5927 - val_precision: 0.8194 - val_recall: 0.7973\n",
            "Epoch 72/100\n",
            "\u001b[1m23/23\u001b[0m \u001b[32m━━━━━━━━━━━━━━━━━━━━\u001b[0m\u001b[37m\u001b[0m \u001b[1m0s\u001b[0m 2ms/step - binary_accuracy: 0.9303 - loss: 5.5681e-04 - precision: 0.9366 - recall: 0.8764 - val_binary_accuracy: 0.8156 - val_loss: 0.6824 - val_precision: 0.7531 - val_recall: 0.8243\n",
            "Epoch 73/100\n",
            "\u001b[1m23/23\u001b[0m \u001b[32m━━━━━━━━━━━━━━━━━━━━\u001b[0m\u001b[37m\u001b[0m \u001b[1m0s\u001b[0m 2ms/step - binary_accuracy: 0.8986 - loss: 7.3884e-04 - precision: 0.8552 - recall: 0.8776 - val_binary_accuracy: 0.8268 - val_loss: 0.6942 - val_precision: 0.7654 - val_recall: 0.8378\n",
            "Epoch 74/100\n",
            "\u001b[1m23/23\u001b[0m \u001b[32m━━━━━━━━━━━━━━━━━━━━\u001b[0m\u001b[37m\u001b[0m \u001b[1m0s\u001b[0m 2ms/step - binary_accuracy: 0.8892 - loss: 6.9473e-04 - precision: 0.8521 - recall: 0.8586 - val_binary_accuracy: 0.8492 - val_loss: 0.6654 - val_precision: 0.8052 - val_recall: 0.8378\n",
            "Epoch 75/100\n",
            "\u001b[1m23/23\u001b[0m \u001b[32m━━━━━━━━━━━━━━━━━━━━\u001b[0m\u001b[37m\u001b[0m \u001b[1m0s\u001b[0m 2ms/step - binary_accuracy: 0.8855 - loss: 7.0610e-04 - precision: 0.8249 - recall: 0.8961 - val_binary_accuracy: 0.8492 - val_loss: 0.5971 - val_precision: 0.8052 - val_recall: 0.8378\n",
            "Epoch 76/100\n",
            "\u001b[1m23/23\u001b[0m \u001b[32m━━━━━━━━━━━━━━━━━━━━\u001b[0m\u001b[37m\u001b[0m \u001b[1m0s\u001b[0m 2ms/step - binary_accuracy: 0.9308 - loss: 6.2473e-04 - precision: 0.9221 - recall: 0.8982 - val_binary_accuracy: 0.8380 - val_loss: 0.6433 - val_precision: 0.8082 - val_recall: 0.7973\n",
            "Epoch 77/100\n",
            "\u001b[1m23/23\u001b[0m \u001b[32m━━━━━━━━━━━━━━━━━━━━\u001b[0m\u001b[37m\u001b[0m \u001b[1m0s\u001b[0m 2ms/step - binary_accuracy: 0.8996 - loss: 6.8652e-04 - precision: 0.8587 - recall: 0.8564 - val_binary_accuracy: 0.8212 - val_loss: 0.7273 - val_precision: 0.7838 - val_recall: 0.7838\n",
            "Epoch 78/100\n",
            "\u001b[1m23/23\u001b[0m \u001b[32m━━━━━━━━━━━━━━━━━━━━\u001b[0m\u001b[37m\u001b[0m \u001b[1m0s\u001b[0m 2ms/step - binary_accuracy: 0.9155 - loss: 6.2930e-04 - precision: 0.9031 - recall: 0.8563 - val_binary_accuracy: 0.8156 - val_loss: 0.7204 - val_precision: 0.7531 - val_recall: 0.8243\n",
            "Epoch 79/100\n",
            "\u001b[1m23/23\u001b[0m \u001b[32m━━━━━━━━━━━━━━━━━━━━\u001b[0m\u001b[37m\u001b[0m \u001b[1m0s\u001b[0m 2ms/step - binary_accuracy: 0.8816 - loss: 7.9521e-04 - precision: 0.8327 - recall: 0.8548 - val_binary_accuracy: 0.8212 - val_loss: 0.6857 - val_precision: 0.7561 - val_recall: 0.8378\n",
            "Epoch 80/100\n",
            "\u001b[1m23/23\u001b[0m \u001b[32m━━━━━━━━━━━━━━━━━━━━\u001b[0m\u001b[37m\u001b[0m \u001b[1m0s\u001b[0m 3ms/step - binary_accuracy: 0.9106 - loss: 6.1995e-04 - precision: 0.8909 - recall: 0.8903 - val_binary_accuracy: 0.8659 - val_loss: 0.6733 - val_precision: 0.8472 - val_recall: 0.8243\n",
            "Epoch 81/100\n",
            "\u001b[1m23/23\u001b[0m \u001b[32m━━━━━━━━━━━━━━━━━━━━\u001b[0m\u001b[37m\u001b[0m \u001b[1m0s\u001b[0m 2ms/step - binary_accuracy: 0.9102 - loss: 6.2184e-04 - precision: 0.9166 - recall: 0.8451 - val_binary_accuracy: 0.8603 - val_loss: 0.7146 - val_precision: 0.8267 - val_recall: 0.8378\n",
            "Epoch 82/100\n",
            "\u001b[1m23/23\u001b[0m \u001b[32m━━━━━━━━━━━━━━━━━━━━\u001b[0m\u001b[37m\u001b[0m \u001b[1m0s\u001b[0m 2ms/step - binary_accuracy: 0.9184 - loss: 5.7150e-04 - precision: 0.8840 - recall: 0.8994 - val_binary_accuracy: 0.8603 - val_loss: 0.6950 - val_precision: 0.8356 - val_recall: 0.8243\n",
            "Epoch 83/100\n",
            "\u001b[1m23/23\u001b[0m \u001b[32m━━━━━━━━━━━━━━━━━━━━\u001b[0m\u001b[37m\u001b[0m \u001b[1m0s\u001b[0m 2ms/step - binary_accuracy: 0.9336 - loss: 5.6785e-04 - precision: 0.9352 - recall: 0.8924 - val_binary_accuracy: 0.8547 - val_loss: 0.7142 - val_precision: 0.8333 - val_recall: 0.8108\n",
            "Epoch 84/100\n",
            "\u001b[1m23/23\u001b[0m \u001b[32m━━━━━━━━━━━━━━━━━━━━\u001b[0m\u001b[37m\u001b[0m \u001b[1m0s\u001b[0m 2ms/step - binary_accuracy: 0.9118 - loss: 5.6827e-04 - precision: 0.8956 - recall: 0.8695 - val_binary_accuracy: 0.8659 - val_loss: 0.7634 - val_precision: 0.8378 - val_recall: 0.8378\n",
            "Epoch 85/100\n",
            "\u001b[1m23/23\u001b[0m \u001b[32m━━━━━━━━━━━━━━━━━━━━\u001b[0m\u001b[37m\u001b[0m \u001b[1m0s\u001b[0m 2ms/step - binary_accuracy: 0.9218 - loss: 5.5034e-04 - precision: 0.8864 - recall: 0.8957 - val_binary_accuracy: 0.8547 - val_loss: 0.7449 - val_precision: 0.8429 - val_recall: 0.7973\n",
            "Epoch 86/100\n",
            "\u001b[1m23/23\u001b[0m \u001b[32m━━━━━━━━━━━━━━━━━━━━\u001b[0m\u001b[37m\u001b[0m \u001b[1m0s\u001b[0m 3ms/step - binary_accuracy: 0.9266 - loss: 5.3279e-04 - precision: 0.9409 - recall: 0.8491 - val_binary_accuracy: 0.7989 - val_loss: 0.8711 - val_precision: 0.7159 - val_recall: 0.8514\n",
            "Epoch 87/100\n",
            "\u001b[1m23/23\u001b[0m \u001b[32m━━━━━━━━━━━━━━━━━━━━\u001b[0m\u001b[37m\u001b[0m \u001b[1m0s\u001b[0m 2ms/step - binary_accuracy: 0.9038 - loss: 6.1753e-04 - precision: 0.8803 - recall: 0.8711 - val_binary_accuracy: 0.8324 - val_loss: 0.7444 - val_precision: 0.7750 - val_recall: 0.8378\n",
            "Epoch 88/100\n",
            "\u001b[1m23/23\u001b[0m \u001b[32m━━━━━━━━━━━━━━━━━━━━\u001b[0m\u001b[37m\u001b[0m \u001b[1m0s\u001b[0m 2ms/step - binary_accuracy: 0.8961 - loss: 6.6226e-04 - precision: 0.8607 - recall: 0.8757 - val_binary_accuracy: 0.8659 - val_loss: 0.7244 - val_precision: 0.8378 - val_recall: 0.8378\n",
            "Epoch 89/100\n",
            "\u001b[1m23/23\u001b[0m \u001b[32m━━━━━━━━━━━━━━━━━━━━\u001b[0m\u001b[37m\u001b[0m \u001b[1m0s\u001b[0m 2ms/step - binary_accuracy: 0.9174 - loss: 5.6141e-04 - precision: 0.8933 - recall: 0.8853 - val_binary_accuracy: 0.8212 - val_loss: 0.7752 - val_precision: 0.7838 - val_recall: 0.7838\n",
            "Epoch 90/100\n",
            "\u001b[1m23/23\u001b[0m \u001b[32m━━━━━━━━━━━━━━━━━━━━\u001b[0m\u001b[37m\u001b[0m \u001b[1m0s\u001b[0m 2ms/step - binary_accuracy: 0.9112 - loss: 6.2220e-04 - precision: 0.9049 - recall: 0.8685 - val_binary_accuracy: 0.8380 - val_loss: 0.8052 - val_precision: 0.7922 - val_recall: 0.8243\n",
            "Epoch 91/100\n",
            "\u001b[1m23/23\u001b[0m \u001b[32m━━━━━━━━━━━━━━━━━━━━\u001b[0m\u001b[37m\u001b[0m \u001b[1m0s\u001b[0m 2ms/step - binary_accuracy: 0.9187 - loss: 5.8124e-04 - precision: 0.9276 - recall: 0.8579 - val_binary_accuracy: 0.8547 - val_loss: 0.7942 - val_precision: 0.8243 - val_recall: 0.8243\n",
            "Epoch 92/100\n",
            "\u001b[1m23/23\u001b[0m \u001b[32m━━━━━━━━━━━━━━━━━━━━\u001b[0m\u001b[37m\u001b[0m \u001b[1m0s\u001b[0m 2ms/step - binary_accuracy: 0.9095 - loss: 6.6132e-04 - precision: 0.8878 - recall: 0.8783 - val_binary_accuracy: 0.8659 - val_loss: 0.7984 - val_precision: 0.8472 - val_recall: 0.8243\n",
            "Epoch 93/100\n",
            "\u001b[1m23/23\u001b[0m \u001b[32m━━━━━━━━━━━━━━━━━━━━\u001b[0m\u001b[37m\u001b[0m \u001b[1m0s\u001b[0m 2ms/step - binary_accuracy: 0.9130 - loss: 6.1102e-04 - precision: 0.9091 - recall: 0.8585 - val_binary_accuracy: 0.8268 - val_loss: 0.8708 - val_precision: 0.7590 - val_recall: 0.8514\n",
            "Epoch 94/100\n",
            "\u001b[1m23/23\u001b[0m \u001b[32m━━━━━━━━━━━━━━━━━━━━\u001b[0m\u001b[37m\u001b[0m \u001b[1m0s\u001b[0m 2ms/step - binary_accuracy: 0.9133 - loss: 6.2686e-04 - precision: 0.8765 - recall: 0.8994 - val_binary_accuracy: 0.8436 - val_loss: 0.8392 - val_precision: 0.8108 - val_recall: 0.8108\n",
            "Epoch 95/100\n",
            "\u001b[1m23/23\u001b[0m \u001b[32m━━━━━━━━━━━━━━━━━━━━\u001b[0m\u001b[37m\u001b[0m \u001b[1m0s\u001b[0m 2ms/step - binary_accuracy: 0.9197 - loss: 5.9724e-04 - precision: 0.9070 - recall: 0.8835 - val_binary_accuracy: 0.8436 - val_loss: 0.9249 - val_precision: 0.7949 - val_recall: 0.8378\n",
            "Epoch 96/100\n",
            "\u001b[1m23/23\u001b[0m \u001b[32m━━━━━━━━━━━━━━━━━━━━\u001b[0m\u001b[37m\u001b[0m \u001b[1m0s\u001b[0m 2ms/step - binary_accuracy: 0.9256 - loss: 5.3554e-04 - precision: 0.9049 - recall: 0.8811 - val_binary_accuracy: 0.8212 - val_loss: 0.8971 - val_precision: 0.7692 - val_recall: 0.8108\n",
            "Epoch 97/100\n",
            "\u001b[1m23/23\u001b[0m \u001b[32m━━━━━━━━━━━━━━━━━━━━\u001b[0m\u001b[37m\u001b[0m \u001b[1m0s\u001b[0m 2ms/step - binary_accuracy: 0.9002 - loss: 7.2023e-04 - precision: 0.8366 - recall: 0.8822 - val_binary_accuracy: 0.8212 - val_loss: 0.8504 - val_precision: 0.7625 - val_recall: 0.8243\n",
            "Epoch 98/100\n",
            "\u001b[1m23/23\u001b[0m \u001b[32m━━━━━━━━━━━━━━━━━━━━\u001b[0m\u001b[37m\u001b[0m \u001b[1m0s\u001b[0m 2ms/step - binary_accuracy: 0.9101 - loss: 6.1040e-04 - precision: 0.8717 - recall: 0.8930 - val_binary_accuracy: 0.8492 - val_loss: 0.8252 - val_precision: 0.8219 - val_recall: 0.8108\n",
            "Epoch 99/100\n",
            "\u001b[1m23/23\u001b[0m \u001b[32m━━━━━━━━━━━━━━━━━━━━\u001b[0m\u001b[37m\u001b[0m \u001b[1m0s\u001b[0m 2ms/step - binary_accuracy: 0.8976 - loss: 6.6917e-04 - precision: 0.8328 - recall: 0.9020 - val_binary_accuracy: 0.8156 - val_loss: 0.7571 - val_precision: 0.7808 - val_recall: 0.7703\n",
            "Epoch 100/100\n",
            "\u001b[1m23/23\u001b[0m \u001b[32m━━━━━━━━━━━━━━━━━━━━\u001b[0m\u001b[37m\u001b[0m \u001b[1m0s\u001b[0m 2ms/step - binary_accuracy: 0.9049 - loss: 6.7488e-04 - precision: 0.8720 - recall: 0.8587 - val_binary_accuracy: 0.8156 - val_loss: 0.8067 - val_precision: 0.7733 - val_recall: 0.7838\n"
          ]
        }
      ],
      "source": [
        "METRICS = [\n",
        "    keras.metrics.BinaryAccuracy(),\n",
        "    keras.metrics.Precision(name=\"precision\"),\n",
        "    keras.metrics.Recall(name=\"recall\"),\n",
        "]\n",
        "modelo.compile(\n",
        "    optimizer=keras.optimizers.Adam(learning_rate=1e-2),\n",
        "    loss=\"binary_crossentropy\",\n",
        "    metrics=METRICS,\n",
        ")\n",
        "\n",
        "history = modelo.fit(\n",
        "    X_trein,\n",
        "    y_trein,\n",
        "    epochs=100,\n",
        "    validation_data=(X_val, y_val),\n",
        "    class_weight=pesos_classes,\n",
        "    callbacks=checkpoint_cb\n",
        ")"
      ]
    },
    {
      "cell_type": "code",
      "execution_count": 135,
      "id": "WZs9F6YbgbNP",
      "metadata": {
        "colab": {
          "base_uri": "https://localhost:8080/",
          "height": 305
        },
        "id": "WZs9F6YbgbNP",
        "outputId": "78078949-cb2e-4738-a947-9c7b1ed251bc"
      },
      "outputs": [
        {
          "data": {
            "image/png": "[encoded data removed]",
            "text/plain": [
              "<Figure size 2000x300 with 4 Axes>"
            ]
          },
          "metadata": {},
          "output_type": "display_data"
        }
      ],
      "source": [
        "fig, ax = plt.subplots(1, 4, figsize=(20, 3))\n",
        "ax = ax.ravel()\n",
        "\n",
        "for i, met in enumerate([\"precision\", \"recall\", \"binary_accuracy\", \"loss\"]):\n",
        "    ax[i].plot(history.history[met])\n",
        "    ax[i].plot(history.history[\"val_\" + met])\n",
        "    ax[i].set_title(\"Model {}\".format(met))\n",
        "    ax[i].set_xlabel(\"epochs\")\n",
        "    ax[i].set_ylabel(met)\n",
        "    ax[i].legend([\"train\", \"val\"])"
      ]
    },
    {
      "cell_type": "markdown",
      "id": "VC1NZLF7-d65",
      "metadata": {
        "id": "VC1NZLF7-d65"
      },
      "source": [
        "**Pergunta 3:** Usando as suas próprias palavras, faça uma análise detalhada dos gráficos mostrados acima.\n",
        "\n",
        "**Resposta:** Análise de cada gráfico:\n",
        "- Precisão: O modelo parece aprender os padrões do conjunto de treinamento, contudo pode sofrer de sobreajuste, pois a precisão para validação não acompanha o desempenho do treinamento $\\Rightarrow$ A precisão ao longo das épocas aumenta dirante o treinamento, enquanto a precisão oscila em torno de uma média ao longo das épocas para os dados de validação.\n",
        "- Recorrência, revocação ou *recall*: o modelo demonstra uma recorrência que aumenta ao longo das épocas, embora oscile de forma semelhante à precisão ao longo das épocas para os dados de validação, reforçando a conclusão de que o modelo está sobreajustado.\n",
        "- Acurácia binária: A aparência semelhante ao gráfico de precisão sugere que o modelo está sobreajustado ($b_{accval} < b_{acctrein}$).\n",
        "- Perdas: a perda crescente nos dados de teste, enquanto a perda permanece constante nos dados de treinamento, ao longo das épocas é mais um indicador de sobreajuste."
      ]
    },
    {
      "cell_type": "code",
      "execution_count": 136,
      "id": "EpZWc2oWhwM1",
      "metadata": {
        "id": "EpZWc2oWhwM1"
      },
      "outputs": [],
      "source": [
        "# Carregando o melhor modelo:\n",
        "\n",
        "modelo = keras.models.load_model(\"modelo_titanic.keras\")"
      ]
    },
    {
      "cell_type": "code",
      "execution_count": 137,
      "id": "8n6cLpVJiU86",
      "metadata": {
        "id": "8n6cLpVJiU86"
      },
      "outputs": [],
      "source": [
        "#modelo.evaluate( (X_val, y_val) , return_dict=True)"
      ]
    },
    {
      "cell_type": "code",
      "execution_count": 138,
      "id": "sGsxYZfiEn-6",
      "metadata": {
        "colab": {
          "base_uri": "https://localhost:8080/"
        },
        "id": "sGsxYZfiEn-6",
        "outputId": "85f40226-718a-4b8f-8296-5a7c3e438648"
      },
      "outputs": [
        {
          "name": "stdout",
          "output_type": "stream",
          "text": [
            "\u001b[1m23/23\u001b[0m \u001b[32m━━━━━━━━━━━━━━━━━━━━\u001b[0m\u001b[37m\u001b[0m \u001b[1m0s\u001b[0m 3ms/step\n",
            "Redes Neurais: Taxa de acerto (acurácia) para dados de treinamento:92.275 %\n"
          ]
        }
      ],
      "source": [
        "probabilidades = modelo.predict(X_trein)\n",
        "y_trein_est    = (probabilidades >= 0.5).astype(int)\n",
        "acuracia_trein = np.mean(y_trein.reshape(-1,1) == y_trein_est) * 100\n",
        "print('Redes Neurais: Taxa de acerto (acurácia) para dados de treinamento:{0:.3f} %'.format(acuracia_trein))"
      ]
    },
    {
      "cell_type": "code",
      "execution_count": 139,
      "id": "UOv4gU-H38Jq",
      "metadata": {
        "colab": {
          "base_uri": "https://localhost:8080/"
        },
        "id": "UOv4gU-H38Jq",
        "outputId": "6ad39985-92ac-4897-aea9-267c720143f5"
      },
      "outputs": [
        {
          "name": "stdout",
          "output_type": "stream",
          "text": [
            "\u001b[1m6/6\u001b[0m \u001b[32m━━━━━━━━━━━━━━━━━━━━\u001b[0m\u001b[37m\u001b[0m \u001b[1m0s\u001b[0m 889us/step\n",
            "Redes Neurais: Taxa de acerto (acurácia) para dados de validação:86.592 %\n"
          ]
        }
      ],
      "source": [
        "probabilidades = modelo.predict(X_val)\n",
        "y_val_est      = (probabilidades >= 0.5).astype(int)\n",
        "acuracia_val   = np.mean(y_val.reshape(-1,1) == y_val_est) * 100\n",
        "print('Redes Neurais: Taxa de acerto (acurácia) para dados de validação:{0:.3f} %'.format(acuracia_val))"
      ]
    },
    {
      "cell_type": "markdown",
      "id": "qbjOABvT-vqh",
      "metadata": {
        "id": "qbjOABvT-vqh"
      },
      "source": [
        "**Pergunta 4:** Note que a acurácia de validação obtida por esta rede neural foi de cerca de **85 %**.  Compare esta valor com aquele obtido usando Regressão Logística foi de **80.44 %**. Faça uma análise desses resultados.\n",
        "\n",
        "**Resposta:** O melhor modelo de redes neurais encontrado pelo *keras* consegue performar ainda melhor que o modelo de regressão logística utilizando o *Scikit-Learn*. REsumidamente, a rede neural é capaz de capturar ainda mais detalhes importantes para a determinação da sobrevivência da pessoa utilizando os dados fornecidos. Contudo, a diferença entre a precisão de treino e teste (92,275% e 86,592%) é indicador de sobreajuste. Porém, a acurácia é cerca de 4% maior que com o modelo de regressão logística (82,12 % contra 86,59%) devido ao modelo capturar melhor detalhes sutis nos dados de forma eficaz."
      ]
    },
    {
      "cell_type": "markdown",
      "id": "e78sWzX6_EAq",
      "metadata": {
        "id": "e78sWzX6_EAq"
      },
      "source": [
        "## Matriz de confusão resultante"
      ]
    },
    {
      "cell_type": "code",
      "execution_count": 140,
      "id": "Z8sbDaV54Ek4",
      "metadata": {
        "colab": {
          "base_uri": "https://localhost:8080/",
          "height": 431
        },
        "id": "Z8sbDaV54Ek4",
        "outputId": "9269aaaa-ed1b-4df9-e36c-f5a22e8bc157"
      },
      "outputs": [
        {
          "data": {
            "image/png": "[encoded data removed]",
            "text/plain": [
              "<Figure size 400x400 with 2 Axes>"
            ]
          },
          "metadata": {},
          "output_type": "display_data"
        }
      ],
      "source": [
        "import matplotlib.pyplot as plt\n",
        "from sklearn.metrics import confusion_matrix, ConfusionMatrixDisplay\n",
        "\n",
        "cm = confusion_matrix(y_val, y_val_est) # cm = confusion matrix = matriz de confusão\n",
        "plt.figure(figsize=(4,4))\n",
        "sns.heatmap(cm, annot=True,cmap='RdYlGn')\n",
        "plt.title('Modelo: Redes Neurais \\nTaxa de acerto (acurácia val):{0:.3f} %'.format(acuracia_val))\n",
        "plt.ylabel('Rótulo verdadeiro')\n",
        "plt.xlabel('Rótulo previsto')\n",
        "plt.show()"
      ]
    },
    {
      "cell_type": "code",
      "execution_count": 141,
      "id": "9DOn2D1U4KTO",
      "metadata": {
        "colab": {
          "base_uri": "https://localhost:8080/"
        },
        "id": "9DOn2D1U4KTO",
        "outputId": "74699ce5-e764-460d-ff0f-cf805b94dbe6"
      },
      "outputs": [
        {
          "name": "stdout",
          "output_type": "stream",
          "text": [
            "precisao:  {'y=0': 0.8785046728971962, 'y=1': 0.8472222222222222}\n",
            "recall:  {'y=0': 0.8952380952380953, 'y=1': 0.8243243243243243}\n",
            "F1 score:  {'y=0': 0.8867924528301887, 'y=1': 0.8356164383561645}\n"
          ]
        }
      ],
      "source": [
        "# calculando precisão, recall e f1 score\n",
        "\n",
        "rotulos = [\"y=0\",\"y=1\"]\n",
        "\n",
        "tp        = np.diag(cm) # Diagonal represents true positives\n",
        "precisao  = dict()\n",
        "revocacao = dict()\n",
        "f1_score  = dict()\n",
        "for i in range(len(rotulos)):\n",
        "  col = cm[:, i]\n",
        "  fp = np.sum(col) - tp[i] # Sum of column minus true positive is false negative\n",
        "\n",
        "  row = cm[i, :]\n",
        "  fn = np.sum(row) - tp[i] # Sum of row minus true positive, is false negative\n",
        "\n",
        "  valor_precisao  = tp[i] / (tp[i] + fp)\n",
        "  valor_revocacao = tp[i] / (tp[i] + fn)\n",
        "  valor_f1_score  = 2*valor_precisao*valor_revocacao / (valor_precisao + valor_revocacao)\n",
        "\n",
        "  precisao[rotulos[i]] = valor_precisao\n",
        "  revocacao[rotulos[i]]    = valor_revocacao\n",
        "  f1_score[rotulos[i]]  = valor_f1_score\n",
        "\n",
        "print(\"precisao: \", precisao)\n",
        "\n",
        "print(\"recall: \", revocacao)\n",
        "\n",
        "print(\"F1 score: \", f1_score)"
      ]
    },
    {
      "cell_type": "markdown",
      "id": "7q25Zwgg_XXP",
      "metadata": {
        "id": "7q25Zwgg_XXP"
      },
      "source": [
        "**Pergunta 5:** Usando as suas próprias palavras, faça uma análise da matriz de confusão resultante, assim como das métricas de precisão, revocação, e F1 score obtidas.\n",
        "\n",
        "**Resposta:** A matriz de confusão apresenta os seguintes dados:\n",
        "- Verdadeiros Positivos (TP, y=1): 61\n",
        "- Verdadeiros Negativos (TN, y=0): 94\n",
        "- Falsos Positivos (FP): 11\n",
        "- Falsos Negativos (FN): 13\n",
        "\n",
        "As métricas *precisão*, *revocação* e *F1 Score*, calculados a partir desta matriz de confusão são mostrados na tabela a seguir:\n",
        "\n",
        "| Métrica      | Classe 0 (y=0) | Classe 1 (y=1) |\n",
        "|--------------|----------------|----------------|\n",
        "| Precisão     | 0.8785         | 0.8472         |\n",
        "| Recall       | 0.8952         | 0.8243         |\n",
        "| F1 Score     | 0.8868         | 0.8356         |\n",
        "\n",
        "O modelo apresenta bom equilíbrio entre precisão e recall para a classe positiva ($y=1$), com precisão de 84,7%, *recall* de 82,4% e *F1 Score* de 83,6%, identificando a maioria dos casos positivos, embora haja 13 falsos negativos. Para a classe negativa ($y=0$), o modelo interpreta bem os casos negativos, embora ainda cometa 11 falsos positivos, com precisão de 87,8%, *recall* de 89,5% e *F1 Score* de 88,7%.\n",
        "\n",
        "Os valores das métricas (precisão, *recall* e *F1 Score*) são próximos entre si e têm valores maiores que 80% para ambas as classes, o que indica equilíbrio e bom desempenho, mas há espaço para melhorias, especialmente na redução de falsos negativos e falsos positivos. A diminuição de *TP* e *TN* aumentaria, sistematicamente, as métricas supra citadas. A geração de dados sintéticos seria uma alternatica para a diminuição dos falsos positivos e negativos: com o aumento de dados consegue-se equilibrar melhor a significância entre as classes e obter um treinamento melhor por simplesmente ter mais dados disponíveis. Contudo, deve-se evitar impor tendências tais como, em alguns casos, o algoritmo *SMOTE* introduz. "
      ]
    },
    {
      "cell_type": "markdown",
      "id": "d7b12e72",
      "metadata": {
        "id": "d7b12e72",
        "pycharm": {
          "name": "#%% md\n"
        }
      },
      "source": [
        "# Fim"
      ]
    }
  ],
  "metadata": {
    "colab": {
      "provenance": []
    },
    "dl_toc_settings": {
      "rndtag": "15456"
    },
    "kernelspec": {
      "display_name": "venv",
      "language": "python",
      "name": "python3"
    },
    "language_info": {
      "codemirror_mode": {
        "name": "ipython",
        "version": 3
      },
      "file_extension": ".py",
      "mimetype": "text/x-python",
      "name": "python",
      "nbconvert_exporter": "python",
      "pygments_lexer": "ipython3",
      "version": "3.10.12"
    },
    "toc-autonumbering": false
  },
  "nbformat": 4,
  "nbformat_minor": 5
}
