{
 "cells": [
  {
   "cell_type": "markdown",
   "metadata": {},
   "source": [
    "### Atividade da Aula\n",
    "\n",
    "- **Aluno:** Augusto Mathias Adams\n",
    "\n",
    "#### Parte 1\n",
    "\n",
    "**Rode todo o código. Responda às questões nele contidas e complete-o, se necessário**\n",
    "\n",
    "Feito.\n",
    "\n",
    "#### Parte 2\n",
    "1. **Interprete adequadamente os resultados obtidos pela matriz de confusão.**\n",
    "\n",
    "A Matriz de confusão apresenta como verdadeiros negativos ($TN$) o valor de 56519, para falsos positivos ($FP$) o valor de 367, para falsos negativos ($FN$) o valor de 8 e para verdadeiros positivos ($TP$) o valor de 67. Com estes dados é possível calcular outros parâmetros, tais como acurácia, precisão, recall e Escore F1, cujos valores são:\n",
    "\n",
    "- $Acc = 100 \\times \\frac{TN + TP}{TN + TP + FN + FP} = 100 \\times \\frac{56519 + 67}{56519 + 67 + 8 + 367} = 99,34\\%$\n",
    "- Para $y=1$:\n",
    "    - $P(\\%) = 100 \\times  \\frac{TP}{TP+FP} = 100 \\times \\frac{67}{67 + 367} = 15,44\\%$\n",
    "    - $R(\\%) = 100 \\times \\frac{TP}{TP+FN} = 100 \\times \\frac{67}{67+8} = 89,33\\%$\n",
    "    - $F1(\\%) = 100 \\times \\left (2 \\frac{P \\times R}{P + R} \\right ) = 200 \\times \\left (\\frac{0,1544\\times 0,8933}{0,1544 + 0,8933} \\right) = 26,32\\%$\n",
    "- Para $y=0$:\n",
    "    - $P(\\%) = 100 \\times  \\frac{TN}{TN+FN} = 100 \\times \\frac{56519}{56519 + 8} = 99,99\\%$\n",
    "    - $R(\\%) = 100 \\times \\frac{TN}{TN+FP} = 100 \\times \\frac{56519}{56519+367} = 99,35\\%$\n",
    "    - $F1(\\%) = 100 \\times \\left (2 \\frac{P \\times R}{P + R} \\right ) = 200 \\times \\left (\\frac{0,9999 \\times 0,9935}{0,9990 + 0,9935} \\right) = 99,67\\%$\n",
    "\n",
    "O modelo apresenta alta acurácia ($98,34\\%$), mas essa métrica é enganosa devido ao desbalanceamento das classes, com a classe $y=0$ predominando. Para a classe $y=1$, o *recall* é elevado ($89,33\\%$), indicando que o modelo identifica a maior parte das instâncias verdadeiras dessa classe; entretanto, a precisão é baixa ($15,44\\%$), refletindo um número elevado de falsos positivos. Consequentemente, o F1-Score é baixo ($26,32\\%$), demonstrando dificuldade em equilibrar precisão e *recall* para essa classe.\n",
    "\n",
    "Conclusão: o modelo está claramente desbalanceado e, embira seus parâmetros de desempenho (com ênfase no *recall* para $y=1$) permitam que o classificador treinado seja utilizado em tela, a quantidade de falsos positivo ainda é apreciável a ponto de negar muitas transações legítimas, embora seja eficaz em negar transações falsas.\n",
    "\n",
    "2. **Descreva qual procedimento você poderia adotar visando reduzir a quantidade de falsos positivos gerados pelo modelo.**\n",
    "\n",
    "Extraído do livro *Aurelien, Geron: Hands-On Machine Learning with Scikit-Learn, Keras, and TensorFlow THIRD EDITION:* *\"O **aumento de dados** aumenta artificialmente o tamanho do conjunto de treinamento ao gerar muitas variantes realistas de cada instância de treinamento. Isso reduz o **overfitting**, tornando-se uma técnica de regularização. As instâncias geradas devem ser o mais realistas possível: idealmente, dado uma imagem do conjunto de treinamento aumentado, um ser humano não deveria ser capaz de dizer se ela foi aumentada ou não. Simplesmente adicionar ruído branco não ajuda; as modificações devem ser aprendíveis (ruído branco não é).\"*\n",
    "\n",
    "...\n",
    "\n",
    "*\"O aumento de dados também é útil quando você possui um conjunto de dados desbalanceado: ele pode ser utilizado para gerar mais amostras das classes menos frequentes. Essa abordagem é chamada de técnica de superamostragem sintética de minorias, ou simplesmente **SMOTE** (**Synthetic Minority Oversampling Technique**).\"*\n",
    "\n",
    "A técnica **SMOTE** $^1$ consiste em criar dados sintéticos da classe minoritária até que o conjunto de treinamento alcance o equilíbrio, ou seja, 50\\% para cada classe, no caso de classificação binária. O **SMOTE** utiliza a distância euclidiana entre os vizinhos mais próximos da classe minoritária. Os dados sintéticos são gerados ao multiplicar essa distância por um número aleatório no intervalo $[0,1]$.\n",
    "\n",
    "Os passos do **SMOTE** podem ser descritos da seguinte forma:\n",
    "\n",
    "\n",
    "- Selecionar uma instância aleatória da classe minoritária.\n",
    "- Utilizar o algoritmo **KNN** para identificar os $k$ vizinhos mais próximos dessa instância. Essa etapa define a direção em que as novas observações sintéticas serão geradas.\n",
    "- Calcular a distância euclidiana entre a instância selecionada e seus $k$-vizinhos.\n",
    "- Multiplicar a distância obtida por um número aleatório no intervalo $[0,1]$, gerando uma nova instância sintética. Essa etapa introduz variação e diversidade no processo de geração.\n",
    "\n",
    "O processo é repetido pelo menos $N$ vezes, onde $N$ corresponde ao número total de observações da classe minoritária, até atingir o balanceamento desejado.\n",
    "\n",
    "A fórmula para gerar os dados sintéticos é apresentada abaixo:\n",
    "\n",
    "$s_i = x_i + \\lambda \\cdot (x_{zi} - x_i)$\n",
    "\n",
    "Onde:  \n",
    "\n",
    "- $s_i$: nova instância sintética gerada;\n",
    "- $x_i$: instância original da classe minoritária;\n",
    "- $x_{zi}$: instância vizinha de $x_i$, selecionada aleatoriamente;\n",
    "- $\\lambda$: número aleatório entre $0$ e $1$ que controla a variação introduzida na nova instância sintética (relacionado ao passo 4).\n",
    "\n",
    "$^1$ *Extraído de [Técnicas para Dados Desbalanceados (SMOTE e ADASYN)](https://medium.com/@balemar/t%C3%A9cnicas-para-dados-desbalanceados-smote-e-adasyn-f891f9c46c6e)*\n"
   ]
  },
  {
   "cell_type": "markdown",
   "metadata": {
    "id": "cnRpPyBvdrWW"
   },
   "source": [
    "# Classificação desbalanceada\n",
    "\n",
    "Esse notebook é uma tradução e adaptação do exemplo apresentado [no site do Keras](https://keras.io/examples/structured_data/imbalanced_classification/), criado por [fchollet](https://twitter.com/fchollet), e que utiliza essa base de dados do Kaggle [aqui](https://www.kaggle.com/datasets/mlg-ulb/creditcardfraud).\n"
   ]
  },
  {
   "cell_type": "markdown",
   "metadata": {
    "id": "tjLuu-SCdrWc"
   },
   "source": [
    "## Introdução\n",
    "\n",
    "Este exemplo mostra como treinar um modelo classificador quando os dados são altamente desbalanceados. O objetivo é treinar uma rede neural capaz de identificar operações financeiras fraudulentas."
   ]
  },
  {
   "cell_type": "markdown",
   "metadata": {
    "id": "GuR9jf80drWd"
   },
   "source": [
    "## Vetorizando os dados CSV"
   ]
  },
  {
   "cell_type": "code",
   "execution_count": 18,
   "metadata": {
    "colab": {
     "base_uri": "https://localhost:8080/"
    },
    "id": "C2Anb2pbdrWe",
    "outputId": "4d506ce1-5171-4563-b67d-ed5376d21bf9"
   },
   "outputs": [
    {
     "name": "stdout",
     "output_type": "stream",
     "text": [
      "CABECALHO: \"Time\",\"V1\",\"V2\",\"V3\",\"V4\",\"V5\",\"V6\",\"V7\",\"V8\",\"V9\",\"V10\",\"V11\",\"V12\",\"V13\",\"V14\",\"V15\",\"V16\",\"V17\",\"V18\",\"V19\",\"V20\",\"V21\",\"V22\",\"V23\",\"V24\",\"V25\",\"V26\",\"V27\",\"V28\",\"Amount\",\"Class\"\n",
      "CARACTERISTICAS: [0.0, -1.3598071336738, -0.0727811733098497, 2.53634673796914, 1.37815522427443, -0.338320769942518, 0.462387777762292, 0.239598554061257, 0.0986979012610507, 0.363786969611213, 0.0907941719789316, -0.551599533260813, -0.617800855762348, -0.991389847235408, -0.311169353699879, 1.46817697209427, -0.470400525259478, 0.207971241929242, 0.0257905801985591, 0.403992960255733, 0.251412098239705, -0.018306777944153, 0.277837575558899, -0.110473910188767, 0.0669280749146731, 0.128539358273528, -0.189114843888824, 0.133558376740387, -0.0210530534538215, 149.62]\n",
      "caracteristicas.shape: (284807, 30)\n",
      "valores_alvo.shape: (284807, 1)\n"
     ]
    }
   ],
   "source": [
    "import csv\n",
    "import numpy as np\n",
    "\n",
    "# Os dados reais contendo operações financeiras pode ser obtido em https://www.kaggle.com/mlg-ulb/creditcardfraud/\n",
    "fname = \"creditcard.csv\"\n",
    "\n",
    "todas_caracteristicas = []\n",
    "todos_rotulos         = []\n",
    "with open(fname) as f:\n",
    "    for i, line in enumerate(f):\n",
    "        if i == 0: # primeira linha da tabela: cabeçalho\n",
    "            print(\"CABECALHO:\", line.strip())\n",
    "            continue  # pula cabeçalho da tabela\n",
    "        fields = line.strip().split(\",\")\n",
    "        todas_caracteristicas.append([float(v.replace('\"', \"\")) for v in fields[:-1]])\n",
    "        todos_rotulos.append([int(fields[-1].replace('\"', \"\"))])\n",
    "        if i == 1:\n",
    "            print(\"CARACTERISTICAS:\", todas_caracteristicas[-1])\n",
    "\n",
    "caracteristicas = np.array(todas_caracteristicas, dtype=\"float32\")\n",
    "valores_alvo    = np.array(todos_rotulos, dtype=\"uint8\")\n",
    "print(\"caracteristicas.shape:\", caracteristicas.shape)\n",
    "print(\"valores_alvo.shape:\", valores_alvo.shape)"
   ]
  },
  {
   "cell_type": "markdown",
   "metadata": {
    "id": "0rNISdjydrWg"
   },
   "source": [
    "## Preparando os dados"
   ]
  },
  {
   "cell_type": "code",
   "execution_count": 19,
   "metadata": {
    "colab": {
     "base_uri": "https://localhost:8080/"
    },
    "id": "E1DVxQk1drWh",
    "outputId": "e2645e02-6b7a-49b7-cdad-edaf24025efd"
   },
   "outputs": [
    {
     "name": "stdout",
     "output_type": "stream",
     "text": [
      "Número de amostras de treinamento: 227846\n",
      "Número de amostras de validação: 56961\n"
     ]
    }
   ],
   "source": [
    "num_amostras_validacao = int(len(caracteristicas) * 0.2) # deixaremos 20% dos dados para validação\n",
    "X_trein = caracteristicas[:-num_amostras_validacao]\n",
    "y_trein = valores_alvo[:-num_amostras_validacao]\n",
    "X_val   = caracteristicas[-num_amostras_validacao:]\n",
    "y_val   = valores_alvo[-num_amostras_validacao:]\n",
    "\n",
    "print(\"Número de amostras de treinamento:\", len(X_trein))\n",
    "print(\"Número de amostras de validação:\", len(X_val))"
   ]
  },
  {
   "cell_type": "markdown",
   "metadata": {
    "id": "CnDCSu7zdrWh"
   },
   "source": [
    "## Análise do desbalanceamento nos rótulos e atribuição de pesos diferentes"
   ]
  },
  {
   "cell_type": "code",
   "execution_count": 20,
   "metadata": {
    "colab": {
     "base_uri": "https://localhost:8080/"
    },
    "id": "nMiBYrdGdrWi",
    "outputId": "a9178213-1259-41f4-a96e-ce42e67f10a6"
   },
   "outputs": [
    {
     "name": "stdout",
     "output_type": "stream",
     "text": [
      "[227429    417]\n",
      "Número de amostras positivas no conjunto de dados: 417 (0.18% do total)\n",
      "Peso para classe 0: 4.396976638863118e-06\n",
      "Peso para classe 1: 0.002398081534772182\n"
     ]
    }
   ],
   "source": [
    "qtdade_amostras_cada_classe = np.bincount(y_trein[:, 0]) # função do numpy que conta a quantidade de amostras para cada classe\n",
    "print(qtdade_amostras_cada_classe)\n",
    "print(\n",
    "    \"Número de amostras positivas no conjunto de dados: {} ({:.2f}% do total)\".format(\n",
    "        qtdade_amostras_cada_classe[1], 100 * float(qtdade_amostras_cada_classe[1]) / len(y_trein)\n",
    "    )\n",
    ")\n",
    "\n",
    "peso_classe_0 = 1.0 / qtdade_amostras_cada_classe[0]\n",
    "peso_classe_1 = 1.0 / qtdade_amostras_cada_classe[1]\n",
    "\n",
    "print(\"Peso para classe 0:\", peso_classe_0 )\n",
    "print(\"Peso para classe 1:\", peso_classe_1 )\n",
    "\n",
    "pesos_classes = {0: peso_classe_0, 1: peso_classe_1} # cria um dicionário com o peso de cada classe"
   ]
  },
  {
   "cell_type": "markdown",
   "metadata": {
    "id": "e-E-Ra1wdrWj"
   },
   "source": [
    "## Normalizando os dados usando média e desvio padrão"
   ]
  },
  {
   "cell_type": "code",
   "execution_count": 21,
   "metadata": {
    "id": "sdg1DpuhdrWj"
   },
   "outputs": [],
   "source": [
    "media    = np.mean(X_trein, axis=0)\n",
    "X_trein -= media\n",
    "X_val   -= media\n",
    "desvio   = np.std(X_trein, axis=0)\n",
    "X_trein /= desvio\n",
    "X_val   /= desvio"
   ]
  },
  {
   "cell_type": "markdown",
   "metadata": {
    "id": "C8BviQ2GdrWj"
   },
   "source": [
    "## Criando uma rede neural para classificação binária"
   ]
  },
  {
   "cell_type": "code",
   "execution_count": 22,
   "metadata": {
    "colab": {
     "base_uri": "https://localhost:8080/",
     "height": 272
    },
    "id": "l6E71AoqdrWk",
    "outputId": "bd31afee-3bb1-40a4-9030-bfdabca09bcb"
   },
   "outputs": [
    {
     "name": "stdout",
     "output_type": "stream",
     "text": [
      "Model: \"sequential_2\"\n",
      "_________________________________________________________________\n",
      " Layer (type)                Output Shape              Param #   \n",
      "=================================================================\n",
      " dense_8 (Dense)             (None, 256)               7936      \n",
      "                                                                 \n",
      " dense_9 (Dense)             (None, 256)               65792     \n",
      "                                                                 \n",
      " dense_10 (Dense)            (None, 256)               65792     \n",
      "                                                                 \n",
      " dense_11 (Dense)            (None, 1)                 257       \n",
      "                                                                 \n",
      "=================================================================\n",
      "Total params: 139777 (546.00 KB)\n",
      "Trainable params: 139777 (546.00 KB)\n",
      "Non-trainable params: 0 (0.00 Byte)\n",
      "_________________________________________________________________\n"
     ]
    }
   ],
   "source": [
    "import keras\n",
    "\n",
    "modelo = keras.Sequential(\n",
    "    [\n",
    "        keras.Input(shape=X_trein.shape[1:]),\n",
    "        keras.layers.Dense(256, activation=\"relu\"),\n",
    "        keras.layers.Dense(256, activation=\"relu\"),\n",
    "        keras.layers.Dense(256, activation=\"relu\"),\n",
    "        keras.layers.Dense(1, activation=\"sigmoid\"),\n",
    "    ]\n",
    ")\n",
    "modelo.summary()"
   ]
  },
  {
   "cell_type": "markdown",
   "metadata": {
    "id": "_z_1oXeEdrWk"
   },
   "source": [
    "## Treinando o modelo levando em conta o desbalaceamento entre as classes"
   ]
  },
  {
   "cell_type": "code",
   "execution_count": 23,
   "metadata": {
    "colab": {
     "base_uri": "https://localhost:8080/"
    },
    "id": "f1c8WPjm4OAP",
    "outputId": "291e2c8f-78c1-4d86-c432-7f4035c4d7e7"
   },
   "outputs": [
    {
     "name": "stdout",
     "output_type": "stream",
     "text": [
      "Epoch 1/30\n",
      "112/112 [==============================] - 2s 13ms/step - loss: 2.2583e-06\n",
      "Epoch 2/30\n",
      "112/112 [==============================] - 1s 12ms/step - loss: 1.2229e-06\n",
      "Epoch 3/30\n",
      "112/112 [==============================] - 1s 11ms/step - loss: 1.1453e-06\n",
      "Epoch 4/30\n",
      "112/112 [==============================] - 1s 11ms/step - loss: 9.7157e-07\n",
      "Epoch 5/30\n",
      "112/112 [==============================] - 1s 11ms/step - loss: 7.7742e-07\n",
      "Epoch 6/30\n",
      "112/112 [==============================] - 1s 11ms/step - loss: 7.3016e-07\n",
      "Epoch 7/30\n",
      "112/112 [==============================] - 1s 11ms/step - loss: 7.5873e-07\n",
      "Epoch 8/30\n",
      "112/112 [==============================] - 1s 11ms/step - loss: 5.4273e-07\n",
      "Epoch 9/30\n",
      "112/112 [==============================] - 1s 11ms/step - loss: 4.2068e-07\n",
      "Epoch 10/30\n",
      "112/112 [==============================] - 1s 11ms/step - loss: 4.7198e-07\n",
      "Epoch 11/30\n",
      "112/112 [==============================] - 1s 11ms/step - loss: 5.4075e-07\n",
      "Epoch 12/30\n",
      "112/112 [==============================] - 1s 11ms/step - loss: 4.8139e-07\n",
      "Epoch 13/30\n",
      "112/112 [==============================] - 1s 11ms/step - loss: 6.3438e-07\n",
      "Epoch 14/30\n",
      "112/112 [==============================] - 1s 11ms/step - loss: 5.4715e-07\n",
      "Epoch 15/30\n",
      "112/112 [==============================] - 1s 11ms/step - loss: 9.1039e-07\n",
      "Epoch 16/30\n",
      "112/112 [==============================] - 1s 11ms/step - loss: 4.6721e-07\n",
      "Epoch 17/30\n",
      "112/112 [==============================] - 1s 11ms/step - loss: 5.1043e-07\n",
      "Epoch 18/30\n",
      "112/112 [==============================] - 1s 11ms/step - loss: 5.9479e-07\n",
      "Epoch 19/30\n",
      "112/112 [==============================] - 1s 11ms/step - loss: 5.6243e-07\n",
      "Epoch 20/30\n",
      "112/112 [==============================] - 1s 11ms/step - loss: 2.3260e-07\n",
      "Epoch 21/30\n",
      "112/112 [==============================] - 1s 11ms/step - loss: 1.7722e-07\n",
      "Epoch 22/30\n",
      "112/112 [==============================] - 1s 11ms/step - loss: 1.8981e-07\n",
      "Epoch 23/30\n",
      "112/112 [==============================] - 1s 11ms/step - loss: 2.5133e-07\n",
      "Epoch 24/30\n",
      "112/112 [==============================] - 1s 11ms/step - loss: 4.8037e-07\n",
      "Epoch 25/30\n",
      "112/112 [==============================] - 1s 11ms/step - loss: 2.4646e-07\n",
      "Epoch 26/30\n",
      "112/112 [==============================] - 1s 11ms/step - loss: 2.1787e-07\n",
      "Epoch 27/30\n",
      "112/112 [==============================] - 1s 11ms/step - loss: 3.1751e-07\n",
      "Epoch 28/30\n",
      "112/112 [==============================] - 1s 11ms/step - loss: 1.4496e-07\n",
      "Epoch 29/30\n",
      "112/112 [==============================] - 1s 11ms/step - loss: 1.0190e-07\n",
      "Epoch 30/30\n",
      "112/112 [==============================] - 1s 11ms/step - loss: 1.5310e-07\n"
     ]
    },
    {
     "data": {
      "text/plain": [
       "<keras.src.callbacks.History at 0x7a8a24c35420>"
      ]
     },
     "execution_count": 23,
     "metadata": {},
     "output_type": "execute_result"
    }
   ],
   "source": [
    "modelo.compile(optimizer=keras.optimizers.Adam(1e-2), loss=\"binary_crossentropy\")\n",
    "\n",
    "modelo.fit(\n",
    "    X_trein,\n",
    "    y_trein,\n",
    "    batch_size=2048, # define a quantidade de amostras de cada \"mini-lote\" (se comentarmos essa linha, será usado o padrão de 32 amostras por mini-lote)\n",
    "    epochs=30,\n",
    "    class_weight=pesos_classes,\n",
    ")"
   ]
  },
  {
   "cell_type": "code",
   "execution_count": 24,
   "metadata": {
    "colab": {
     "base_uri": "https://localhost:8080/"
    },
    "id": "roLEfruXwSv0",
    "outputId": "02f7de3e-8a7c-4b77-c3f5-82bd928aa13d"
   },
   "outputs": [
    {
     "name": "stdout",
     "output_type": "stream",
     "text": [
      "1781/1781 [==============================] - 1s 647us/step\n",
      "(56961, 1)\n",
      "[[1.2672909e-22]\n",
      " [1.7450701e-12]\n",
      " [2.5073790e-17]\n",
      " [8.1769556e-02]\n",
      " [2.3324413e-02]\n",
      " [4.5613596e-10]\n",
      " [1.8405376e-06]\n",
      " [4.0953861e-18]\n",
      " [5.4951406e-06]\n",
      " [1.0901637e-20]]\n"
     ]
    }
   ],
   "source": [
    "probabilidades = modelo.predict(X_val) # cálculo da saída da rede neural para as transações de validação\n",
    "\n",
    "print(probabilidades.shape) # verificando o shape das probabilidades\n",
    "\n",
    "print(probabilidades[:10]) # verificando as probabilidades das primeiras 10 amostras de validação"
   ]
  },
  {
   "cell_type": "code",
   "execution_count": 25,
   "metadata": {
    "colab": {
     "base_uri": "https://localhost:8080/"
    },
    "id": "uMThrh-3ws1z",
    "outputId": "91e010ea-a881-4f3c-de08-faf8ce910ffe"
   },
   "outputs": [
    {
     "name": "stdout",
     "output_type": "stream",
     "text": [
      "(56961, 1)\n",
      "[[0]\n",
      " [0]\n",
      " [0]\n",
      " [0]\n",
      " [0]\n",
      " [0]\n",
      " [0]\n",
      " [0]\n",
      " [0]\n",
      " [0]]\n"
     ]
    }
   ],
   "source": [
    "y_val_est = (probabilidades >= 0.5).astype(int)\n",
    "\n",
    "print(y_val_est.shape)\n",
    "print(y_val_est[:10]) # mostrado a classe prevista para as primeiras 1 amostras de validação"
   ]
  },
  {
   "cell_type": "markdown",
   "metadata": {
    "id": "onyoWo6BpBOn"
   },
   "source": [
    "## Plotando matriz de confusão para os dados de validação"
   ]
  },
  {
   "cell_type": "code",
   "execution_count": 26,
   "metadata": {
    "colab": {
     "base_uri": "https://localhost:8080/",
     "height": 449
    },
    "id": "RQOnlKEU6ofH",
    "outputId": "a8c800b4-d13f-4a2b-af32-5d221e75e204"
   },
   "outputs": [
    {
     "data": {
      "image/png": "[encoded data removed]",
      "text/plain": [
       "<Figure size 432x288 with 2 Axes>"
      ]
     },
     "metadata": {
      "needs_background": "light"
     },
     "output_type": "display_data"
    }
   ],
   "source": [
    "import matplotlib.pyplot as plt\n",
    "from sklearn.metrics import confusion_matrix, ConfusionMatrixDisplay\n",
    "cm = confusion_matrix(y_val, y_val_est) # cm = confusion matrix = matriz de confusão\n",
    "disp = ConfusionMatrixDisplay(confusion_matrix=cm)\n",
    "disp.plot()\n",
    "\n",
    "plt.show()\n"
   ]
  },
  {
   "cell_type": "markdown",
   "metadata": {
    "id": "oGeOqgM_drWl"
   },
   "source": [
    "A partir da matriz de confusão, gerada para as transações de validação, podemos perceber que (os valores abaixo podem variar ligeiramente devido à inicialização aleatória dos pesos da rede neural):\n",
    "\n",
    "- 56961 transações de validação foram avalidadas pela rede neural\n",
    "- 66 transações foram corretamente identificadas como fraudulentas\n",
    "- 8 transações fraudulentas não foram detectadas\n",
    "- Infelizmente, 441 transações não fraudulentas foram incorretamente classificadas como fraudulentas.\n"
   ]
  },
  {
   "cell_type": "code",
   "execution_count": 27,
   "metadata": {
    "colab": {
     "base_uri": "https://localhost:8080/"
    },
    "id": "bnbDHPc9y9II",
    "outputId": "e5092edb-2ad7-4820-dbc2-1e7497e1c25d"
   },
   "outputs": [
    {
     "name": "stdout",
     "output_type": "stream",
     "text": [
      "precisao:  {'y=0': 0.9998584747111999, 'y=1': 0.1543778801843318}\n",
      "recall:  {'y=0': 0.9935485005097915, 'y=1': 0.8933333333333333}\n",
      "F1 score:  {'y=0': 0.9966935007450646, 'y=1': 0.2632612966601179}\n"
     ]
    }
   ],
   "source": [
    "# calculando precisão, recall e f1 score\n",
    "\n",
    "rotulos = [\"y=0\",\"y=1\"]\n",
    "\n",
    "tp        = np.diag(cm) # Diagonal represents true positives\n",
    "precisao  = dict()\n",
    "revocacao = dict()\n",
    "f1_score  = dict()\n",
    "\n",
    "for i in range(len(rotulos)):\n",
    "  col = cm[:, i]\n",
    "  fp = np.sum(col) - tp[i] # Sum of column minus true positive is false negative\n",
    "\n",
    "  row = cm[i, :]\n",
    "  fn = np.sum(row) - tp[i] # Sum of row minus true positive, is false negative\n",
    "\n",
    "  valor_precisao  = tp[i] / (tp[i] + fp)\n",
    "  valor_revocacao = tp[i] / (tp[i] + fn)\n",
    "  valor_f1_score  = 2*valor_precisao*valor_revocacao / (valor_precisao + valor_revocacao)\n",
    "\n",
    "  precisao[rotulos[i]] = valor_precisao\n",
    "  revocacao[rotulos[i]]    = valor_revocacao\n",
    "  f1_score[rotulos[i]]  = valor_f1_score\n",
    "\n",
    "print(\"precisao: \", precisao)\n",
    "\n",
    "print(\"recall: \", revocacao)\n",
    "\n",
    "print(\"F1 score: \", f1_score)"
   ]
  },
  {
   "cell_type": "markdown",
   "metadata": {
    "id": "pXrAj0DO3Czw"
   },
   "source": [
    "Note que existe um valor de precisão, revocação e f1 score para cada classe. Nos nossos slides, tais valores foram calculados tomando-se a classe $y=1$ como referência. Entretanto, nada impede que essas 3 métricas sejam calculadas tomando-se a classe $y=0$ como referência. Imagine, por exemplo, se tivéssemos usado o rótulo $y=0$ para operações fraudulentas, e $y=1$ para operações não fraudulentas. Nesse caso, faria mais sentido observar tais métricas tomando-se o $y=0$ como referência.\n",
    "\n",
    "\n",
    "Nos valores calculados observamos que, tomando os valores referentes à classe $y=1$ como referência (operações fraudulentas), o valor de precisão é relativamente baixo (mesma conclusão a qual já havíamos chegado nos nossos slides). Apesar disso, observando a matriz de confusão nós notamos que trata-se de um bom modelo para a aplicação em tela."
   ]
  },
  {
   "cell_type": "markdown",
   "metadata": {
    "id": "8J1h9l4SCxe2"
   },
   "source": [
    "## Parabéns\n",
    "\n",
    "Parabéns, você criou uma rede neural capaz de identificar operações financeiras fraudulentas."
   ]
  }
 ],
 "metadata": {
  "accelerator": "GPU",
  "colab": {
   "provenance": [],
   "toc_visible": true
  },
  "kernelspec": {
   "display_name": "Python 3",
   "language": "python",
   "name": "python3"
  },
  "language_info": {
   "codemirror_mode": {
    "name": "ipython",
    "version": 3
   },
   "file_extension": ".py",
   "mimetype": "text/x-python",
   "name": "python",
   "nbconvert_exporter": "python",
   "pygments_lexer": "ipython3",
   "version": "3.10.12"
  }
 },
 "nbformat": 4,
 "nbformat_minor": 0
}
