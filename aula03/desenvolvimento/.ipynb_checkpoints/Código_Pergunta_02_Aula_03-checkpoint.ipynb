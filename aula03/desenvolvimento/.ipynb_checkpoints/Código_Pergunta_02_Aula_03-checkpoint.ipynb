{
 "cells": [
  {
   "cell_type": "markdown",
   "id": "b40d93f1",
   "metadata": {
    "id": "b40d93f1",
    "pycharm": {
     "name": "#%% md\n"
    }
   },
   "source": [
    "## Objetivo\n",
    "\n",
    "- Aprender a implementar o modelo $f_{w,b} (x)$ para regressão linear com uma variável"
   ]
  },
  {
   "cell_type": "markdown",
   "id": "40a2fd65",
   "metadata": {
    "id": "40a2fd65",
    "pycharm": {
     "name": "#%% md\n"
    }
   },
   "source": [
    "# Representação do modelo"
   ]
  },
  {
   "cell_type": "markdown",
   "id": "8a4a7d49",
   "metadata": {
    "id": "8a4a7d49",
    "pycharm": {
     "name": "#%% md\n"
    }
   },
   "source": [
    "## Ferramentas\n",
    "\n",
    "Nesse código, você usará:\n",
    "- NumPy, uma biblioteca popular para cálculos matriciais, etc\n",
    "- Matplotlib, uma biblioteca popular para gerar figuras com dados"
   ]
  },
  {
   "cell_type": "code",
   "execution_count": null,
   "id": "e34b0245",
   "metadata": {
    "id": "e34b0245",
    "pycharm": {
     "name": "#%%\n"
    }
   },
   "outputs": [],
   "source": [
    "import numpy as np\n",
    "import matplotlib.pyplot as plt"
   ]
  },
  {
   "cell_type": "markdown",
   "id": "c0c96408-3dcf-42fe-b471-1888cb83f9e6",
   "metadata": {
    "id": "5daf9ebe",
    "pycharm": {
     "name": "#%% md\n"
    }
   },
   "source": [
    "# Definição do Problema\n",
    "\n",
    "Nesse código, você usará um exemplo de motivação baseado na previsão de tensão sobre um resistor.\n",
    "\n",
    "Usaremos para isso um conjunto de dados com apenas 2 amostras - um valor de corrente de 0.2 A que resultou numa tensão de 21 V e um valor de 4.5 A que resultou numa tensão de 430 V. Essas duas amostras de dados contituem nosso *conjunto de dados de treinamento*.\n",
    "\n",
    "| Corrente (A)     | Tensão (V) |\n",
    "| -------------------| ------------------------ |\n",
    "| 0.2               | 21                      |\n",
    "| 4.5               | 430                      |\n",
    "\n",
    "Queremos ajustar um modelo de regressão linear a partir desses dois pontos, para que seja possível então estimar a tensão sobre o resistor para outros valores de corrente.\n"
   ]
  },
  {
   "cell_type": "markdown",
   "id": "672e1429",
   "metadata": {
    "id": "672e1429",
    "pycharm": {
     "name": "#%% md\n"
    }
   },
   "source": [
    "Rodar a célula de código abaixo para criar as variáveis `x_train` e `y_train`. Os dados são armazenados em NumPy arrays de uma dimensão."
   ]
  },
  {
   "cell_type": "code",
   "execution_count": null,
   "id": "82453c24",
   "metadata": {
    "colab": {
     "base_uri": "https://localhost:8080/"
    },
    "id": "82453c24",
    "outputId": "782b0b7f-a6de-40e1-e8fa-b6fd1e16e8a1",
    "pycharm": {
     "name": "#%%\n"
    }
   },
   "outputs": [],
   "source": [
    "# x_train é a variável de entrada (corrente em Àmperes)\n",
    "# y_train é a variável alvo (tensão em Volts)\n",
    "x_train = np.array([0.2, 4.5])\n",
    "y_train = np.array([21.0, 430.0])\n",
    "print(f\"x_train = {x_train}\")\n",
    "print(f\"y_train = {y_train}\")"
   ]
  },
  {
   "cell_type": "markdown",
   "id": "f9da5a79",
   "metadata": {
    "id": "f9da5a79",
    "pycharm": {
     "name": "#%% md\n"
    }
   },
   "source": [
    "### Número de amostras de treinamento `m`\n",
    "\n",
    "Usaremos `m` para denotar o número de amostras de treinamento. Numpy arrays têm o parâmetro `.shape`. Nesse contexto, `x_train.shape` retorna uma tupla com uma entrada para cada dimensão. `x_train.shape[0]` é o comprimento da array (primeiro elemento presente na tupla), conforme mostrado abaixo."
   ]
  },
  {
   "cell_type": "code",
   "execution_count": null,
   "id": "a2edbe21",
   "metadata": {
    "colab": {
     "base_uri": "https://localhost:8080/"
    },
    "id": "a2edbe21",
    "outputId": "0fb456a1-bafc-4b7b-a29a-2bcb6c61c705",
    "pycharm": {
     "name": "#%%\n"
    }
   },
   "outputs": [],
   "source": [
    "# m é o número de amostras de treinamento\n",
    "print(f\"x_train.shape: {x_train.shape}\")\n",
    "m = x_train.shape[0]\n",
    "print(f\"O número de amostras de treinamento é: {m}\")"
   ]
  },
  {
   "cell_type": "markdown",
   "id": "d673a22b",
   "metadata": {
    "id": "d673a22b",
    "pycharm": {
     "name": "#%% md\n"
    }
   },
   "source": [
    "É possível também utilizar o função em Python `len()`, conforme abaixo."
   ]
  },
  {
   "cell_type": "code",
   "execution_count": null,
   "id": "edeb666a",
   "metadata": {
    "colab": {
     "base_uri": "https://localhost:8080/"
    },
    "id": "edeb666a",
    "outputId": "b8c5ba70-ca67-4549-8975-99cb94634036",
    "pycharm": {
     "name": "#%%\n"
    }
   },
   "outputs": [],
   "source": [
    "m = len(x_train)\n",
    "print(f\"O número de amostras de treinamento é: {m}\")"
   ]
  },
  {
   "cell_type": "markdown",
   "id": "f2546b57",
   "metadata": {
    "id": "f2546b57",
    "pycharm": {
     "name": "#%% md\n"
    }
   },
   "source": [
    "### Amostra de treinamento `x_i, y_i`\n",
    "\n",
    "Usaremos (x$^{(i)}$, y$^{(i)}$) para denotar a $i-$ésima amostra de treinamento. Uma vez que a Linguagem Python tem 0 como índice inicial, (x$^{(0)}$, y$^{(0)}$) é (0.2, 21.0) e (x$^{(1)}$, y$^{(1)}$) é (4.5, 430.0).\n",
    "\n",
    "A i-ésima posição da Numpy array `x_train` é acessada utilizando o comando `x_train[i]`, onde `i` denota a posição desejada.\n",
    "\n",
    "\n",
    "Veja o código abaixo."
   ]
  },
  {
   "cell_type": "code",
   "execution_count": null,
   "id": "3e5655af",
   "metadata": {
    "colab": {
     "base_uri": "https://localhost:8080/"
    },
    "id": "3e5655af",
    "outputId": "8f1b215a-de50-4126-b8c1-4a43c4967702",
    "pycharm": {
     "name": "#%%\n"
    }
   },
   "outputs": [],
   "source": [
    "i = 0 # Mude esse valor para 1 para ver (x^1, y^1)\n",
    "\n",
    "x_i = x_train[i]\n",
    "y_i = y_train[i]\n",
    "print(f\"(x^({i}), y^({i})) = ({x_i}, {y_i})\")\n",
    "i = 1\n",
    "x_i = x_train[i]\n",
    "y_i = y_train[i]\n",
    "print(f\"(x^({i}), y^({i})) = ({x_i}, {y_i})\")"
   ]
  },
  {
   "cell_type": "markdown",
   "id": "5b3cc549",
   "metadata": {
    "id": "5b3cc549",
    "pycharm": {
     "name": "#%% md\n"
    }
   },
   "source": [
    "### Plotando os dados (gerando uma figura que mostra os dados)"
   ]
  },
  {
   "cell_type": "markdown",
   "id": "cc8b13c7",
   "metadata": {
    "id": "cc8b13c7",
    "pycharm": {
     "name": "#%% md\n"
    }
   },
   "source": [
    "Você pode plotar os dois pontos usando a função `scatter()` presente na biblioteca `matplotlib`, conforme mostrado abaixo.\n",
    "- Os argumentos `marker` e `c` mostram os pontos como 'x' vermelhos (o padrão são pontos azuis).\n",
    "\n",
    "Você pode usar outras funções da biblioteca `matplotlib` para definir o título e os rótulos dos eixos"
   ]
  },
  {
   "cell_type": "code",
   "execution_count": null,
   "id": "254e10fd",
   "metadata": {
    "colab": {
     "base_uri": "https://localhost:8080/",
     "height": 474
    },
    "id": "254e10fd",
    "outputId": "371fed2e-dcce-4521-e427-76b40e3f1c35",
    "pycharm": {
     "name": "#%%\n"
    }
   },
   "outputs": [],
   "source": [
    "plt.figure(figsize=(10, 8))\n",
    "# Plotando os pontos dos dados\n",
    "plt.scatter(x_train, y_train, marker='x', c='r')\n",
    "# Ajustando o título:\n",
    "plt.title(\"Tensões sobre um resistor\")\n",
    "# Ajustando o rótulo do eixo y\n",
    "plt.ylabel('Tensão (em Volts)')\n",
    "# Ajustando o rótulo do eixo x\n",
    "plt.xlabel('Corrente (em Àmperes)')\n",
    "plt.show()"
   ]
  },
  {
   "cell_type": "markdown",
   "id": "9f2fd255",
   "metadata": {
    "id": "9f2fd255",
    "pycharm": {
     "name": "#%% md\n"
    }
   },
   "source": [
    "## Implementando um modelo\n",
    "\n",
    "O modelo de função para regressão linear (que é a função que faz o mapeamento de `x` para `y`) é representado por\n",
    "\n",
    "$$ f_{w,b}(x^{(i)}) = wx^{(i)} + b \\tag{1}$$\n",
    "\n",
    "A fórmula acima nos mostra a equação da reta: diferentes valores para $w$ e $b$ levam a diferentes retas. <br/> <br/> <br/> <br/> <br/>\n",
    "\n",
    "\n",
    "Vamos tentar ganhar mais intuição usando o código abaixo. Vamos começar com $w = 0$ e $b = 100$.\n",
    "\n",
    "**OBS: Você pode retornar à célula abaixo para ajustar diferentes valores para os parâmetros w e b do modelo**"
   ]
  },
  {
   "cell_type": "code",
   "execution_count": null,
   "id": "f2e9d602",
   "metadata": {
    "colab": {
     "base_uri": "https://localhost:8080/"
    },
    "id": "f2e9d602",
    "outputId": "19af1983-a0dd-49d0-bb36-bb2a6d26473e",
    "pycharm": {
     "name": "#%%\n"
    }
   },
   "outputs": [],
   "source": [
    "w = 0\n",
    "b = 100\n",
    "print(f\"w: {w}\")\n",
    "print(f\"b: {b}\")"
   ]
  },
  {
   "cell_type": "markdown",
   "id": "f183098d",
   "metadata": {
    "id": "f183098d",
    "pycharm": {
     "name": "#%% md\n"
    }
   },
   "source": [
    "Agora, vamos computar o valor $f_{w,b}(x^{(i)})$ para os dois dados que temos. Você pode explicitamente escrever:\n",
    "\n",
    "para $x^{(0)}$, `f_wb = w * x[0] + b`\n",
    "\n",
    "para $x^{(1)}$, `f_wb = w * x[1] + b`\n",
    "\n",
    "Para uma grande quantidade de dados, isso pode ser demasiadamente repetitivo. Ao invés disso, você pode usar um loop do tipo `for` conforme mostrado na função `calcula_saida_do_modelo` abaixo.\n",
    "> **OBS**: O argumento `(ndarray (m,))` descreve uma Numpy array de n dimensões da forma (m,). `(scalar)` descreve um argumento sem dimensões, apenas uma magnitude.  \n",
    "> **OBS**: `np.zero(n)` retorna uma numpy array de 1 dimensão com $n$ valores   \n"
   ]
  },
  {
   "cell_type": "code",
   "execution_count": null,
   "id": "d3f7b759",
   "metadata": {
    "id": "d3f7b759",
    "pycharm": {
     "name": "#%%\n"
    }
   },
   "outputs": [],
   "source": [
    "def calcula_saida_do_modelo(x, w, b):\n",
    "    \"\"\"\n",
    "    Calcula a previsão para um modelo na forma de reta\n",
    "    Argumentos da função:\n",
    "      x (ndarray (m,)): Conjunto de dados com m amostras\n",
    "      w,b (escalar)   : Parâmetros do modelo\n",
    "    Retorna\n",
    "      y (ndarray (m,)): Previsão de saída\n",
    "    \"\"\"\n",
    "    m = x.shape[0]\n",
    "    f_wb = np.zeros(m)\n",
    "    for i in range(m): # estrutura 'for' em Python\n",
    "        f_wb[i] = w * x[i] + b\n",
    "\n",
    "    return f_wb"
   ]
  },
  {
   "cell_type": "markdown",
   "id": "a27a359f",
   "metadata": {
    "id": "a27a359f",
    "pycharm": {
     "name": "#%% md\n"
    }
   },
   "source": [
    "Agora vamos chamar a função `calcula_saida_do_modelo` e plotar o resultado"
   ]
  },
  {
   "cell_type": "code",
   "execution_count": null,
   "id": "4d72a1a5",
   "metadata": {
    "colab": {
     "base_uri": "https://localhost:8080/",
     "height": 474
    },
    "id": "4d72a1a5",
    "outputId": "b1c06a08-bbc4-4482-817f-d70292503ec4",
    "pycharm": {
     "name": "#%%\n"
    }
   },
   "outputs": [],
   "source": [
    "f_wb_calculado = calcula_saida_do_modelo(x_train, w, b)\n",
    "\n",
    "plt.figure(figsize=(10, 8))\n",
    "# Plotando a previsão feita pelo modelo\n",
    "plt.plot(x_train, f_wb_calculado, c='b',label='Nosso modelo')\n",
    "\n",
    "# Plotando os dados medidos\n",
    "plt.scatter(x_train, y_train, marker='x', c='r',label='Valores dos dados')\n",
    "\n",
    "# Definindo o título\n",
    "plt.title(\"Tensões sobre um resistor\")\n",
    "# Ajustando o rótulo do eixo y\n",
    "plt.ylabel('Tensão (em Volts)')\n",
    "# Ajustando o rótulo do eixo x\n",
    "plt.xlabel('Corrente (em Àmperes)')\n",
    "plt.legend()\n",
    "plt.show()\n"
   ]
  },
  {
   "cell_type": "markdown",
   "id": "a55cf9c6-cdc1-441d-993f-216b4398e439",
   "metadata": {},
   "source": [
    "# Questão proposta: Simulação de como se comportaria um resistor de 50 $\\Omega$ - considerando que $b$ esteja presente e numericamente igual ao exemplo anterior"
   ]
  },
  {
   "cell_type": "code",
   "execution_count": null,
   "id": "70f599b3-991a-4c8b-941f-e456dcfea2f2",
   "metadata": {},
   "outputs": [],
   "source": [
    "# obtendo o valor de b utilizado no exercício anterior - vou apenas mudar o w para 50 \n",
    "w = (y_train[1]  - y_train[0]) / (x_train[1] - x_train[0])\n",
    "b = y_train[0] - w * x_train[0]\n",
    "x_train = np.array([1, 2, 3, 4])\n",
    "y_train = 50 * x_train + b # valor de w alterado, b continua o mesmo"
   ]
  },
  {
   "cell_type": "markdown",
   "id": "53a7fdc3-4279-48c4-b144-e613e09f051c",
   "metadata": {},
   "source": [
    "## Levantamento dos parâmetros: Método dos mínimos quadrados"
   ]
  },
  {
   "cell_type": "code",
   "execution_count": null,
   "id": "33e14d9a-ab21-49e7-9de8-2b58a5362bb0",
   "metadata": {},
   "outputs": [],
   "source": [
    "# método dos mínimos quadrados do jeito mambembe\n",
    "def mmq(x, y):\n",
    "    # garantindo que x e y sejam arrays numpy\n",
    "    x = np.array(x)\n",
    "    y = np.array(y)\n",
    "    # regressão linear simples\n",
    "    n = len(x)\n",
    "    sumX = np.sum(x)\n",
    "    sumX2 = np.sum(x ** 2)\n",
    "    sumY = np.sum(y)\n",
    "    sumXY = np.sum(x * y)\n",
    "    sumXsumY = sumX * sumY\n",
    "    w = (n * sumXY - sumXsumY) / (n * sumX2 - sumX ** 2)\n",
    "    b = (sumY - w * sumX) / n\n",
    "    return w, b\n"
   ]
  },
  {
   "cell_type": "markdown",
   "id": "a7d9bee4-37af-49dc-9a3a-5b6ca051f02e",
   "metadata": {},
   "source": [
    "## Obtendo os parâmetros do modelo"
   ]
  },
  {
   "cell_type": "code",
   "execution_count": null,
   "id": "940af909-0319-426b-8cad-8765daa23e5d",
   "metadata": {},
   "outputs": [],
   "source": [
    "w, b = mmq(x_train, y_train)\n",
    "print(f\"w: {w:.04f}\")\n",
    "print(f\"b: {b:.04f}\")"
   ]
  },
  {
   "cell_type": "markdown",
   "id": "53e5d809-8259-4787-af1d-ac46992dffab",
   "metadata": {},
   "source": [
    "## Teste: Computando os valores da reta resultante com os valores de $w$ e $b$"
   ]
  },
  {
   "cell_type": "code",
   "execution_count": null,
   "id": "b96ed72e-4edf-4b83-874f-e08c2b530e88",
   "metadata": {},
   "outputs": [],
   "source": [
    "f_wb_calculado = calcula_saida_do_modelo(x_train, w, b,)\n",
    "\n",
    "plt.figure(figsize=(10, 8))\n",
    "# Plotando a previsão feita pelo modelo\n",
    "plt.plot(x_train, f_wb_calculado, c='b',label='Nosso Modelo Otimizado')\n",
    "\n",
    "# Plotando os dados medidos\n",
    "plt.scatter(x_train, y_train, marker='x', c='r',label='Valores dos dados')\n",
    "\n",
    "# Definindo o título\n",
    "plt.title(\"Tensões sobre um resistor\")\n",
    "# Ajustando o rótulo do eixo y\n",
    "plt.ylabel('Tensão (em Volts)')\n",
    "# Ajustando o rótulo do eixo x\n",
    "plt.xlabel('Corrente (em Àmperes)')\n",
    "plt.legend()\n",
    "plt.show()"
   ]
  },
  {
   "cell_type": "markdown",
   "id": "c69929c0-4fb4-483f-9f5c-788550b24bf7",
   "metadata": {},
   "source": [
    "## Previsão fora da faixa"
   ]
  },
  {
   "cell_type": "code",
   "execution_count": null,
   "id": "80c0a166-0419-417b-8ce6-d456d94f67e1",
   "metadata": {},
   "outputs": [],
   "source": [
    "x_i = 7\n",
    "tensao_para_7_amperes = w * x_i + b\n",
    "\n",
    "print(f\"{tensao_para_7_amperes:.02f} Volts\")"
   ]
  },
  {
   "cell_type": "markdown",
   "id": "19b7087d-35b2-449e-ad1d-bd345dea4f5b",
   "metadata": {},
   "source": [
    "## Desafio: O método dos mínimos quadrados funciona com ruído aditivo gaussiano ou branco?"
   ]
  },
  {
   "cell_type": "code",
   "execution_count": null,
   "id": "1c398957-b472-46e8-8a37-3ca0e57fcfe0",
   "metadata": {},
   "outputs": [],
   "source": [
    "# gerando uma quantidade suficiente de pontos\n",
    "n_points = 1000\n",
    "x_min = 0\n",
    "x_max = 10\n",
    "sigma = 10\n",
    "mu = 0.0\n",
    "x_train = np.linspace(x_min, x_max, n_points)\n",
    "delta = np.sqrt(12 * sigma ** 2) / 2\n",
    "# adicionando ruído\n",
    "\n",
    "# instanciando um gerador aleatório - agradeço à numpy por isto\n",
    "rng = np.random.default_rng(12345)\n",
    "\n",
    "# gerando as sequências\n",
    "y_wn = w * x_train + b + rng.uniform(-delta, delta, n_points)\n",
    "y_awgn = w * x_train + b + rng.normal(mu, sigma, n_points)\n"
   ]
  },
  {
   "cell_type": "markdown",
   "id": "28229779-fde1-4cfb-91fb-ecd3d4712da7",
   "metadata": {},
   "source": [
    "## Obtendo os parâmetros do modelo - ruido branco e ruído gaussiano "
   ]
  },
  {
   "cell_type": "code",
   "execution_count": null,
   "id": "2fa0f47d-4779-413b-9ee0-0e392cd1f47e",
   "metadata": {},
   "outputs": [],
   "source": [
    "w_wn, b_wn = mmq(x_train, y_wn)\n",
    "print(f\"w_wn: {w_wn:.04f}\")\n",
    "print(f\"b_wn: {b_wn:.04f}\")\n",
    "w_awgn, b_awgn = mmq(x_train, y_awgn)\n",
    "print(f\"w_awgn: {w_awgn:.04f}\")\n",
    "print(f\"b_awgn: {b_awgn:.04f}\")"
   ]
  },
  {
   "cell_type": "markdown",
   "id": "fc34a22e-64d4-4a96-9c9d-c6c6284c7753",
   "metadata": {},
   "source": [
    "## Verificando o quão boa foi a regressão através do método dos mínimos quadrados"
   ]
  },
  {
   "cell_type": "code",
   "execution_count": null,
   "id": "b99790b5-3dcc-47f2-84aa-8e9f49317988",
   "metadata": {},
   "outputs": [],
   "source": [
    "# função de cálculo do parâmetro de determinação (R ** 2)\n",
    "\n",
    "def calcular_r2(Y, Y_pred):\n",
    "    # Soma Total dos Quadrados (SST)\n",
    "    SST = np.sum((Y - np.mean(Y))**2)\n",
    "    \n",
    "    # Soma dos Quadrados dos Resíduos (SSR)\n",
    "    SSR = np.sum((Y - Y_pred)**2)\n",
    "    \n",
    "    # Coeficiente de Determinação (R^2)\n",
    "    r2 = 1 - (SSR / SST)\n",
    "    \n",
    "    return r2\n",
    "\n",
    "# obtendo os dados preditos\n",
    "y_wn_pred = w_wn * x_train + b_wn\n",
    "y_awgn_pred = w_awgn * x_train + b_awgn\n",
    "r2_wn = calcular_r2(y_wn, y_wn_pred)\n",
    "r2_awgn = calcular_r2(y_awgn, y_awgn_pred)\n",
    "print(f\"r2_wn: {r2_wn:.04f}\")\n",
    "print(f\"r2_awgn: {r2_awgn:.04f}\")"
   ]
  },
  {
   "cell_type": "markdown",
   "id": "883d3d47-d2ce-4af8-af01-4f9e8566bfcd",
   "metadata": {},
   "source": [
    "Embora não seja perfeito, o MMQ conseguiu performar bem: capturou cerca de 99.5% do comportamento esperado em ambos os casos"
   ]
  },
  {
   "cell_type": "markdown",
   "id": "896dcaf3-31f6-4a80-b74b-906bea24f8cf",
   "metadata": {},
   "source": [
    "## Teste: Computando os valores da reta resultante com os valores de $w$ e $b$"
   ]
  },
  {
   "cell_type": "code",
   "execution_count": null,
   "id": "a1fc6f58-4892-40d0-98f8-76d8a6b1328c",
   "metadata": {},
   "outputs": [],
   "source": [
    "f_wb_calculado = calcula_saida_do_modelo(x_train, w, b,)\n",
    "\n",
    "# Criar uma figura e uma grade de subplots\n",
    "fig, axs = plt.subplots(3, 1, figsize=(10, 24))  # 3 linhas, 1 coluna\n",
    "\n",
    "# Plotando a previsão feita pelo modelo\n",
    "axs[0].plot(x_train, f_wb_calculado, c='b',label='Valores Originais')\n",
    "\n",
    "axs[0].set_title(\"Tensões sobre um resistor (Sem ruido)\")\n",
    "axs[0].set_xlabel('Tensão (em Volts)')\n",
    "axs[0].set_ylabel('Corrente (em Àmperes)')\n",
    "axs[0].legend()\n",
    "axs[0].grid(True)\n",
    "\n",
    "# Segundo gráfico\n",
    "# Plotando a previsão feita pelo modelo\n",
    "axs[1].plot(x_train, y_wn_pred, c='b',label='Nosso Modelo Otimizado')\n",
    "\n",
    "# Plotando os dados medidos\n",
    "axs[1].scatter(x_train, y_wn, marker='x', c='r',label='Valores dos dados com ruído')\n",
    "\n",
    "axs[1].set_title(\"Tensões sobre um resistor (Ruído Branco)\")\n",
    "axs[1].set_xlabel('Tensão (em Volts)')\n",
    "axs[1].set_ylabel('Corrente (em Àmperes)')\n",
    "axs[1].legend()\n",
    "axs[1].grid(True)\n",
    "\n",
    "# Terceiro gráfico\n",
    "# Plotando a previsão feita pelo modelo\n",
    "axs[2].plot(x_train, y_awgn_pred, c='b',label='Nosso Modelo Otimizado')\n",
    "\n",
    "# Plotando os dados medidos\n",
    "axs[2].scatter(x_train, y_awgn, marker='x', c='r',label='Valores dos dados com ruido')\n",
    "\n",
    "axs[2].set_title(\"Tensões sobre um resistor (Ruído Gaussiano)\")\n",
    "axs[2].set_xlabel('Tensão (em Volts)')\n",
    "axs[2].set_ylabel('Corrente (em Àmperes)')\n",
    "axs[2].legend()\n",
    "axs[2].grid(True)\n",
    "\n",
    "# Ajustar layout\n",
    "plt.tight_layout()\n",
    "\n",
    "# Mostrar a figura\n",
    "plt.show()"
   ]
  },
  {
   "cell_type": "code",
   "execution_count": null,
   "id": "ace2a95f-3fc3-463c-90b5-9f7e19ae7871",
   "metadata": {},
   "outputs": [],
   "source": []
  }
 ],
 "metadata": {
  "colab": {
   "provenance": []
  },
  "kernelspec": {
   "display_name": "Python 3 (ipykernel)",
   "language": "python",
   "name": "python3"
  },
  "language_info": {
   "codemirror_mode": {
    "name": "ipython",
    "version": 3
   },
   "file_extension": ".py",
   "mimetype": "text/x-python",
   "name": "python",
   "nbconvert_exporter": "python",
   "pygments_lexer": "ipython3",
   "version": "3.10.12"
  },
  "toc-autonumbering": false
 },
 "nbformat": 4,
 "nbformat_minor": 5
}
