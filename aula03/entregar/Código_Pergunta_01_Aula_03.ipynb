{
 "cells": [
  {
   "cell_type": "markdown",
   "id": "b40d93f1",
   "metadata": {
    "id": "b40d93f1",
    "pycharm": {
     "name": "#%% md\n"
    }
   },
   "source": [
    "## Objetivo\n",
    "\n",
    "- Aprender a implementar o modelo $f_{w,b} (x)$ para regressão linear com uma variável"
   ]
  },
  {
   "cell_type": "markdown",
   "id": "40a2fd65",
   "metadata": {
    "id": "40a2fd65",
    "pycharm": {
     "name": "#%% md\n"
    }
   },
   "source": [
    "# Representação do modelo"
   ]
  },
  {
   "cell_type": "markdown",
   "id": "8a4a7d49",
   "metadata": {
    "id": "8a4a7d49",
    "pycharm": {
     "name": "#%% md\n"
    }
   },
   "source": [
    "## Ferramentas\n",
    "\n",
    "Nesse código, você usará:\n",
    "- NumPy, uma biblioteca popular para cálculos matriciais, etc\n",
    "- Matplotlib, uma biblioteca popular para gerar figuras com dados"
   ]
  },
  {
   "cell_type": "code",
   "execution_count": 14,
   "id": "e34b0245",
   "metadata": {
    "id": "e34b0245",
    "pycharm": {
     "name": "#%%\n"
    }
   },
   "outputs": [],
   "source": [
    "import numpy as np\n",
    "import matplotlib.pyplot as plt"
   ]
  },
  {
   "cell_type": "markdown",
   "id": "c0c96408-3dcf-42fe-b471-1888cb83f9e6",
   "metadata": {
    "id": "5daf9ebe",
    "pycharm": {
     "name": "#%% md\n"
    }
   },
   "source": [
    "# Definição do Problema\n",
    "\n",
    "Nesse código, você usará um exemplo de motivação baseado na previsão de tensão sobre um resistor.\n",
    "\n",
    "Usaremos para isso um conjunto de dados com apenas 2 amostras - um valor de corrente de 0.2 A que resultou numa tensão de 21 V e um valor de 4.5 A que resultou numa tensão de 430 V. Essas duas amostras de dados contituem nosso *conjunto de dados de treinamento*.\n",
    "\n",
    "| Corrente (A)     | Tensão (V) |\n",
    "| -------------------| ------------------------ |\n",
    "| 0.2               | 21                      |\n",
    "| 4.5               | 430                      |\n",
    "\n",
    "Queremos ajustar um modelo de regressão linear a partir desses dois pontos, para que seja possível então estimar a tensão sobre o resistor para outros valores de corrente.\n"
   ]
  },
  {
   "cell_type": "markdown",
   "id": "672e1429",
   "metadata": {
    "id": "672e1429",
    "pycharm": {
     "name": "#%% md\n"
    }
   },
   "source": [
    "Rodar a célula de código abaixo para criar as variáveis `x_train` e `y_train`. Os dados são armazenados em NumPy arrays de uma dimensão."
   ]
  },
  {
   "cell_type": "code",
   "execution_count": 15,
   "id": "82453c24",
   "metadata": {
    "colab": {
     "base_uri": "https://localhost:8080/"
    },
    "id": "82453c24",
    "outputId": "782b0b7f-a6de-40e1-e8fa-b6fd1e16e8a1",
    "pycharm": {
     "name": "#%%\n"
    }
   },
   "outputs": [
    {
     "name": "stdout",
     "output_type": "stream",
     "text": [
      "x_train = [0.2 4.5]\n",
      "y_train = [ 21. 430.]\n"
     ]
    }
   ],
   "source": [
    "# x_train é a variável de entrada (corrente em Àmperes)\n",
    "# y_train é a variável alvo (tensão em Volts)\n",
    "x_train = np.array([0.2, 4.5])\n",
    "y_train = np.array([21.0, 430.0])\n",
    "print(f\"x_train = {x_train}\")\n",
    "print(f\"y_train = {y_train}\")"
   ]
  },
  {
   "cell_type": "markdown",
   "id": "f9da5a79",
   "metadata": {
    "id": "f9da5a79",
    "pycharm": {
     "name": "#%% md\n"
    }
   },
   "source": [
    "### Número de amostras de treinamento `m`\n",
    "\n",
    "Usaremos `m` para denotar o número de amostras de treinamento. Numpy arrays têm o parâmetro `.shape`. Nesse contexto, `x_train.shape` retorna uma tupla com uma entrada para cada dimensão. `x_train.shape[0]` é o comprimento da array (primeiro elemento presente na tupla), conforme mostrado abaixo."
   ]
  },
  {
   "cell_type": "code",
   "execution_count": 16,
   "id": "a2edbe21",
   "metadata": {
    "colab": {
     "base_uri": "https://localhost:8080/"
    },
    "id": "a2edbe21",
    "outputId": "0fb456a1-bafc-4b7b-a29a-2bcb6c61c705",
    "pycharm": {
     "name": "#%%\n"
    }
   },
   "outputs": [
    {
     "name": "stdout",
     "output_type": "stream",
     "text": [
      "x_train.shape: (2,)\n",
      "O número de amostras de treinamento é: 2\n"
     ]
    }
   ],
   "source": [
    "# m é o número de amostras de treinamento\n",
    "print(f\"x_train.shape: {x_train.shape}\")\n",
    "m = x_train.shape[0]\n",
    "print(f\"O número de amostras de treinamento é: {m}\")"
   ]
  },
  {
   "cell_type": "markdown",
   "id": "d673a22b",
   "metadata": {
    "id": "d673a22b",
    "pycharm": {
     "name": "#%% md\n"
    }
   },
   "source": [
    "É possível também utilizar o função em Python `len()`, conforme abaixo."
   ]
  },
  {
   "cell_type": "code",
   "execution_count": 17,
   "id": "edeb666a",
   "metadata": {
    "colab": {
     "base_uri": "https://localhost:8080/"
    },
    "id": "edeb666a",
    "outputId": "b8c5ba70-ca67-4549-8975-99cb94634036",
    "pycharm": {
     "name": "#%%\n"
    }
   },
   "outputs": [
    {
     "name": "stdout",
     "output_type": "stream",
     "text": [
      "O número de amostras de treinamento é: 2\n"
     ]
    }
   ],
   "source": [
    "m = len(x_train)\n",
    "print(f\"O número de amostras de treinamento é: {m}\")"
   ]
  },
  {
   "cell_type": "markdown",
   "id": "f2546b57",
   "metadata": {
    "id": "f2546b57",
    "pycharm": {
     "name": "#%% md\n"
    }
   },
   "source": [
    "### Amostra de treinamento `x_i, y_i`\n",
    "\n",
    "Usaremos (x$^{(i)}$, y$^{(i)}$) para denotar a $i-$ésima amostra de treinamento. Uma vez que a Linguagem Python tem 0 como índice inicial, (x$^{(0)}$, y$^{(0)}$) é (0.2, 21.0) e (x$^{(1)}$, y$^{(1)}$) é (4.5, 430.0).\n",
    "\n",
    "A i-ésima posição da Numpy array `x_train` é acessada utilizando o comando `x_train[i]`, onde `i` denota a posição desejada.\n",
    "\n",
    "\n",
    "Veja o código abaixo."
   ]
  },
  {
   "cell_type": "code",
   "execution_count": 18,
   "id": "3e5655af",
   "metadata": {
    "colab": {
     "base_uri": "https://localhost:8080/"
    },
    "id": "3e5655af",
    "outputId": "8f1b215a-de50-4126-b8c1-4a43c4967702",
    "pycharm": {
     "name": "#%%\n"
    }
   },
   "outputs": [
    {
     "name": "stdout",
     "output_type": "stream",
     "text": [
      "(x^(0), y^(0)) = (0.2, 21.0)\n",
      "(x^(1), y^(1)) = (4.5, 430.0)\n"
     ]
    }
   ],
   "source": [
    "i = 0 # Mude esse valor para 1 para ver (x^1, y^1)\n",
    "\n",
    "x_i = x_train[i]\n",
    "y_i = y_train[i]\n",
    "print(f\"(x^({i}), y^({i})) = ({x_i}, {y_i})\")\n",
    "i = 1\n",
    "x_i = x_train[i]\n",
    "y_i = y_train[i]\n",
    "print(f\"(x^({i}), y^({i})) = ({x_i}, {y_i})\")"
   ]
  },
  {
   "cell_type": "markdown",
   "id": "5b3cc549",
   "metadata": {
    "id": "5b3cc549",
    "pycharm": {
     "name": "#%% md\n"
    }
   },
   "source": [
    "### Plotando os dados (gerando uma figura que mostra os dados)"
   ]
  },
  {
   "cell_type": "markdown",
   "id": "cc8b13c7",
   "metadata": {
    "id": "cc8b13c7",
    "pycharm": {
     "name": "#%% md\n"
    }
   },
   "source": [
    "Você pode plotar os dois pontos usando a função `scatter()` presente na biblioteca `matplotlib`, conforme mostrado abaixo.\n",
    "- Os argumentos `marker` e `c` mostram os pontos como 'x' vermelhos (o padrão são pontos azuis).\n",
    "\n",
    "Você pode usar outras funções da biblioteca `matplotlib` para definir o título e os rótulos dos eixos"
   ]
  },
  {
   "cell_type": "code",
   "execution_count": 19,
   "id": "254e10fd",
   "metadata": {
    "colab": {
     "base_uri": "https://localhost:8080/",
     "height": 474
    },
    "id": "254e10fd",
    "outputId": "371fed2e-dcce-4521-e427-76b40e3f1c35",
    "pycharm": {
     "name": "#%%\n"
    }
   },
   "outputs": [
    {
     "data": {
      "image/png": "[encoded data removed]",
      "text/plain": [
       "<Figure size 720x576 with 1 Axes>"
      ]
     },
     "metadata": {
      "needs_background": "light"
     },
     "output_type": "display_data"
    }
   ],
   "source": [
    "# Plotando os pontos dos dados\n",
    "plt.figure(figsize=(10, 8))\n",
    "plt.scatter(x_train, y_train, marker='x', c='r')\n",
    "# Ajustando o título:\n",
    "plt.title(\"Tensões sobre um resistor\")\n",
    "# Ajustando o rótulo do eixo y\n",
    "plt.ylabel('Tensão (em Volts)')\n",
    "# Ajustando o rótulo do eixo x\n",
    "plt.xlabel('Corrente (em Àmperes)')\n",
    "plt.show()"
   ]
  },
  {
   "cell_type": "markdown",
   "id": "9f2fd255",
   "metadata": {
    "id": "9f2fd255",
    "pycharm": {
     "name": "#%% md\n"
    }
   },
   "source": [
    "## Implementando um modelo\n",
    "\n",
    "O modelo de função para regressão linear (que é a função que faz o mapeamento de `x` para `y`) é representado por\n",
    "\n",
    "$$ f_{w,b}(x^{(i)}) = wx^{(i)} + b \\tag{1}$$\n",
    "\n",
    "A fórmula acima nos mostra a equação da reta: diferentes valores para $w$ e $b$ levam a diferentes retas. <br/> <br/> <br/> <br/> <br/>\n",
    "\n",
    "\n",
    "Vamos tentar ganhar mais intuição usando o código abaixo. Vamos começar com $w = 0$ e $b = 100$.\n",
    "\n",
    "**OBS: Você pode retornar à célula abaixo para ajustar diferentes valores para os parâmetros w e b do modelo**"
   ]
  },
  {
   "cell_type": "code",
   "execution_count": 20,
   "id": "f2e9d602",
   "metadata": {
    "colab": {
     "base_uri": "https://localhost:8080/"
    },
    "id": "f2e9d602",
    "outputId": "19af1983-a0dd-49d0-bb36-bb2a6d26473e",
    "pycharm": {
     "name": "#%%\n"
    }
   },
   "outputs": [
    {
     "name": "stdout",
     "output_type": "stream",
     "text": [
      "w: 0\n",
      "b: 100\n"
     ]
    }
   ],
   "source": [
    "w = 0\n",
    "b = 100\n",
    "print(f\"w: {w}\")\n",
    "print(f\"b: {b}\")"
   ]
  },
  {
   "cell_type": "markdown",
   "id": "f183098d",
   "metadata": {
    "id": "f183098d",
    "pycharm": {
     "name": "#%% md\n"
    }
   },
   "source": [
    "Agora, vamos computar o valor $f_{w,b}(x^{(i)})$ para os dois dados que temos. Você pode explicitamente escrever:\n",
    "\n",
    "para $x^{(0)}$, `f_wb = w * x[0] + b`\n",
    "\n",
    "para $x^{(1)}$, `f_wb = w * x[1] + b`\n",
    "\n",
    "Para uma grande quantidade de dados, isso pode ser demasiadamente repetitivo. Ao invés disso, você pode usar um loop do tipo `for` conforme mostrado na função `calcula_saida_do_modelo` abaixo.\n",
    "> **OBS**: O argumento `(ndarray (m,))` descreve uma Numpy array de n dimensões da forma (m,). `(scalar)` descreve um argumento sem dimensões, apenas uma magnitude.  \n",
    "> **OBS**: `np.zero(n)` retorna uma numpy array de 1 dimensão com $n$ valores   \n"
   ]
  },
  {
   "cell_type": "code",
   "execution_count": 21,
   "id": "d3f7b759",
   "metadata": {
    "id": "d3f7b759",
    "pycharm": {
     "name": "#%%\n"
    }
   },
   "outputs": [],
   "source": [
    "def calcula_saida_do_modelo(x, w, b):\n",
    "    \"\"\"\n",
    "    Calcula a previsão para um modelo na forma de reta\n",
    "    Argumentos da função:\n",
    "      x (ndarray (m,)): Conjunto de dados com m amostras\n",
    "      w,b (escalar)   : Parâmetros do modelo\n",
    "    Retorna\n",
    "      y (ndarray (m,)): Previsão de saída\n",
    "    \"\"\"\n",
    "    m = x.shape[0]\n",
    "    f_wb = np.zeros(m)\n",
    "    for i in range(m): # estrutura 'for' em Python\n",
    "        f_wb[i] = w * x[i] + b\n",
    "\n",
    "    return f_wb"
   ]
  },
  {
   "cell_type": "markdown",
   "id": "a27a359f",
   "metadata": {
    "id": "a27a359f",
    "pycharm": {
     "name": "#%% md\n"
    }
   },
   "source": [
    "Agora vamos chamar a função `calcula_saida_do_modelo` e plotar o resultado"
   ]
  },
  {
   "cell_type": "code",
   "execution_count": 22,
   "id": "4d72a1a5",
   "metadata": {
    "colab": {
     "base_uri": "https://localhost:8080/",
     "height": 474
    },
    "id": "4d72a1a5",
    "outputId": "b1c06a08-bbc4-4482-817f-d70292503ec4",
    "pycharm": {
     "name": "#%%\n"
    }
   },
   "outputs": [
    {
     "data": {
      "image/png": "[encoded data removed]",
      "text/plain": [
       "<Figure size 720x576 with 1 Axes>"
      ]
     },
     "metadata": {
      "needs_background": "light"
     },
     "output_type": "display_data"
    }
   ],
   "source": [
    "f_wb_calculado = calcula_saida_do_modelo(x_train, w, b,)\n",
    "\n",
    "plt.figure(figsize=(10, 8))\n",
    "# Plotando a previsão feita pelo modelo\n",
    "plt.plot(x_train, f_wb_calculado, c='b',label='Nosso modelo')\n",
    "\n",
    "# Plotando os dados medidos\n",
    "plt.scatter(x_train, y_train, marker='x', c='r',label='Valores dos dados')\n",
    "\n",
    "# Definindo o título\n",
    "plt.title(\"Tensões sobre um resistor\")\n",
    "# Ajustando o rótulo do eixo y\n",
    "plt.ylabel('Tensão (em Volts)')\n",
    "# Ajustando o rótulo do eixo x\n",
    "plt.xlabel('Corrente (em Àmperes)')\n",
    "plt.legend()\n",
    "plt.show()\n"
   ]
  },
  {
   "cell_type": "markdown",
   "id": "3ef91640",
   "metadata": {
    "id": "3ef91640",
    "pycharm": {
     "name": "#%% md\n"
    }
   },
   "source": [
    "Como você pode ver, definindo $w = 0$ e $b = 100$ *não* resulta numa reta que se ajusta bem aos nossos dados.\n",
    "\n",
    "### Desafio\n",
    "Tente diferentes valores para $w$ e $b$. Quais seriam os melhores valores para esse conjunto de dados?\n",
    "\n",
    "Qual seria uma possível interpretação física para o parâmetro $w$ nesse exemplo?\n"
   ]
  },
  {
   "cell_type": "markdown",
   "id": "cef27469",
   "metadata": {
    "id": "cef27469",
    "pycharm": {
     "name": "#%% md\n"
    }
   },
   "source": [
    "### Previsão\n",
    "\n",
    "Agora que temos um modelo, podemos usá-lo para fazer uma previsão para um valor diferente de corrente. Vamos estimar a tensão para uma corrente de 2 A.\n"
   ]
  },
  {
   "cell_type": "code",
   "execution_count": 23,
   "id": "c3fe4895",
   "metadata": {
    "colab": {
     "base_uri": "https://localhost:8080/"
    },
    "id": "c3fe4895",
    "outputId": "c0c1b499-b617-45d1-d2c8-a91582e67c46",
    "pycharm": {
     "name": "#%%\n"
    }
   },
   "outputs": [
    {
     "name": "stdout",
     "output_type": "stream",
     "text": [
      "200 Volts\n"
     ]
    }
   ],
   "source": [
    "w = 100\n",
    "b = 0\n",
    "x_i = 2\n",
    "tensao_para_2_amperes = w * x_i + b\n",
    "\n",
    "print(f\"{tensao_para_2_amperes:.0f} Volts\")"
   ]
  },
  {
   "cell_type": "markdown",
   "id": "31c85d61",
   "metadata": {
    "id": "31c85d61",
    "pycharm": {
     "name": "#%% md\n"
    }
   },
   "source": [
    "# Parabéns!\n",
    "\n",
    "Com este código, você aprendeu:\n",
    " - Que a Regressão Linear constrói um modelo que estabelece uma relação entre as características de entrada e a variável alvo de saída\n",
    "     - No exemplo, a característica de entrada era a corrente e a variável alvo era a tensão sobre o resistor\n",
    "     - Para uma simples regressão linear, o modelo tem dois parâmetros $w$ e $b$ cujos valores são ajustados usando um conjunto de dados de treinamento.\n",
    "     - Uma vez que os parâmetros do modelo foram determinados, o modelo pode ser usado para fazer previsões (estimativas) para novos dados que ainda não haviam sido utilizados anteriormente"
   ]
  },
  {
   "cell_type": "markdown",
   "id": "5e77fa1d-69cb-47e4-abe5-5c72b51de605",
   "metadata": {
    "id": "jrFTSn3DW8yn"
   },
   "source": [
    "## Resposta ao Desafio\n",
    "### Tente diferentes valores para $w$ e $b$. Quais seriam os melhores valores para esse conjunto de dados?"
   ]
  },
  {
   "cell_type": "markdown",
   "id": "ad72cb13-3262-4137-a809-7ff4776fbe11",
   "metadata": {},
   "source": [
    "- são só 2 pontos, vamos tentar regredir montando um sistema de equações\n",
    "- sabe-se que:\n",
    "    - $f(x_0)$ = $y_0$\n",
    "    - $f(x_1)$ = $y_1$\n",
    "- Assumindo regressão linear, tem-se:\n",
    "$$\n",
    "\\begin{cases}\n",
    "w \\cdot x_0 + b = y_0 \\\\\n",
    "w \\cdot x_1 + b = y_1\n",
    "\\end{cases}\n",
    "$$\n",
    "\n",
    "Resolvendo para $w$ e $b$, obtém-se:\n",
    "\n",
    "$$\n",
    "\\begin{cases}\n",
    "w = \\frac{y_1 - y_0}{x_1 - x_0} \\\\\n",
    "b = y_0 - w \\cdot x_0\n",
    "\\end{cases}\n",
    "$$\n",
    "\n",
    "Ou ainda:\n",
    "\n",
    "$$\n",
    "\\begin{cases}\n",
    "w = \\frac{y_1 - y_0}{x_1 - x_0} \\\\\n",
    "b = y_1 - w \\cdot x_1\n",
    "\\end{cases}\n",
    "$$"
   ]
  },
  {
   "cell_type": "markdown",
   "id": "a498e0d5-a339-407e-aa18-1aeabe4c04e2",
   "metadata": {},
   "source": [
    "### Calculando os valores melhorados de $w$ e $b$"
   ]
  },
  {
   "cell_type": "code",
   "execution_count": 24,
   "id": "ea74cfb6-a173-44a7-8608-06fb3ac97895",
   "metadata": {},
   "outputs": [
    {
     "name": "stdout",
     "output_type": "stream",
     "text": [
      "w: 95.1163\n",
      "b: 1.9767\n",
      "b(alternativo): 1.9767\n"
     ]
    }
   ],
   "source": [
    "w = (y_train[1]  - y_train[0]) / (x_train[1] - x_train[0])\n",
    "b = y_train[0] - w * x_train[0]\n",
    "b_alt = y_train[1] - w * x_train[1]\n",
    "print(f\"w: {w:.04f}\")\n",
    "print(f\"b: {b:.04f}\")\n",
    "print(f\"b(alternativo): {b_alt:.04f}\")\n"
   ]
  },
  {
   "cell_type": "markdown",
   "id": "551abaeb-daa4-4d8d-8742-990b038fb1a3",
   "metadata": {},
   "source": [
    "### Computando os valores da reta resultante com os valores melhorados de $w$ e $b$"
   ]
  },
  {
   "cell_type": "code",
   "execution_count": 25,
   "id": "4b31b3fc-2614-4d4d-819f-53388b299cfe",
   "metadata": {},
   "outputs": [
    {
     "data": {
      "image/png": "[encoded data removed]",
      "text/plain": [
       "<Figure size 720x576 with 1 Axes>"
      ]
     },
     "metadata": {
      "needs_background": "light"
     },
     "output_type": "display_data"
    }
   ],
   "source": [
    "f_wb_calculado = calcula_saida_do_modelo(x_train, w, b,)\n",
    "\n",
    "plt.figure(figsize=(10, 8))\n",
    "# Plotando a previsão feita pelo modelo\n",
    "plt.plot(x_train, f_wb_calculado, c='b',label='Nosso Modelo Otimizado')\n",
    "\n",
    "# Plotando os dados medidos\n",
    "plt.scatter(x_train, y_train, marker='x', c='r',label='Valores dos dados')\n",
    "\n",
    "# Definindo o título\n",
    "plt.title(\"Tensões sobre um resistor\")\n",
    "# Ajustando o rótulo do eixo y\n",
    "plt.ylabel('Tensão (em Volts)')\n",
    "# Ajustando o rótulo do eixo x\n",
    "plt.xlabel('Corrente (em Àmperes)')\n",
    "plt.legend()\n",
    "plt.show()"
   ]
  },
  {
   "cell_type": "markdown",
   "id": "ed78832a-621f-4190-9e4c-636fd17b6907",
   "metadata": {},
   "source": [
    "### Previsão com o modelo melhorado"
   ]
  },
  {
   "cell_type": "code",
   "execution_count": 26,
   "id": "be4b0569-99de-4acf-bbeb-f6ac40ce5752",
   "metadata": {},
   "outputs": [
    {
     "name": "stdout",
     "output_type": "stream",
     "text": [
      "192.21 Volts\n"
     ]
    }
   ],
   "source": [
    "x_i = 2\n",
    "tensao_para_2_amperes = w * x_i + b\n",
    "\n",
    "print(f\"{tensao_para_2_amperes:.02f} Volts\")"
   ]
  },
  {
   "cell_type": "markdown",
   "id": "9514eb64-c503-4e0a-b227-aef37ff18472",
   "metadata": {},
   "source": [
    "### Qual seria uma possível interpretação física para o parâmetro $w$ nesse exemplo?\n",
    "No sistema descrito pela equação $V=w \\cdot I+b$, $w$ geralmente é associado à resistência elétrica, especialmente em uma relação linear entre tensão e corrente. A função $V=w \\cdot I+b$ é uma função afim, devido ao intercepto $b$ não nulo, o que não descarta $w$ de ser uma resistência pura, se considerarmos efeitos como descalibração do equipamento ou a presença de múltiplos elementos em um circuito mais complexo. No entanto, $w$ é consistente com a interpretação de resistência elétrica, ainda que considerando possíveis variações do sistema testado e calibração de equipamentos.\n",
    "\n",
    "A equação dada é:\n",
    "\n",
    "$V = w \\cdot I + b$\n",
    "\n",
    "Onde:\n",
    "-  $V$ é a tensão.\n",
    "-  $I$ é a corrente.\n",
    "-  $w$ é o coeficiente angular ou a taxa de inclinação da reta.\n",
    "-  $b$ é um termo constante.\n",
    "\n",
    "#### Análise Dimensional\n",
    "\n",
    "1. **Dimensões da Tensão ($V$)**:\n",
    "   - A unidade de tensão é o Volt ($V$).\n",
    "   - Em termos dimensionais: \n",
    "\n",
    "     $[V] = M \\cdot L^2 \\cdot T^{-3} \\cdot I^{-1}$\n",
    "\n",
    "     onde:\n",
    "     - $M$ é a massa,\n",
    "     - $L$ é o comprimento,\n",
    "     - $T$ é o tempo,\n",
    "     - $I$ é a corrente elétrica.\n",
    "\n",
    "2. **Dimensões da Corrente ($I$)**:\n",
    "   - A unidade de corrente é o Àmpere (A).\n",
    "   - Em termos dimensionais: \n",
    "\n",
    "     $[I] = I$\n",
    "     Sendo $I$ a corrente elétrica (Pelo que eu saiba, unidade fundamental do S.I).\n",
    "\n",
    "3. **Dimensões do Coeficiente Angular ($w$)**:\n",
    "   - A equação $V = w \\cdot I$ indica que $w$ deve ter dimensões que, multiplicadas pela corrente, resultem na dimensão de tensão.\n",
    "   - Em termos dimensionais:\n",
    "\n",
    "     $[w] = \\frac{[V]}{[I]} = \\frac{M \\cdot L^2 T^{-3} \\cdot I^{-1}}{I} = M \\cdot L^2 \\cdot T^{-3} \\cdot I^{-2}$\n",
    "\n",
    "   - Essa dimensão corresponde à resistência elétrica, medida em ohms ($\\Omega$).\n",
    "\n",
    "4. **Dimensões do Termo Constante ($b$)**:\n",
    "   - Como $b$ é somado diretamente à tensão $V$, suas dimensões devem ser as mesmas que as da tensão.\n",
    "   - Dimensionalmente: \n",
    "\n",
    "     $[b] = [V] = M \\cdot L^2 \\cdot T^{-3} \\cdot I^{-1}$\n",
    "5. **Análise Dimensional de $V = w \\cdot I + b$**:\n",
    "   - Basta demonstrar que toros os termos resultam em uma equação dimensionalmente homogênea:\n",
    "     \n",
    "     $M \\cdot L^2 \\cdot T^{-3} \\cdot I^{-1} = M \\cdot L^2 \\cdot T^{-3} \\cdot I^{-2} \\cdot I + M \\cdot L^2 \\cdot T^{-3} \\cdot I^{-1} = M \\cdot L^2 \\cdot T^{-3} \\cdot I^{-1}$\n",
    "     \n",
    "     $M \\cdot L^2 \\cdot T^{-3} \\cdot I^{-1} = M \\cdot L^2 \\cdot T^{-3} \\cdot I^{-1}$\n",
    "\n",
    "   - Logo, é uma equação dimensional homogênea e, portanto, tem interpretação física, onde:\n",
    "       - $w$ tem dimensional de resistência elétrica ($\\Omega$)\n",
    "       - $b$ tem dimensional de tensão elétrica ($V$)\n",
    "       - $I$ tem dimensional de corrente elétrica ($I$)\n",
    "       - $V$ tem dimensional de tensão elétrica ($V$) \n",
    "   \n",
    "       \n"
   ]
  },
  {
   "cell_type": "code",
   "execution_count": null,
   "id": "d547cadc-e973-45e5-9fb3-2295fad67c42",
   "metadata": {},
   "outputs": [],
   "source": []
  }
 ],
 "metadata": {
  "colab": {
   "provenance": []
  },
  "kernelspec": {
   "display_name": "Python 3 (ipykernel)",
   "language": "python",
   "name": "python3"
  },
  "language_info": {
   "codemirror_mode": {
    "name": "ipython",
    "version": 3
   },
   "file_extension": ".py",
   "mimetype": "text/x-python",
   "name": "python",
   "nbconvert_exporter": "python",
   "pygments_lexer": "ipython3",
   "version": "3.10.12"
  },
  "toc-autonumbering": false
 },
 "nbformat": 4,
 "nbformat_minor": 5
}
