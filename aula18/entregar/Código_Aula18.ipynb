{
 "cells": [
  {
   "cell_type": "markdown",
   "metadata": {},
   "source": [
    "# Aplicações de IA na robótica"
   ]
  },
  {
   "cell_type": "code",
   "execution_count": 36,
   "metadata": {},
   "outputs": [],
   "source": [
    "import numpy as np"
   ]
  },
  {
   "cell_type": "markdown",
   "metadata": {},
   "source": [
    "## Aluno: Augusto Mathias Adams"
   ]
  },
  {
   "cell_type": "markdown",
   "metadata": {},
   "source": [
    "## Problema \n",
    "\n",
    "Suponha que um veı́culo espacial em Marte está em busca de amostras especı́ficas de solo, e que o mesmo possui 6 posições (estados) possı́veis, conforme ilustrado abaixo.\n",
    "\n",
    "| Estado     | 1  | 2 | 3 | 4 | 5 | 6  |\n",
    "|------------|----|---|---|---|---|----|\n",
    "| Recompensa | 100| 0 | 0 | 0 | 0 | 40 |\n",
    "\n",
    "A figura acima também mostra em vermelho a recompensa associada a cada estado. Os estados 1 e 6 representam amostras de solo de interesse cientı́fico.\n",
    "**OBS:** Considere que os estados 1 e 6 são terminais. Ou seja, considere que, ao atingir qualquer um desses dois estados, independentemente da ação praticada, é decretado “fim de jogo”. Nesse contexto, por exemplo, isso pode significar que o robô terá que repousar para recarregar sua bateria."
   ]
  },
  {
   "cell_type": "code",
   "execution_count": 37,
   "metadata": {},
   "outputs": [],
   "source": [
    "def computar_recompensa(lbda, recompensas, passos, passo_atual):\n",
    "    \"\"\"\n",
    "        Computa a recompensa dada considerando a série de passos dada pelo robô\n",
    "        Args:\n",
    "            lbda (float): penalização das recompensas futuras\n",
    "            recomensas (ndarray): lista de recompensas para cada estado\n",
    "            passos (ndarray): lista de passos (esquerda, direita) dados pelo robô\n",
    "            passo_atual (int): posição atual do robô\n",
    "        Returns:\n",
    "            reward (float): a recompensa obtida pela trajetória\n",
    "    \"\"\"\n",
    "    reward = recompensas[passo_atual - 1]\n",
    "    passo = passo_atual\n",
    "    for i in range(1, len(passos)+1):\n",
    "        passo += passos[i-1]\n",
    "        reward += (lbda ** i) * recompensas[passo-1]\n",
    "    return reward\n",
    "\n",
    "recompensas = np.array([100,0,0,0,0,40])\n"
   ]
  },
  {
   "cell_type": "markdown",
   "metadata": {},
   "source": [
    "## Questão 1:\n",
    "Partindo do estado inicial 4 e considerando um fator de desconto $\\gamma = 0.9$, note que o Retorno obtido pelo robô caso o mesmo decida andar sempre para a esquerda ($\\Leftarrow$) será de 72.9 pontos. Escolha a alternativa que representa o cálculo correto deste valor."
   ]
  },
  {
   "cell_type": "code",
   "execution_count": 38,
   "metadata": {},
   "outputs": [
    {
     "name": "stdout",
     "output_type": "stream",
     "text": [
      "Recompensa por caminhar para a esquerda: 72.90\n"
     ]
    }
   ],
   "source": [
    "lbda = 0.9\n",
    "passo_atual = 4\n",
    "passos = np.array([-1,-1,-1])\n",
    "recompensa = computar_recompensa(lbda, recompensas, passos, passo_atual)\n",
    "print(f\"Recompensa por caminhar para a esquerda: {recompensa:.2f}\")"
   ]
  },
  {
   "cell_type": "markdown",
   "metadata": {},
   "source": [
    "### Resposta: Letra A"
   ]
  },
  {
   "cell_type": "markdown",
   "metadata": {},
   "source": [
    "## Questão 2:\n",
    "Partindo do estado inicial 4 e considerando um fator de desconto $\\gamma = 0.9$, note que o Retorno obtido pelo robô caso o mesmo decida andar sempre para a direira ($\\Rightarrow$) será de 32.4 pontos. Escolha a alternativa que representa o cálculo correto deste valor."
   ]
  },
  {
   "cell_type": "code",
   "execution_count": 39,
   "metadata": {},
   "outputs": [
    {
     "name": "stdout",
     "output_type": "stream",
     "text": [
      "Recompensa por caminhar para a direita: 32.40\n"
     ]
    }
   ],
   "source": [
    "passos = np.array([1,1])\n",
    "recompensa = computar_recompensa(lbda, recompensas, passos, passo_atual)\n",
    "print(f\"Recompensa por caminhar para a direita: {recompensa:.2f}\")"
   ]
  },
  {
   "cell_type": "markdown",
   "metadata": {},
   "source": [
    "### Resposta: Letra B"
   ]
  },
  {
   "cell_type": "markdown",
   "metadata": {},
   "source": [
    "## Questão 3:\n",
    "\n",
    "Comparando os valores de Retorno obtidos nas questões 1 e 2 (que considera $\\gamma = 0.9$), qual é a melhor sequência de ações a ser praticada pelo robô?"
   ]
  },
  {
   "cell_type": "markdown",
   "metadata": {},
   "source": [
    "### Resposta: Caminhar para a esquerda - Letra A"
   ]
  },
  {
   "cell_type": "markdown",
   "metadata": {},
   "source": [
    "## Questão 4:\n",
    "\n",
    "Partindo do estado inicial 4 e considerando um fator de desconto $\\gamma = 0.3$, note que o Retorno obtido pelo robô caso o mesmo decida andar sempre para a esquerda ($\\Leftarrow$) será de 2.7 pontos. Escolha a alternativa que representa o cálculo correto deste valor."
   ]
  },
  {
   "cell_type": "code",
   "execution_count": 40,
   "metadata": {},
   "outputs": [
    {
     "name": "stdout",
     "output_type": "stream",
     "text": [
      "Recompensa por caminhar para a esquerda: 2.70\n"
     ]
    }
   ],
   "source": [
    "lbda = 0.3\n",
    "passos = np.array([-1,-1,-1])\n",
    "recompensa = computar_recompensa(lbda, recompensas, passos, passo_atual)\n",
    "print(f\"Recompensa por caminhar para a esquerda: {recompensa:.2f}\")"
   ]
  },
  {
   "cell_type": "markdown",
   "metadata": {},
   "source": [
    "### Resposta: Letra A"
   ]
  },
  {
   "cell_type": "markdown",
   "metadata": {},
   "source": [
    "## Questão 5:\n",
    "Partindo do estado inicial 4 e considerando um fator de desconto $\\gamma = 0.3$, note que o Retorno obtido pelo robô caso o mesmo decida andar sempre para a direita ($\\Rightarrow$) será de 3.6 pontos. Escolha a alternativa que representa o cálculo correto deste valor."
   ]
  },
  {
   "cell_type": "code",
   "execution_count": 41,
   "metadata": {},
   "outputs": [
    {
     "name": "stdout",
     "output_type": "stream",
     "text": [
      "Recompensa por caminhar para a direita: 3.60\n"
     ]
    }
   ],
   "source": [
    "passos = np.array([1,1])\n",
    "recompensa = computar_recompensa(lbda, recompensas, passos, passo_atual)\n",
    "print(f\"Recompensa por caminhar para a direita: {recompensa:.2f}\")"
   ]
  },
  {
   "cell_type": "markdown",
   "metadata": {},
   "source": [
    "### Resposta: Letra B"
   ]
  },
  {
   "cell_type": "markdown",
   "metadata": {},
   "source": [
    "## Questão 6:\n",
    "\n",
    "Comparando os valores de Retorno obtidos nas questões 4 e 5 (que considera $\\gamma = 0.3$), qual é a melhor sequência de ações a ser praticada pelo robô?"
   ]
  },
  {
   "cell_type": "markdown",
   "metadata": {},
   "source": [
    "### Resposta: Caminhar para a direita - Letra B\n",
    "\n",
    "O robô impaciente"
   ]
  }
 ],
 "metadata": {
  "kernelspec": {
   "display_name": "venv",
   "language": "python",
   "name": "python3"
  },
  "language_info": {
   "codemirror_mode": {
    "name": "ipython",
    "version": 3
   },
   "file_extension": ".py",
   "mimetype": "text/x-python",
   "name": "python",
   "nbconvert_exporter": "python",
   "pygments_lexer": "ipython3",
   "version": "3.10.12"
  }
 },
 "nbformat": 4,
 "nbformat_minor": 2
}
