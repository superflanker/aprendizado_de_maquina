{
 "cells": [
  {
   "cell_type": "markdown",
   "id": "78220b29",
   "metadata": {
    "id": "78220b29",
    "pycharm": {
     "name": "#%% md\n"
    }
   },
   "source": [
    "# Compreendendo a função custo\n",
    "\n"
   ]
  },
  {
   "cell_type": "markdown",
   "id": "269658ca",
   "metadata": {
    "id": "269658ca",
    "pycharm": {
     "name": "#%% md\n"
    }
   },
   "source": [
    "## Objetivo\n",
    "\n",
    "- Implementar e explorar a função `custo` utilizada na regressão linear com uma variável.\n"
   ]
  },
  {
   "cell_type": "markdown",
   "id": "2ae5690d",
   "metadata": {
    "id": "2ae5690d",
    "pycharm": {
     "name": "#%% md\n"
    }
   },
   "source": [
    "## Ferramentas\n",
    "\n",
    "Nesse código, você usará:\n",
    "- NumPy, uma biblioteca popular para cálculos matriciais, etc\n",
    "- Matplotlib, uma biblioteca popular para gerar figuras a partir de dados"
   ]
  },
  {
   "cell_type": "code",
   "execution_count": 1,
   "id": "2649614f",
   "metadata": {
    "id": "2649614f",
    "pycharm": {
     "name": "#%%\n"
    }
   },
   "outputs": [],
   "source": [
    "import numpy as np\n",
    "import matplotlib.pyplot as plt"
   ]
  },
  {
   "cell_type": "markdown",
   "id": "343c823e",
   "metadata": {
    "id": "343c823e",
    "pycharm": {
     "name": "#%% md\n"
    }
   },
   "source": [
    "## Definição do Problema\n",
    "\n",
    "Você gostaria de estimar a tensão sobre um resistor com base no seu valor de corrente.\n",
    "\n",
    "Usaremos as mesmas amostras de dados que já utilizamos no código anterior:\n",
    "\n",
    "| Corrente (A)     | Tensão (V) |\n",
    "| -------------------| ------------------------ |\n",
    "| 0.2               | 21                      |\n",
    "| 4.5               | 430                      |\n"
   ]
  },
  {
   "cell_type": "code",
   "execution_count": 2,
   "id": "a80bf969",
   "metadata": {
    "id": "a80bf969",
    "pycharm": {
     "name": "#%%\n"
    }
   },
   "outputs": [],
   "source": [
    "x_trein = np.array([0.2, 4.5])\n",
    "y_trein = np.array([21.0, 430.0])"
   ]
  },
  {
   "cell_type": "markdown",
   "id": "eb6e8b54",
   "metadata": {
    "id": "eb6e8b54",
    "pycharm": {
     "name": "#%% md\n"
    }
   },
   "source": [
    "## Calculando o Custo\n",
    "\n",
    "O custo mede o quão bem o nosso modelo está estimando a tensão sobre o resistor.\n",
    "\n",
    "A equação para o custo com uma variável é:\n",
    "  $$J(w,b) = \\frac{1}{2m} \\sum\\limits_{i = 0}^{m-1} (f_{w,b}(x^{(i)}) - y^{(i)})^2 \\tag{1}$$\n",
    "\n",
    "onde\n",
    "  $$f_{w,b}(x^{(i)}) = wx^{(i)} + b \\tag{2}$$\n",
    "  \n",
    "- $f_{w,b}(x^{(i)})$ é a nossa previsão para a amostra $i$ usando os parâmetros $w,b$.  \n",
    "- $(f_{w,b}(x^{(i)}) -y^{(i)})^2$ é o erro quadrático entre o valor alvo (medido) e a previsão (estimativa) feita pelo modelo.   \n",
    "- Esses erros são somados para todas as $m$ amostras e divididas por `2m` para produzir o custo $J(w,b)$.  \n",
    ">OBS: Nos slides da disciplina, o somatório vai tipicamente de 1 até m. Por outro lado, no código ele vai de 0 até m-1, já que em Python tem-se como zero a referência de indexação para vetores e matrizes\n"
   ]
  },
  {
   "cell_type": "markdown",
   "id": "1e414f69",
   "metadata": {
    "id": "1e414f69",
    "pycharm": {
     "name": "#%% md\n"
    }
   },
   "source": [
    "O código abaixo calcula o custo fazendo um loop que passa por cada uma das amostras. Para cada iteração do loop:\n",
    "- a saída do modelo `f_wb` é calculada (previsão)\n",
    "- a diferença (erro) entre a saída alvo e a previsão é calculada e elevada ao quadrado.\n",
    "- essa quantidade é adicionada ao custo total."
   ]
  },
  {
   "cell_type": "code",
   "execution_count": 3,
   "id": "21c9688a",
   "metadata": {
    "id": "21c9688a",
    "pycharm": {
     "name": "#%%\n"
    }
   },
   "outputs": [],
   "source": [
    "def calcula_custo(x, y, w, b):\n",
    "    \"\"\"\n",
    "    Calcula a função custo no âmbito da regressão linear.\n",
    "    Argumentos da função:\n",
    "      x (ndarray (m,)): Conjunto de dados com m amostras\n",
    "      y (ndarray (m,)): Valores alvo de saída\n",
    "      w,b (escalar)   : Parâmetros do modelo\n",
    "    Retorna\n",
    "      custo_total (float): O custo de se usar w,b como parâmetros na regressão linear\n",
    "               para ajustar os dados\n",
    "    \"\"\"\n",
    "    # número de amostras de treinamento\n",
    "    m = x.shape[0]\n",
    "\n",
    "    soma_custo = 0\n",
    "    for i in range(m):\n",
    "        f_wb = w * x[i] + b\n",
    "        custo = (f_wb - y[i]) ** 2\n",
    "        soma_custo = soma_custo + custo\n",
    "    custo_total = (1 / (2 * m)) * soma_custo\n",
    "\n",
    "    return custo_total"
   ]
  },
  {
   "cell_type": "markdown",
   "id": "f0516489",
   "metadata": {
    "id": "f0516489",
    "pycharm": {
     "name": "#%% md\n"
    }
   },
   "source": [
    "## Função custo: uma visão intuitiva"
   ]
  },
  {
   "cell_type": "markdown",
   "id": "e66fdec2",
   "metadata": {
    "id": "e66fdec2",
    "pycharm": {
     "name": "#%% md\n"
    }
   },
   "source": [
    "O seu objetivo agora é encontrar um modelo $f_{w,b}(x) = wx + b$, com parâmetros $w,b$, que seja capaz de estimar com precisão a tensão sobre um resistor para uma dada corrente de entrada $x$. O custo é a medida do quão bem o modelo performa para os dados de treinamento em questão.\n",
    "\n",
    "A função custo (1) acima mostra que, se $w$ e $b$ podem ser selecionados tal que as previsões $f_{w,b}(x)$ são iguais aos dados em $y$, então o termo $(f_{w,b}(x^{(i)}) - y^{(i)})^2 $ será zero e o custo é minimizado totalmente. Neste exemplo simples que possui apenas dois pontos, você pode conseguir exatamente isso.\n",
    "\n",
    "No código anterior, você já encontrou valores para $w,b$ que resultam num modelo preciso. Insira esses valores no código abaixo e verifique o custo associado. Se necessário, refine os valores escolhidos para $w,b$ até que um custo $J(w,b)$ próximo de zero seja obtido."
   ]
  },
  {
   "cell_type": "code",
   "execution_count": 4,
   "id": "873cd691",
   "metadata": {
    "colab": {
     "base_uri": "https://localhost:8080/",
     "height": 474
    },
    "id": "873cd691",
    "outputId": "f8a76579-84b1-451c-a961-5494f44fd2fc"
   },
   "outputs": [
    {
     "name": "stdout",
     "output_type": "stream",
     "text": [
      "w: 95.1163\n",
      "b: 1.9767\n",
      "b(alternativo): 1.9767\n"
     ]
    },
    {
     "data": {
      "image/png": "[encoded data removed]",
      "text/plain": [
       "<Figure size 720x576 with 1 Axes>"
      ]
     },
     "metadata": {
      "needs_background": "light"
     },
     "output_type": "display_data"
    },
    {
     "name": "stdout",
     "output_type": "stream",
     "text": [
      "Custo J para esse conjunto de parâmetros w,b: 0.0\n"
     ]
    }
   ],
   "source": [
    "\"\"\"w = 0\n",
    "b = 100\"\"\"\n",
    "\n",
    "# calculando w e b da mesma maneira que no exercício 1 da aula 3\n",
    "w = (y_trein[1]  - y_trein[0]) / (x_trein[1] - x_trein[0])\n",
    "b = y_trein[0] - w * x_trein[0]\n",
    "b_alt = y_trein[1] - w * x_trein[1]\n",
    "print(f\"w: {w:.04f}\")\n",
    "print(f\"b: {b:.04f}\")\n",
    "print(f\"b(alternativo): {b_alt:.04f}\")\n",
    "\n",
    "# agora aproveitando o código fornecido, faremos o resto \n",
    "\n",
    "# Calculando a tensão estimada para o modelo para as correntes em x_trein\n",
    "m    = x_trein.shape[0]\n",
    "f_wb = np.zeros(m)\n",
    "for i in range(m):\n",
    "    f_wb[i] = w * x_trein[i] + b\n",
    "\n",
    "J = calcula_custo(x_trein, y_trein, w, b)\n",
    "\n",
    "plt.figure(figsize=(10, 8))\n",
    "# Plotando a previsão feita pelo modelo\n",
    "plt.plot(x_trein, f_wb, c='b',label='Nosso modelo')\n",
    "\n",
    "# Plotando os dados medidos\n",
    "plt.scatter(x_trein, y_trein, marker='x', c='r',label='Valores dos dados')\n",
    "\n",
    "# Ajustando o rótulo do eixo y\n",
    "plt.ylabel('Tensão (em Volts)')\n",
    "# Ajustando o rótulo do eixo x\n",
    "plt.xlabel('Corrente (em Àmperes)')\n",
    "plt.legend()\n",
    "plt.show()\n",
    "\n",
    "print(f\"Custo J para esse conjunto de parâmetros w,b: {J}\")"
   ]
  },
  {
   "cell_type": "markdown",
   "id": "eda97809",
   "metadata": {
    "id": "eda97809",
    "pycharm": {
     "name": "#%% md\n"
    }
   },
   "source": [
    "Note no código abaixo que, fixando o valor de $b$ em $b=0$, podemos verificar como é o gráfico da função custo $J$ em função do parâmetro $w$."
   ]
  },
  {
   "cell_type": "code",
   "execution_count": 5,
   "id": "e8d1bbcf",
   "metadata": {
    "colab": {
     "base_uri": "https://localhost:8080/",
     "height": 449
    },
    "id": "e8d1bbcf",
    "outputId": "78422055-f502-4d39-daf2-f2a1e30c2062"
   },
   "outputs": [
    {
     "data": {
      "image/png": "[encoded data removed]",
      "text/plain": [
       "<Figure size 720x576 with 1 Axes>"
      ]
     },
     "metadata": {
      "needs_background": "light"
     },
     "output_type": "display_data"
    }
   ],
   "source": [
    "b = 0\n",
    "\n",
    "# valores_para_w = np.array([90, 91, 92, 93, 94, 95, 96, 97, 98, 99, 100])\n",
    "valores_para_w = np.linspace(90, 101.11, 100, endpoint=True) # deixando a curva mais bonitinha\n",
    "\n",
    "qtdade_de_valores = valores_para_w.shape[0]\n",
    "\n",
    "J = np.zeros(qtdade_de_valores)\n",
    "\n",
    "for i in range(qtdade_de_valores):\n",
    "    w    = valores_para_w[i]\n",
    "    J[i] = calcula_custo(x_trein, y_trein, w, b)\n",
    "\n",
    "plt.figure(figsize=(10, 8))\n",
    "# Plotando o custo em J para diferentes valores de w\n",
    "plt.plot(valores_para_w, J, c='b')\n",
    "\n",
    "# Ajustando o rótulo do eixo y\n",
    "plt.ylabel('J(w)')\n",
    "# Ajustando o rótulo do eixo x\n",
    "plt.xlabel('w')\n",
    "plt.show()"
   ]
  },
  {
   "cell_type": "markdown",
   "id": "0c01197c",
   "metadata": {
    "id": "0c01197c",
    "pycharm": {
     "name": "#%% md\n"
    }
   },
   "source": [
    "Alguns pontos podem ser destacados\n",
    "- O custo é minimizado para $b$ próximo de 0 e para $w$ próximo de 96. Tais resultados estão de acordo com os resultados vistos no último código.\n",
    "- Uma vez que o erro entre o valor medido e a previsão é elevado ao quadrado na função custo, o custo rapidamente cresce quando $w$ se distancia do seu valor ideal.\n",
    "- Se `w` e `b` forem selecionados de forma que $J=0$, isso significa que o modelo se ajusta perfeitamente aos dados."
   ]
  },
  {
   "cell_type": "markdown",
   "id": "54eabff4",
   "metadata": {
    "id": "54eabff4",
    "pycharm": {
     "name": "#%% md\n"
    }
   },
   "source": [
    "# Parabéns!\n",
    "Você aprendeu o seguinte nesse código:\n",
    " - A função custo nos fornece uma medida de quão boas são as estimativas feitas pelo nosso modelo\n",
    " - Minimizar a função custo pode nos levar a valores ótimos para $w$, $b$."
   ]
  },
  {
   "cell_type": "markdown",
   "id": "9054e3ff-4e3d-41a2-a33b-10cd7e8a62a4",
   "metadata": {
    "id": "5e2f2d66",
    "pycharm": {
     "name": "#%%\n"
    }
   },
   "source": [
    "Não tem desafio e pergunta pra eu pirar na batatinha? "
   ]
  }
 ],
 "metadata": {
  "colab": {
   "provenance": []
  },
  "kernelspec": {
   "display_name": "Python 3 (ipykernel)",
   "language": "python",
   "name": "python3"
  },
  "language_info": {
   "codemirror_mode": {
    "name": "ipython",
    "version": 3
   },
   "file_extension": ".py",
   "mimetype": "text/x-python",
   "name": "python",
   "nbconvert_exporter": "python",
   "pygments_lexer": "ipython3",
   "version": "3.10.12"
  },
  "toc-autonumbering": false
 },
 "nbformat": 4,
 "nbformat_minor": 5
}
