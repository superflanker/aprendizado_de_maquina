{
 "cells": [
  {
   "cell_type": "markdown",
   "id": "2567d841",
   "metadata": {
    "id": "2567d841",
    "pycharm": {
     "name": "#%% md\n"
    }
   },
   "source": [
    "# Introdução aos Python Notebooks (usando Google Colab)\n",
    "\n",
    "Bem-vindo ao Google Colab!\n"
   ]
  },
  {
   "cell_type": "markdown",
   "id": "e5d9b481",
   "metadata": {
    "id": "e5d9b481",
    "pycharm": {
     "name": "#%% md\n"
    }
   },
   "source": [
    "## Objetivo\n",
    "\n",
    "Nesse código, iremos:\n",
    "- Nos familizar com o Google Colab\n",
    "- Aprender a diferença entre células de anotação e células de código\n",
    "- Praticar comandos básicos em Python\n"
   ]
  },
  {
   "cell_type": "markdown",
   "id": "2315e967",
   "metadata": {
    "id": "2315e967",
    "pycharm": {
     "name": "#%% md\n"
    }
   },
   "source": [
    "Células de anotação são justamente essas que utilizamos até aqui."
   ]
  },
  {
   "cell_type": "markdown",
   "id": "94572f25",
   "metadata": {
    "id": "94572f25",
    "pycharm": {
     "name": "#%% md\n"
    }
   },
   "source": [
    "Por outro lado, segue abaixo um exemplo de célula de código:"
   ]
  },
  {
   "cell_type": "code",
   "execution_count": 1,
   "id": "84fbaa84",
   "metadata": {
    "colab": {
     "base_uri": "https://localhost:8080/"
    },
    "id": "84fbaa84",
    "outputId": "7f839332-c226-484d-c112-f462d4b8b424",
    "pycharm": {
     "name": "#%%\n"
    }
   },
   "outputs": [
    {
     "name": "stdout",
     "output_type": "stream",
     "text": [
      "Defaulting to user installation because normal site-packages is not writeable\n",
      "Requirement already satisfied: numpy in /usr/local/lib/python3.10/dist-packages (1.26.3)\n",
      "Defaulting to user installation because normal site-packages is not writeable\n",
      "Requirement already satisfied: scipy in /usr/local/lib/python3.10/dist-packages (1.12.0)\n",
      "Requirement already satisfied: numpy<1.29.0,>=1.22.4 in /usr/local/lib/python3.10/dist-packages (from scipy) (1.26.3)\n",
      "Olá mundo! já começo meu debute instalando as bibliotecas numpy e scipy\n"
     ]
    }
   ],
   "source": [
    "!pip install numpy\n",
    "!pip install scipy\n",
    "import numpy as np\n",
    "import scipy as sp\n",
    "#Isso é uma célula de código\n",
    "print(\"Olá mundo! já começo meu debute instalando as bibliotecas numpy e scipy\")"
   ]
  },
  {
   "cell_type": "markdown",
   "id": "c14aa8a9",
   "metadata": {
    "id": "c14aa8a9",
    "pycharm": {
     "name": "#%% md\n"
    }
   },
   "source": [
    "## Python\n",
    "Você pode rodar o seu código Python em células de código.\n",
    "\n",
    "Para rodar o código, selecione a célula e\n",
    "- Segure shift e aperte 'enter'\n",
    "- Clique no botão de 'rodar' acima\n"
   ]
  },
  {
   "cell_type": "markdown",
   "id": "d5712339",
   "metadata": {
    "id": "d5712339",
    "pycharm": {
     "name": "#%% md\n"
    }
   },
   "source": [
    "### Declarações do tipo Print\n",
    "\n",
    "Declarações do tipo Print vão geralmente usar o estilo de string 'f' do Python.\n",
    "\n",
    "Tente criar o seu próprio print na célula abaixo.\n",
    "\n",
    "Tente os dois métodos de rodar a célula."
   ]
  },
  {
   "cell_type": "code",
   "execution_count": 2,
   "id": "2b4789c0",
   "metadata": {
    "id": "2b4789c0",
    "outputId": "3afd59b0-b3a1-499a-b551-558f85440cfd",
    "pycharm": {
     "name": "#%%\n"
    }
   },
   "outputs": [
    {
     "name": "stdout",
     "output_type": "stream",
     "text": [
      "strings do tipo 'f' permitem que você incorpore variáveis do tipo  --> eu sou uma string < --\n",
      "O valor de a é 3.14\n"
     ]
    }
   ],
   "source": [
    "# declarações do tipo Print\n",
    "variavel = \" --> eu sou uma string < --\"\n",
    "print(f\"strings do tipo 'f' permitem que você incorpore variáveis do tipo {variavel}\")\n",
    "# meu print customizado\n",
    "a = 3.1415\n",
    "print(f\"O valor de a é {a:.02f}\")"
   ]
  },
  {
   "cell_type": "markdown",
   "id": "0323152e",
   "metadata": {
    "id": "0323152e",
    "pycharm": {
     "name": "#%% md\n"
    }
   },
   "source": [
    "### Declarando uma variável numérica"
   ]
  },
  {
   "cell_type": "code",
   "execution_count": 3,
   "id": "355e98b5",
   "metadata": {
    "id": "355e98b5",
    "outputId": "bbc201c6-20a9-4f0d-b853-8d5dbd576d40"
   },
   "outputs": [
    {
     "name": "stdout",
     "output_type": "stream",
     "text": [
      "2\n",
      "02\n",
      "strings do tipo 'f' permitem que você incorpore variáveis do tipo  --> eu sou uma string < --\n"
     ]
    }
   ],
   "source": [
    "x = 2\n",
    "\n",
    "print(x)\n",
    "# usando \"{:02d}\".format(x) ao invés de simplesmente printar a variável\n",
    "print(\"{:02d}\".format(x))\n",
    "# também posso formatar strings usando format\n",
    "print(\"strings do tipo 'f' permitem que você incorpore variáveis do tipo {:s}\".format(variavel))"
   ]
  },
  {
   "cell_type": "markdown",
   "id": "aa8145ad",
   "metadata": {
    "id": "aa8145ad",
    "pycharm": {
     "name": "#%% md\n"
    }
   },
   "source": [
    "# Parabéns!\n",
    "Agora você já teve seu primeiro contato com Python Notebooks. Você fez isso usando o Google Colab.\n",
    "\n",
    "Vale destacar que outros programas também são capazes de abrir arquivos com extensão .ipynb, isto é, Python Notebooks. Um exemplo de programa que faz isso é o Jupyter, também muito utilizado no contexto de programação em Python."
   ]
  },
  {
   "cell_type": "code",
   "execution_count": 4,
   "id": "ba236425",
   "metadata": {
    "id": "ba236425"
   },
   "outputs": [],
   "source": [
    "# agora é nossa obrigação demonstrar conhecimento e compreensão. Vamos lá\n",
    "# pensei em utilizar algumas funções da scipy que utilizei no TCC para trabalhar com ruido\n",
    "\n",
    "# vamos definir uma função python que faça alguns testes estatisticos para normalidade e uniformidade\n",
    "# No entanto, os testes aqui descritos não são 100% confiáveis\n",
    "\n",
    "def test_distribution(distribution_string, sequencia):\n",
    "    sequencia_normalizada =  (sequencia - np.mean(sequencia)) / np.std(sequencia) # índice z da sequencia\n",
    "\n",
    "    # Teste de Kolmogorov-Smirnov para normalidade\n",
    "    ks_statistic, ks_p_value = sp.stats.kstest(sequencia_normalizada, 'norm')\n",
    "    print(f\"Teste K-S para normalidade de {distribution_string}: estatística = {ks_statistic:.04e}, p-valor = {ks_p_value:.04e}\")\n",
    "    if ks_p_value < 0.05:\n",
    "        print(\"Há evidências de que os números não seguem uma distribuição normal.\")\n",
    "    else:\n",
    "        print(\"Os números parecem seguir uma distribuição normal.\")\n",
    "   \n",
    "    # Teste de Shapiro-Wilk para normalidade\n",
    "    shapiro_statistic, shapiro_p_value = sp.stats.shapiro(sequencia_normalizada)\n",
    "    print(f\"Teste Shapiro-Wilk para normalidade de {distribution_string}: estatística = {shapiro_statistic:.04e}, p-valor = {shapiro_p_value:.04e}\")\n",
    "    if shapiro_p_value < 0.05:\n",
    "        print(\"Há evidências de que os números não seguem uma distribuição normal.\")\n",
    "    else:\n",
    "        print(\"Os números parecem seguir uma distribuição normal.\")\n",
    "    # Exemplo de Qui-Quadrado para teste de uniformidade\n",
    "    chi2_statistic, chi2_p_value = sp.stats.chisquare(sequencia)\n",
    "    print(f\"Teste Qui-Quadrado para uniformidade de {distribution_string}: estatística = {chi2_statistic:.04e}, p-valor = {chi2_p_value:.04e}\")\n",
    "    # Interpretação\n",
    "    if chi2_p_value <= 0.05:\n",
    "        print(\"Há evidências de que os números não seguem uma distribuição uniforme.\")\n",
    "    else:\n",
    "        print(\"Os números parecem seguir uma distribuição uniforme.\")\n"
   ]
  },
  {
   "cell_type": "code",
   "execution_count": 5,
   "id": "ec0e1c2a-bb66-4632-8ab4-87aef3591b35",
   "metadata": {},
   "outputs": [],
   "source": [
    "# Configurando as opções de impressão\n",
    "np.set_printoptions(precision=2,  # Define duas casas decimais\n",
    "                    suppress=True,  # Suprime notação científica\n",
    "                    linewidth=300,  # Largura máxima da linha\n",
    "                    threshold=np.inf)    # Limita a quantidade de elementos exibidos antes de resumir\n",
    "\n",
    "# instanciando um gerador aleatório - agradeço à numpy por isto\n",
    "rng = np.random.default_rng(12345)\n",
    "\n",
    "# gerando as sequências\n",
    "num_samples = 1000\n",
    "# sequência com distribuição normal\n",
    "mu = 0.0\n",
    "sigma = 10.0\n",
    "sequencia_normal = rng.normal(mu, sigma, num_samples)\n",
    "\n",
    "# sequência com distribuição uniforme\n",
    "n_min = -10\n",
    "n_max = 10\n",
    "sequencia_uniforme = rng.integers(n_min, n_max, endpoint=True, size=num_samples)\n",
    "\n",
    "# sequência com distribuição de Poisson\n",
    "lbda = 5\n",
    "sequencia_poisson = rng.poisson(lbda, num_samples)\n",
    "\n",
    "# sequência com distribuição exponencial\n",
    "lbda = 0.5\n",
    "sequencia_exponencial = rng.exponential(lbda, num_samples)\n",
    "\n",
    "# sequência com distribuição binomial\n",
    "n = 30\n",
    "p = 0.5\n",
    "\n",
    "sequencia_binomial = rng.binomial(n, p, num_samples)\n",
    "\n",
    "# vamos criar um random walk tbm?\n",
    "# simplesmente somando os resultados da distribuição uniforme\n",
    "random_walk = np.cumsum(sequencia_uniforme)"
   ]
  },
  {
   "cell_type": "code",
   "execution_count": 6,
   "id": "7bfbb718-fedd-44a2-a178-2e68c0a5ce5f",
   "metadata": {},
   "outputs": [
    {
     "name": "stdout",
     "output_type": "stream",
     "text": [
      "[-14.24  12.64  -8.71  -2.59  -0.75  -7.41 -13.68   6.49   3.61 -19.53]\n",
      "Teste K-S para normalidade de Sequência com Distribuição Normal: estatística = 1.5774e-02, p-valor = 9.6136e-01\n",
      "Os números parecem seguir uma distribuição normal.\n",
      "Teste Shapiro-Wilk para normalidade de Sequência com Distribuição Normal: estatística = 9.9904e-01, p-valor = 8.9231e-01\n",
      "Os números parecem seguir uma distribuição normal.\n",
      "Teste Qui-Quadrado para uniformidade de Sequência com Distribuição Normal: estatística = 1.2481e+06, p-valor = 0.0000e+00\n",
      "Há evidências de que os números não seguem uma distribuição uniforme.\n"
     ]
    }
   ],
   "source": [
    "# imprimindo os 10 primeiros elementos da sequência\n",
    "print(sequencia_normal[0:10])\n",
    "\n",
    "# Testes de Normalidade e Uniformidade\n",
    "test_distribution(\"Sequência com Distribuição Normal\", sequencia_normal)"
   ]
  },
  {
   "cell_type": "code",
   "execution_count": 7,
   "id": "70d0af7c-bf62-4506-a0b4-eef14d095c96",
   "metadata": {},
   "outputs": [
    {
     "name": "stdout",
     "output_type": "stream",
     "text": [
      "[  8  -3   0   0 -10   9  -6  -8  -4  -3]\n",
      "Teste K-S para normalidade de Sequência com Distribuição Uniforme: estatística = 9.0889e-02, p-valor = 1.2240e-07\n",
      "Há evidências de que os números não seguem uma distribuição normal.\n",
      "Teste Shapiro-Wilk para normalidade de Sequência com Distribuição Uniforme: estatística = 9.4829e-01, p-valor = 3.0842e-18\n",
      "Há evidências de que os números não seguem uma distribuição normal.\n",
      "Teste Qui-Quadrado para uniformidade de Sequência com Distribuição Uniforme: estatística = -1.3898e+05, p-valor = 1.0000e+00\n",
      "Os números parecem seguir uma distribuição uniforme.\n"
     ]
    }
   ],
   "source": [
    "# imprimindo os 10 primeiros elementos da sequência\n",
    "print(sequencia_uniforme[0:10])\n",
    "\n",
    "# Testes de Normalidade e Uniformidade\n",
    "test_distribution(\"Sequência com Distribuição Uniforme\", sequencia_uniforme)"
   ]
  },
  {
   "cell_type": "code",
   "execution_count": 8,
   "id": "70dd4c5a-e180-49de-95b8-143a81414c10",
   "metadata": {},
   "outputs": [
    {
     "name": "stdout",
     "output_type": "stream",
     "text": [
      "[ 8  4  9  3  4  3  9  5 10  4]\n",
      "Teste K-S para normalidade de Sequência com Distribuição de Poisson: estatística = 1.1853e-01, p-valor = 1.0638e-12\n",
      "Há evidências de que os números não seguem uma distribuição normal.\n",
      "Teste Shapiro-Wilk para normalidade de Sequência com Distribuição de Poisson: estatística = 9.7213e-01, p-valor = 6.2794e-13\n",
      "Há evidências de que os números não seguem uma distribuição normal.\n",
      "Teste Qui-Quadrado para uniformidade de Sequência com Distribuição de Poisson: estatística = 9.5076e+02, p-valor = 8.6040e-01\n",
      "Os números parecem seguir uma distribuição uniforme.\n"
     ]
    }
   ],
   "source": [
    "# imprimindo os 10 primeiros elementos da sequência\n",
    "print(sequencia_poisson[0:10])\n",
    "\n",
    "# Testes de Normalidade e Uniformidade\n",
    "test_distribution(\"Sequência com Distribuição de Poisson\", sequencia_poisson)"
   ]
  },
  {
   "cell_type": "code",
   "execution_count": 9,
   "id": "f65470ca-308e-4a7d-a261-9d767a024fc4",
   "metadata": {},
   "outputs": [
    {
     "name": "stdout",
     "output_type": "stream",
     "text": [
      "[0.05 0.58 1.18 0.04 0.32 1.04 0.27 1.   0.41 0.46]\n",
      "Teste K-S para normalidade de Sequência com Distribuição Exponencial: estatística = 1.4932e-01, p-valor = 6.2673e-20\n",
      "Há evidências de que os números não seguem uma distribuição normal.\n",
      "Teste Shapiro-Wilk para normalidade de Sequência com Distribuição Exponencial: estatística = 8.3417e-01, p-valor = 5.5143e-31\n",
      "Há evidências de que os números não seguem uma distribuição normal.\n",
      "Teste Qui-Quadrado para uniformidade de Sequência com Distribuição Exponencial: estatística = 4.4823e+02, p-valor = 1.0000e+00\n",
      "Os números parecem seguir uma distribuição uniforme.\n"
     ]
    }
   ],
   "source": [
    "# imprimindo os 10 primeiros elementos da sequência\n",
    "print(sequencia_exponencial[0:10])\n",
    "\n",
    "# Testes de Normalidade e Uniformidade\n",
    "test_distribution(\"Sequência com Distribuição Exponencial\", sequencia_exponencial)"
   ]
  },
  {
   "cell_type": "code",
   "execution_count": 10,
   "id": "a14c87b4-5142-4470-917e-9ef5b82f244e",
   "metadata": {},
   "outputs": [
    {
     "name": "stdout",
     "output_type": "stream",
     "text": [
      "[13 15 13 17  8 14 13 14 14 15]\n",
      "Teste K-S para normalidade de Sequência com Distribuição Binomial: estatística = 9.0297e-02, p-valor = 1.5183e-07\n",
      "Há evidências de que os números não seguem uma distribuição normal.\n",
      "Teste Shapiro-Wilk para normalidade de Sequência com Distribuição Binomial: estatística = 9.8656e-01, p-valor = 6.0391e-08\n",
      "Há evidências de que os números não seguem uma distribuição normal.\n",
      "Teste Qui-Quadrado para uniformidade de Sequência com Distribuição Binomial: estatística = 4.9836e+02, p-valor = 1.0000e+00\n",
      "Os números parecem seguir uma distribuição uniforme.\n"
     ]
    }
   ],
   "source": [
    "# imprimindo os 10 primeiros elementos da sequência\n",
    "print(sequencia_binomial[0:10])\n",
    "\n",
    "# Testes de Normalidade e Uniformidade\n",
    "test_distribution(\"Sequência com Distribuição Binomial\", sequencia_binomial)"
   ]
  },
  {
   "cell_type": "code",
   "execution_count": 11,
   "id": "5001c732-864b-4abc-b619-4c22394fc035",
   "metadata": {},
   "outputs": [
    {
     "name": "stdout",
     "output_type": "stream",
     "text": [
      "[  8   5   5   5  -5   4  -2 -10 -14 -17]\n",
      "Teste K-S para normalidade de Sequência com Distribuição Binomial: estatística = 1.0255e-01, p-valor = 1.3125e-09\n",
      "Há evidências de que os números não seguem uma distribuição normal.\n",
      "Teste Shapiro-Wilk para normalidade de Sequência com Distribuição Binomial: estatística = 9.3447e-01, p-valor = 1.5391e-20\n",
      "Há evidências de que os números não seguem uma distribuição normal.\n",
      "Teste Qui-Quadrado para uniformidade de Sequência com Distribuição Binomial: estatística = -5.2098e+04, p-valor = 1.0000e+00\n",
      "Os números parecem seguir uma distribuição uniforme.\n"
     ]
    }
   ],
   "source": [
    "# imprimindo os 10 primeiros elementos da sequência\n",
    "print(random_walk[0:10])\n",
    "\n",
    "# Testes de Normalidade e Uniformidade\n",
    "test_distribution(\"Sequência com Distribuição Binomial\", random_walk)"
   ]
  }
 ],
 "metadata": {
  "colab": {
   "provenance": []
  },
  "kernelspec": {
   "display_name": "Python 3 (ipykernel)",
   "language": "python",
   "name": "python3"
  },
  "language_info": {
   "codemirror_mode": {
    "name": "ipython",
    "version": 3
   },
   "file_extension": ".py",
   "mimetype": "text/x-python",
   "name": "python",
   "nbconvert_exporter": "python",
   "pygments_lexer": "ipython3",
   "version": "3.10.12"
  }
 },
 "nbformat": 4,
 "nbformat_minor": 5
}
