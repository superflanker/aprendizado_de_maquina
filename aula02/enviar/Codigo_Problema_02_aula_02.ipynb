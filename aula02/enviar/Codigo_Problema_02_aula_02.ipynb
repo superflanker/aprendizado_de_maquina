{
 "cells": [
  {
   "cell_type": "markdown",
   "id": "3c3377b3-4811-4186-8c2f-d8606064b97e",
   "metadata": {},
   "source": [
    "# Aprendizado de Máquina - Predição de Preços na Bolsa de Valores (PETR4.SA)"
   ]
  },
  {
   "cell_type": "markdown",
   "id": "a821b82e-d2cf-4136-887a-e88c14176738",
   "metadata": {},
   "source": [
    "## Instalação dos pacotes necessários"
   ]
  },
  {
   "cell_type": "code",
   "execution_count": null,
   "id": "84fbaa84",
   "metadata": {
    "colab": {
     "base_uri": "https://localhost:8080/"
    },
    "id": "84fbaa84",
    "outputId": "7f839332-c226-484d-c112-f462d4b8b424",
    "pycharm": {
     "name": "#%%\n"
    }
   },
   "outputs": [],
   "source": [
    "\n",
    "import warnings\n",
    "warnings.filterwarnings('ignore')\n",
    "\n",
    "!pip install numpy\n",
    "!pip install matplotlib\n",
    "!pip install yfinance\n",
    "!pip install scikit-learn\n",
    "!pip install pandas\n",
    "!pip install pandas-ta"
   ]
  },
  {
   "cell_type": "markdown",
   "id": "7a9fbd9f-317c-48b7-ae14-81a9f1d1075c",
   "metadata": {},
   "source": [
    "## Importando os pacotes necessários"
   ]
  },
  {
   "cell_type": "code",
   "execution_count": null,
   "id": "40a262b9-da2d-4352-b801-f560c1c45015",
   "metadata": {},
   "outputs": [],
   "source": [
    "import pandas as pd\n",
    "import numpy as np\n",
    "import pandas_ta as ta\n",
    "import yfinance as yf\n",
    "import matplotlib.pyplot as plt\n",
    "from sklearn.linear_model import SGDRegressor\n",
    "from sklearn.model_selection import train_test_split\n",
    "from sklearn.metrics import mean_squared_error\n",
    "from sklearn.preprocessing import StandardScaler"
   ]
  },
  {
   "cell_type": "markdown",
   "id": "f90b06c5-76fd-496b-ae27-642535e12fba",
   "metadata": {},
   "source": [
    "## Baixando dados da Ação PETR4.SA Utilizando o Yahoo Finance"
   ]
  },
  {
   "cell_type": "code",
   "execution_count": null,
   "id": "eddbc29b-05c7-403b-8538-3323da5a776e",
   "metadata": {},
   "outputs": [],
   "source": [
    "petr4 = yf.Ticker(\"PETR4.SA\") # instanciando o yfinance com o Ticket de nossa ação\n",
    "df = petr4.history(period=\"10y\") # dizendo que queremos os dados históricos de 10 anos\n",
    "print(df.head(10)) # inprimindo os 10 primeiros elementos (df é um pd.DataFrame, já sai bonitinho)"
   ]
  },
  {
   "cell_type": "markdown",
   "id": "958bd445-3ff7-42cb-852e-ca41aeabce84",
   "metadata": {},
   "source": [
    "# Calculando o índice OHLC4 (Preço médio) e As bandas de Bollinger (Volatilidade) usando a Pandas-TA"
   ]
  },
  {
   "cell_type": "code",
   "execution_count": null,
   "id": "eb84562d-2f75-409a-bdcc-b168de52bbab",
   "metadata": {},
   "outputs": [],
   "source": [
    "window_length = 5\n",
    "ts = df.ta.ohlc4() # ts é uma pd.Series\n",
    "bollinger_bands = ta.bbands(close=ts, length=window_length) # calculando as bandas de bollinger sobre o ohlc4\n",
    "bollinger_bands.fillna(0.0, inplace=True) # substituindo NaN por 0\n",
    "bollinger_bands.drop([\"BBP_5_2.0\", \"BBB_5_2.0\"], axis=1, inplace=True) # retirando as colunas desnecessárias\n",
    "ts = pd.concat([ts, bollinger_bands], axis=1)\n",
    "ts = pd.DataFrame(ts)\n",
    "ts.rename(columns={'BBL_5_2.0': 'LOWER_BBAND', 'BBM_5_2.0': 'MEAN_BBAND', 'BBU_5_2.0': 'UPPER_BBAND'}, inplace=True)\n",
    "ts.plot(figsize=(20, 20))"
   ]
  },
  {
   "cell_type": "markdown",
   "id": "7bfd91f1-a922-46a4-a7b1-2d5dc124afc8",
   "metadata": {},
   "source": [
    "## Preparação de Dados"
   ]
  },
  {
   "cell_type": "code",
   "execution_count": null,
   "id": "d1869c24-f5eb-4a08-b4ce-41cfa3e3535e",
   "metadata": {},
   "outputs": [],
   "source": [
    "# cria o vetor de características atrasadas\n",
    "def create_lagged_features(data, n_lags):\n",
    "    X, y = [], []\n",
    "    for i in range(n_lags, len(data)):\n",
    "        X.append(data[i-n_lags:i])  # Features: n_lags valores anteriores\n",
    "        y.append(data[i])           # Target: valor atual\n",
    "    return np.array(X), np.array(y)\n",
    "\n",
    "n_lags = 10\n",
    "series = ts[\"MEAN_BBAND\"].to_numpy()  # a banda média de BBANDS é uma versão filtrada de OHLC4\n",
    "diff_series = np.diff(series, prepend=series[0]) # tirando a tendência do OHLC4\n",
    "X, y = create_lagged_features(diff_series, n_lags) # criando as caracterpisticas\n",
    "# acho melhor separar alguns dados para serem os não vistos - 30% da série vou utilizar para testes reais\n",
    "X_t, y_t = X[0:int(0.7*len(X))], y[0:int(0.7*len(X))]\n",
    "X_r, y_r = X[int(0.7*len(X)):len(X)], y[int(0.7*len(X)):len(y)]\n",
    "# SGD é sensúvel à escala\n",
    "scaler = StandardScaler()\n",
    "X_t_scaled = scaler.fit_transform(X_t)\n",
    "X_r_scaled = scaler.transform(X_r)\n",
    "# separação em dados de treino e teste\n",
    "X_train, X_test, y_train, y_test = train_test_split(X_t_scaled, y_t, test_size=0.2, shuffle=False)\n"
   ]
  },
  {
   "cell_type": "markdown",
   "id": "281f3250-e5fe-4fb4-8f0c-2effe6424d29",
   "metadata": {},
   "source": [
    "## Instanciando e Treinando o Modelo SGD"
   ]
  },
  {
   "cell_type": "code",
   "execution_count": null,
   "id": "64f50392-5563-4196-8f32-47409407cc5d",
   "metadata": {},
   "outputs": [],
   "source": [
    "sgd_regressor = SGDRegressor(max_iter=1000, tol=1e-3, random_state=0)\n",
    "\n",
    "# Treinando o modelo\n",
    "sgd_regressor.fit(X_train, y_train)"
   ]
  },
  {
   "cell_type": "markdown",
   "id": "b5247458-4eab-41cb-98e6-9cfcebc79b28",
   "metadata": {},
   "source": [
    "## Testando o modelo com os dados de teste"
   ]
  },
  {
   "cell_type": "code",
   "execution_count": null,
   "id": "70ea6b49-8291-4a46-9b9d-a7dbb96f8fcf",
   "metadata": {},
   "outputs": [],
   "source": [
    "# Fazendo previsões\n",
    "y_pred = sgd_regressor.predict(X_test)\n",
    "\n",
    "# Avaliando o modelo\n",
    "mse = mean_squared_error(y_test, y_pred)\n",
    "print(f\"Erro médio Quadrático (MSE): {mse:.4f}\")"
   ]
  },
  {
   "cell_type": "markdown",
   "id": "becad6be-f423-478b-b7d8-b70d8925eaec",
   "metadata": {},
   "source": [
    "O MSE deu um valor relativamente baixo, indicativo de bom treinamento"
   ]
  },
  {
   "cell_type": "markdown",
   "id": "4f129300-71b0-48c9-99bb-6bec44462ec8",
   "metadata": {},
   "source": [
    "## Teste Final"
   ]
  },
  {
   "cell_type": "code",
   "execution_count": null,
   "id": "a80cae8f-5c96-4e6d-978f-ea18539eb46f",
   "metadata": {},
   "outputs": [],
   "source": [
    "# Fazendo previsões\n",
    "y_r_pred = sgd_regressor.predict(X_r_scaled)\n",
    "\n",
    "# Avaliando o modelo\n",
    "mse = mean_squared_error(y_r, y_r_pred)\n",
    "print(f\"Erro médio Quadrático (MSE): {mse:.4f}\")"
   ]
  },
  {
   "cell_type": "markdown",
   "id": "658384f5-2ea6-4100-a124-a84df4730adc",
   "metadata": {},
   "source": [
    "O MSE nos dados selecionados para teste final é cerca de 5 vezes o valor do MSE sobre os dados de teste.\n",
    "Embora seja um tanto elevado em relação aos dados de teste, é apenas um estudo e não uma aplicação final."
   ]
  },
  {
   "cell_type": "markdown",
   "id": "6edbf447-e78f-48e8-8905-8d14b3f9c70c",
   "metadata": {},
   "source": [
    "## Plotando a curva final"
   ]
  },
  {
   "cell_type": "code",
   "execution_count": null,
   "id": "15c9a51f-7ecf-4bd4-9c8c-5a9a3edcf281",
   "metadata": {},
   "outputs": [],
   "source": [
    "# somando pois a série de treinamento é a diferença sobre a curva original - nos dados nunca vistos é uma soma cumulativa\n",
    "Y_r_pred = np.concatenate((series[0:len(series) - len(X_r_scaled)], series[len(series) - len(X_r) - 1] + np.cumsum(y_r_pred)))\n",
    "Y_r_pred = pd.Series(Y_r_pred, name=\"PREDICTED_OHLC4\")\n",
    "Orig_y = ts[\"OHLC4\"].to_numpy()\n",
    "Orig_y = pd.Series(Orig_y, name=\"ORIG_OHLC4\")\n",
    "bollinger_bands = ta.bbands(close=Y_r_pred, length=window_length) # calculando as bandas de bollinger sobre o ohlc4 predito\n",
    "bollinger_bands.fillna(0.0, inplace=True) # substituindo NaN por 0\n",
    "bollinger_bands.drop([\"BBP_5_2.0\", \"BBB_5_2.0\"], axis=1, inplace=True) # retirando as colunas desnecessárias\n",
    "pts = pd.concat([Orig_y, Y_r_pred, bollinger_bands], axis=1)\n",
    "pts = pd.DataFrame(pts)\n",
    "pts.rename(columns={'BBL_5_2.0': 'LOWER_BBAND', 'BBM_5_2.0': 'MEAN_BBAND', 'BBU_5_2.0': 'UPPER_BBAND'}, inplace=True)\n",
    "pts.plot(figsize=(20, 20))"
   ]
  },
  {
   "cell_type": "markdown",
   "id": "479d733f-c92a-4450-a9fc-2345af9ab734",
   "metadata": {},
   "source": [
    "É possível ver que o modelo diverge bastante para os dados fora do treinamento e teste. O modelo tem performance regular com a base de dados de treinamento feita. Muitas melhorias serão feitas, talvez utilizando RNNs, se for atividade de alguma aula posterior."
   ]
  }
 ],
 "metadata": {
  "colab": {
   "provenance": []
  },
  "kernelspec": {
   "display_name": "Python 3 (ipykernel)",
   "language": "python",
   "name": "python3"
  },
  "language_info": {
   "codemirror_mode": {
    "name": "ipython",
    "version": 3
   },
   "file_extension": ".py",
   "mimetype": "text/x-python",
   "name": "python",
   "nbconvert_exporter": "python",
   "pygments_lexer": "ipython3",
   "version": "3.10.12"
  }
 },
 "nbformat": 4,
 "nbformat_minor": 5
}
