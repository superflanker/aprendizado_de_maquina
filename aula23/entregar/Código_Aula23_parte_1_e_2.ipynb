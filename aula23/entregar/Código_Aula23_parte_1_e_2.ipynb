{
 "cells": [
  {
   "cell_type": "markdown",
   "metadata": {},
   "source": [
    "### Atividade da Aula\n",
    "\n",
    "- **Aluno:** Augusto Mathias Adams\n",
    "\n",
    "#### Parte 1\n",
    "\n",
    "**Rode todo o código. Responda às questões nele contidas e complete-o, se necessário**\n",
    "\n",
    "Feito.\n",
    "\n",
    "#### Parte 2\n",
    "1. **Fazendo uma análise cuidadosa de como diferentes valores de limiar afetam as taxas de $VP$ e $FP$ resultantes para os dados de validação deste problema, escolha um valor de limiar adequado. Justifique e detalhe sua escolha final.**\n",
    "\n",
    "A tabela a seguir, extraída da execução do código deste *notebook*, será utilizada para fins de análise e justificativa da resposta à questão.\n",
    "\n",
    "| **Valor Limiar** | **Taxa de VP** | **Taxa de FP** |\n",
    "|-------------------|----------------|----------------|\n",
    "| 0.00             | 1.000000       | 1.000000       |\n",
    "| 0.02             | 0.893333       | 0.011567       |\n",
    "| 0.04             | 0.880000       | 0.009598       |\n",
    "| 0.06             | 0.880000       | 0.008543       |\n",
    "| 0.08             | 0.880000       | 0.008016       |\n",
    "| 0.10             | 0.880000       | 0.007577       |\n",
    "| 0.12             | 0.880000       | 0.007172       |\n",
    "| 0.14             | 0.880000       | 0.007014       |\n",
    "| 0.16             | 0.880000       | 0.006768       |\n",
    "| 0.18             | 0.880000       | 0.006434       |\n",
    "| 0.20             | 0.866667       | 0.006258       |\n",
    "| 0.22             | 0.866667       | 0.006047       |\n",
    "| 0.24             | 0.866667       | 0.005889       |\n",
    "| 0.26             | 0.866667       | 0.005801       |\n",
    "| 0.28             | 0.866667       | 0.005608       |\n",
    "| 0.30             | 0.853333       | 0.005485       |\n",
    "| 0.32             | 0.853333       | 0.005379       |\n",
    "| 0.34             | 0.853333       | 0.005326       |\n",
    "| 0.36             | 0.853333       | 0.005203       |\n",
    "| 0.38             | 0.840000       | 0.005080       |\n",
    "| 0.40             | 0.840000       | 0.005010       |\n",
    "| 0.42             | 0.840000       | 0.004834       |\n",
    "| 0.44             | 0.840000       | 0.004746       |\n",
    "| 0.46             | 0.840000       | 0.004658       |\n",
    "| 0.48             | 0.840000       | 0.004588       |\n",
    "| 0.50             | 0.840000       | 0.004500       |\n",
    "| 0.52             | 0.840000       | 0.004412       |\n",
    "| 0.54             | 0.840000       | 0.004377       |\n",
    "| 0.56             | 0.840000       | 0.004254       |\n",
    "| 0.58             | 0.840000       | 0.004149       |\n",
    "| 0.60             | 0.840000       | 0.004008       |\n",
    "| 0.62             | 0.840000       | 0.003867       |\n",
    "| 0.64             | 0.840000       | 0.003832       |\n",
    "| 0.66             | 0.840000       | 0.003709       |\n",
    "| 0.68             | 0.840000       | 0.003569       |\n",
    "| 0.70             | 0.840000       | 0.003481       |\n",
    "| 0.72             | 0.840000       | 0.003340       |\n",
    "| 0.74             | 0.840000       | 0.003111       |\n",
    "| 0.76             | 0.840000       | 0.002918       |\n",
    "| 0.78             | 0.840000       | 0.002777       |\n",
    "| 0.80             | 0.840000       | 0.002619       |\n",
    "| 0.82             | 0.826667       | 0.002426       |\n",
    "| 0.84             | 0.826667       | 0.002197       |\n",
    "| 0.86             | 0.826667       | 0.001969       |\n",
    "| 0.88             | 0.813333       | 0.001705       |\n",
    "| 0.90             | 0.813333       | 0.001565       |\n",
    "| 0.92             | 0.800000       | 0.001318       |\n",
    "| 0.94             | 0.773333       | 0.001072       |\n",
    "| 0.96             | 0.746667       | 0.000756       |\n",
    "| 0.98             | 0.706667       | 0.000580       |\n",
    "| 1.00             | 0.026667       | 0.000053       |\n",
    "\n",
    "No contexto do problema, devemos buscar o menor valor de $FP$ enquanto mantém uma alta taxa de $VP$. Para valores de limiar baixos ($0.00$), o modelo tem uma taxa de $VP$ máxima ($1.0$), mas uma taxa de $FP$ ($1.0$). Entre os limiares $0.02$–$0.18$, a taxa de VP se mantém elevada ($0.880000$–$0.893333$), enquanto a taxa de $FP$ decresce de $0.011567$ para $0.006434$. No intervalo de $0.20$ a $0.66$, a taxa de $VP$ começa a declinar de $0.880000$ para $0.840000$, acompanhada por uma redução na taxa de $FP$, que atinge valores inferiores a $0.004$. A partir de $0.68$, a taxa de $VP$ mantém-se estável em $0.840000$ até o limiar de $0.80$, enquanto a taxa de $FP$ continua caindo. Após o limiar $0.82$, a taxa de $VP$ sofre um declínio constante, chegando a $0.026667$ em para o limiar de $1.00$, com a taxa de $FP$ próxima de zero ($0.000053$).\n",
    "\n",
    "Pela análise da curva $ROC$ existente ao final do código, nota-se que é praticamente inviável aumentar a taxa de $VP$ e diminuir a taxa de $VP$ simultaneamente, portanto, o critério a ser utilizado é uma ponderação dos objetivos do problema: Deseja-se diminuir a taxa de $FP$ sem contudo diminuir drasticamente a taxa de $VP$. Portanto, valores de limiar entre $0.04$ e $0.80$ parecem, a princípio, razoáveis dentro deste contexto. \n",
    "\n",
    "Considerando que há $56.961$ transações em nosso conjunto de validação, das quais $75$ são fraudulentas, podemos supor o seguinte:\n",
    "\n",
    "- Transações fraudulentas são mais danosas ao sistema financeiro do que uma transação legítima negada por suspeita de fraude. Uma transação negada simplesmente pode ser refeita dentro de alguns minutos, dependendo do mecanismo do banco, uma transação fraudulenta que burlou o sistema de detecção de fraudes gera custos para o banco e até processos - daí a importância de detectá-las em tempo.\n",
    "\n",
    "- manter uma taxa de $VP$ alta significa que menos transações fraulentas são passpiveis de causar impacto no sistema financeiro - daí vem a importância deste parâmetro ser elevado.\n",
    "\n",
    "- Contudo, se o valor da taxa de $FP$ for suficientemente elevada, haverá reclamações por causa de transações legítimas sendo recusadas.\n",
    "\n",
    "- Isto posto, o valor dito como ótimo deve ser uma ponderação entre as duas situações:\n",
    "\n",
    "    - Primeiro, a quantidade de transações fraudulentas é extremamente baixa, e não há muitos problemas em sua não detecção devido ao baixo volume.\n",
    "    - Segundo, é mais interessante reduzir a taxa de $FP$ pois o volume de transações legítimas é alto, impactando seriamente  o sistema financeiro.\n",
    "\n",
    "Um valor de limiar entre $0.4$ e $0.8$ seria algo a considerar. Para o limiar de $0.8$, tem-se para a base de validação:\n",
    "\n",
    "- $VP = 0.84 \\times 75 = 63$\n",
    "- $FP = 0.0002619 \\times 56886 \\approx 149 $\n",
    "\n",
    "Valores estes bem mais administráveis do que o resultado da matrix de confusão ($VP = 63$, $FP = 256$). Portanto, o valor de limiar $0.8$ é bastante razoável e é o nosso valor escolhido, pois embora não altere o $VP$, reduz drasticamente o $FP$ se comparado aos resultados da matriz de confusão.\n",
    "\n",
    "\n",
    "\n"
   ]
  },
  {
   "cell_type": "markdown",
   "metadata": {
    "id": "cnRpPyBvdrWW"
   },
   "source": [
    "# Classificação desbalanceada (Escolha do valor de limiar para classicação e cálculo das métricas ROC e AUC)\n",
    "\n",
    "Esse notebook é uma tradução e adaptação do exemplo apresentado [no site do Keras](https://keras.io/examples/structured_data/imbalanced_classification/), criado por [fchollet](https://twitter.com/fchollet), e que utiliza essa base de dados do Kaggle [aqui](https://www.kaggle.com/datasets/mlg-ulb/creditcardfraud).\n"
   ]
  },
  {
   "cell_type": "markdown",
   "metadata": {
    "id": "tjLuu-SCdrWc"
   },
   "source": [
    "## Introdução\n",
    "\n",
    "Este exemplo mostra como treinar um modelo classificador quando os dados são altamente desbalanceados. O objetivo é treinar uma rede neural capaz de identificar operações financeiras fraudulentas."
   ]
  },
  {
   "cell_type": "markdown",
   "metadata": {
    "id": "GuR9jf80drWd"
   },
   "source": [
    "## Vetorizando os dados CSV"
   ]
  },
  {
   "cell_type": "code",
   "execution_count": 14,
   "metadata": {
    "colab": {
     "base_uri": "https://localhost:8080/"
    },
    "id": "C2Anb2pbdrWe",
    "outputId": "b6c3884a-afdd-470e-8f52-0a41e2b37800"
   },
   "outputs": [
    {
     "name": "stdout",
     "output_type": "stream",
     "text": [
      "CABECALHO: \"Time\",\"V1\",\"V2\",\"V3\",\"V4\",\"V5\",\"V6\",\"V7\",\"V8\",\"V9\",\"V10\",\"V11\",\"V12\",\"V13\",\"V14\",\"V15\",\"V16\",\"V17\",\"V18\",\"V19\",\"V20\",\"V21\",\"V22\",\"V23\",\"V24\",\"V25\",\"V26\",\"V27\",\"V28\",\"Amount\",\"Class\"\n",
      "CARACTERISTICAS: [0.0, -1.3598071336738, -0.0727811733098497, 2.53634673796914, 1.37815522427443, -0.338320769942518, 0.462387777762292, 0.239598554061257, 0.0986979012610507, 0.363786969611213, 0.0907941719789316, -0.551599533260813, -0.617800855762348, -0.991389847235408, -0.311169353699879, 1.46817697209427, -0.470400525259478, 0.207971241929242, 0.0257905801985591, 0.403992960255733, 0.251412098239705, -0.018306777944153, 0.277837575558899, -0.110473910188767, 0.0669280749146731, 0.128539358273528, -0.189114843888824, 0.133558376740387, -0.0210530534538215, 149.62]\n",
      "caracteristicas.shape: (284807, 30)\n",
      "valores_alvo.shape: (284807, 1)\n"
     ]
    }
   ],
   "source": [
    "import csv\n",
    "import numpy as np\n",
    "\n",
    "# Os dados reais contendo operações financeiras pode ser obtido em https://www.kaggle.com/mlg-ulb/creditcardfraud/\n",
    "fname = \"creditcard.csv\"\n",
    "\n",
    "todas_caracteristicas = []\n",
    "todos_rotulos         = []\n",
    "with open(fname) as f:\n",
    "    for i, line in enumerate(f):\n",
    "        if i == 0: # primeira linha da tabela: cabeçalho\n",
    "            print(\"CABECALHO:\", line.strip())\n",
    "            continue  # pula cabeçalho da tabela\n",
    "        fields = line.strip().split(\",\")\n",
    "        todas_caracteristicas.append([float(v.replace('\"', \"\")) for v in fields[:-1]])\n",
    "        todos_rotulos.append([int(fields[-1].replace('\"', \"\"))])\n",
    "        if i == 1:\n",
    "            print(\"CARACTERISTICAS:\", todas_caracteristicas[-1])\n",
    "\n",
    "caracteristicas = np.array(todas_caracteristicas, dtype=\"float32\")\n",
    "valores_alvo    = np.array(todos_rotulos, dtype=\"uint8\")\n",
    "print(\"caracteristicas.shape:\", caracteristicas.shape)\n",
    "print(\"valores_alvo.shape:\", valores_alvo.shape)"
   ]
  },
  {
   "cell_type": "markdown",
   "metadata": {
    "id": "0rNISdjydrWg"
   },
   "source": [
    "## Preparando os dados"
   ]
  },
  {
   "cell_type": "code",
   "execution_count": 15,
   "metadata": {
    "colab": {
     "base_uri": "https://localhost:8080/"
    },
    "id": "E1DVxQk1drWh",
    "outputId": "ee2b964c-b422-47d0-e0e6-9c1e567bcb44"
   },
   "outputs": [
    {
     "name": "stdout",
     "output_type": "stream",
     "text": [
      "Número de amostras de treinamento: 227846\n",
      "Número de amostras de validação: 56961\n"
     ]
    }
   ],
   "source": [
    "num_amostras_validacao = int(len(caracteristicas) * 0.2) # deixaremos 20% dos dados para validação\n",
    "X_trein = caracteristicas[:-num_amostras_validacao]\n",
    "y_trein = valores_alvo[:-num_amostras_validacao]\n",
    "X_val   = caracteristicas[-num_amostras_validacao:]\n",
    "y_val   = valores_alvo[-num_amostras_validacao:]\n",
    "\n",
    "print(\"Número de amostras de treinamento:\", len(X_trein))\n",
    "print(\"Número de amostras de validação:\", len(X_val))"
   ]
  },
  {
   "cell_type": "markdown",
   "metadata": {
    "id": "CnDCSu7zdrWh"
   },
   "source": [
    "## Análise do desbalanceamento nos rótulos e atribuição de pesos diferentes"
   ]
  },
  {
   "cell_type": "code",
   "execution_count": 16,
   "metadata": {
    "colab": {
     "base_uri": "https://localhost:8080/"
    },
    "id": "nMiBYrdGdrWi",
    "outputId": "7f6b7a27-3eeb-48fd-ae30-e9e8cde36314"
   },
   "outputs": [
    {
     "name": "stdout",
     "output_type": "stream",
     "text": [
      "[227429    417]\n",
      "Número de amostras positivas no conjunto de dados: 417 (0.18% do total)\n",
      "Peso para classe 0: 4.396976638863118e-06\n",
      "Peso para classe 1: 0.002398081534772182\n"
     ]
    }
   ],
   "source": [
    "qtdade_amostras_cada_classe = np.bincount(y_trein[:, 0]) # função do numpy que conta a quantidade de amostras para cada classe\n",
    "print(qtdade_amostras_cada_classe)\n",
    "print(\n",
    "    \"Número de amostras positivas no conjunto de dados: {} ({:.2f}% do total)\".format(\n",
    "        qtdade_amostras_cada_classe[1], 100 * float(qtdade_amostras_cada_classe[1]) / len(y_trein)\n",
    "    )\n",
    ")\n",
    "\n",
    "peso_classe_0 = 1.0 / qtdade_amostras_cada_classe[0]\n",
    "peso_classe_1 = 1.0 / qtdade_amostras_cada_classe[1]\n",
    "\n",
    "print(\"Peso para classe 0:\", peso_classe_0 )\n",
    "print(\"Peso para classe 1:\", peso_classe_1 )\n",
    "\n",
    "pesos_classes = {0: peso_classe_0, 1: peso_classe_1} # cria um dicionário com o peso de cada classe"
   ]
  },
  {
   "cell_type": "markdown",
   "metadata": {
    "id": "e-E-Ra1wdrWj"
   },
   "source": [
    "## Normalizando os dados usando média e desvio padrão"
   ]
  },
  {
   "cell_type": "code",
   "execution_count": 17,
   "metadata": {
    "id": "sdg1DpuhdrWj"
   },
   "outputs": [],
   "source": [
    "media    = np.mean(X_trein, axis=0)\n",
    "X_trein -= media\n",
    "X_val   -= media\n",
    "desvio   = np.std(X_trein, axis=0)\n",
    "X_trein /= desvio\n",
    "X_val   /= desvio"
   ]
  },
  {
   "cell_type": "markdown",
   "metadata": {
    "id": "C8BviQ2GdrWj"
   },
   "source": [
    "## Criando uma rede neural para classificação binária"
   ]
  },
  {
   "cell_type": "code",
   "execution_count": 18,
   "metadata": {
    "colab": {
     "base_uri": "https://localhost:8080/",
     "height": 272
    },
    "id": "l6E71AoqdrWk",
    "outputId": "42636c26-24b4-4ff5-a7b1-8a349e64db4b"
   },
   "outputs": [
    {
     "data": {
      "text/html": [
       "<pre style=\"white-space:pre;overflow-x:auto;line-height:normal;font-family:Menlo,'DejaVu Sans Mono',consolas,'Courier New',monospace\"><span style=\"font-weight: bold\">Model: \"sequential_1\"</span>\n",
       "</pre>\n"
      ],
      "text/plain": [
       "\u001b[1mModel: \"sequential_1\"\u001b[0m\n"
      ]
     },
     "metadata": {},
     "output_type": "display_data"
    },
    {
     "data": {
      "text/html": [
       "<pre style=\"white-space:pre;overflow-x:auto;line-height:normal;font-family:Menlo,'DejaVu Sans Mono',consolas,'Courier New',monospace\">┏━━━━━━━━━━━━━━━━━━━━━━━━━━━━━━━━━┳━━━━━━━━━━━━━━━━━━━━━━━━┳━━━━━━━━━━━━━━━┓\n",
       "┃<span style=\"font-weight: bold\"> Layer (type)                    </span>┃<span style=\"font-weight: bold\"> Output Shape           </span>┃<span style=\"font-weight: bold\">       Param # </span>┃\n",
       "┡━━━━━━━━━━━━━━━━━━━━━━━━━━━━━━━━━╇━━━━━━━━━━━━━━━━━━━━━━━━╇━━━━━━━━━━━━━━━┩\n",
       "│ dense_4 (<span style=\"color: #0087ff; text-decoration-color: #0087ff\">Dense</span>)                 │ (<span style=\"color: #00d7ff; text-decoration-color: #00d7ff\">None</span>, <span style=\"color: #00af00; text-decoration-color: #00af00\">256</span>)            │         <span style=\"color: #00af00; text-decoration-color: #00af00\">7,936</span> │\n",
       "├─────────────────────────────────┼────────────────────────┼───────────────┤\n",
       "│ dense_5 (<span style=\"color: #0087ff; text-decoration-color: #0087ff\">Dense</span>)                 │ (<span style=\"color: #00d7ff; text-decoration-color: #00d7ff\">None</span>, <span style=\"color: #00af00; text-decoration-color: #00af00\">256</span>)            │        <span style=\"color: #00af00; text-decoration-color: #00af00\">65,792</span> │\n",
       "├─────────────────────────────────┼────────────────────────┼───────────────┤\n",
       "│ dense_6 (<span style=\"color: #0087ff; text-decoration-color: #0087ff\">Dense</span>)                 │ (<span style=\"color: #00d7ff; text-decoration-color: #00d7ff\">None</span>, <span style=\"color: #00af00; text-decoration-color: #00af00\">256</span>)            │        <span style=\"color: #00af00; text-decoration-color: #00af00\">65,792</span> │\n",
       "├─────────────────────────────────┼────────────────────────┼───────────────┤\n",
       "│ dense_7 (<span style=\"color: #0087ff; text-decoration-color: #0087ff\">Dense</span>)                 │ (<span style=\"color: #00d7ff; text-decoration-color: #00d7ff\">None</span>, <span style=\"color: #00af00; text-decoration-color: #00af00\">1</span>)              │           <span style=\"color: #00af00; text-decoration-color: #00af00\">257</span> │\n",
       "└─────────────────────────────────┴────────────────────────┴───────────────┘\n",
       "</pre>\n"
      ],
      "text/plain": [
       "┏━━━━━━━━━━━━━━━━━━━━━━━━━━━━━━━━━┳━━━━━━━━━━━━━━━━━━━━━━━━┳━━━━━━━━━━━━━━━┓\n",
       "┃\u001b[1m \u001b[0m\u001b[1mLayer (type)                   \u001b[0m\u001b[1m \u001b[0m┃\u001b[1m \u001b[0m\u001b[1mOutput Shape          \u001b[0m\u001b[1m \u001b[0m┃\u001b[1m \u001b[0m\u001b[1m      Param #\u001b[0m\u001b[1m \u001b[0m┃\n",
       "┡━━━━━━━━━━━━━━━━━━━━━━━━━━━━━━━━━╇━━━━━━━━━━━━━━━━━━━━━━━━╇━━━━━━━━━━━━━━━┩\n",
       "│ dense_4 (\u001b[38;5;33mDense\u001b[0m)                 │ (\u001b[38;5;45mNone\u001b[0m, \u001b[38;5;34m256\u001b[0m)            │         \u001b[38;5;34m7,936\u001b[0m │\n",
       "├─────────────────────────────────┼────────────────────────┼───────────────┤\n",
       "│ dense_5 (\u001b[38;5;33mDense\u001b[0m)                 │ (\u001b[38;5;45mNone\u001b[0m, \u001b[38;5;34m256\u001b[0m)            │        \u001b[38;5;34m65,792\u001b[0m │\n",
       "├─────────────────────────────────┼────────────────────────┼───────────────┤\n",
       "│ dense_6 (\u001b[38;5;33mDense\u001b[0m)                 │ (\u001b[38;5;45mNone\u001b[0m, \u001b[38;5;34m256\u001b[0m)            │        \u001b[38;5;34m65,792\u001b[0m │\n",
       "├─────────────────────────────────┼────────────────────────┼───────────────┤\n",
       "│ dense_7 (\u001b[38;5;33mDense\u001b[0m)                 │ (\u001b[38;5;45mNone\u001b[0m, \u001b[38;5;34m1\u001b[0m)              │           \u001b[38;5;34m257\u001b[0m │\n",
       "└─────────────────────────────────┴────────────────────────┴───────────────┘\n"
      ]
     },
     "metadata": {},
     "output_type": "display_data"
    },
    {
     "data": {
      "text/html": [
       "<pre style=\"white-space:pre;overflow-x:auto;line-height:normal;font-family:Menlo,'DejaVu Sans Mono',consolas,'Courier New',monospace\"><span style=\"font-weight: bold\"> Total params: </span><span style=\"color: #00af00; text-decoration-color: #00af00\">139,777</span> (546.00 KB)\n",
       "</pre>\n"
      ],
      "text/plain": [
       "\u001b[1m Total params: \u001b[0m\u001b[38;5;34m139,777\u001b[0m (546.00 KB)\n"
      ]
     },
     "metadata": {},
     "output_type": "display_data"
    },
    {
     "data": {
      "text/html": [
       "<pre style=\"white-space:pre;overflow-x:auto;line-height:normal;font-family:Menlo,'DejaVu Sans Mono',consolas,'Courier New',monospace\"><span style=\"font-weight: bold\"> Trainable params: </span><span style=\"color: #00af00; text-decoration-color: #00af00\">139,777</span> (546.00 KB)\n",
       "</pre>\n"
      ],
      "text/plain": [
       "\u001b[1m Trainable params: \u001b[0m\u001b[38;5;34m139,777\u001b[0m (546.00 KB)\n"
      ]
     },
     "metadata": {},
     "output_type": "display_data"
    },
    {
     "data": {
      "text/html": [
       "<pre style=\"white-space:pre;overflow-x:auto;line-height:normal;font-family:Menlo,'DejaVu Sans Mono',consolas,'Courier New',monospace\"><span style=\"font-weight: bold\"> Non-trainable params: </span><span style=\"color: #00af00; text-decoration-color: #00af00\">0</span> (0.00 B)\n",
       "</pre>\n"
      ],
      "text/plain": [
       "\u001b[1m Non-trainable params: \u001b[0m\u001b[38;5;34m0\u001b[0m (0.00 B)\n"
      ]
     },
     "metadata": {},
     "output_type": "display_data"
    }
   ],
   "source": [
    "import keras\n",
    "\n",
    "modelo = keras.Sequential(\n",
    "    [\n",
    "        keras.Input(shape=X_trein.shape[1:]),\n",
    "        keras.layers.Dense(256, activation=\"relu\"),\n",
    "        keras.layers.Dense(256, activation=\"relu\"),\n",
    "        keras.layers.Dense(256, activation=\"relu\"),\n",
    "        keras.layers.Dense(1, activation=\"sigmoid\"),\n",
    "    ]\n",
    ")\n",
    "modelo.summary()"
   ]
  },
  {
   "cell_type": "markdown",
   "metadata": {
    "id": "_z_1oXeEdrWk"
   },
   "source": [
    "## Treinando o modelo levando em conta o desbalaceamento entre as classes"
   ]
  },
  {
   "cell_type": "code",
   "execution_count": 19,
   "metadata": {
    "colab": {
     "base_uri": "https://localhost:8080/"
    },
    "id": "f1c8WPjm4OAP",
    "outputId": "76368816-8e0a-46c1-f2de-992074a92853"
   },
   "outputs": [
    {
     "name": "stdout",
     "output_type": "stream",
     "text": [
      "Epoch 1/30\n"
     ]
    },
    {
     "name": "stdout",
     "output_type": "stream",
     "text": [
      "\u001b[1m112/112\u001b[0m \u001b[32m━━━━━━━━━━━━━━━━━━━━\u001b[0m\u001b[37m\u001b[0m \u001b[1m2s\u001b[0m 13ms/step - loss: 3.1492e-06\n",
      "Epoch 2/30\n",
      "\u001b[1m112/112\u001b[0m \u001b[32m━━━━━━━━━━━━━━━━━━━━\u001b[0m\u001b[37m\u001b[0m \u001b[1m1s\u001b[0m 12ms/step - loss: 1.0358e-06\n",
      "Epoch 3/30\n",
      "\u001b[1m112/112\u001b[0m \u001b[32m━━━━━━━━━━━━━━━━━━━━\u001b[0m\u001b[37m\u001b[0m \u001b[1m1s\u001b[0m 13ms/step - loss: 1.0799e-06\n",
      "Epoch 4/30\n",
      "\u001b[1m112/112\u001b[0m \u001b[32m━━━━━━━━━━━━━━━━━━━━\u001b[0m\u001b[37m\u001b[0m \u001b[1m1s\u001b[0m 12ms/step - loss: 1.1408e-06\n",
      "Epoch 5/30\n",
      "\u001b[1m112/112\u001b[0m \u001b[32m━━━━━━━━━━━━━━━━━━━━\u001b[0m\u001b[37m\u001b[0m \u001b[1m1s\u001b[0m 12ms/step - loss: 7.5158e-07\n",
      "Epoch 6/30\n",
      "\u001b[1m112/112\u001b[0m \u001b[32m━━━━━━━━━━━━━━━━━━━━\u001b[0m\u001b[37m\u001b[0m \u001b[1m1s\u001b[0m 12ms/step - loss: 6.3900e-07\n",
      "Epoch 7/30\n",
      "\u001b[1m112/112\u001b[0m \u001b[32m━━━━━━━━━━━━━━━━━━━━\u001b[0m\u001b[37m\u001b[0m \u001b[1m1s\u001b[0m 12ms/step - loss: 5.6904e-07\n",
      "Epoch 8/30\n",
      "\u001b[1m112/112\u001b[0m \u001b[32m━━━━━━━━━━━━━━━━━━━━\u001b[0m\u001b[37m\u001b[0m \u001b[1m1s\u001b[0m 12ms/step - loss: 8.0669e-07\n",
      "Epoch 9/30\n",
      "\u001b[1m112/112\u001b[0m \u001b[32m━━━━━━━━━━━━━━━━━━━━\u001b[0m\u001b[37m\u001b[0m \u001b[1m1s\u001b[0m 12ms/step - loss: 4.6558e-07\n",
      "Epoch 10/30\n",
      "\u001b[1m112/112\u001b[0m \u001b[32m━━━━━━━━━━━━━━━━━━━━\u001b[0m\u001b[37m\u001b[0m \u001b[1m1s\u001b[0m 12ms/step - loss: 4.1708e-07\n",
      "Epoch 11/30\n",
      "\u001b[1m112/112\u001b[0m \u001b[32m━━━━━━━━━━━━━━━━━━━━\u001b[0m\u001b[37m\u001b[0m \u001b[1m1s\u001b[0m 12ms/step - loss: 3.4877e-07\n",
      "Epoch 12/30\n",
      "\u001b[1m112/112\u001b[0m \u001b[32m━━━━━━━━━━━━━━━━━━━━\u001b[0m\u001b[37m\u001b[0m \u001b[1m1s\u001b[0m 13ms/step - loss: 3.1752e-07\n",
      "Epoch 13/30\n",
      "\u001b[1m112/112\u001b[0m \u001b[32m━━━━━━━━━━━━━━━━━━━━\u001b[0m\u001b[37m\u001b[0m \u001b[1m1s\u001b[0m 13ms/step - loss: 3.5627e-07\n",
      "Epoch 14/30\n",
      "\u001b[1m112/112\u001b[0m \u001b[32m━━━━━━━━━━━━━━━━━━━━\u001b[0m\u001b[37m\u001b[0m \u001b[1m2s\u001b[0m 17ms/step - loss: 1.7165e-07\n",
      "Epoch 15/30\n",
      "\u001b[1m112/112\u001b[0m \u001b[32m━━━━━━━━━━━━━━━━━━━━\u001b[0m\u001b[37m\u001b[0m \u001b[1m2s\u001b[0m 16ms/step - loss: 3.0457e-07\n",
      "Epoch 16/30\n",
      "\u001b[1m112/112\u001b[0m \u001b[32m━━━━━━━━━━━━━━━━━━━━\u001b[0m\u001b[37m\u001b[0m \u001b[1m2s\u001b[0m 16ms/step - loss: 1.8356e-07\n",
      "Epoch 17/30\n",
      "\u001b[1m112/112\u001b[0m \u001b[32m━━━━━━━━━━━━━━━━━━━━\u001b[0m\u001b[37m\u001b[0m \u001b[1m2s\u001b[0m 18ms/step - loss: 4.2492e-07\n",
      "Epoch 18/30\n",
      "\u001b[1m112/112\u001b[0m \u001b[32m━━━━━━━━━━━━━━━━━━━━\u001b[0m\u001b[37m\u001b[0m \u001b[1m2s\u001b[0m 15ms/step - loss: 5.2528e-07\n",
      "Epoch 19/30\n",
      "\u001b[1m112/112\u001b[0m \u001b[32m━━━━━━━━━━━━━━━━━━━━\u001b[0m\u001b[37m\u001b[0m \u001b[1m2s\u001b[0m 14ms/step - loss: 3.1540e-07\n",
      "Epoch 20/30\n",
      "\u001b[1m112/112\u001b[0m \u001b[32m━━━━━━━━━━━━━━━━━━━━\u001b[0m\u001b[37m\u001b[0m \u001b[1m2s\u001b[0m 14ms/step - loss: 9.2051e-07\n",
      "Epoch 21/30\n",
      "\u001b[1m112/112\u001b[0m \u001b[32m━━━━━━━━━━━━━━━━━━━━\u001b[0m\u001b[37m\u001b[0m \u001b[1m2s\u001b[0m 14ms/step - loss: 1.3807e-06\n",
      "Epoch 22/30\n",
      "\u001b[1m112/112\u001b[0m \u001b[32m━━━━━━━━━━━━━━━━━━━━\u001b[0m\u001b[37m\u001b[0m \u001b[1m2s\u001b[0m 14ms/step - loss: 5.0583e-07\n",
      "Epoch 23/30\n",
      "\u001b[1m112/112\u001b[0m \u001b[32m━━━━━━━━━━━━━━━━━━━━\u001b[0m\u001b[37m\u001b[0m \u001b[1m2s\u001b[0m 15ms/step - loss: 5.9060e-07\n",
      "Epoch 24/30\n",
      "\u001b[1m112/112\u001b[0m \u001b[32m━━━━━━━━━━━━━━━━━━━━\u001b[0m\u001b[37m\u001b[0m \u001b[1m2s\u001b[0m 14ms/step - loss: 8.1874e-07\n",
      "Epoch 25/30\n",
      "\u001b[1m112/112\u001b[0m \u001b[32m━━━━━━━━━━━━━━━━━━━━\u001b[0m\u001b[37m\u001b[0m \u001b[1m2s\u001b[0m 14ms/step - loss: 3.0777e-07\n",
      "Epoch 26/30\n",
      "\u001b[1m112/112\u001b[0m \u001b[32m━━━━━━━━━━━━━━━━━━━━\u001b[0m\u001b[37m\u001b[0m \u001b[1m2s\u001b[0m 15ms/step - loss: 1.9531e-07\n",
      "Epoch 27/30\n",
      "\u001b[1m112/112\u001b[0m \u001b[32m━━━━━━━━━━━━━━━━━━━━\u001b[0m\u001b[37m\u001b[0m \u001b[1m2s\u001b[0m 15ms/step - loss: 9.7528e-08\n",
      "Epoch 28/30\n",
      "\u001b[1m112/112\u001b[0m \u001b[32m━━━━━━━━━━━━━━━━━━━━\u001b[0m\u001b[37m\u001b[0m \u001b[1m2s\u001b[0m 14ms/step - loss: 2.6188e-07\n",
      "Epoch 29/30\n",
      "\u001b[1m112/112\u001b[0m \u001b[32m━━━━━━━━━━━━━━━━━━━━\u001b[0m\u001b[37m\u001b[0m \u001b[1m2s\u001b[0m 15ms/step - loss: 5.4159e-07\n",
      "Epoch 30/30\n",
      "\u001b[1m112/112\u001b[0m \u001b[32m━━━━━━━━━━━━━━━━━━━━\u001b[0m\u001b[37m\u001b[0m \u001b[1m2s\u001b[0m 14ms/step - loss: 2.2536e-07\n"
     ]
    },
    {
     "data": {
      "text/plain": [
       "<keras.src.callbacks.history.History at 0x72c240f49390>"
      ]
     },
     "execution_count": 19,
     "metadata": {},
     "output_type": "execute_result"
    }
   ],
   "source": [
    "modelo.compile(optimizer=keras.optimizers.Adam(1e-2), loss=\"binary_crossentropy\")\n",
    "\n",
    "modelo.fit(\n",
    "    X_trein,\n",
    "    y_trein,\n",
    "    batch_size=2048, # define a quantidade de amostras de cada \"mini-lote\" (se comentarmos essa linha, será usado o padrão de 32 amostras por mini-lote)\n",
    "    epochs=30,\n",
    "    class_weight=pesos_classes,\n",
    ")"
   ]
  },
  {
   "cell_type": "code",
   "execution_count": 20,
   "metadata": {
    "colab": {
     "base_uri": "https://localhost:8080/"
    },
    "id": "roLEfruXwSv0",
    "outputId": "f024815c-609d-426a-8eb7-3fe5cc7597c9"
   },
   "outputs": [
    {
     "name": "stdout",
     "output_type": "stream",
     "text": [
      "\u001b[1m1781/1781\u001b[0m \u001b[32m━━━━━━━━━━━━━━━━━━━━\u001b[0m\u001b[37m\u001b[0m \u001b[1m2s\u001b[0m 922us/step\n",
      "(56961, 1)\n",
      "[[9.93508601e-18]\n",
      " [1.07524438e-15]\n",
      " [1.46557063e-14]\n",
      " [1.17047755e-02]\n",
      " [9.71975550e-03]\n",
      " [7.42751567e-08]\n",
      " [1.41827542e-07]\n",
      " [3.00793406e-15]\n",
      " [3.72056820e-04]\n",
      " [2.40585194e-13]]\n"
     ]
    }
   ],
   "source": [
    "probabilidades = modelo.predict(X_val) # cálculo da saída da rede neural para as transações de validação\n",
    "\n",
    "print(probabilidades.shape) # verificando o shape das probabilidades\n",
    "\n",
    "print(probabilidades[:10])"
   ]
  },
  {
   "cell_type": "code",
   "execution_count": 21,
   "metadata": {
    "colab": {
     "base_uri": "https://localhost:8080/"
    },
    "id": "uMThrh-3ws1z",
    "outputId": "91581517-04c0-4771-c306-e5adeedbd470"
   },
   "outputs": [
    {
     "name": "stdout",
     "output_type": "stream",
     "text": [
      "(56961, 1)\n",
      "[[0]\n",
      " [0]\n",
      " [0]\n",
      " [0]\n",
      " [0]\n",
      " [0]\n",
      " [0]\n",
      " [0]\n",
      " [0]\n",
      " [0]]\n"
     ]
    }
   ],
   "source": [
    "valor_limiar = 0.5\n",
    "\n",
    "y_val_est = (probabilidades >= valor_limiar).astype(int)\n",
    "\n",
    "print(y_val_est.shape)\n",
    "print(y_val_est[:10])"
   ]
  },
  {
   "cell_type": "code",
   "execution_count": 22,
   "metadata": {
    "colab": {
     "base_uri": "https://localhost:8080/",
     "height": 449
    },
    "id": "RQOnlKEU6ofH",
    "outputId": "5991dcd9-17c1-47f4-9a91-7472a2069a5f"
   },
   "outputs": [
    {
     "data": {
      "image/png": "[encoded data removed]",
      "text/plain": [
       "<Figure size 640x480 with 2 Axes>"
      ]
     },
     "metadata": {},
     "output_type": "display_data"
    }
   ],
   "source": [
    "import matplotlib.pyplot as plt\n",
    "from sklearn.metrics import confusion_matrix, ConfusionMatrixDisplay\n",
    "\n",
    "cm = confusion_matrix(y_val, y_val_est) # cm = confusion matrix = matriz de confusão\n",
    "disp = ConfusionMatrixDisplay(confusion_matrix=cm)\n",
    "disp.plot()\n",
    "\n",
    "plt.show()\n"
   ]
  },
  {
   "cell_type": "markdown",
   "metadata": {
    "id": "oGeOqgM_drWl"
   },
   "source": [
    "A partir da matriz de confusão, gerada para as transações de validação, podemos perceber que (os valores abaixo podem variar ligeiramente devido à inicialização aleatória dos pesos da rede neural):\n",
    "\n",
    "- 56961 transações de validação foram avalidadas pela rede neural\n",
    "- 66 transações foram corretamente identificadas como fraudulentas\n",
    "- 8 transações fraudulentas não foram detectadas\n",
    "- Infelizmente, 441 transações não fraudulentas foram incorretamente classificadas como fraudulentas.\n"
   ]
  },
  {
   "cell_type": "markdown",
   "metadata": {
    "id": "hPxIQh3JiHOi"
   },
   "source": [
    "Abaixo iremos construir uma função que permite calcular a matriz de confusão e suas métricas para diferentes valores de limiar"
   ]
  },
  {
   "cell_type": "code",
   "execution_count": 23,
   "metadata": {
    "id": "bnbDHPc9y9II"
   },
   "outputs": [],
   "source": [
    "def calcula_metricas(probabilidades, valor_limiar=0.5):\n",
    "\n",
    "  y_val_est = (probabilidades >= valor_limiar).astype(int)\n",
    "\n",
    "  cm = confusion_matrix(y_val, y_val_est) # cm = confusion matrix = matriz de confusão\n",
    "\n",
    "  # calculando métricas relativas à matriz de confusão\n",
    "\n",
    "  # faremos os cálculos abaixo levando em conta apenas a classe y=1 como sendo a classe \"positiva\" (classe de referência)\n",
    "  # Note que a posição dos elementos na matriz de confusão obtida pela função \"confusion_matrix\" do sk learn é diferente daquela apresentada nos slides da aula.\n",
    "  vp = cm[1,1] # verdadeiros positivos\n",
    "  vn = cm[0,0] # verdadeiros negativos\n",
    "  fp = cm[0,1] # falsos positivos\n",
    "  fn = cm[1,0] # falsos negativos\n",
    "\n",
    "  precisao  = vp / (vp + fp)\n",
    "  revocacao = vp / (vp + fn)\n",
    "  f1_score  = 2*precisao*revocacao / (precisao + revocacao)\n",
    "  taxa_VP   = revocacao\n",
    "  taxa_FP   = fp / (fp + vn)\n",
    "\n",
    "  return precisao, revocacao, f1_score, taxa_VP, taxa_FP"
   ]
  },
  {
   "cell_type": "code",
   "execution_count": 24,
   "metadata": {
    "colab": {
     "base_uri": "https://localhost:8080/"
    },
    "id": "TxzpQGvYieGS",
    "outputId": "5d7102ff-c489-4ac2-ceff-674e3ef9525a"
   },
   "outputs": [
    {
     "name": "stdout",
     "output_type": "stream",
     "text": [
      "precisão:  0.1974921630094044\n",
      "recall:  0.84\n",
      "F1 score:  0.3197969543147208\n",
      "taxa de VP:  0.84\n",
      "taxa de FP:  0.004500228527229898\n"
     ]
    }
   ],
   "source": [
    "valor_limiar = 0.5\n",
    "\n",
    "precisao, revocacao, f1_score, taxa_VP, taxa_FP = calcula_metricas(probabilidades, valor_limiar)\n",
    "\n",
    "print(\"precisão: \", precisao)\n",
    "\n",
    "print(\"recall: \", revocacao)\n",
    "\n",
    "print(\"F1 score: \", f1_score)\n",
    "\n",
    "print(\"taxa de VP: \", taxa_VP)\n",
    "\n",
    "print(\"taxa de FP: \", taxa_FP)"
   ]
  },
  {
   "cell_type": "markdown",
   "metadata": {
    "id": "D9FaKGyyhpJq"
   },
   "source": [
    "Note que é possível rodar a célula acima para diversos valores de limiar.\n",
    "\n",
    "A célula abaixo faz isso sistematicamente."
   ]
  },
  {
   "cell_type": "code",
   "execution_count": 25,
   "metadata": {
    "colab": {
     "base_uri": "https://localhost:8080/"
    },
    "id": "1dgcgx8YluiJ",
    "outputId": "9541b4b8-5be1-4851-92a5-6457bcef5d38"
   },
   "outputs": [
    {
     "name": "stdout",
     "output_type": "stream",
     "text": [
      "    Valor limiar  Taxa de VP  taxa de FP\n",
      "0           0.00    1.000000    1.000000\n",
      "1           0.02    0.893333    0.011567\n",
      "2           0.04    0.880000    0.009598\n",
      "3           0.06    0.880000    0.008543\n",
      "4           0.08    0.880000    0.008016\n",
      "5           0.10    0.880000    0.007577\n",
      "6           0.12    0.880000    0.007172\n",
      "7           0.14    0.880000    0.007014\n",
      "8           0.16    0.880000    0.006768\n",
      "9           0.18    0.880000    0.006434\n",
      "10          0.20    0.866667    0.006258\n",
      "11          0.22    0.866667    0.006047\n",
      "12          0.24    0.866667    0.005889\n",
      "13          0.26    0.866667    0.005801\n",
      "14          0.28    0.866667    0.005608\n",
      "15          0.30    0.853333    0.005485\n",
      "16          0.32    0.853333    0.005379\n",
      "17          0.34    0.853333    0.005326\n",
      "18          0.36    0.853333    0.005203\n",
      "19          0.38    0.840000    0.005080\n",
      "20          0.40    0.840000    0.005010\n",
      "21          0.42    0.840000    0.004834\n",
      "22          0.44    0.840000    0.004746\n",
      "23          0.46    0.840000    0.004658\n",
      "24          0.48    0.840000    0.004588\n",
      "25          0.50    0.840000    0.004500\n",
      "26          0.52    0.840000    0.004412\n",
      "27          0.54    0.840000    0.004377\n",
      "28          0.56    0.840000    0.004254\n",
      "29          0.58    0.840000    0.004149\n",
      "30          0.60    0.840000    0.004008\n",
      "31          0.62    0.840000    0.003867\n",
      "32          0.64    0.840000    0.003832\n",
      "33          0.66    0.840000    0.003709\n",
      "34          0.68    0.840000    0.003569\n",
      "35          0.70    0.840000    0.003481\n",
      "36          0.72    0.840000    0.003340\n",
      "37          0.74    0.840000    0.003111\n",
      "38          0.76    0.840000    0.002918\n",
      "39          0.78    0.840000    0.002777\n",
      "40          0.80    0.840000    0.002619\n",
      "41          0.82    0.826667    0.002426\n",
      "42          0.84    0.826667    0.002197\n",
      "43          0.86    0.826667    0.001969\n",
      "44          0.88    0.813333    0.001705\n",
      "45          0.90    0.813333    0.001565\n",
      "46          0.92    0.800000    0.001318\n",
      "47          0.94    0.773333    0.001072\n",
      "48          0.96    0.746667    0.000756\n",
      "49          0.98    0.706667    0.000580\n",
      "50          1.00    0.026667    0.000053\n"
     ]
    }
   ],
   "source": [
    "passo = 0.02 # define o passo de incremento do valor de limiar\n",
    "valores_limiar = np.arange(0, 1+passo, passo) # define valores de limiar de 0 a 1 crescendo no passo pré-estabelecido\n",
    "taxas_VP = []\n",
    "taxas_FP = []\n",
    "\n",
    "linhas = []\n",
    "\n",
    "for valor_limiar in valores_limiar:\n",
    "  precisao, revocacao, f1_score, taxa_VP, taxa_FP = calcula_metricas(probabilidades, valor_limiar)\n",
    "  linha = {'Valor limiar': valor_limiar, 'Taxa de VP': taxa_VP, 'taxa de FP': taxa_FP}\n",
    "  linhas.append(linha)\n",
    "\n",
    "\n",
    "# Abaixo nós transformamos a lista acima num pandas dataframe\n",
    "\n",
    "import pandas as pd\n",
    "\n",
    "# Cria um DataFrame a partir da lista que contém as linhas da tabela\n",
    "df = pd.DataFrame(linhas)\n",
    "\n",
    "# Mostra o DataFrame resultante\n",
    "# print(df)\n",
    "\n",
    "# Mostra o DataFrame resultante sem omitir linhas\n",
    "pd.set_option('display.max_rows', None)\n",
    "print(df)"
   ]
  },
  {
   "cell_type": "code",
   "execution_count": null,
   "metadata": {
    "colab": {
     "base_uri": "https://localhost:8080/",
     "height": 472
    },
    "id": "_lfYPRQsqQ5m",
    "outputId": "fbde9b54-b8ea-452a-9031-0d33cc3c95f8"
   },
   "outputs": [
    {
     "data": {
      "image/png": "[encoded data removed]",
      "text/plain": [
       "<Figure size 640x480 with 1 Axes>"
      ]
     },
     "metadata": {},
     "output_type": "display_data"
    }
   ],
   "source": [
    "from sklearn.metrics import roc_curve, auc\n",
    "\n",
    "fpr, tpr, thresholds = roc_curve(y_val, probabilidades) # já temos esses valores, portanto não precisamos recalcularmos usando o SK-learn\n",
    "\n",
    "roc_auc = auc(fpr, tpr)\n",
    "# roc_auc = auc(taxa_FP, taxa_VP)\n",
    "\n",
    "plt.figure()\n",
    "plt.plot(fpr, tpr, color='darkorange', lw=2, label=f'ROC curve (AUC = {roc_auc:.2f})')\n",
    "plt.plot([0, 1], [0, 1], color='navy', lw=2, linestyle='--')\n",
    "plt.xlim([0.0, 1.0])\n",
    "plt.ylim([0.0, 1.05])\n",
    "plt.xlabel('Taxa FP')\n",
    "plt.ylabel('Taxa VP')\n",
    "plt.title('Curva ROC (Receiver Operating Characteristic)')\n",
    "plt.legend(loc='lower right')\n",
    "plt.show()"
   ]
  },
  {
   "cell_type": "code",
   "execution_count": null,
   "metadata": {
    "id": "cg6rS0VUZWnE"
   },
   "outputs": [],
   "source": []
  }
 ],
 "metadata": {
  "accelerator": "GPU",
  "colab": {
   "provenance": []
  },
  "kernelspec": {
   "display_name": "venv",
   "language": "python",
   "name": "python3"
  },
  "language_info": {
   "codemirror_mode": {
    "name": "ipython",
    "version": 3
   },
   "file_extension": ".py",
   "mimetype": "text/x-python",
   "name": "python",
   "nbconvert_exporter": "python",
   "pygments_lexer": "ipython3",
   "version": "3.10.12"
  }
 },
 "nbformat": 4,
 "nbformat_minor": 0
}
