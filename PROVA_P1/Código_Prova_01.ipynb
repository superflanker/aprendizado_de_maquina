{
  "cells": [
    {
      "cell_type": "markdown",
      "id": "3f389fa6",
      "metadata": {
        "pycharm": {
          "name": "#%% md\n"
        },
        "id": "3f389fa6"
      },
      "source": [
        "# Prova 1 - Acompanhamento de 1 ano de pacientes com diabetes"
      ]
    },
    {
      "cell_type": "code",
      "execution_count": 2,
      "id": "95ec3b46",
      "metadata": {
        "pycharm": {
          "name": "#%%\n"
        },
        "id": "95ec3b46"
      },
      "outputs": [],
      "source": [
        "import math as math\n",
        "import numpy as np\n",
        "import matplotlib.pyplot as plt\n",
        "import pandas as pd\n",
        "import seaborn as sns"
      ]
    },
    {
      "cell_type": "markdown",
      "id": "51bef8ee",
      "metadata": {
        "pycharm": {
          "name": "#%% md\n"
        },
        "id": "51bef8ee"
      },
      "source": [
        "# Definição do Problema\n",
        "\n",
        "\n",
        "As amostras apresentadas a seguir representam os dados de $m=442$ pacientes com diabetes. O objetivo consiste em estimar como o quadro de diabetes irá evoluir após 1 ano.\n",
        "\n",
        "Mais especificamente, elas mostram a evolução no quadro de diabetes após 1 ano (y) em função de 10 características (atributos) medidos (x1,x2,...,x10).\n",
        "\n",
        "O nosso objetivo é construir um modelo que depois possa ser usado para prever como será a evolução do quadro de diabetes de novos pacientes.\n",
        "\n",
        "Temporalmente falando, os dados dos pacientes foram obtidos da seguinte forma: no dia 1, cada paciente teve os seguintes dados verificados:\n",
        "\n",
        "- **x1:** Idade do paciente.\n",
        "- **x2:** Sexo do paciente (codificado como 1 para masculino, 2 para feminino).\n",
        "- **x3:** IMC: Índice de Massa Corporal, uma medida de gordura corporal baseada na altura e no peso.\n",
        "- **x4:** PA: Pressão arterial média do paciente (ou BP, do inglês, blood pressure).\n",
        "- **x5:** S1: Uma medida do soro sanguíneo (um dos seis indicadores de soro sanguíneo). Representa o nível total de colesterol.\n",
        "- **x6:** S2: Uma medida do soro sanguíneo representando LDL (Lipoproteínas de Baixa Densidade).\n",
        "- **x7:** S3: Uma medida do soro sanguíneo representando HDL (Lipoproteínas de Alta Densidade).\n",
        "- **x8:** S4: Uma medida do soro sanguíneo representando triglicerídeos.\n",
        "- **x9:** S5: Uma medida do soro sanguíneo representando o nível de lamotrigina (uma enzima hepática).\n",
        "- **x10:** S6: Uma medida do soro sanguíneo representando os níveis de glicose.\n",
        "\n",
        "\n",
        "No dia 365, cada paciente foi reavaliado. O médico atribuiu um score (uma pontuação) **y** que indica o quanto seu quadro de diabetes evoluiu durante o último ano.\n",
        "\n",
        "- Pontuações mais altas (por exemplo, 150–200) indicam piora do diabetes e uma probabilidade crescente de complicações.\n",
        "- Pontuação intermediária (por exemplo, 50-150) indica que a doença do paciente progrediu moderadamente ao longo do ano.\n",
        "- Pontuações mais baixas (por exemplo, 20–50) indicam progressão estável ou mínima. Em geral, uma pontuação dentro desse intervalo indica que o paciente provavelmente está gerenciando bem a doença.\n",
        "\n",
        "**OBS**: A pontuação é relativa, o que significa que compara a progressão de diferentes pacientes ao longo do mesmo período. A pontuação não possui uma interpretação direta no mundo real, como o nível de açúcar no sangue, por exemplo. Ao invés disso, ela representa um indicador agregado de como o diabetes de um paciente progrediu ao longo de um ano a partir do momento em que as características de entrada foram registradas.\n",
        "\n",
        "Para mais informações sobre esse conjunto de dados e sobre outras análises, favor consultar o seguinte artigo científico:\n",
        "\n",
        "Efron, B., Hastie, T., Johnstone, I., & Tibshirani, R. (2004). Least angle regression. *The Annals of Statistics*, 32(2), 407–499. https://doi.org/10.1214/009053604000000067\n"
      ]
    },
    {
      "cell_type": "code",
      "source": [
        "# Carregando os dados dos pacientes\n",
        "df = pd.read_csv('diabetes.tab.txt', delimiter='\\t', header=0) # header = 0 indica que a primeira linha contém o nome das colunas. Usar esse já que os dados estão delimitados por 'tabs'\n",
        "#df = pd.read_csv('diabetes.tab.txt', delimiter=' ', header=0) # header = 0 indica que a primeira linha contém o nome das colunas. Usaria esse caso os dados estivessem delimitados por um único espaço\n",
        "\n",
        "display(df)"
      ],
      "metadata": {
        "colab": {
          "base_uri": "https://localhost:8080/",
          "height": 424
        },
        "id": "Q8rxQEbcKawL",
        "outputId": "e7c85f63-3d39-4836-bfa0-c4de5f1e7f9c"
      },
      "id": "Q8rxQEbcKawL",
      "execution_count": 3,
      "outputs": [
        {
          "output_type": "display_data",
          "data": {
            "text/plain": [
              "     AGE  SEX   BMI      BP   S1     S2    S3    S4      S5   S6    Y\n",
              "0     59    2  32.1  101.00  157   93.2  38.0  4.00  4.8598   87  151\n",
              "1     48    1  21.6   87.00  183  103.2  70.0  3.00  3.8918   69   75\n",
              "2     72    2  30.5   93.00  156   93.6  41.0  4.00  4.6728   85  141\n",
              "3     24    1  25.3   84.00  198  131.4  40.0  5.00  4.8903   89  206\n",
              "4     50    1  23.0  101.00  192  125.4  52.0  4.00  4.2905   80  135\n",
              "..   ...  ...   ...     ...  ...    ...   ...   ...     ...  ...  ...\n",
              "437   60    2  28.2  112.00  185  113.8  42.0  4.00  4.9836   93  178\n",
              "438   47    2  24.9   75.00  225  166.0  42.0  5.00  4.4427  102  104\n",
              "439   60    2  24.9   99.67  162  106.6  43.0  3.77  4.1271   95  132\n",
              "440   36    1  30.0   95.00  201  125.2  42.0  4.79  5.1299   85  220\n",
              "441   36    1  19.6   71.00  250  133.2  97.0  3.00  4.5951   92   57\n",
              "\n",
              "[442 rows x 11 columns]"
            ],
            "text/html": [
              "\n",
              "  <div id=\"df-50eacfd5-ad21-423d-a7c6-2648276690c7\" class=\"colab-df-container\">\n",
              "    <div>\n",
              "<style scoped>\n",
              "    .dataframe tbody tr th:only-of-type {\n",
              "        vertical-align: middle;\n",
              "    }\n",
              "\n",
              "    .dataframe tbody tr th {\n",
              "        vertical-align: top;\n",
              "    }\n",
              "\n",
              "    .dataframe thead th {\n",
              "        text-align: right;\n",
              "    }\n",
              "</style>\n",
              "<table border=\"1\" class=\"dataframe\">\n",
              "  <thead>\n",
              "    <tr style=\"text-align: right;\">\n",
              "      <th></th>\n",
              "      <th>AGE</th>\n",
              "      <th>SEX</th>\n",
              "      <th>BMI</th>\n",
              "      <th>BP</th>\n",
              "      <th>S1</th>\n",
              "      <th>S2</th>\n",
              "      <th>S3</th>\n",
              "      <th>S4</th>\n",
              "      <th>S5</th>\n",
              "      <th>S6</th>\n",
              "      <th>Y</th>\n",
              "    </tr>\n",
              "  </thead>\n",
              "  <tbody>\n",
              "    <tr>\n",
              "      <th>0</th>\n",
              "      <td>59</td>\n",
              "      <td>2</td>\n",
              "      <td>32.1</td>\n",
              "      <td>101.00</td>\n",
              "      <td>157</td>\n",
              "      <td>93.2</td>\n",
              "      <td>38.0</td>\n",
              "      <td>4.00</td>\n",
              "      <td>4.8598</td>\n",
              "      <td>87</td>\n",
              "      <td>151</td>\n",
              "    </tr>\n",
              "    <tr>\n",
              "      <th>1</th>\n",
              "      <td>48</td>\n",
              "      <td>1</td>\n",
              "      <td>21.6</td>\n",
              "      <td>87.00</td>\n",
              "      <td>183</td>\n",
              "      <td>103.2</td>\n",
              "      <td>70.0</td>\n",
              "      <td>3.00</td>\n",
              "      <td>3.8918</td>\n",
              "      <td>69</td>\n",
              "      <td>75</td>\n",
              "    </tr>\n",
              "    <tr>\n",
              "      <th>2</th>\n",
              "      <td>72</td>\n",
              "      <td>2</td>\n",
              "      <td>30.5</td>\n",
              "      <td>93.00</td>\n",
              "      <td>156</td>\n",
              "      <td>93.6</td>\n",
              "      <td>41.0</td>\n",
              "      <td>4.00</td>\n",
              "      <td>4.6728</td>\n",
              "      <td>85</td>\n",
              "      <td>141</td>\n",
              "    </tr>\n",
              "    <tr>\n",
              "      <th>3</th>\n",
              "      <td>24</td>\n",
              "      <td>1</td>\n",
              "      <td>25.3</td>\n",
              "      <td>84.00</td>\n",
              "      <td>198</td>\n",
              "      <td>131.4</td>\n",
              "      <td>40.0</td>\n",
              "      <td>5.00</td>\n",
              "      <td>4.8903</td>\n",
              "      <td>89</td>\n",
              "      <td>206</td>\n",
              "    </tr>\n",
              "    <tr>\n",
              "      <th>4</th>\n",
              "      <td>50</td>\n",
              "      <td>1</td>\n",
              "      <td>23.0</td>\n",
              "      <td>101.00</td>\n",
              "      <td>192</td>\n",
              "      <td>125.4</td>\n",
              "      <td>52.0</td>\n",
              "      <td>4.00</td>\n",
              "      <td>4.2905</td>\n",
              "      <td>80</td>\n",
              "      <td>135</td>\n",
              "    </tr>\n",
              "    <tr>\n",
              "      <th>...</th>\n",
              "      <td>...</td>\n",
              "      <td>...</td>\n",
              "      <td>...</td>\n",
              "      <td>...</td>\n",
              "      <td>...</td>\n",
              "      <td>...</td>\n",
              "      <td>...</td>\n",
              "      <td>...</td>\n",
              "      <td>...</td>\n",
              "      <td>...</td>\n",
              "      <td>...</td>\n",
              "    </tr>\n",
              "    <tr>\n",
              "      <th>437</th>\n",
              "      <td>60</td>\n",
              "      <td>2</td>\n",
              "      <td>28.2</td>\n",
              "      <td>112.00</td>\n",
              "      <td>185</td>\n",
              "      <td>113.8</td>\n",
              "      <td>42.0</td>\n",
              "      <td>4.00</td>\n",
              "      <td>4.9836</td>\n",
              "      <td>93</td>\n",
              "      <td>178</td>\n",
              "    </tr>\n",
              "    <tr>\n",
              "      <th>438</th>\n",
              "      <td>47</td>\n",
              "      <td>2</td>\n",
              "      <td>24.9</td>\n",
              "      <td>75.00</td>\n",
              "      <td>225</td>\n",
              "      <td>166.0</td>\n",
              "      <td>42.0</td>\n",
              "      <td>5.00</td>\n",
              "      <td>4.4427</td>\n",
              "      <td>102</td>\n",
              "      <td>104</td>\n",
              "    </tr>\n",
              "    <tr>\n",
              "      <th>439</th>\n",
              "      <td>60</td>\n",
              "      <td>2</td>\n",
              "      <td>24.9</td>\n",
              "      <td>99.67</td>\n",
              "      <td>162</td>\n",
              "      <td>106.6</td>\n",
              "      <td>43.0</td>\n",
              "      <td>3.77</td>\n",
              "      <td>4.1271</td>\n",
              "      <td>95</td>\n",
              "      <td>132</td>\n",
              "    </tr>\n",
              "    <tr>\n",
              "      <th>440</th>\n",
              "      <td>36</td>\n",
              "      <td>1</td>\n",
              "      <td>30.0</td>\n",
              "      <td>95.00</td>\n",
              "      <td>201</td>\n",
              "      <td>125.2</td>\n",
              "      <td>42.0</td>\n",
              "      <td>4.79</td>\n",
              "      <td>5.1299</td>\n",
              "      <td>85</td>\n",
              "      <td>220</td>\n",
              "    </tr>\n",
              "    <tr>\n",
              "      <th>441</th>\n",
              "      <td>36</td>\n",
              "      <td>1</td>\n",
              "      <td>19.6</td>\n",
              "      <td>71.00</td>\n",
              "      <td>250</td>\n",
              "      <td>133.2</td>\n",
              "      <td>97.0</td>\n",
              "      <td>3.00</td>\n",
              "      <td>4.5951</td>\n",
              "      <td>92</td>\n",
              "      <td>57</td>\n",
              "    </tr>\n",
              "  </tbody>\n",
              "</table>\n",
              "<p>442 rows × 11 columns</p>\n",
              "</div>\n",
              "    <div class=\"colab-df-buttons\">\n",
              "\n",
              "  <div class=\"colab-df-container\">\n",
              "    <button class=\"colab-df-convert\" onclick=\"convertToInteractive('df-50eacfd5-ad21-423d-a7c6-2648276690c7')\"\n",
              "            title=\"Convert this dataframe to an interactive table.\"\n",
              "            style=\"display:none;\">\n",
              "\n",
              "  <svg xmlns=\"http://www.w3.org/2000/svg\" height=\"24px\" viewBox=\"0 -960 960 960\">\n",
              "    <path d=\"M120-120v-720h720v720H120Zm60-500h600v-160H180v160Zm220 220h160v-160H400v160Zm0 220h160v-160H400v160ZM180-400h160v-160H180v160Zm440 0h160v-160H620v160ZM180-180h160v-160H180v160Zm440 0h160v-160H620v160Z\"/>\n",
              "  </svg>\n",
              "    </button>\n",
              "\n",
              "  <style>\n",
              "    .colab-df-container {\n",
              "      display:flex;\n",
              "      gap: 12px;\n",
              "    }\n",
              "\n",
              "    .colab-df-convert {\n",
              "      background-color: #E8F0FE;\n",
              "      border: none;\n",
              "      border-radius: 50%;\n",
              "      cursor: pointer;\n",
              "      display: none;\n",
              "      fill: #1967D2;\n",
              "      height: 32px;\n",
              "      padding: 0 0 0 0;\n",
              "      width: 32px;\n",
              "    }\n",
              "\n",
              "    .colab-df-convert:hover {\n",
              "      background-color: #E2EBFA;\n",
              "      box-shadow: 0px 1px 2px rgba(60, 64, 67, 0.3), 0px 1px 3px 1px rgba(60, 64, 67, 0.15);\n",
              "      fill: #174EA6;\n",
              "    }\n",
              "\n",
              "    .colab-df-buttons div {\n",
              "      margin-bottom: 4px;\n",
              "    }\n",
              "\n",
              "    [theme=dark] .colab-df-convert {\n",
              "      background-color: #3B4455;\n",
              "      fill: #D2E3FC;\n",
              "    }\n",
              "\n",
              "    [theme=dark] .colab-df-convert:hover {\n",
              "      background-color: #434B5C;\n",
              "      box-shadow: 0px 1px 3px 1px rgba(0, 0, 0, 0.15);\n",
              "      filter: drop-shadow(0px 1px 2px rgba(0, 0, 0, 0.3));\n",
              "      fill: #FFFFFF;\n",
              "    }\n",
              "  </style>\n",
              "\n",
              "    <script>\n",
              "      const buttonEl =\n",
              "        document.querySelector('#df-50eacfd5-ad21-423d-a7c6-2648276690c7 button.colab-df-convert');\n",
              "      buttonEl.style.display =\n",
              "        google.colab.kernel.accessAllowed ? 'block' : 'none';\n",
              "\n",
              "      async function convertToInteractive(key) {\n",
              "        const element = document.querySelector('#df-50eacfd5-ad21-423d-a7c6-2648276690c7');\n",
              "        const dataTable =\n",
              "          await google.colab.kernel.invokeFunction('convertToInteractive',\n",
              "                                                    [key], {});\n",
              "        if (!dataTable) return;\n",
              "\n",
              "        const docLinkHtml = 'Like what you see? Visit the ' +\n",
              "          '<a target=\"_blank\" href=https://colab.research.google.com/notebooks/data_table.ipynb>data table notebook</a>'\n",
              "          + ' to learn more about interactive tables.';\n",
              "        element.innerHTML = '';\n",
              "        dataTable['output_type'] = 'display_data';\n",
              "        await google.colab.output.renderOutput(dataTable, element);\n",
              "        const docLink = document.createElement('div');\n",
              "        docLink.innerHTML = docLinkHtml;\n",
              "        element.appendChild(docLink);\n",
              "      }\n",
              "    </script>\n",
              "  </div>\n",
              "\n",
              "\n",
              "<div id=\"df-1352e734-cb42-40b5-8fa0-b283ff31376b\">\n",
              "  <button class=\"colab-df-quickchart\" onclick=\"quickchart('df-1352e734-cb42-40b5-8fa0-b283ff31376b')\"\n",
              "            title=\"Suggest charts\"\n",
              "            style=\"display:none;\">\n",
              "\n",
              "<svg xmlns=\"http://www.w3.org/2000/svg\" height=\"24px\"viewBox=\"0 0 24 24\"\n",
              "     width=\"24px\">\n",
              "    <g>\n",
              "        <path d=\"M19 3H5c-1.1 0-2 .9-2 2v14c0 1.1.9 2 2 2h14c1.1 0 2-.9 2-2V5c0-1.1-.9-2-2-2zM9 17H7v-7h2v7zm4 0h-2V7h2v10zm4 0h-2v-4h2v4z\"/>\n",
              "    </g>\n",
              "</svg>\n",
              "  </button>\n",
              "\n",
              "<style>\n",
              "  .colab-df-quickchart {\n",
              "      --bg-color: #E8F0FE;\n",
              "      --fill-color: #1967D2;\n",
              "      --hover-bg-color: #E2EBFA;\n",
              "      --hover-fill-color: #174EA6;\n",
              "      --disabled-fill-color: #AAA;\n",
              "      --disabled-bg-color: #DDD;\n",
              "  }\n",
              "\n",
              "  [theme=dark] .colab-df-quickchart {\n",
              "      --bg-color: #3B4455;\n",
              "      --fill-color: #D2E3FC;\n",
              "      --hover-bg-color: #434B5C;\n",
              "      --hover-fill-color: #FFFFFF;\n",
              "      --disabled-bg-color: #3B4455;\n",
              "      --disabled-fill-color: #666;\n",
              "  }\n",
              "\n",
              "  .colab-df-quickchart {\n",
              "    background-color: var(--bg-color);\n",
              "    border: none;\n",
              "    border-radius: 50%;\n",
              "    cursor: pointer;\n",
              "    display: none;\n",
              "    fill: var(--fill-color);\n",
              "    height: 32px;\n",
              "    padding: 0;\n",
              "    width: 32px;\n",
              "  }\n",
              "\n",
              "  .colab-df-quickchart:hover {\n",
              "    background-color: var(--hover-bg-color);\n",
              "    box-shadow: 0 1px 2px rgba(60, 64, 67, 0.3), 0 1px 3px 1px rgba(60, 64, 67, 0.15);\n",
              "    fill: var(--button-hover-fill-color);\n",
              "  }\n",
              "\n",
              "  .colab-df-quickchart-complete:disabled,\n",
              "  .colab-df-quickchart-complete:disabled:hover {\n",
              "    background-color: var(--disabled-bg-color);\n",
              "    fill: var(--disabled-fill-color);\n",
              "    box-shadow: none;\n",
              "  }\n",
              "\n",
              "  .colab-df-spinner {\n",
              "    border: 2px solid var(--fill-color);\n",
              "    border-color: transparent;\n",
              "    border-bottom-color: var(--fill-color);\n",
              "    animation:\n",
              "      spin 1s steps(1) infinite;\n",
              "  }\n",
              "\n",
              "  @keyframes spin {\n",
              "    0% {\n",
              "      border-color: transparent;\n",
              "      border-bottom-color: var(--fill-color);\n",
              "      border-left-color: var(--fill-color);\n",
              "    }\n",
              "    20% {\n",
              "      border-color: transparent;\n",
              "      border-left-color: var(--fill-color);\n",
              "      border-top-color: var(--fill-color);\n",
              "    }\n",
              "    30% {\n",
              "      border-color: transparent;\n",
              "      border-left-color: var(--fill-color);\n",
              "      border-top-color: var(--fill-color);\n",
              "      border-right-color: var(--fill-color);\n",
              "    }\n",
              "    40% {\n",
              "      border-color: transparent;\n",
              "      border-right-color: var(--fill-color);\n",
              "      border-top-color: var(--fill-color);\n",
              "    }\n",
              "    60% {\n",
              "      border-color: transparent;\n",
              "      border-right-color: var(--fill-color);\n",
              "    }\n",
              "    80% {\n",
              "      border-color: transparent;\n",
              "      border-right-color: var(--fill-color);\n",
              "      border-bottom-color: var(--fill-color);\n",
              "    }\n",
              "    90% {\n",
              "      border-color: transparent;\n",
              "      border-bottom-color: var(--fill-color);\n",
              "    }\n",
              "  }\n",
              "</style>\n",
              "\n",
              "  <script>\n",
              "    async function quickchart(key) {\n",
              "      const quickchartButtonEl =\n",
              "        document.querySelector('#' + key + ' button');\n",
              "      quickchartButtonEl.disabled = true;  // To prevent multiple clicks.\n",
              "      quickchartButtonEl.classList.add('colab-df-spinner');\n",
              "      try {\n",
              "        const charts = await google.colab.kernel.invokeFunction(\n",
              "            'suggestCharts', [key], {});\n",
              "      } catch (error) {\n",
              "        console.error('Error during call to suggestCharts:', error);\n",
              "      }\n",
              "      quickchartButtonEl.classList.remove('colab-df-spinner');\n",
              "      quickchartButtonEl.classList.add('colab-df-quickchart-complete');\n",
              "    }\n",
              "    (() => {\n",
              "      let quickchartButtonEl =\n",
              "        document.querySelector('#df-1352e734-cb42-40b5-8fa0-b283ff31376b button');\n",
              "      quickchartButtonEl.style.display =\n",
              "        google.colab.kernel.accessAllowed ? 'block' : 'none';\n",
              "    })();\n",
              "  </script>\n",
              "</div>\n",
              "\n",
              "  <div id=\"id_f4823226-9c99-4722-b121-ba34af755f43\">\n",
              "    <style>\n",
              "      .colab-df-generate {\n",
              "        background-color: #E8F0FE;\n",
              "        border: none;\n",
              "        border-radius: 50%;\n",
              "        cursor: pointer;\n",
              "        display: none;\n",
              "        fill: #1967D2;\n",
              "        height: 32px;\n",
              "        padding: 0 0 0 0;\n",
              "        width: 32px;\n",
              "      }\n",
              "\n",
              "      .colab-df-generate:hover {\n",
              "        background-color: #E2EBFA;\n",
              "        box-shadow: 0px 1px 2px rgba(60, 64, 67, 0.3), 0px 1px 3px 1px rgba(60, 64, 67, 0.15);\n",
              "        fill: #174EA6;\n",
              "      }\n",
              "\n",
              "      [theme=dark] .colab-df-generate {\n",
              "        background-color: #3B4455;\n",
              "        fill: #D2E3FC;\n",
              "      }\n",
              "\n",
              "      [theme=dark] .colab-df-generate:hover {\n",
              "        background-color: #434B5C;\n",
              "        box-shadow: 0px 1px 3px 1px rgba(0, 0, 0, 0.15);\n",
              "        filter: drop-shadow(0px 1px 2px rgba(0, 0, 0, 0.3));\n",
              "        fill: #FFFFFF;\n",
              "      }\n",
              "    </style>\n",
              "    <button class=\"colab-df-generate\" onclick=\"generateWithVariable('df')\"\n",
              "            title=\"Generate code using this dataframe.\"\n",
              "            style=\"display:none;\">\n",
              "\n",
              "  <svg xmlns=\"http://www.w3.org/2000/svg\" height=\"24px\"viewBox=\"0 0 24 24\"\n",
              "       width=\"24px\">\n",
              "    <path d=\"M7,19H8.4L18.45,9,17,7.55,7,17.6ZM5,21V16.75L18.45,3.32a2,2,0,0,1,2.83,0l1.4,1.43a1.91,1.91,0,0,1,.58,1.4,1.91,1.91,0,0,1-.58,1.4L9.25,21ZM18.45,9,17,7.55Zm-12,3A5.31,5.31,0,0,0,4.9,8.1,5.31,5.31,0,0,0,1,6.5,5.31,5.31,0,0,0,4.9,4.9,5.31,5.31,0,0,0,6.5,1,5.31,5.31,0,0,0,8.1,4.9,5.31,5.31,0,0,0,12,6.5,5.46,5.46,0,0,0,6.5,12Z\"/>\n",
              "  </svg>\n",
              "    </button>\n",
              "    <script>\n",
              "      (() => {\n",
              "      const buttonEl =\n",
              "        document.querySelector('#id_f4823226-9c99-4722-b121-ba34af755f43 button.colab-df-generate');\n",
              "      buttonEl.style.display =\n",
              "        google.colab.kernel.accessAllowed ? 'block' : 'none';\n",
              "\n",
              "      buttonEl.onclick = () => {\n",
              "        google.colab.notebook.generateWithVariable('df');\n",
              "      }\n",
              "      })();\n",
              "    </script>\n",
              "  </div>\n",
              "\n",
              "    </div>\n",
              "  </div>\n"
            ],
            "application/vnd.google.colaboratory.intrinsic+json": {
              "type": "dataframe",
              "variable_name": "df",
              "summary": "{\n  \"name\": \"df\",\n  \"rows\": 442,\n  \"fields\": [\n    {\n      \"column\": \"AGE\",\n      \"properties\": {\n        \"dtype\": \"number\",\n        \"std\": 13,\n        \"min\": 19,\n        \"max\": 79,\n        \"num_unique_values\": 58,\n        \"samples\": [\n          59,\n          23,\n          54\n        ],\n        \"semantic_type\": \"\",\n        \"description\": \"\"\n      }\n    },\n    {\n      \"column\": \"SEX\",\n      \"properties\": {\n        \"dtype\": \"number\",\n        \"std\": 0,\n        \"min\": 1,\n        \"max\": 2,\n        \"num_unique_values\": 2,\n        \"samples\": [\n          1,\n          2\n        ],\n        \"semantic_type\": \"\",\n        \"description\": \"\"\n      }\n    },\n    {\n      \"column\": \"BMI\",\n      \"properties\": {\n        \"dtype\": \"number\",\n        \"std\": 4.4181215606157735,\n        \"min\": 18.0,\n        \"max\": 42.2,\n        \"num_unique_values\": 163,\n        \"samples\": [\n          27.2,\n          21.3\n        ],\n        \"semantic_type\": \"\",\n        \"description\": \"\"\n      }\n    },\n    {\n      \"column\": \"BP\",\n      \"properties\": {\n        \"dtype\": \"number\",\n        \"std\": 13.831283419783,\n        \"min\": 62.0,\n        \"max\": 133.0,\n        \"num_unique_values\": 100,\n        \"samples\": [\n          104.33,\n          102.0\n        ],\n        \"semantic_type\": \"\",\n        \"description\": \"\"\n      }\n    },\n    {\n      \"column\": \"S1\",\n      \"properties\": {\n        \"dtype\": \"number\",\n        \"std\": 34,\n        \"min\": 97,\n        \"max\": 301,\n        \"num_unique_values\": 141,\n        \"samples\": [\n          219,\n          250\n        ],\n        \"semantic_type\": \"\",\n        \"description\": \"\"\n      }\n    },\n    {\n      \"column\": \"S2\",\n      \"properties\": {\n        \"dtype\": \"number\",\n        \"std\": 30.413080969276532,\n        \"min\": 41.6,\n        \"max\": 242.4,\n        \"num_unique_values\": 302,\n        \"samples\": [\n          162.8,\n          160.2\n        ],\n        \"semantic_type\": \"\",\n        \"description\": \"\"\n      }\n    },\n    {\n      \"column\": \"S3\",\n      \"properties\": {\n        \"dtype\": \"number\",\n        \"std\": 12.934202154863332,\n        \"min\": 22.0,\n        \"max\": 99.0,\n        \"num_unique_values\": 63,\n        \"samples\": [\n          75.0,\n          93.0\n        ],\n        \"semantic_type\": \"\",\n        \"description\": \"\"\n      }\n    },\n    {\n      \"column\": \"S4\",\n      \"properties\": {\n        \"dtype\": \"number\",\n        \"std\": 1.2904498966082774,\n        \"min\": 2.0,\n        \"max\": 9.09,\n        \"num_unique_values\": 66,\n        \"samples\": [\n          6.42,\n          3.4\n        ],\n        \"semantic_type\": \"\",\n        \"description\": \"\"\n      }\n    },\n    {\n      \"column\": \"S5\",\n      \"properties\": {\n        \"dtype\": \"number\",\n        \"std\": 0.5223905610694908,\n        \"min\": 3.2581,\n        \"max\": 6.107,\n        \"num_unique_values\": 184,\n        \"samples\": [\n          3.8501,\n          4.4067\n        ],\n        \"semantic_type\": \"\",\n        \"description\": \"\"\n      }\n    },\n    {\n      \"column\": \"S6\",\n      \"properties\": {\n        \"dtype\": \"number\",\n        \"std\": 11,\n        \"min\": 58,\n        \"max\": 124,\n        \"num_unique_values\": 56,\n        \"samples\": [\n          87,\n          68\n        ],\n        \"semantic_type\": \"\",\n        \"description\": \"\"\n      }\n    },\n    {\n      \"column\": \"Y\",\n      \"properties\": {\n        \"dtype\": \"number\",\n        \"std\": 77,\n        \"min\": 25,\n        \"max\": 346,\n        \"num_unique_values\": 214,\n        \"samples\": [\n          310,\n          140\n        ],\n        \"semantic_type\": \"\",\n        \"description\": \"\"\n      }\n    }\n  ]\n}"
            }
          },
          "metadata": {}
        }
      ]
    },
    {
      "cell_type": "markdown",
      "source": [
        "## Cálculo de correlação entre as variáveis do problema"
      ],
      "metadata": {
        "id": "tBZQ_ruVdvkO"
      },
      "id": "tBZQ_ruVdvkO"
    },
    {
      "cell_type": "code",
      "source": [
        "# Abaixo são realizados os cálculos de correlação entre as colunas da tabela\n",
        "fig = plt.figure(figsize=(15,10))\n",
        "sns.heatmap(df.corr(),annot=True,cmap='coolwarm',linewidths=0.2)\n",
        "plt.show()"
      ],
      "metadata": {
        "colab": {
          "base_uri": "https://localhost:8080/",
          "height": 836
        },
        "id": "z5OmHBYbW-QJ",
        "outputId": "474f9c1e-cbef-4f37-ed4b-657c5e7cc01e"
      },
      "id": "z5OmHBYbW-QJ",
      "execution_count": 4,
      "outputs": [
        {
          "output_type": "display_data",
          "data": {
            "text/plain": [
              "<Figure size 1500x1000 with 2 Axes>"
            ],
            "image/png": "[encoded data removed]"
          },
          "metadata": {}
        }
      ]
    },
    {
      "cell_type": "markdown",
      "source": [
        "Olhando a última linha da tabela acima, note que:\n",
        "\n",
        "- S3 (nível HDL) é a única característica que possui uma correlação negativa com a variável alvo. Ou seja, este cálculo de correlação sugere que valores elevados de HDL tendem à diminuir a pontuação do paciente. De fato, sabe-se que níveis elevados de HDL geralmente são considerados bons, pois o HDL ajuda a remover o colesterol das artérias e transportá-lo de volta ao fígado, onde é processado e eliminado.\n",
        "\n",
        "- Por outro lado, as demais características possuem uma correlação positiva. Isso significa que, quando elas aumentam, a pontuação do paciente também tende a aumentar. Nesse sentido, merecem destaque as características BMI, BP, S4, S5 e S6.\n",
        "\n",
        "Por fim, note que a correlação entre sexo e pontuação parece ser desprezível, pois está muito próxima de zero."
      ],
      "metadata": {
        "id": "d_bAnjioYsiO"
      },
      "id": "d_bAnjioYsiO"
    },
    {
      "cell_type": "code",
      "execution_count": 5,
      "id": "7aea2489",
      "metadata": {
        "pycharm": {
          "name": "#%%\n"
        },
        "id": "7aea2489"
      },
      "outputs": [],
      "source": [
        "X_trein_df = df.iloc[:, :-1] # cria novo dataframe com todas as características x1, x2, ..., x10\n",
        "y_trein_df = df.iloc[:, -1] # cria novo dataframe com valor alvo para todas as amostras"
      ]
    },
    {
      "cell_type": "code",
      "execution_count": 6,
      "id": "e8b92e54",
      "metadata": {
        "pycharm": {
          "name": "#%%\n"
        },
        "colab": {
          "base_uri": "https://localhost:8080/"
        },
        "id": "e8b92e54",
        "outputId": "d4811da2-2f6d-4b87-840a-a24f7ac2df20"
      },
      "outputs": [
        {
          "output_type": "stream",
          "name": "stdout",
          "text": [
            "X Shape: (442, 10)\n",
            "y Shape: (442,)\n"
          ]
        }
      ],
      "source": [
        "# Transformando de Dataframe para numpy array:\n",
        "X_trein = X_trein_df.to_numpy()\n",
        "y_trein = y_trein_df.to_numpy()\n",
        "\n",
        "print(f\"X Shape: {X_trein.shape}\")\n",
        "print(f\"y Shape: {y_trein.shape}\")"
      ]
    },
    {
      "cell_type": "code",
      "source": [
        "# número de características\n",
        "\n",
        "n = X_trein.shape[1]\n",
        "\n",
        "print(f\"Número de características: {n}\")"
      ],
      "metadata": {
        "colab": {
          "base_uri": "https://localhost:8080/"
        },
        "id": "5KwklRlK7RZg",
        "outputId": "d7853c5e-4cad-4022-dd4e-a6bfe6d2a392"
      },
      "id": "5KwklRlK7RZg",
      "execution_count": 7,
      "outputs": [
        {
          "output_type": "stream",
          "name": "stdout",
          "text": [
            "Número de características: 10\n"
          ]
        }
      ]
    },
    {
      "cell_type": "markdown",
      "id": "9a7de797",
      "metadata": {
        "pycharm": {
          "name": "#%% md\n"
        },
        "id": "9a7de797"
      },
      "source": [
        "# Regressão Linear múltipla\n",
        "\n",
        "A previsão do modelo com múltiplas características é dada pelo seguinte modelo linear:\n",
        "\n",
        "$$ f_{\\mathbf{w},b}(\\mathbf{x}) =  w_0x_0 + w_1x_1 +... + w_{n-1}x_{n-1} + b \\tag{1}$$\n",
        "\n",
        "ou, usando uma notação vetorial:\n",
        "\n",
        "$$ f_{\\mathbf{w},b}(\\mathbf{x}) = \\mathbf{w} \\cdot \\mathbf{x} + b  \\tag{2} $$\n",
        "\n",
        "onde $\\cdot$ é o produtor escalar (`dot product`). A implementação de (2) é feita abaixo."
      ]
    },
    {
      "cell_type": "code",
      "execution_count": 8,
      "id": "c2766634",
      "metadata": {
        "pycharm": {
          "name": "#%%\n"
        },
        "id": "c2766634"
      },
      "outputs": [],
      "source": [
        "def previsao(x, w, b):\n",
        "    \"\"\"\n",
        "    Argumentos da função:\n",
        "      x (ndarray): Shape (n,) -> exemplo contendo múltiplas características\n",
        "      w (ndarray): Shape (n,) -> parâmetros w do modelo\n",
        "      b (escalar):  parâmetro b do modelo\n",
        "\n",
        "    retorna:\n",
        "      p (escalar):  previsão\n",
        "    \"\"\"\n",
        "    p = np.dot(x, w) + b\n",
        "    return p"
      ]
    },
    {
      "cell_type": "markdown",
      "source": [
        "Ainda não treinamos um modelo para os nossos dados. Portanto, ainda não sabemos o que seriam valores adequados para os parâmetros do modelo. A seguir, tais parâmetros são inicializados e é realizada uma previsão para um dos pacientes presente no nosso conjunto de dados."
      ],
      "metadata": {
        "id": "docvOhOhcEgh"
      },
      "id": "docvOhOhcEgh"
    },
    {
      "cell_type": "code",
      "execution_count": 9,
      "id": "8c7be5d2",
      "metadata": {
        "pycharm": {
          "name": "#%%\n"
        },
        "colab": {
          "base_uri": "https://localhost:8080/"
        },
        "id": "8c7be5d2",
        "outputId": "47a72bcc-c857-43c3-ae2a-4bc15959fea1"
      },
      "outputs": [
        {
          "output_type": "stream",
          "name": "stdout",
          "text": [
            "x_vetor shape (10,), x_vec: [ 59.       2.      32.1    101.     157.      93.2     38.       4.\n",
            "   4.8598  87.    ]\n",
            "valor alvo y: 151, previsão: 496.99909901847553\n"
          ]
        }
      ],
      "source": [
        "b_inicial = 0\n",
        "w_inicial = np.random.randn(n)\n",
        "\n",
        "# pegando uma linha do nosso conjunto de dados\n",
        "x_vetor = X_trein[0,:]\n",
        "print(f\"x_vetor shape {x_vetor.shape}, x_vec: {x_vetor}\")\n",
        "\n",
        "# fazendo previsão para essa casa\n",
        "f_wb = previsao(x_vetor, w_inicial, b_inicial)\n",
        "print(f\"valor alvo y: {y_trein[0]}, previsão: {f_wb}\")"
      ]
    },
    {
      "cell_type": "markdown",
      "id": "3475821f",
      "metadata": {
        "pycharm": {
          "name": "#%% md\n"
        },
        "id": "3475821f"
      },
      "source": [
        "**Pergunta 1:** Explique, usando as suas próprias palavras, como os parâmetros do modelo foram inicializados. Também avalie se a previsão feita por esse modelo parece adequada.\n",
        "\n",
        "**Resposta:** Insira sua resposta aqui."
      ]
    },
    {
      "cell_type": "markdown",
      "id": "c848f0ba",
      "metadata": {
        "pycharm": {
          "name": "#%% md\n"
        },
        "id": "c848f0ba"
      },
      "source": [
        "# Calculando o custo quando o modelo possui múltiplas características\n",
        "A função custo $J(\\mathbf{w},b)$ quando temos múltiplas características é dada por:\n",
        "$$J(\\mathbf{w},b) = \\frac{1}{2m} \\sum\\limits_{i = 0}^{m-1} (f_{\\mathbf{w},b}(\\mathbf{x}^{(i)}) - y^{(i)})^2 \\tag{3}$$\n",
        "onde:\n",
        "$$ f_{\\mathbf{w},b}(\\mathbf{x}^{(i)}) = \\mathbf{w} \\cdot \\mathbf{x}^{(i)} + b  \\tag{4} $$\n"
      ]
    },
    {
      "cell_type": "markdown",
      "id": "f1b5fc8c",
      "metadata": {
        "pycharm": {
          "name": "#%% md\n"
        },
        "id": "f1b5fc8c"
      },
      "source": [
        "Abaixo encontram-se uma implementação das equações (3) and (4)."
      ]
    },
    {
      "cell_type": "code",
      "execution_count": 10,
      "id": "0ec89357",
      "metadata": {
        "pycharm": {
          "name": "#%%\n"
        },
        "id": "0ec89357"
      },
      "outputs": [],
      "source": [
        "def calcula_custo(X, y, w, b):\n",
        "    \"\"\"\n",
        "    Calcula o custo\n",
        "    Argumentos da função:\n",
        "      X (ndarray (m,n)): Dados, contendo m exemplos com n características\n",
        "      y (ndarray (m,)) : valores alvo\n",
        "      w (ndarray (n,)) : parâmetros w do modelo\n",
        "      b (escalar)       : parâmetro b do modelo\n",
        "\n",
        "    Retorna:\n",
        "      custo (escalar): custo\n",
        "    \"\"\"\n",
        "    m     = X.shape[0]\n",
        "    custo = 0.0\n",
        "    for i in range(m):\n",
        "        f_wb_i = np.dot(X[i], w) + b           #(n,)(n,) = escalar (see np.dot)\n",
        "        custo = custo + (f_wb_i - y[i])**2     # escalar\n",
        "    custo = custo / (2 * m)                    # escalar\n",
        "    return custo"
      ]
    },
    {
      "cell_type": "code",
      "execution_count": 11,
      "id": "652c5388",
      "metadata": {
        "pycharm": {
          "name": "#%%\n"
        },
        "colab": {
          "base_uri": "https://localhost:8080/"
        },
        "id": "652c5388",
        "outputId": "c585cac2-7824-40c0-8941-b0ee28fec00d"
      },
      "outputs": [
        {
          "output_type": "stream",
          "name": "stdout",
          "text": [
            "Custo com parâmetros iniciais: 80426.6919863723\n"
          ]
        }
      ],
      "source": [
        "# Calcula e mostra o custo usando os nossos parâmetros definidos anteriormente.\n",
        "custo = calcula_custo(X_trein, y_trein, w_inicial, b_inicial)\n",
        "print(f'Custo com parâmetros iniciais: {custo}')"
      ]
    },
    {
      "cell_type": "markdown",
      "id": "4d998888",
      "metadata": {
        "pycharm": {
          "name": "#%% md\n"
        },
        "id": "4d998888"
      },
      "source": [
        "# Método do Gradiente com Múltiplas Variáveis\n",
        "\n",
        "Método do Gradiente com Múltiplas Variáveis:\n",
        "\n",
        "$$\\begin{align*} \\text{repetir}&\\text{ até convergir:} \\; \\lbrace \\newline\\;\n",
        "& w_j = w_j -  \\alpha \\frac{\\partial J(\\mathbf{w},b)}{\\partial w_j} \\tag{5}  \\; & \\text{para j = 0..n-1}\\newline\n",
        "&b\\ \\ = b -  \\alpha \\frac{\\partial J(\\mathbf{w},b)}{\\partial b}  \\newline \\rbrace\n",
        "\\end{align*}$$\n",
        "\n",
        "onde, n é o número de características, parâmetros $w_j$ e $b$ são atualizados simultaneamente e onde  \n",
        "\n",
        "$$\n",
        "\\begin{align}\n",
        "\\frac{\\partial J(\\mathbf{w},b)}{\\partial w_j}  &= \\frac{1}{m} \\sum\\limits_{i = 0}^{m-1} (f_{\\mathbf{w},b}(\\mathbf{x}^{(i)}) - y^{(i)})x_{j}^{(i)} \\tag{6}  \\\\\n",
        "\\frac{\\partial J(\\mathbf{w},b)}{\\partial b}  &= \\frac{1}{m} \\sum\\limits_{i = 0}^{m-1} (f_{\\mathbf{w},b}(\\mathbf{x}^{(i)}) - y^{(i)}) \\tag{7}\n",
        "\\end{align}\n",
        "$$\n",
        "* m é o número de amostras de treinamento no nosso conjunto de dados\n",
        "\n",
        "    \n",
        "*  $f_{\\mathbf{w},b}(\\mathbf{x}^{(i)})$ é a previsão feita pelo modelo, enquanto que $y^{(i)}$ é o valor alvo\n"
      ]
    },
    {
      "cell_type": "markdown",
      "id": "72c7ab1b",
      "metadata": {
        "pycharm": {
          "name": "#%% md\n"
        },
        "id": "72c7ab1b"
      },
      "source": [
        "## Calculando o gradiente\n",
        "\n",
        "Abaixo encontra-se uma implementação para calcular as equações (6) e (7).\n",
        "   "
      ]
    },
    {
      "cell_type": "code",
      "execution_count": 12,
      "id": "f0f29948",
      "metadata": {
        "pycharm": {
          "name": "#%%\n"
        },
        "id": "f0f29948"
      },
      "outputs": [],
      "source": [
        "def calcula_gradiente(X, y, w, b):\n",
        "    \"\"\"\n",
        "    Calcula Gradiente para Regressão Linear\n",
        "    Argumentos:\n",
        "      X (ndarray (m,n)): Dados, contendo m exemplos com n características\n",
        "      y (ndarray (m,)) : valores alvo\n",
        "      w (ndarray (n,)) : parâmetros w do modelo\n",
        "      b (escalar)      : parâmetro b do modelo\n",
        "\n",
        "    Retorna:\n",
        "      dj_dw (ndarray (n,)): O gradiente da função custo com relação aos parâmetros w.\n",
        "      dj_db (escalar):      O gradiente da função custo com relação ao parâmetro b.\n",
        "    \"\"\"\n",
        "    m,n = X.shape           #(número de exemplos, número de características)\n",
        "    dj_dw = np.zeros((n,))\n",
        "    dj_db = 0.\n",
        "\n",
        "    for i in range(m):\n",
        "        erro = (np.dot(X[i], w) + b) - y[i]\n",
        "        for j in range(n):\n",
        "            dj_dw[j] = dj_dw[j] + erro * X[i, j]\n",
        "        dj_db = dj_db + erro\n",
        "    dj_dw = dj_dw / m\n",
        "    dj_db = dj_db / m\n",
        "\n",
        "    return dj_db, dj_dw"
      ]
    },
    {
      "cell_type": "code",
      "execution_count": 13,
      "id": "839b5e62",
      "metadata": {
        "pycharm": {
          "name": "#%%\n"
        },
        "colab": {
          "base_uri": "https://localhost:8080/"
        },
        "id": "839b5e62",
        "outputId": "12687705-9269-4758-883b-54e8f12e80aa"
      },
      "outputs": [
        {
          "output_type": "stream",
          "name": "stdout",
          "text": [
            "dj_db com valores iniciais para w,b: 386.7486783634729\n",
            "dj_dw com valores iniciais para w,b: \n",
            " [19209.29991118   569.49445472 10114.22991408 36560.85054897\n",
            " 75516.75129311 46647.91273144 19722.22951125  1588.04077132\n",
            "  1792.0777475  35242.55552086]\n"
          ]
        }
      ],
      "source": [
        "# Calcula e mostra o gradiente\n",
        "tmp_dj_db, tmp_dj_dw = calcula_gradiente(X_trein, y_trein, w_inicial, b_inicial)\n",
        "print(f'dj_db com valores iniciais para w,b: {tmp_dj_db}')\n",
        "print(f'dj_dw com valores iniciais para w,b: \\n {tmp_dj_dw}')"
      ]
    },
    {
      "cell_type": "markdown",
      "source": [
        "**Pergunta 2:** Com as suas próprias palavras, faça uma análise dos valores de gradiente calculados. Qual é a relação entre tais valores e a possibilidade de otimizar os valores de $\\mathbf{w}$ e $b$?\n",
        "\n",
        "**Resposta:** Insira sua resposta aqui."
      ],
      "metadata": {
        "id": "s_RZ9Rrvd6SC"
      },
      "id": "s_RZ9Rrvd6SC"
    },
    {
      "cell_type": "markdown",
      "id": "03b1937a",
      "metadata": {
        "pycharm": {
          "name": "#%% md\n"
        },
        "id": "03b1937a"
      },
      "source": [
        "## Método do Gradiente com múltiplas características\n",
        "\n",
        "A rotina a seguir implementa a equação (5)"
      ]
    },
    {
      "cell_type": "code",
      "execution_count": 14,
      "id": "e95f471c",
      "metadata": {
        "pycharm": {
          "name": "#%%\n"
        },
        "id": "e95f471c"
      },
      "outputs": [],
      "source": [
        "def metodo_do_gradiente(X, y, w_in, b_in, calcula_custo, calcula_gradiente, alpha, num_iters):\n",
        "    \"\"\"\n",
        "    Performa Método do Gradiente para aprender w e b. Atualiza w e b ao longo de\n",
        "    num_iters iterações usando uma taxa de aprendizado alpha\n",
        "\n",
        "    Argumentos da função:\n",
        "      X (ndarray (m,n))   : Dados, contendo m exemplos com n características\n",
        "      y (ndarray (m,))    : valores alvo\n",
        "      w_in (ndarray (n,)) : valores iniciais dos parâmetros w do modelo\n",
        "      b_in (escalar)      : valor inicial do parâmetro b do modelo\n",
        "      calcula_custo       : função que calcula o custo\n",
        "      calcula_gradiente   : função que calcula o gradiente\n",
        "      alpha (float)       : taxa de aprendizado\n",
        "      num_iters (int)     : Número de iterações para o método do gradiente\n",
        "\n",
        "    Retorna:\n",
        "      w (ndarray (n,)) : Valores atualizados para os parâmetros w\n",
        "      b (scalar)       : Valores atualizado para o parâmetro b\n",
        "      \"\"\"\n",
        "\n",
        "    # Valores históricos\n",
        "    J_history = []\n",
        "    w = w_in\n",
        "    b = b_in\n",
        "\n",
        "    for i in range(num_iters):\n",
        "\n",
        "        # Calcula o gradiente\n",
        "        dj_db,dj_dw = calcula_gradiente(X, y, w, b)\n",
        "\n",
        "        # Atualiza os parâmetros\n",
        "        w = w - alpha * dj_dw\n",
        "        b = b - alpha * dj_db\n",
        "\n",
        "        # Salva o custo\n",
        "        if i<100000:      # prevent resource exhaustion\n",
        "            J_history.append( calcula_custo(X, y, w, b))\n",
        "\n",
        "        # Faz print de tempos em tempos\n",
        "        if i% math.ceil(num_iters / 10) == 0:\n",
        "            print(f\"Iteração {i:4d}: Custo {J_history[-1]:8.2f}   \")\n",
        "\n",
        "    return w, b, J_history # retorna valores finais e históricos"
      ]
    },
    {
      "cell_type": "markdown",
      "id": "0fc222a6",
      "metadata": {
        "pycharm": {
          "name": "#%% md\n"
        },
        "id": "0fc222a6"
      },
      "source": [
        "Na célula a seguir testamos a implementação"
      ]
    },
    {
      "cell_type": "code",
      "execution_count": 17,
      "id": "3a5ac992",
      "metadata": {
        "pycharm": {
          "name": "#%%\n"
        },
        "colab": {
          "base_uri": "https://localhost:8080/"
        },
        "id": "3a5ac992",
        "outputId": "e0ec25cc-9faf-421e-b638-a0b45ba57ff3"
      },
      "outputs": [
        {
          "output_type": "stream",
          "name": "stdout",
          "text": [
            "Iteração    0: Custo 87336.82   \n",
            "Iteração  100: Custo 3483940256014858605912450938347848651910404769575423009450389552629589104713576426611146752.00   \n",
            "Iteração  200: Custo 143465672694977195668977415143256247744829194116777349082374599317389099130252016338094455004806234889948344221626251047735782248855758657828832321132380588507890470395276427264.00   \n",
            "Iteração  300: Custo 5907793397515380574378752151393569278651007390370995920160719727162192765939642398623630523800855626474503045492144892918840416245674934773091819849040018580497756043396028354586824221340077807335839064875563955662327775752677812395249366402407867430246847348736.00   \n"
          ]
        },
        {
          "output_type": "stream",
          "name": "stderr",
          "text": [
            "<ipython-input-10-8278ccea76fc>:17: RuntimeWarning: overflow encountered in scalar add\n",
            "  custo = custo + (f_wb_i - y[i])**2     # escalar\n",
            "<ipython-input-10-8278ccea76fc>:17: RuntimeWarning: overflow encountered in scalar power\n",
            "  custo = custo + (f_wb_i - y[i])**2     # escalar\n"
          ]
        },
        {
          "output_type": "stream",
          "name": "stdout",
          "text": [
            "Iteração  400: Custo      inf   \n",
            "Iteração  500: Custo      inf   \n",
            "Iteração  600: Custo      inf   \n",
            "Iteração  700: Custo      inf   \n"
          ]
        },
        {
          "output_type": "stream",
          "name": "stderr",
          "text": [
            "<ipython-input-12-0c9498322f4d>:21: RuntimeWarning: overflow encountered in scalar add\n",
            "  dj_dw[j] = dj_dw[j] + erro * X[i, j]\n",
            "<ipython-input-14-911f8bde3841>:32: RuntimeWarning: invalid value encountered in subtract\n",
            "  w = w - alpha * dj_dw\n"
          ]
        },
        {
          "output_type": "stream",
          "name": "stdout",
          "text": [
            "Iteração  800: Custo      nan   \n",
            "Iteração  900: Custo      nan   \n",
            "b,w encontrados pelo método do gradiente: nan,[nan nan nan nan nan nan nan nan nan nan] \n"
          ]
        }
      ],
      "source": [
        "# inicializando novamente os parâmetros\n",
        "w_inicial = np.zeros_like(w_inicial)\n",
        "b_inicial = 0\n",
        "# parâmetros para rodar o Método do Gradiente:\n",
        "num_iters = 1000\n",
        "alpha     = 5.0e-5\n",
        "# Rodando o Método do gradiente\n",
        "w_final, b_final, J_hist = metodo_do_gradiente(X_trein, y_trein, w_inicial, b_inicial,\n",
        "                                                    calcula_custo, calcula_gradiente,\n",
        "                                                    alpha, num_iters)\n",
        "print(f\"b,w encontrados pelo método do gradiente: {b_final:0.2f},{w_final} \")\n"
      ]
    },
    {
      "cell_type": "markdown",
      "source": [
        "**Pergunta 3:** Ajuste a quantidade de iterações e a taxa de aprendizado `alpha` presentes na célula anterior para que o método do gradiente tenha uma performance satisfatória.\n",
        "\n",
        "**Resposta:** Explique aqui quais valores você testou, e suas conclusões acerca da escolha desses dois (hiper)parâmetros."
      ],
      "metadata": {
        "id": "KjvN3Yy0ejaw"
      },
      "id": "KjvN3Yy0ejaw"
    },
    {
      "cell_type": "code",
      "source": [
        "# Realizando previsão para os pacientes que estão no conjunto de dados de treinamento\n",
        "m     = X_trein.shape[0]\n",
        "y_est = np.zeros(m)\n",
        "linhas = []\n",
        "for i in range(m):\n",
        "    x_vetor  = X_trein[i,:]\n",
        "    f_wb     = previsao(x_vetor, w_final, b_final)\n",
        "    y_est[i] = f_wb\n",
        "    linha = {'Previsão': f_wb, 'Valor alvo': y_trein[i]}\n",
        "    linhas.append(linha)\n",
        "\n",
        "df = pd.DataFrame(linhas)\n",
        "\n",
        "display(df)"
      ],
      "metadata": {
        "colab": {
          "base_uri": "https://localhost:8080/",
          "height": 424
        },
        "id": "J7PODCJn8sfm",
        "outputId": "d964b709-f5bc-48d0-ca46-9a654c299e50"
      },
      "id": "J7PODCJn8sfm",
      "execution_count": 18,
      "outputs": [
        {
          "output_type": "display_data",
          "data": {
            "text/plain": [
              "     Previsão  Valor alvo\n",
              "0         NaN         151\n",
              "1         NaN          75\n",
              "2         NaN         141\n",
              "3         NaN         206\n",
              "4         NaN         135\n",
              "..        ...         ...\n",
              "437       NaN         178\n",
              "438       NaN         104\n",
              "439       NaN         132\n",
              "440       NaN         220\n",
              "441       NaN          57\n",
              "\n",
              "[442 rows x 2 columns]"
            ],
            "text/html": [
              "\n",
              "  <div id=\"df-039265f1-2111-4003-95ce-6ddca21a551e\" class=\"colab-df-container\">\n",
              "    <div>\n",
              "<style scoped>\n",
              "    .dataframe tbody tr th:only-of-type {\n",
              "        vertical-align: middle;\n",
              "    }\n",
              "\n",
              "    .dataframe tbody tr th {\n",
              "        vertical-align: top;\n",
              "    }\n",
              "\n",
              "    .dataframe thead th {\n",
              "        text-align: right;\n",
              "    }\n",
              "</style>\n",
              "<table border=\"1\" class=\"dataframe\">\n",
              "  <thead>\n",
              "    <tr style=\"text-align: right;\">\n",
              "      <th></th>\n",
              "      <th>Previsão</th>\n",
              "      <th>Valor alvo</th>\n",
              "    </tr>\n",
              "  </thead>\n",
              "  <tbody>\n",
              "    <tr>\n",
              "      <th>0</th>\n",
              "      <td>NaN</td>\n",
              "      <td>151</td>\n",
              "    </tr>\n",
              "    <tr>\n",
              "      <th>1</th>\n",
              "      <td>NaN</td>\n",
              "      <td>75</td>\n",
              "    </tr>\n",
              "    <tr>\n",
              "      <th>2</th>\n",
              "      <td>NaN</td>\n",
              "      <td>141</td>\n",
              "    </tr>\n",
              "    <tr>\n",
              "      <th>3</th>\n",
              "      <td>NaN</td>\n",
              "      <td>206</td>\n",
              "    </tr>\n",
              "    <tr>\n",
              "      <th>4</th>\n",
              "      <td>NaN</td>\n",
              "      <td>135</td>\n",
              "    </tr>\n",
              "    <tr>\n",
              "      <th>...</th>\n",
              "      <td>...</td>\n",
              "      <td>...</td>\n",
              "    </tr>\n",
              "    <tr>\n",
              "      <th>437</th>\n",
              "      <td>NaN</td>\n",
              "      <td>178</td>\n",
              "    </tr>\n",
              "    <tr>\n",
              "      <th>438</th>\n",
              "      <td>NaN</td>\n",
              "      <td>104</td>\n",
              "    </tr>\n",
              "    <tr>\n",
              "      <th>439</th>\n",
              "      <td>NaN</td>\n",
              "      <td>132</td>\n",
              "    </tr>\n",
              "    <tr>\n",
              "      <th>440</th>\n",
              "      <td>NaN</td>\n",
              "      <td>220</td>\n",
              "    </tr>\n",
              "    <tr>\n",
              "      <th>441</th>\n",
              "      <td>NaN</td>\n",
              "      <td>57</td>\n",
              "    </tr>\n",
              "  </tbody>\n",
              "</table>\n",
              "<p>442 rows × 2 columns</p>\n",
              "</div>\n",
              "    <div class=\"colab-df-buttons\">\n",
              "\n",
              "  <div class=\"colab-df-container\">\n",
              "    <button class=\"colab-df-convert\" onclick=\"convertToInteractive('df-039265f1-2111-4003-95ce-6ddca21a551e')\"\n",
              "            title=\"Convert this dataframe to an interactive table.\"\n",
              "            style=\"display:none;\">\n",
              "\n",
              "  <svg xmlns=\"http://www.w3.org/2000/svg\" height=\"24px\" viewBox=\"0 -960 960 960\">\n",
              "    <path d=\"M120-120v-720h720v720H120Zm60-500h600v-160H180v160Zm220 220h160v-160H400v160Zm0 220h160v-160H400v160ZM180-400h160v-160H180v160Zm440 0h160v-160H620v160ZM180-180h160v-160H180v160Zm440 0h160v-160H620v160Z\"/>\n",
              "  </svg>\n",
              "    </button>\n",
              "\n",
              "  <style>\n",
              "    .colab-df-container {\n",
              "      display:flex;\n",
              "      gap: 12px;\n",
              "    }\n",
              "\n",
              "    .colab-df-convert {\n",
              "      background-color: #E8F0FE;\n",
              "      border: none;\n",
              "      border-radius: 50%;\n",
              "      cursor: pointer;\n",
              "      display: none;\n",
              "      fill: #1967D2;\n",
              "      height: 32px;\n",
              "      padding: 0 0 0 0;\n",
              "      width: 32px;\n",
              "    }\n",
              "\n",
              "    .colab-df-convert:hover {\n",
              "      background-color: #E2EBFA;\n",
              "      box-shadow: 0px 1px 2px rgba(60, 64, 67, 0.3), 0px 1px 3px 1px rgba(60, 64, 67, 0.15);\n",
              "      fill: #174EA6;\n",
              "    }\n",
              "\n",
              "    .colab-df-buttons div {\n",
              "      margin-bottom: 4px;\n",
              "    }\n",
              "\n",
              "    [theme=dark] .colab-df-convert {\n",
              "      background-color: #3B4455;\n",
              "      fill: #D2E3FC;\n",
              "    }\n",
              "\n",
              "    [theme=dark] .colab-df-convert:hover {\n",
              "      background-color: #434B5C;\n",
              "      box-shadow: 0px 1px 3px 1px rgba(0, 0, 0, 0.15);\n",
              "      filter: drop-shadow(0px 1px 2px rgba(0, 0, 0, 0.3));\n",
              "      fill: #FFFFFF;\n",
              "    }\n",
              "  </style>\n",
              "\n",
              "    <script>\n",
              "      const buttonEl =\n",
              "        document.querySelector('#df-039265f1-2111-4003-95ce-6ddca21a551e button.colab-df-convert');\n",
              "      buttonEl.style.display =\n",
              "        google.colab.kernel.accessAllowed ? 'block' : 'none';\n",
              "\n",
              "      async function convertToInteractive(key) {\n",
              "        const element = document.querySelector('#df-039265f1-2111-4003-95ce-6ddca21a551e');\n",
              "        const dataTable =\n",
              "          await google.colab.kernel.invokeFunction('convertToInteractive',\n",
              "                                                    [key], {});\n",
              "        if (!dataTable) return;\n",
              "\n",
              "        const docLinkHtml = 'Like what you see? Visit the ' +\n",
              "          '<a target=\"_blank\" href=https://colab.research.google.com/notebooks/data_table.ipynb>data table notebook</a>'\n",
              "          + ' to learn more about interactive tables.';\n",
              "        element.innerHTML = '';\n",
              "        dataTable['output_type'] = 'display_data';\n",
              "        await google.colab.output.renderOutput(dataTable, element);\n",
              "        const docLink = document.createElement('div');\n",
              "        docLink.innerHTML = docLinkHtml;\n",
              "        element.appendChild(docLink);\n",
              "      }\n",
              "    </script>\n",
              "  </div>\n",
              "\n",
              "\n",
              "<div id=\"df-7b4e353f-88f4-439e-ae1b-faefe6e3fa23\">\n",
              "  <button class=\"colab-df-quickchart\" onclick=\"quickchart('df-7b4e353f-88f4-439e-ae1b-faefe6e3fa23')\"\n",
              "            title=\"Suggest charts\"\n",
              "            style=\"display:none;\">\n",
              "\n",
              "<svg xmlns=\"http://www.w3.org/2000/svg\" height=\"24px\"viewBox=\"0 0 24 24\"\n",
              "     width=\"24px\">\n",
              "    <g>\n",
              "        <path d=\"M19 3H5c-1.1 0-2 .9-2 2v14c0 1.1.9 2 2 2h14c1.1 0 2-.9 2-2V5c0-1.1-.9-2-2-2zM9 17H7v-7h2v7zm4 0h-2V7h2v10zm4 0h-2v-4h2v4z\"/>\n",
              "    </g>\n",
              "</svg>\n",
              "  </button>\n",
              "\n",
              "<style>\n",
              "  .colab-df-quickchart {\n",
              "      --bg-color: #E8F0FE;\n",
              "      --fill-color: #1967D2;\n",
              "      --hover-bg-color: #E2EBFA;\n",
              "      --hover-fill-color: #174EA6;\n",
              "      --disabled-fill-color: #AAA;\n",
              "      --disabled-bg-color: #DDD;\n",
              "  }\n",
              "\n",
              "  [theme=dark] .colab-df-quickchart {\n",
              "      --bg-color: #3B4455;\n",
              "      --fill-color: #D2E3FC;\n",
              "      --hover-bg-color: #434B5C;\n",
              "      --hover-fill-color: #FFFFFF;\n",
              "      --disabled-bg-color: #3B4455;\n",
              "      --disabled-fill-color: #666;\n",
              "  }\n",
              "\n",
              "  .colab-df-quickchart {\n",
              "    background-color: var(--bg-color);\n",
              "    border: none;\n",
              "    border-radius: 50%;\n",
              "    cursor: pointer;\n",
              "    display: none;\n",
              "    fill: var(--fill-color);\n",
              "    height: 32px;\n",
              "    padding: 0;\n",
              "    width: 32px;\n",
              "  }\n",
              "\n",
              "  .colab-df-quickchart:hover {\n",
              "    background-color: var(--hover-bg-color);\n",
              "    box-shadow: 0 1px 2px rgba(60, 64, 67, 0.3), 0 1px 3px 1px rgba(60, 64, 67, 0.15);\n",
              "    fill: var(--button-hover-fill-color);\n",
              "  }\n",
              "\n",
              "  .colab-df-quickchart-complete:disabled,\n",
              "  .colab-df-quickchart-complete:disabled:hover {\n",
              "    background-color: var(--disabled-bg-color);\n",
              "    fill: var(--disabled-fill-color);\n",
              "    box-shadow: none;\n",
              "  }\n",
              "\n",
              "  .colab-df-spinner {\n",
              "    border: 2px solid var(--fill-color);\n",
              "    border-color: transparent;\n",
              "    border-bottom-color: var(--fill-color);\n",
              "    animation:\n",
              "      spin 1s steps(1) infinite;\n",
              "  }\n",
              "\n",
              "  @keyframes spin {\n",
              "    0% {\n",
              "      border-color: transparent;\n",
              "      border-bottom-color: var(--fill-color);\n",
              "      border-left-color: var(--fill-color);\n",
              "    }\n",
              "    20% {\n",
              "      border-color: transparent;\n",
              "      border-left-color: var(--fill-color);\n",
              "      border-top-color: var(--fill-color);\n",
              "    }\n",
              "    30% {\n",
              "      border-color: transparent;\n",
              "      border-left-color: var(--fill-color);\n",
              "      border-top-color: var(--fill-color);\n",
              "      border-right-color: var(--fill-color);\n",
              "    }\n",
              "    40% {\n",
              "      border-color: transparent;\n",
              "      border-right-color: var(--fill-color);\n",
              "      border-top-color: var(--fill-color);\n",
              "    }\n",
              "    60% {\n",
              "      border-color: transparent;\n",
              "      border-right-color: var(--fill-color);\n",
              "    }\n",
              "    80% {\n",
              "      border-color: transparent;\n",
              "      border-right-color: var(--fill-color);\n",
              "      border-bottom-color: var(--fill-color);\n",
              "    }\n",
              "    90% {\n",
              "      border-color: transparent;\n",
              "      border-bottom-color: var(--fill-color);\n",
              "    }\n",
              "  }\n",
              "</style>\n",
              "\n",
              "  <script>\n",
              "    async function quickchart(key) {\n",
              "      const quickchartButtonEl =\n",
              "        document.querySelector('#' + key + ' button');\n",
              "      quickchartButtonEl.disabled = true;  // To prevent multiple clicks.\n",
              "      quickchartButtonEl.classList.add('colab-df-spinner');\n",
              "      try {\n",
              "        const charts = await google.colab.kernel.invokeFunction(\n",
              "            'suggestCharts', [key], {});\n",
              "      } catch (error) {\n",
              "        console.error('Error during call to suggestCharts:', error);\n",
              "      }\n",
              "      quickchartButtonEl.classList.remove('colab-df-spinner');\n",
              "      quickchartButtonEl.classList.add('colab-df-quickchart-complete');\n",
              "    }\n",
              "    (() => {\n",
              "      let quickchartButtonEl =\n",
              "        document.querySelector('#df-7b4e353f-88f4-439e-ae1b-faefe6e3fa23 button');\n",
              "      quickchartButtonEl.style.display =\n",
              "        google.colab.kernel.accessAllowed ? 'block' : 'none';\n",
              "    })();\n",
              "  </script>\n",
              "</div>\n",
              "\n",
              "  <div id=\"id_f1149944-f9ab-49e6-b480-8821d3c80042\">\n",
              "    <style>\n",
              "      .colab-df-generate {\n",
              "        background-color: #E8F0FE;\n",
              "        border: none;\n",
              "        border-radius: 50%;\n",
              "        cursor: pointer;\n",
              "        display: none;\n",
              "        fill: #1967D2;\n",
              "        height: 32px;\n",
              "        padding: 0 0 0 0;\n",
              "        width: 32px;\n",
              "      }\n",
              "\n",
              "      .colab-df-generate:hover {\n",
              "        background-color: #E2EBFA;\n",
              "        box-shadow: 0px 1px 2px rgba(60, 64, 67, 0.3), 0px 1px 3px 1px rgba(60, 64, 67, 0.15);\n",
              "        fill: #174EA6;\n",
              "      }\n",
              "\n",
              "      [theme=dark] .colab-df-generate {\n",
              "        background-color: #3B4455;\n",
              "        fill: #D2E3FC;\n",
              "      }\n",
              "\n",
              "      [theme=dark] .colab-df-generate:hover {\n",
              "        background-color: #434B5C;\n",
              "        box-shadow: 0px 1px 3px 1px rgba(0, 0, 0, 0.15);\n",
              "        filter: drop-shadow(0px 1px 2px rgba(0, 0, 0, 0.3));\n",
              "        fill: #FFFFFF;\n",
              "      }\n",
              "    </style>\n",
              "    <button class=\"colab-df-generate\" onclick=\"generateWithVariable('df')\"\n",
              "            title=\"Generate code using this dataframe.\"\n",
              "            style=\"display:none;\">\n",
              "\n",
              "  <svg xmlns=\"http://www.w3.org/2000/svg\" height=\"24px\"viewBox=\"0 0 24 24\"\n",
              "       width=\"24px\">\n",
              "    <path d=\"M7,19H8.4L18.45,9,17,7.55,7,17.6ZM5,21V16.75L18.45,3.32a2,2,0,0,1,2.83,0l1.4,1.43a1.91,1.91,0,0,1,.58,1.4,1.91,1.91,0,0,1-.58,1.4L9.25,21ZM18.45,9,17,7.55Zm-12,3A5.31,5.31,0,0,0,4.9,8.1,5.31,5.31,0,0,0,1,6.5,5.31,5.31,0,0,0,4.9,4.9,5.31,5.31,0,0,0,6.5,1,5.31,5.31,0,0,0,8.1,4.9,5.31,5.31,0,0,0,12,6.5,5.46,5.46,0,0,0,6.5,12Z\"/>\n",
              "  </svg>\n",
              "    </button>\n",
              "    <script>\n",
              "      (() => {\n",
              "      const buttonEl =\n",
              "        document.querySelector('#id_f1149944-f9ab-49e6-b480-8821d3c80042 button.colab-df-generate');\n",
              "      buttonEl.style.display =\n",
              "        google.colab.kernel.accessAllowed ? 'block' : 'none';\n",
              "\n",
              "      buttonEl.onclick = () => {\n",
              "        google.colab.notebook.generateWithVariable('df');\n",
              "      }\n",
              "      })();\n",
              "    </script>\n",
              "  </div>\n",
              "\n",
              "    </div>\n",
              "  </div>\n"
            ],
            "application/vnd.google.colaboratory.intrinsic+json": {
              "type": "dataframe",
              "variable_name": "df",
              "summary": "{\n  \"name\": \"df\",\n  \"rows\": 442,\n  \"fields\": [\n    {\n      \"column\": \"Previs\\u00e3o\",\n      \"properties\": {\n        \"dtype\": \"number\",\n        \"std\": null,\n        \"min\": null,\n        \"max\": null,\n        \"num_unique_values\": 0,\n        \"samples\": [],\n        \"semantic_type\": \"\",\n        \"description\": \"\"\n      }\n    },\n    {\n      \"column\": \"Valor alvo\",\n      \"properties\": {\n        \"dtype\": \"number\",\n        \"std\": 77,\n        \"min\": 25,\n        \"max\": 346,\n        \"num_unique_values\": 214,\n        \"samples\": [],\n        \"semantic_type\": \"\",\n        \"description\": \"\"\n      }\n    }\n  ]\n}"
            }
          },
          "metadata": {}
        }
      ]
    },
    {
      "cell_type": "code",
      "source": [
        "# gerando também um gráfico que compara previsão com valor alvo\n",
        "fig,ax = plt.subplots(1, 1, constrained_layout=True, figsize=(12, 4))\n",
        "ax.scatter(range(m),y_trein, label = 'valor verdadeiro')\n",
        "ax.scatter(range(m),y_est, color='orange', label = 'valor estimado')\n",
        "ax.set_ylabel('valor alvo ou valor estimado')\n",
        "ax.set_xlabel('amostra')\n",
        "ax.legend()\n",
        "plt.ylim(0, 400)\n",
        "plt.show()"
      ],
      "metadata": {
        "colab": {
          "base_uri": "https://localhost:8080/",
          "height": 428
        },
        "id": "-nZpnZl_Bvc2",
        "outputId": "9abc76ae-c929-46d6-af7e-bac616259ecd"
      },
      "id": "-nZpnZl_Bvc2",
      "execution_count": 19,
      "outputs": [
        {
          "output_type": "display_data",
          "data": {
            "text/plain": [
              "<Figure size 1200x400 with 1 Axes>"
            ],
            "image/png": "[encoded data removed]"
          },
          "metadata": {}
        }
      ]
    },
    {
      "cell_type": "markdown",
      "source": [
        "*Estes resultados ainda não são os melhores*! Podemos melhorá-los significativamente por meio do escalonamento de características!\n",
        "\n",
        "\n",
        "Apenas para termos uma métrica quantitativa para avaliar o resultado obtido, abaixo calculamos o Erro Percentual Absoluto Médio (ou MAPE, do inglês, Mean Absolute Percentage Error). Conforme sugerido pelo próprio nome, o MAPE nos fornece a média, levando em conta todas as amostras que temos, do erro percentual absoluto cometido ao compararmos a previsão feita pelo modelo com o seu valor alvo correspondente."
      ],
      "metadata": {
        "id": "gQ4hSNdw_FEz"
      },
      "id": "gQ4hSNdw_FEz"
    },
    {
      "cell_type": "code",
      "source": [
        "mape = np.mean(np.abs((y_trein - y_est) / y_trein)) * 100\n",
        "\n",
        "print(\"MAPE:\", mape, \"%\")"
      ],
      "metadata": {
        "colab": {
          "base_uri": "https://localhost:8080/"
        },
        "id": "FOdW-lsMC2EL",
        "outputId": "646aad10-97bd-45d8-99b3-c7ccdfd9924f"
      },
      "id": "FOdW-lsMC2EL",
      "execution_count": 20,
      "outputs": [
        {
          "output_type": "stream",
          "name": "stdout",
          "text": [
            "MAPE: nan %\n"
          ]
        }
      ]
    },
    {
      "cell_type": "markdown",
      "source": [
        "## Escalonamento de Características\n",
        "\n",
        "Existem diferentes formas para se escalonar características:\n",
        "- Dividindo pelo máximo: Nesse caso, essencialmente divide-se uma característica pelo seu valor máximo. Numa situação mais geral, é possível utilizar tanto o valor máximo como o mínimo, fazendo-se (x-min)/(max-min).\n",
        "- Normalização pela média: Nesse caso, faz-se (x-media(x))/(max-min)\n",
        "- Normalização Z-score: Nesse caso, faz-se (x-media(x))/(desvio)\n",
        "\n",
        "\n",
        ">**OBSERVAÇÃO IMPORTANTE:** Ao normalizar características, é importante armazenar (guardar) os valores usados na normalização, média e desvio padrão no caso da normalização Z-score, por exemplo. Isso porque, após o modelo ser estimado, nós frequentemente queremos usar ele para estimar o preço de casas que não foram usadas no processo de treinamento. Dada uma nova casa com características x, nós devemos primeiro normalizar x usando a média e o desvio padrão que foram previamente computados a partir dos dados de treinamento.\n",
        "\n",
        "\n",
        "A função abaixo implementa a normalização Z-Score\n",
        "\n"
      ],
      "metadata": {
        "id": "kzsyRCdW9-l9"
      },
      "id": "kzsyRCdW9-l9"
    },
    {
      "cell_type": "code",
      "source": [
        "def normalizacao_zscore(X):\n",
        "    \"\"\"\n",
        "    Normaliza todas as colunas em X\n",
        "\n",
        "    Argumentos:\n",
        "      X (ndarray (m,n))     : Dados de entrada, m amostras (linhas), n características (colunas)\n",
        "\n",
        "    Retorna:\n",
        "      X_norm (ndarray (m,n)): Matriz X normalizada\n",
        "      mu (ndarray (n,))     : média de cada característica\n",
        "      sigma (ndarray (n,))  : desvio padrão de cada característica\n",
        "    \"\"\"\n",
        "    # Encontrando a média de cada característica/coluna\n",
        "    mu     = np.mean(X, axis=0)                 # mu terá shape (n,) ---> axis=0 indica que a operação será feita ao longo das linhas, para cada coluna\n",
        "    # Encontrando o desvio padrão de cada característica/coluna\n",
        "    sigma  = np.std(X, axis=0)                  # sigma terá shape (n,)\n",
        "    # O comando abaixo subtrai a média mu de cada coluna para cada exemplo, e divide pelo desvio correspondente\n",
        "    X_norm = (X - mu) / sigma\n",
        "\n",
        "    return (X_norm, mu, sigma)\n",
        "\n",
        "#O que a nossa função faz pode ser feito usando a biblioteca Scikit learn, por meio dos comandos abaixo\n",
        "#from sklearn.preprocessing import scale\n",
        "#scale(X_orig, axis=0, with_mean=True, with_std=True, copy=True)"
      ],
      "metadata": {
        "id": "9cIwiGXv9q91"
      },
      "id": "9cIwiGXv9q91",
      "execution_count": 22,
      "outputs": []
    },
    {
      "cell_type": "code",
      "source": [
        "# Normalizando as características a partir da função normalizacao_zscore\n",
        "X_norm, X_mu, X_sigma = normalizacao_zscore(X_trein)\n",
        "print(f\"X_mu = {X_mu}, \\nX_sigma = {X_sigma}\")\n",
        "print(f\"Intervalo pico a pico por característica/coluna nos dados originais  :{np.ptp(X_trein,axis=0)}\")\n",
        "print(f\"Intervalo pico a pico por característica/coluna nos dados escalonados:{np.ptp(X_norm,axis=0)}\")"
      ],
      "metadata": {
        "colab": {
          "base_uri": "https://localhost:8080/"
        },
        "id": "AB2n5tVp-MA3",
        "outputId": "bbaa73e5-e3aa-4f75-9f0d-d05aed958b2f"
      },
      "id": "AB2n5tVp-MA3",
      "execution_count": 23,
      "outputs": [
        {
          "output_type": "stream",
          "name": "stdout",
          "text": [
            "X_mu = [ 48.51809955   1.46832579  26.37579186  94.64701357 189.14027149\n",
            " 115.43914027  49.78846154   4.07024887   4.64141086  91.260181  ], \n",
            "X_sigma = [13.09419021  0.49899574  4.41312086 13.81562831 34.56888013 30.37865755\n",
            " 12.91956242  1.28898929  0.52179929 11.48332247]\n",
            "Intervalo pico a pico por característica/coluna nos dados originais  :[ 60.       1.      24.2     71.     204.     200.8     77.       7.09\n",
            "   2.8489  66.    ]\n",
            "Intervalo pico a pico por característica/coluna nos dados escalonados:[4.58218485 2.00402514 5.48364769 5.13910757 5.90126146 6.60990367\n",
            " 5.95995418 5.50043362 5.45976216 5.74746552]\n"
          ]
        }
      ]
    },
    {
      "cell_type": "markdown",
      "source": [
        "Com a normalização, o intervalo pico a pico para cada característica é reduzido de uma ordem de grandeza de milhares para uma ordem de gradeza de poucas unidades.\n",
        "\n",
        "\n",
        "A seguir, o método do gradiente é aplicado novamente, mas agora levando em conta as características reescalonadas."
      ],
      "metadata": {
        "id": "_OsEWng4-TEX"
      },
      "id": "_OsEWng4-TEX"
    },
    {
      "cell_type": "code",
      "source": [
        "# inicializando parâmetros\n",
        "w_inicial = np.zeros_like(w_inicial)\n",
        "b_inicial = 0.0\n",
        "\n",
        "# parâmetros para rodar o Método do Gradiente:\n",
        "num_iters  = 1000\n",
        "alpha      = 0.3\n",
        "# Rodando o Método do gradiente\n",
        "w_norm, b_norm, J_hist = metodo_do_gradiente(X_norm, y_trein, w_inicial, b_inicial,\n",
        "                                                    calcula_custo, calcula_gradiente,\n",
        "                                                    alpha, num_iters)\n",
        "print(f\"b,w encontrados pelo método do gradiente: {b_norm:0.2f},{w_norm} \")\n",
        "\n",
        "\n"
      ],
      "metadata": {
        "colab": {
          "base_uri": "https://localhost:8080/"
        },
        "id": "0EwqMyvD-U3b",
        "outputId": "b4d71005-1b23-43bd-d693-6a30a4cd109a"
      },
      "id": "0EwqMyvD-U3b",
      "execution_count": 26,
      "outputs": [
        {
          "output_type": "stream",
          "name": "stdout",
          "text": [
            "Iteração    0: Custo  7437.69   \n",
            "Iteração  100: Custo  1436.51   \n",
            "Iteração  200: Custo  1433.83   \n",
            "Iteração  300: Custo  1432.23   \n",
            "Iteração  400: Custo  1431.27   \n",
            "Iteração  500: Custo  1430.70   \n",
            "Iteração  600: Custo  1430.36   \n",
            "Iteração  700: Custo  1430.15   \n",
            "Iteração  800: Custo  1430.03   \n",
            "Iteração  900: Custo  1429.96   \n",
            "b,w encontrados pelo método do gradiente: 152.13,[ -0.46337173 -11.39256291  24.75877724  15.41681247 -34.90635272\n",
            "  20.47535681   3.56565155   8.06801542  34.7009869    3.22687523] \n"
          ]
        }
      ]
    },
    {
      "cell_type": "code",
      "source": [
        "# Realizando previsão\n",
        "m     = X_trein.shape[0]\n",
        "y_est = np.zeros(m)\n",
        "linhas = []\n",
        "for i in range(m):\n",
        "    x_vetor  = X_norm[i,:]\n",
        "    f_wb     = previsao(x_vetor, w_norm, b_norm)\n",
        "    y_est[i] = f_wb\n",
        "    linha = {'Previsão': f_wb, 'Valor alvo': y_trein[i]}\n",
        "    linhas.append(linha)\n",
        "\n",
        "df = pd.DataFrame(linhas)\n",
        "\n",
        "display(df)"
      ],
      "metadata": {
        "colab": {
          "base_uri": "https://localhost:8080/",
          "height": 424
        },
        "id": "zSUlPJTSDk2E",
        "outputId": "6a6c3bf7-3b8d-4b33-cdb2-ad72d7066e9d"
      },
      "id": "zSUlPJTSDk2E",
      "execution_count": 27,
      "outputs": [
        {
          "output_type": "display_data",
          "data": {
            "text/plain": [
              "       Previsão  Valor alvo\n",
              "0    205.925383         151\n",
              "1     68.241404          75\n",
              "2    176.671089         141\n",
              "3    166.623106         206\n",
              "4    128.419608         135\n",
              "..          ...         ...\n",
              "437  192.918979         178\n",
              "438  101.186515         104\n",
              "439  121.456747         132\n",
              "440  211.680987         220\n",
              "441   52.843307          57\n",
              "\n",
              "[442 rows x 2 columns]"
            ],
            "text/html": [
              "\n",
              "  <div id=\"df-202ee5a3-adfd-42a1-9597-b2ed7bfef30a\" class=\"colab-df-container\">\n",
              "    <div>\n",
              "<style scoped>\n",
              "    .dataframe tbody tr th:only-of-type {\n",
              "        vertical-align: middle;\n",
              "    }\n",
              "\n",
              "    .dataframe tbody tr th {\n",
              "        vertical-align: top;\n",
              "    }\n",
              "\n",
              "    .dataframe thead th {\n",
              "        text-align: right;\n",
              "    }\n",
              "</style>\n",
              "<table border=\"1\" class=\"dataframe\">\n",
              "  <thead>\n",
              "    <tr style=\"text-align: right;\">\n",
              "      <th></th>\n",
              "      <th>Previsão</th>\n",
              "      <th>Valor alvo</th>\n",
              "    </tr>\n",
              "  </thead>\n",
              "  <tbody>\n",
              "    <tr>\n",
              "      <th>0</th>\n",
              "      <td>205.925383</td>\n",
              "      <td>151</td>\n",
              "    </tr>\n",
              "    <tr>\n",
              "      <th>1</th>\n",
              "      <td>68.241404</td>\n",
              "      <td>75</td>\n",
              "    </tr>\n",
              "    <tr>\n",
              "      <th>2</th>\n",
              "      <td>176.671089</td>\n",
              "      <td>141</td>\n",
              "    </tr>\n",
              "    <tr>\n",
              "      <th>3</th>\n",
              "      <td>166.623106</td>\n",
              "      <td>206</td>\n",
              "    </tr>\n",
              "    <tr>\n",
              "      <th>4</th>\n",
              "      <td>128.419608</td>\n",
              "      <td>135</td>\n",
              "    </tr>\n",
              "    <tr>\n",
              "      <th>...</th>\n",
              "      <td>...</td>\n",
              "      <td>...</td>\n",
              "    </tr>\n",
              "    <tr>\n",
              "      <th>437</th>\n",
              "      <td>192.918979</td>\n",
              "      <td>178</td>\n",
              "    </tr>\n",
              "    <tr>\n",
              "      <th>438</th>\n",
              "      <td>101.186515</td>\n",
              "      <td>104</td>\n",
              "    </tr>\n",
              "    <tr>\n",
              "      <th>439</th>\n",
              "      <td>121.456747</td>\n",
              "      <td>132</td>\n",
              "    </tr>\n",
              "    <tr>\n",
              "      <th>440</th>\n",
              "      <td>211.680987</td>\n",
              "      <td>220</td>\n",
              "    </tr>\n",
              "    <tr>\n",
              "      <th>441</th>\n",
              "      <td>52.843307</td>\n",
              "      <td>57</td>\n",
              "    </tr>\n",
              "  </tbody>\n",
              "</table>\n",
              "<p>442 rows × 2 columns</p>\n",
              "</div>\n",
              "    <div class=\"colab-df-buttons\">\n",
              "\n",
              "  <div class=\"colab-df-container\">\n",
              "    <button class=\"colab-df-convert\" onclick=\"convertToInteractive('df-202ee5a3-adfd-42a1-9597-b2ed7bfef30a')\"\n",
              "            title=\"Convert this dataframe to an interactive table.\"\n",
              "            style=\"display:none;\">\n",
              "\n",
              "  <svg xmlns=\"http://www.w3.org/2000/svg\" height=\"24px\" viewBox=\"0 -960 960 960\">\n",
              "    <path d=\"M120-120v-720h720v720H120Zm60-500h600v-160H180v160Zm220 220h160v-160H400v160Zm0 220h160v-160H400v160ZM180-400h160v-160H180v160Zm440 0h160v-160H620v160ZM180-180h160v-160H180v160Zm440 0h160v-160H620v160Z\"/>\n",
              "  </svg>\n",
              "    </button>\n",
              "\n",
              "  <style>\n",
              "    .colab-df-container {\n",
              "      display:flex;\n",
              "      gap: 12px;\n",
              "    }\n",
              "\n",
              "    .colab-df-convert {\n",
              "      background-color: #E8F0FE;\n",
              "      border: none;\n",
              "      border-radius: 50%;\n",
              "      cursor: pointer;\n",
              "      display: none;\n",
              "      fill: #1967D2;\n",
              "      height: 32px;\n",
              "      padding: 0 0 0 0;\n",
              "      width: 32px;\n",
              "    }\n",
              "\n",
              "    .colab-df-convert:hover {\n",
              "      background-color: #E2EBFA;\n",
              "      box-shadow: 0px 1px 2px rgba(60, 64, 67, 0.3), 0px 1px 3px 1px rgba(60, 64, 67, 0.15);\n",
              "      fill: #174EA6;\n",
              "    }\n",
              "\n",
              "    .colab-df-buttons div {\n",
              "      margin-bottom: 4px;\n",
              "    }\n",
              "\n",
              "    [theme=dark] .colab-df-convert {\n",
              "      background-color: #3B4455;\n",
              "      fill: #D2E3FC;\n",
              "    }\n",
              "\n",
              "    [theme=dark] .colab-df-convert:hover {\n",
              "      background-color: #434B5C;\n",
              "      box-shadow: 0px 1px 3px 1px rgba(0, 0, 0, 0.15);\n",
              "      filter: drop-shadow(0px 1px 2px rgba(0, 0, 0, 0.3));\n",
              "      fill: #FFFFFF;\n",
              "    }\n",
              "  </style>\n",
              "\n",
              "    <script>\n",
              "      const buttonEl =\n",
              "        document.querySelector('#df-202ee5a3-adfd-42a1-9597-b2ed7bfef30a button.colab-df-convert');\n",
              "      buttonEl.style.display =\n",
              "        google.colab.kernel.accessAllowed ? 'block' : 'none';\n",
              "\n",
              "      async function convertToInteractive(key) {\n",
              "        const element = document.querySelector('#df-202ee5a3-adfd-42a1-9597-b2ed7bfef30a');\n",
              "        const dataTable =\n",
              "          await google.colab.kernel.invokeFunction('convertToInteractive',\n",
              "                                                    [key], {});\n",
              "        if (!dataTable) return;\n",
              "\n",
              "        const docLinkHtml = 'Like what you see? Visit the ' +\n",
              "          '<a target=\"_blank\" href=https://colab.research.google.com/notebooks/data_table.ipynb>data table notebook</a>'\n",
              "          + ' to learn more about interactive tables.';\n",
              "        element.innerHTML = '';\n",
              "        dataTable['output_type'] = 'display_data';\n",
              "        await google.colab.output.renderOutput(dataTable, element);\n",
              "        const docLink = document.createElement('div');\n",
              "        docLink.innerHTML = docLinkHtml;\n",
              "        element.appendChild(docLink);\n",
              "      }\n",
              "    </script>\n",
              "  </div>\n",
              "\n",
              "\n",
              "<div id=\"df-f630d7e3-669c-4888-8ccb-b50f9414f7c6\">\n",
              "  <button class=\"colab-df-quickchart\" onclick=\"quickchart('df-f630d7e3-669c-4888-8ccb-b50f9414f7c6')\"\n",
              "            title=\"Suggest charts\"\n",
              "            style=\"display:none;\">\n",
              "\n",
              "<svg xmlns=\"http://www.w3.org/2000/svg\" height=\"24px\"viewBox=\"0 0 24 24\"\n",
              "     width=\"24px\">\n",
              "    <g>\n",
              "        <path d=\"M19 3H5c-1.1 0-2 .9-2 2v14c0 1.1.9 2 2 2h14c1.1 0 2-.9 2-2V5c0-1.1-.9-2-2-2zM9 17H7v-7h2v7zm4 0h-2V7h2v10zm4 0h-2v-4h2v4z\"/>\n",
              "    </g>\n",
              "</svg>\n",
              "  </button>\n",
              "\n",
              "<style>\n",
              "  .colab-df-quickchart {\n",
              "      --bg-color: #E8F0FE;\n",
              "      --fill-color: #1967D2;\n",
              "      --hover-bg-color: #E2EBFA;\n",
              "      --hover-fill-color: #174EA6;\n",
              "      --disabled-fill-color: #AAA;\n",
              "      --disabled-bg-color: #DDD;\n",
              "  }\n",
              "\n",
              "  [theme=dark] .colab-df-quickchart {\n",
              "      --bg-color: #3B4455;\n",
              "      --fill-color: #D2E3FC;\n",
              "      --hover-bg-color: #434B5C;\n",
              "      --hover-fill-color: #FFFFFF;\n",
              "      --disabled-bg-color: #3B4455;\n",
              "      --disabled-fill-color: #666;\n",
              "  }\n",
              "\n",
              "  .colab-df-quickchart {\n",
              "    background-color: var(--bg-color);\n",
              "    border: none;\n",
              "    border-radius: 50%;\n",
              "    cursor: pointer;\n",
              "    display: none;\n",
              "    fill: var(--fill-color);\n",
              "    height: 32px;\n",
              "    padding: 0;\n",
              "    width: 32px;\n",
              "  }\n",
              "\n",
              "  .colab-df-quickchart:hover {\n",
              "    background-color: var(--hover-bg-color);\n",
              "    box-shadow: 0 1px 2px rgba(60, 64, 67, 0.3), 0 1px 3px 1px rgba(60, 64, 67, 0.15);\n",
              "    fill: var(--button-hover-fill-color);\n",
              "  }\n",
              "\n",
              "  .colab-df-quickchart-complete:disabled,\n",
              "  .colab-df-quickchart-complete:disabled:hover {\n",
              "    background-color: var(--disabled-bg-color);\n",
              "    fill: var(--disabled-fill-color);\n",
              "    box-shadow: none;\n",
              "  }\n",
              "\n",
              "  .colab-df-spinner {\n",
              "    border: 2px solid var(--fill-color);\n",
              "    border-color: transparent;\n",
              "    border-bottom-color: var(--fill-color);\n",
              "    animation:\n",
              "      spin 1s steps(1) infinite;\n",
              "  }\n",
              "\n",
              "  @keyframes spin {\n",
              "    0% {\n",
              "      border-color: transparent;\n",
              "      border-bottom-color: var(--fill-color);\n",
              "      border-left-color: var(--fill-color);\n",
              "    }\n",
              "    20% {\n",
              "      border-color: transparent;\n",
              "      border-left-color: var(--fill-color);\n",
              "      border-top-color: var(--fill-color);\n",
              "    }\n",
              "    30% {\n",
              "      border-color: transparent;\n",
              "      border-left-color: var(--fill-color);\n",
              "      border-top-color: var(--fill-color);\n",
              "      border-right-color: var(--fill-color);\n",
              "    }\n",
              "    40% {\n",
              "      border-color: transparent;\n",
              "      border-right-color: var(--fill-color);\n",
              "      border-top-color: var(--fill-color);\n",
              "    }\n",
              "    60% {\n",
              "      border-color: transparent;\n",
              "      border-right-color: var(--fill-color);\n",
              "    }\n",
              "    80% {\n",
              "      border-color: transparent;\n",
              "      border-right-color: var(--fill-color);\n",
              "      border-bottom-color: var(--fill-color);\n",
              "    }\n",
              "    90% {\n",
              "      border-color: transparent;\n",
              "      border-bottom-color: var(--fill-color);\n",
              "    }\n",
              "  }\n",
              "</style>\n",
              "\n",
              "  <script>\n",
              "    async function quickchart(key) {\n",
              "      const quickchartButtonEl =\n",
              "        document.querySelector('#' + key + ' button');\n",
              "      quickchartButtonEl.disabled = true;  // To prevent multiple clicks.\n",
              "      quickchartButtonEl.classList.add('colab-df-spinner');\n",
              "      try {\n",
              "        const charts = await google.colab.kernel.invokeFunction(\n",
              "            'suggestCharts', [key], {});\n",
              "      } catch (error) {\n",
              "        console.error('Error during call to suggestCharts:', error);\n",
              "      }\n",
              "      quickchartButtonEl.classList.remove('colab-df-spinner');\n",
              "      quickchartButtonEl.classList.add('colab-df-quickchart-complete');\n",
              "    }\n",
              "    (() => {\n",
              "      let quickchartButtonEl =\n",
              "        document.querySelector('#df-f630d7e3-669c-4888-8ccb-b50f9414f7c6 button');\n",
              "      quickchartButtonEl.style.display =\n",
              "        google.colab.kernel.accessAllowed ? 'block' : 'none';\n",
              "    })();\n",
              "  </script>\n",
              "</div>\n",
              "\n",
              "  <div id=\"id_3c4a1018-837b-45bf-9b13-4c2253f45f47\">\n",
              "    <style>\n",
              "      .colab-df-generate {\n",
              "        background-color: #E8F0FE;\n",
              "        border: none;\n",
              "        border-radius: 50%;\n",
              "        cursor: pointer;\n",
              "        display: none;\n",
              "        fill: #1967D2;\n",
              "        height: 32px;\n",
              "        padding: 0 0 0 0;\n",
              "        width: 32px;\n",
              "      }\n",
              "\n",
              "      .colab-df-generate:hover {\n",
              "        background-color: #E2EBFA;\n",
              "        box-shadow: 0px 1px 2px rgba(60, 64, 67, 0.3), 0px 1px 3px 1px rgba(60, 64, 67, 0.15);\n",
              "        fill: #174EA6;\n",
              "      }\n",
              "\n",
              "      [theme=dark] .colab-df-generate {\n",
              "        background-color: #3B4455;\n",
              "        fill: #D2E3FC;\n",
              "      }\n",
              "\n",
              "      [theme=dark] .colab-df-generate:hover {\n",
              "        background-color: #434B5C;\n",
              "        box-shadow: 0px 1px 3px 1px rgba(0, 0, 0, 0.15);\n",
              "        filter: drop-shadow(0px 1px 2px rgba(0, 0, 0, 0.3));\n",
              "        fill: #FFFFFF;\n",
              "      }\n",
              "    </style>\n",
              "    <button class=\"colab-df-generate\" onclick=\"generateWithVariable('df')\"\n",
              "            title=\"Generate code using this dataframe.\"\n",
              "            style=\"display:none;\">\n",
              "\n",
              "  <svg xmlns=\"http://www.w3.org/2000/svg\" height=\"24px\"viewBox=\"0 0 24 24\"\n",
              "       width=\"24px\">\n",
              "    <path d=\"M7,19H8.4L18.45,9,17,7.55,7,17.6ZM5,21V16.75L18.45,3.32a2,2,0,0,1,2.83,0l1.4,1.43a1.91,1.91,0,0,1,.58,1.4,1.91,1.91,0,0,1-.58,1.4L9.25,21ZM18.45,9,17,7.55Zm-12,3A5.31,5.31,0,0,0,4.9,8.1,5.31,5.31,0,0,0,1,6.5,5.31,5.31,0,0,0,4.9,4.9,5.31,5.31,0,0,0,6.5,1,5.31,5.31,0,0,0,8.1,4.9,5.31,5.31,0,0,0,12,6.5,5.46,5.46,0,0,0,6.5,12Z\"/>\n",
              "  </svg>\n",
              "    </button>\n",
              "    <script>\n",
              "      (() => {\n",
              "      const buttonEl =\n",
              "        document.querySelector('#id_3c4a1018-837b-45bf-9b13-4c2253f45f47 button.colab-df-generate');\n",
              "      buttonEl.style.display =\n",
              "        google.colab.kernel.accessAllowed ? 'block' : 'none';\n",
              "\n",
              "      buttonEl.onclick = () => {\n",
              "        google.colab.notebook.generateWithVariable('df');\n",
              "      }\n",
              "      })();\n",
              "    </script>\n",
              "  </div>\n",
              "\n",
              "    </div>\n",
              "  </div>\n"
            ],
            "application/vnd.google.colaboratory.intrinsic+json": {
              "type": "dataframe",
              "variable_name": "df",
              "summary": "{\n  \"name\": \"df\",\n  \"rows\": 442,\n  \"fields\": [\n    {\n      \"column\": \"Previs\\u00e3o\",\n      \"properties\": {\n        \"dtype\": \"number\",\n        \"std\": 55.4423343681314,\n        \"min\": 35.320019335209295,\n        \"max\": 291.94411057342467,\n        \"num_unique_values\": 442,\n        \"samples\": [\n          146.6800224075866,\n          174.8251120345487,\n          142.8121216592096\n        ],\n        \"semantic_type\": \"\",\n        \"description\": \"\"\n      }\n    },\n    {\n      \"column\": \"Valor alvo\",\n      \"properties\": {\n        \"dtype\": \"number\",\n        \"std\": 77,\n        \"min\": 25,\n        \"max\": 346,\n        \"num_unique_values\": 214,\n        \"samples\": [\n          310,\n          140,\n          51\n        ],\n        \"semantic_type\": \"\",\n        \"description\": \"\"\n      }\n    }\n  ]\n}"
            }
          },
          "metadata": {}
        }
      ]
    },
    {
      "cell_type": "code",
      "source": [
        "# gerando também um gráfico que compara previsão com valor alvo\n",
        "fig,ax = plt.subplots(1, 1, constrained_layout=True, figsize=(12, 4))\n",
        "ax.scatter(range(m),y_trein, label = 'valor verdadeiro')\n",
        "ax.scatter(range(m),y_est, color='orange', label = 'valor estimado')\n",
        "ax.set_ylabel('valor alvo ou valor estimado')\n",
        "ax.set_xlabel('amostra')\n",
        "ax.legend()\n",
        "plt.ylim(0, 400)\n",
        "plt.show()"
      ],
      "metadata": {
        "colab": {
          "base_uri": "https://localhost:8080/",
          "height": 428
        },
        "id": "HALTv8X_jeSx",
        "outputId": "1f088524-82bf-4bed-b048-79858d5df983"
      },
      "id": "HALTv8X_jeSx",
      "execution_count": 28,
      "outputs": [
        {
          "output_type": "display_data",
          "data": {
            "text/plain": [
              "<Figure size 1200x400 with 1 Axes>"
            ],
            "image/png": "[encoded data removed]"
          },
          "metadata": {}
        }
      ]
    },
    {
      "cell_type": "markdown",
      "source": [
        "Calculo do novo valor de MAPE"
      ],
      "metadata": {
        "id": "iccxIU-MLPtW"
      },
      "id": "iccxIU-MLPtW"
    },
    {
      "cell_type": "code",
      "source": [
        "mape = np.mean(np.abs((y_trein - y_est) / y_trein)) * 100\n",
        "\n",
        "print(\"MAPE:\", mape, \"%\")"
      ],
      "metadata": {
        "colab": {
          "base_uri": "https://localhost:8080/"
        },
        "id": "lcLyqNGPDf6N",
        "outputId": "6c6587ec-8ec4-43e3-9b8d-b009e932cf8c"
      },
      "id": "lcLyqNGPDf6N",
      "execution_count": 29,
      "outputs": [
        {
          "output_type": "stream",
          "name": "stdout",
          "text": [
            "MAPE: 38.77136182877503 %\n"
          ]
        }
      ]
    },
    {
      "cell_type": "markdown",
      "source": [
        "**Pergunta 4:** Compare este novo valor de MAPE com aquele que havia sido obtido anteriormente. Quais conclusões podem ser feitas?\n",
        "\n",
        "**Resposta:** Insira aqui a sua resposta."
      ],
      "metadata": {
        "id": "-_o60dtZgY4M"
      },
      "id": "-_o60dtZgY4M"
    },
    {
      "cell_type": "markdown",
      "source": [
        "## Previsão\n",
        "\n",
        "Agora que temos um modelo, podemos utilizá-lo para realizar a previsão de como o quadro de diabetes de novos pacientes irá evoluir ao longo do próximo ano.\n",
        "\n",
        "Abaixo o modelo estimado é aplicado usando os dados de um novo paciente, que possui as seguintes características:\n",
        "\n",
        "- Idade: 59\n",
        "- Sexo: Masculino\n",
        "- IMC: 32,1\n",
        "- Pressão Arterial: 101 mmHg\n",
        "- Marcadores sanguíneos (S1-S6): [157, 93.2, 38, 4, 4.8598, 87]"
      ],
      "metadata": {
        "id": "il4YTE9x9r5s"
      },
      "id": "il4YTE9x9r5s"
    },
    {
      "cell_type": "code",
      "source": [
        "x1  = 59\n",
        "x2  = 1\n",
        "x3  = 32.1\n",
        "x4  = 101\n",
        "x5  = 157\n",
        "x6  = 93.2\n",
        "x7  = 38\n",
        "x8  = 4\n",
        "x9  = 4.8598\n",
        "x10 = 87\n",
        "\n",
        "x_paciente      = np.array([x1, x2, x3, x4, x5, x6, x7, x8, x9, x10])\n",
        "x_paciente_norm = (x_paciente - X_mu) / X_sigma\n",
        "print(x_paciente_norm)\n",
        "y_est_novo = np.dot(x_paciente_norm, w_norm) + b_norm\n",
        "print(f\" Evolução prevista do quadro de diabetes para este paciente: = {y_est_novo:0.2f}\")"
      ],
      "metadata": {
        "id": "3Fo7SlYl9s9S",
        "colab": {
          "base_uri": "https://localhost:8080/"
        },
        "outputId": "74d2aaca-ed01-4ae9-da25-434c968e7f11"
      },
      "id": "3Fo7SlYl9s9S",
      "execution_count": 30,
      "outputs": [
        {
          "output_type": "stream",
          "name": "stdout",
          "text": [
            "[ 0.80050009 -0.93853666  1.29708846  0.45984057 -0.92974581 -0.73206462\n",
            " -0.91245053 -0.05449919  0.41853093 -0.37098854]\n",
            " Evolução prevista do quadro de diabetes para este paciente: = 228.76\n"
          ]
        }
      ]
    },
    {
      "cell_type": "markdown",
      "source": [
        "**Pergunta 5:** Com as suas próprias palavras, faça uma análise da validade (ou não) dessa previsão considerando o MAPE apresentado pelo modelo durante seu treinamento.\n",
        "\n",
        "**Resposta:** Insira aqui a sua resposta."
      ],
      "metadata": {
        "id": "T0Zk6PCTdvyF"
      },
      "id": "T0Zk6PCTdvyF"
    },
    {
      "cell_type": "markdown",
      "id": "d7b12e72",
      "metadata": {
        "pycharm": {
          "name": "#%% md\n"
        },
        "id": "d7b12e72"
      },
      "source": [
        "# Fim"
      ]
    }
  ],
  "metadata": {
    "dl_toc_settings": {
      "rndtag": "15456"
    },
    "kernelspec": {
      "display_name": "Python 3 (ipykernel)",
      "language": "python",
      "name": "python3"
    },
    "language_info": {
      "codemirror_mode": {
        "name": "ipython",
        "version": 3
      },
      "file_extension": ".py",
      "mimetype": "text/x-python",
      "name": "python",
      "nbconvert_exporter": "python",
      "pygments_lexer": "ipython3",
      "version": "3.9.12"
    },
    "toc-autonumbering": false,
    "colab": {
      "provenance": []
    }
  },
  "nbformat": 4,
  "nbformat_minor": 5
}