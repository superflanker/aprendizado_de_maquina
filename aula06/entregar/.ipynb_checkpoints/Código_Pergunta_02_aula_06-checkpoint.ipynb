{
 "cells": [
  {
   "cell_type": "markdown",
   "id": "ef69e4ab",
   "metadata": {},
   "source": [
    "## Questões\n",
    "\n",
    "1. Quais foram os valores obtidos para $\\vec{w}$ e $b$?\n",
    "\n",
    "- pela função **metodo_do_gradiente**: \n",
    "    - $\\vec{w}$ = $\\begin{bmatrix} 0.204 \\\\ 0.0037 \\\\ -0.0112 \\\\ -0.0659 \\end{bmatrix}$\n",
    "    - $b$ = 0.00\n",
    "- pela função **rmsprop**:\n",
    "    - $\\vec{w}$ = $\\begin{bmatrix} 0.2145 \\\\ 0.8887 \\\\ -0.6237 \\\\ -0.5506\\end{bmatrix}$\n",
    "    - $b$ = -0.57\n",
    "- pela função **sgd**:\n",
    "    - $\\vec{w}$ = $\\begin{bmatrix} 0.202 \\\\ 0.0005 \\\\ 0.0001 \\\\ 0.0047 \\end{bmatrix}$\n",
    "    - $b$ = 0.00\n",
    "- pela função **adam**:\n",
    "    - $\\vec{w}$ = $\\begin{bmatrix} 0.1847 \\\\ 10.9479 \\\\ -69.2482 \\\\ 1.8012 \\end{bmatrix}$\n",
    "    - $b$ = 4.58\n",
    "\n",
    "2. Esses valores são os melhores possıveis?\n",
    "\n",
    "Para a função **metodo_do_gradiente**, não, pois a função custo associada $J$ parece estar caindo ainda e está longe do valor mínimo admissível.\n",
    "\n",
    "3. O que pode estar acontecendo? \n",
    "\n",
    "A posição inicial está muito longe do ponto ótimo. Algoritmos como o Gradiente, SGD, RMSProp e Gradiente Conjugado têm problemas quando a função não é estritamente convexa, estagnando em mínimos locais, além de demorarem a convergir quando a função é estrutamente convexa.\n",
    "\n",
    "4. Rode novamente o M ́etodo do Gradiente inicializando $\\vec{w}$ e $b$ num local mais proximo do  ́otimo. Quais foram os valores agora obtidos para $\\vec{w}$ e $b$?"
   ]
  },
  {
   "cell_type": "markdown",
   "id": "3f389fa6",
   "metadata": {
    "id": "3f389fa6",
    "pycharm": {
     "name": "#%% md\n"
    }
   },
   "source": [
    "# Regressão Linear Múltipla"
   ]
  },
  {
   "cell_type": "markdown",
   "id": "490b4f59",
   "metadata": {
    "id": "490b4f59",
    "pycharm": {
     "name": "#%% md\n"
    }
   },
   "source": [
    "## Objetivo\n",
    "Com este código, você irá:\n",
    "- Estender o nosso modelo de regressão para que ele possa contemplar múltiplas características\n",
    "    - Vamos estender a estrutura dos dados para contemplar múltiplas características\n",
    "    - Reescrever a previsão, a função custo e o cálculo do gradiente para contemplar a possibilidade de múltiplas características\n",
    "    - Utilizar a função `np.dot` para vetorizar nossa implementação, para simplificar o código e torná-lo mais rápido."
   ]
  },
  {
   "cell_type": "code",
   "execution_count": 1,
   "id": "95ec3b46",
   "metadata": {
    "id": "95ec3b46",
    "pycharm": {
     "name": "#%%\n"
    }
   },
   "outputs": [],
   "source": [
    "import math as math\n",
    "import numpy as np\n",
    "import matplotlib.pyplot as plt\n",
    "np.set_printoptions(precision=4, suppress=True)  # reduz a precisão das numpy arrays na hora de dar print"
   ]
  },
  {
   "cell_type": "markdown",
   "id": "51bef8ee",
   "metadata": {
    "id": "51bef8ee",
    "pycharm": {
     "name": "#%% md\n"
    }
   },
   "source": [
    "# Definição do Problema\n",
    "\n",
    "Usaremos um exemplo de motivação baseado no problema de estimar o preço de uma casa.\n",
    "\n",
    "Os dados de treinamento contêm três exemplos com quatro características (Área, quartos, andares e idade).  Note que a primeira característica possui uma ordem de grandeza muito maior que as demais. Isso causará um problema, mas nós resolveremos isso em códigos futuros.\n",
    "\n",
    "\n",
    "| Área (sqft) | quartos  | andares | Idade | preço (milháres de dólares)  |   \n",
    "| ----------------| ------------------- |----------------- |--------------|-------------- |  \n",
    "| 2104            | 5                   | 1                | 45           | 460           |  \n",
    "| 1416            | 3                   | 2                | 40           | 232           |  \n",
    "| 852             | 2                   | 1                | 35           | 178           |  \n",
    "\n",
    "Você irá construir um modelo de regressão linear usando esses valores de tal forma que você também possa depois estimar o preço de outras casas. Por exemplo, um casa com 1200 sqft, 3 quartos, 1 andares, 40 anos.  \n"
   ]
  },
  {
   "cell_type": "code",
   "execution_count": 2,
   "id": "7aea2489",
   "metadata": {
    "id": "7aea2489",
    "pycharm": {
     "name": "#%%\n"
    }
   },
   "outputs": [],
   "source": [
    "X_trein = np.array([[2104, 5, 1, 45], [1416, 3, 2, 40], [852, 2, 1, 35]])\n",
    "y_trein = np.array([460, 232, 178])"
   ]
  },
  {
   "cell_type": "markdown",
   "id": "85f8ac54",
   "metadata": {
    "id": "85f8ac54",
    "pycharm": {
     "name": "#%% md\n"
    }
   },
   "source": [
    "## Dando print na nossa matriz X, que contém nossos exemplos de treinamento"
   ]
  },
  {
   "cell_type": "code",
   "execution_count": 3,
   "id": "e8b92e54",
   "metadata": {
    "colab": {
     "base_uri": "https://localhost:8080/"
    },
    "id": "e8b92e54",
    "outputId": "e183d473-e972-464d-fe06-84a9a8b01b50",
    "pycharm": {
     "name": "#%%\n"
    }
   },
   "outputs": [
    {
     "name": "stdout",
     "output_type": "stream",
     "text": [
      "X Shape: (3, 4), X Type:<class 'numpy.ndarray'>)\n",
      "[[2104    5    1   45]\n",
      " [1416    3    2   40]\n",
      " [ 852    2    1   35]]\n",
      "y Shape: (3,), y Type:<class 'numpy.ndarray'>)\n",
      "[460 232 178]\n"
     ]
    }
   ],
   "source": [
    "print(f\"X Shape: {X_trein.shape}, X Type:{type(X_trein)})\")\n",
    "print(X_trein)\n",
    "print(f\"y Shape: {y_trein.shape}, y Type:{type(y_trein)})\")\n",
    "print(y_trein)"
   ]
  },
  {
   "cell_type": "markdown",
   "id": "4ff4b596",
   "metadata": {
    "id": "4ff4b596",
    "pycharm": {
     "name": "#%% md\n"
    }
   },
   "source": [
    "## Parâmetros $w$ e $b$\n",
    "\n",
    "* $\\mathbf{w}$ é um vetor com $n$ elementos.\n",
    "  - Cada elemento contém um parâmetro associado a uma característica\n",
    "  - Para o nosso conjunto de dados, $n$ é 4 (número de características)\n",
    "  - $b$ é um parâmetro escalar (apenas um único número)\n"
   ]
  },
  {
   "cell_type": "markdown",
   "id": "f9bc46dd",
   "metadata": {
    "id": "f9bc46dd",
    "pycharm": {
     "name": "#%% md\n"
    }
   },
   "source": [
    "Para demonstração, $\\mathbf{w}$ e $b$ serão carregados com um valor inicial que é próximo do ótimo. $\\mathbf{w}$ é um vetor construído como sendo uma numpy array de 1 dimensão (1-D NumPy array)."
   ]
  },
  {
   "cell_type": "code",
   "execution_count": 4,
   "id": "8c7be5d2",
   "metadata": {
    "colab": {
     "base_uri": "https://localhost:8080/"
    },
    "id": "8c7be5d2",
    "outputId": "e5f5cad4-e36e-4c60-fc02-5e3a0b6a3ac7",
    "pycharm": {
     "name": "#%%\n"
    }
   },
   "outputs": [
    {
     "name": "stdout",
     "output_type": "stream",
     "text": [
      "w_inicial shape: (4,), b_inicial type: <class 'float'>\n"
     ]
    }
   ],
   "source": [
    "b_inicial = 785.1811367994083\n",
    "w_inicial = np.array([ 0.39133535, 18.75376741, -53.36032453, -26.42131618])\n",
    "print(f\"w_inicial shape: {w_inicial.shape}, b_inicial type: {type(b_inicial)}\")"
   ]
  },
  {
   "cell_type": "markdown",
   "id": "9a7de797",
   "metadata": {
    "id": "9a7de797",
    "pycharm": {
     "name": "#%% md\n"
    }
   },
   "source": [
    "# Previsão usando o Modelo com múltiplas características\n",
    "\n",
    "A previsão do modelo com múltiplas características é dada pelo seguinte modelo linear:\n",
    "\n",
    "$$ f_{\\mathbf{w},b}(\\mathbf{x}) =  w_0x_0 + w_1x_1 +... + w_{n-1}x_{n-1} + b \\tag{1}$$\n",
    "\n",
    "ou, usando uma notação vetorial:\n",
    "\n",
    "$$ f_{\\mathbf{w},b}(\\mathbf{x}) = \\mathbf{w} \\cdot \\mathbf{x} + b  \\tag{2} $$\n",
    "\n",
    "onde $\\cdot$ é o produtor escalar (`dot product`)\n",
    "\n",
    "Para demonstrar o produto escalar, iremos implementar a previsão usando (1) e (2)."
   ]
  },
  {
   "cell_type": "markdown",
   "id": "0dd44f21",
   "metadata": {
    "id": "0dd44f21",
    "pycharm": {
     "name": "#%% md\n"
    }
   },
   "source": [
    "\n",
    "## Usando (1) e um loop for\n"
   ]
  },
  {
   "cell_type": "code",
   "execution_count": 5,
   "id": "f7849a73",
   "metadata": {
    "id": "f7849a73",
    "pycharm": {
     "name": "#%%\n"
    }
   },
   "outputs": [],
   "source": [
    "def previsao_usando_loop_for(x, w, b):\n",
    "    \"\"\"\n",
    "    faz uma previsão usando loop for\n",
    "\n",
    "    Args:\n",
    "      x (ndarray): Shape (n,) -> exemplo contendo múltiplas características\n",
    "      w (ndarray): Shape (n,) -> parâmetros w do modelo\n",
    "      b (scalar):  parâmetro b do modelo\n",
    "\n",
    "    retorna:\n",
    "      p (scalar):  previsão\n",
    "    \"\"\"\n",
    "    n = x.shape[0]\n",
    "    p = 0\n",
    "    for i in range(n):\n",
    "        p_i = x[i] * w[i]\n",
    "        p = p + p_i\n",
    "    p = p + b\n",
    "    return p"
   ]
  },
  {
   "cell_type": "code",
   "execution_count": 6,
   "id": "97516175",
   "metadata": {
    "colab": {
     "base_uri": "https://localhost:8080/"
    },
    "id": "97516175",
    "outputId": "e1100a06-bbe0-438e-eb6b-00b9a76121e5",
    "pycharm": {
     "name": "#%%\n"
    }
   },
   "outputs": [
    {
     "name": "stdout",
     "output_type": "stream",
     "text": [
      "x_vetor shape (4,), x_vec: [2104    5    1   45]\n",
      "f_wb shape (), previsão: 460.0000\n"
     ]
    }
   ],
   "source": [
    "# pegando uma linha do nosso conjunto de dados\n",
    "x_vetor = X_trein[0,:]\n",
    "print(f\"x_vetor shape {x_vetor.shape}, x_vec: {x_vetor}\")\n",
    "\n",
    "# fazendo previsão para essa casa\n",
    "f_wb = previsao_usando_loop_for(x_vetor, w_inicial, b_inicial)\n",
    "print(f\"f_wb shape {f_wb.shape}, previsão: {f_wb:.4f}\")"
   ]
  },
  {
   "cell_type": "markdown",
   "id": "3475821f",
   "metadata": {
    "id": "3475821f",
    "pycharm": {
     "name": "#%% md\n"
    }
   },
   "source": [
    "Note que o shape do `x_vetor` é 1-D com 4 elementos, ou seja, (4,). Já o resultado da previsão, `f_wb`, é um escalar."
   ]
  },
  {
   "cell_type": "markdown",
   "id": "2f4f4c5d",
   "metadata": {
    "id": "2f4f4c5d",
    "pycharm": {
     "name": "#%% md\n"
    }
   },
   "source": [
    "\n",
    "## Usando (2) e o produto escalar para termos uma versão vetorizada"
   ]
  },
  {
   "cell_type": "code",
   "execution_count": 7,
   "id": "c2766634",
   "metadata": {
    "id": "c2766634",
    "pycharm": {
     "name": "#%%\n"
    }
   },
   "outputs": [],
   "source": [
    "def previsao(x, w, b):\n",
    "    \"\"\"\n",
    "    Argumentos da função:\n",
    "      x (ndarray): Shape (n,) -> exemplo contendo múltiplas características\n",
    "      w (ndarray): Shape (n,) -> parâmetros w do modelo\n",
    "      b (escalar):  parâmetro b do modelo\n",
    "\n",
    "    retorna:\n",
    "      p (escalar):  previsão\n",
    "    \"\"\"\n",
    "    p = np.dot(x, w) + b\n",
    "    return p"
   ]
  },
  {
   "cell_type": "code",
   "execution_count": 8,
   "id": "aaa8a90a",
   "metadata": {
    "colab": {
     "base_uri": "https://localhost:8080/"
    },
    "id": "aaa8a90a",
    "outputId": "41ee6433-77fa-428c-f07c-1aea8ba185ff",
    "pycharm": {
     "name": "#%%\n"
    }
   },
   "outputs": [
    {
     "name": "stdout",
     "output_type": "stream",
     "text": [
      "x_vetor shape (4,), x_vec: [2104    5    1   45]\n",
      "f_wb shape (), previsão: 460.0000\n"
     ]
    }
   ],
   "source": [
    "# pegando uma linha do nosso conjunto de dados\n",
    "x_vetor = X_trein[0,:]\n",
    "print(f\"x_vetor shape {x_vetor.shape}, x_vec: {x_vetor}\")\n",
    "\n",
    "# fazendo previsão para essa casa\n",
    "f_wb = previsao(x_vetor, w_inicial, b_inicial)\n",
    "print(f\"f_wb shape {f_wb.shape}, previsão: {f_wb:.4f}\")"
   ]
  },
  {
   "cell_type": "markdown",
   "id": "S9XweHHVL7rr",
   "metadata": {
    "id": "S9XweHHVL7rr"
   },
   "source": [
    "Note que o resultado é igual ao obtido anteriormente, pois trata-se da mesma casa e do mesmo modelo de previsão. Entretanto, a implementação vetorizada (com redução de laços do tipo `for') é mais elegante e menos custosa computacionalmente."
   ]
  },
  {
   "cell_type": "markdown",
   "id": "c848f0ba",
   "metadata": {
    "id": "c848f0ba",
    "pycharm": {
     "name": "#%% md\n"
    }
   },
   "source": [
    "# Calculando o custo quando o modelo possui múltiplas características\n",
    "A função custo $J(\\mathbf{w},b)$ quando temos múltiplas características é dada por:\n",
    "$$J(\\mathbf{w},b) = \\frac{1}{2m} \\sum\\limits_{i = 0}^{m-1} (f_{\\mathbf{w},b}(\\mathbf{x}^{(i)}) - y^{(i)})^2 \\tag{3}$$\n",
    "onde:\n",
    "$$ f_{\\mathbf{w},b}(\\mathbf{x}^{(i)}) = \\mathbf{w} \\cdot \\mathbf{x}^{(i)} + b  \\tag{4} $$\n",
    "\n",
    "\n",
    "Diferentemente dos nossos códigos anteriores, agora $\\mathbf{w}$ e $\\mathbf{x}^{(i)}$ são vetores ao invés de escalares."
   ]
  },
  {
   "cell_type": "markdown",
   "id": "f1b5fc8c",
   "metadata": {
    "id": "f1b5fc8c",
    "pycharm": {
     "name": "#%% md\n"
    }
   },
   "source": [
    "Abaixo encontram-se uma implementação das equações (3) and (4)."
   ]
  },
  {
   "cell_type": "code",
   "execution_count": 9,
   "id": "0ec89357",
   "metadata": {
    "id": "0ec89357",
    "pycharm": {
     "name": "#%%\n"
    }
   },
   "outputs": [],
   "source": [
    "def calcula_custo(X, y, w, b):\n",
    "    \"\"\"\n",
    "    Calcula o custo\n",
    "    Argumentos da função:\n",
    "      X (ndarray (m,n)): Dados, contendo m exemplos com n características\n",
    "      y (ndarray (m,)) : valores alvo\n",
    "      w (ndarray (n,)) : parâmetros w do modelo\n",
    "      b (escalar)       : parâmetro b do modelo\n",
    "\n",
    "    Retorna:\n",
    "      custo (escalar): custo\n",
    "    \"\"\"\n",
    "    m     = X.shape[0]\n",
    "    custo = 0.0\n",
    "    for i in range(m):\n",
    "        f_wb_i = np.dot(X[i], w) + b           #(n,)(n,) = escalar (see np.dot)\n",
    "        custo = custo + (f_wb_i - y[i])**2     # escalar\n",
    "    custo = custo / (2 * m)                    # escalar\n",
    "    return custo"
   ]
  },
  {
   "cell_type": "code",
   "execution_count": 10,
   "id": "652c5388",
   "metadata": {
    "colab": {
     "base_uri": "https://localhost:8080/"
    },
    "id": "652c5388",
    "outputId": "f9a9c763-a30c-404a-eb1b-d8f8de255113",
    "pycharm": {
     "name": "#%%\n"
    }
   },
   "outputs": [
    {
     "name": "stdout",
     "output_type": "stream",
     "text": [
      "Custo com parâmetros ótimos: 1.5578904880036537e-12\n"
     ]
    }
   ],
   "source": [
    "# Calcula e mostra o custo usando os nossos parâmetros ótimos escolhidos previamente\n",
    "custo = calcula_custo(X_trein, y_trein, w_inicial, b_inicial)\n",
    "print(f'Custo com parâmetros ótimos: {custo}')"
   ]
  },
  {
   "cell_type": "markdown",
   "id": "49f3c105",
   "metadata": {
    "id": "49f3c105",
    "pycharm": {
     "name": "#%% md\n"
    }
   },
   "source": [
    "**Resultado esperado**: 1.5578904045996674e-12"
   ]
  },
  {
   "cell_type": "markdown",
   "id": "4d998888",
   "metadata": {
    "id": "4d998888",
    "pycharm": {
     "name": "#%% md\n"
    }
   },
   "source": [
    "# Método do Gradiente com Múltiplas Variáveis\n",
    "\n",
    "Método do Gradiente com Múltiplas Variáveis:\n",
    "\n",
    "$$\\begin{align*} \\text{repetir}&\\text{ até convergir:} \\; \\lbrace \\newline\\;\n",
    "& w_j = w_j -  \\alpha \\frac{\\partial J(\\mathbf{w},b)}{\\partial w_j} \\tag{5}  \\; & \\text{para j = 0..n-1}\\newline\n",
    "&b\\ \\ = b -  \\alpha \\frac{\\partial J(\\mathbf{w},b)}{\\partial b}  \\newline \\rbrace\n",
    "\\end{align*}$$\n",
    "\n",
    "onde, n é o número de características, parâmetros $w_j$ e $b$ são atualizados simultaneamente e onde  \n",
    "\n",
    "$$\n",
    "\\begin{align}\n",
    "\\frac{\\partial J(\\mathbf{w},b)}{\\partial w_j}  &= \\frac{1}{m} \\sum\\limits_{i = 0}^{m-1} (f_{\\mathbf{w},b}(\\mathbf{x}^{(i)}) - y^{(i)})x_{j}^{(i)} \\tag{6}  \\\\\n",
    "\\frac{\\partial J(\\mathbf{w},b)}{\\partial b}  &= \\frac{1}{m} \\sum\\limits_{i = 0}^{m-1} (f_{\\mathbf{w},b}(\\mathbf{x}^{(i)}) - y^{(i)}) \\tag{7}\n",
    "\\end{align}\n",
    "$$\n",
    "* m é o número de amostras de treinamento no nosso conjunto de dados\n",
    "\n",
    "    \n",
    "*  $f_{\\mathbf{w},b}(\\mathbf{x}^{(i)})$ é a previsão feita pelo modelo, enquanto que $y^{(i)}$ é o valor alvo\n"
   ]
  },
  {
   "cell_type": "markdown",
   "id": "72c7ab1b",
   "metadata": {
    "id": "72c7ab1b",
    "pycharm": {
     "name": "#%% md\n"
    }
   },
   "source": [
    "## Calculando o gradiente\n",
    "\n",
    "Abaixo encontra-se uma implementação para calcular as equações (6) e (7). Existe muitas formas para se implementar isso. Certifique-se que você compreendeu a implementação.\n",
    "   "
   ]
  },
  {
   "cell_type": "code",
   "execution_count": 11,
   "id": "f0f29948",
   "metadata": {
    "id": "f0f29948",
    "pycharm": {
     "name": "#%%\n"
    }
   },
   "outputs": [],
   "source": [
    "def calcula_gradiente(X, y, w, b):\n",
    "    \"\"\"\n",
    "    Calcula Gradiente para Regressão Linear\n",
    "    Argumentos:\n",
    "      X (ndarray (m,n)): Dados, contendo m exemplos com n características\n",
    "      y (ndarray (m,)) : valores alvo\n",
    "      w (ndarray (n,)) : parâmetros w do modelo\n",
    "      b (escalar)      : parâmetro b do modelo\n",
    "\n",
    "    Retorna:\n",
    "      dj_dw (ndarray (n,)): O gradiente da função custo com relação aos parâmetros w.\n",
    "      dj_db (escalar):      O gradiente da função custo com relação ao parâmetro b.\n",
    "    \"\"\"\n",
    "    m,n = X.shape           #(número de exemplos, número de características)\n",
    "    dj_dw = np.zeros((n,))\n",
    "    dj_db = 0.\n",
    "\n",
    "    for i in range(m):\n",
    "        erro = (np.dot(X[i], w) + b) - y[i]\n",
    "        for j in range(n):\n",
    "            dj_dw[j] = dj_dw[j] + erro * X[i, j]\n",
    "        dj_db = dj_db + erro\n",
    "    dj_dw = dj_dw / m\n",
    "    dj_db = dj_db / m\n",
    "\n",
    "    return dj_db, dj_dw"
   ]
  },
  {
   "cell_type": "code",
   "execution_count": 12,
   "id": "839b5e62",
   "metadata": {
    "colab": {
     "base_uri": "https://localhost:8080/"
    },
    "id": "839b5e62",
    "outputId": "fc654547-33b8-4fef-d6d1-0bda72f19abd",
    "pycharm": {
     "name": "#%%\n"
    }
   },
   "outputs": [
    {
     "name": "stdout",
     "output_type": "stream",
     "text": [
      "dj_db com valores iniciais para w,b: -1.673925169143331e-06\n",
      "dj_dw com valores iniciais para w,b: \n",
      " [-0.0027 -0.     -0.     -0.0001]\n"
     ]
    }
   ],
   "source": [
    "# Calcula e mostra o gradiente\n",
    "tmp_dj_db, tmp_dj_dw = calcula_gradiente(X_trein, y_trein, w_inicial, b_inicial)\n",
    "print(f'dj_db com valores iniciais para w,b: {tmp_dj_db}')\n",
    "print(f'dj_dw com valores iniciais para w,b: \\n {tmp_dj_dw}')"
   ]
  },
  {
   "cell_type": "markdown",
   "id": "426cbe05",
   "metadata": {
    "id": "426cbe05",
    "pycharm": {
     "name": "#%% md\n"
    }
   },
   "source": [
    "**Resultados Esperados**:   \n",
    "dj_db com valores iniciais w,b: -1.6739251122999121e-06  \n",
    "dj_dw com valores iniciais w,b:   \n",
    " [-2.73e-03 -6.27e-06 -2.22e-06 -6.92e-05]  "
   ]
  },
  {
   "cell_type": "markdown",
   "id": "03b1937a",
   "metadata": {
    "id": "03b1937a",
    "pycharm": {
     "name": "#%% md\n"
    }
   },
   "source": [
    "## Método do Gradiente com múltiplas características\n",
    "\n",
    "A rotina a seguir implementa a equação (5)"
   ]
  },
  {
   "cell_type": "code",
   "execution_count": 13,
   "id": "e95f471c",
   "metadata": {
    "id": "e95f471c",
    "pycharm": {
     "name": "#%%\n"
    }
   },
   "outputs": [],
   "source": [
    "def metodo_do_gradiente(X, y, w_in, b_in, calcula_custo, calcula_gradiente, alpha, num_iters):\n",
    "    \"\"\"\n",
    "    Performa Método do Gradiente para aprender w e b. Atualiza w e b ao longo de\n",
    "    num_iters iterações usando uma taxa de aprendizado alpha\n",
    "\n",
    "    Argumentos da função:\n",
    "      X (ndarray (m,n))   : Dados, contendo m exemplos com n características\n",
    "      y (ndarray (m,))    : valores alvo\n",
    "      w_in (ndarray (n,)) : valores iniciais dos parâmetros w do modelo\n",
    "      b_in (escalar)      : valor inicial do parâmetro b do modelo\n",
    "      calcula_custo       : função que calcula o custo\n",
    "      calcula_gradiente   : função que calcula o gradiente\n",
    "      alpha (float)       : taxa de aprendizado\n",
    "      num_iters (int)     : Número de iterações para o método do gradiente\n",
    "\n",
    "    Retorna:\n",
    "      w (ndarray (n,)) : Valores atualizados para os parâmetros w\n",
    "      b (scalar)       : Valores atualizado para o parâmetro b\n",
    "      \"\"\"\n",
    "\n",
    "    # Valores históricos\n",
    "    J_history = []\n",
    "    w = w_in\n",
    "    b = b_in\n",
    "\n",
    "    for i in range(num_iters):\n",
    "\n",
    "        # Calcula o gradiente\n",
    "        dj_db,dj_dw = calcula_gradiente(X, y, w, b)\n",
    "\n",
    "        # Atualiza os parâmetros\n",
    "        w = w - alpha * dj_dw\n",
    "        b = b - alpha * dj_db\n",
    "\n",
    "        # Salva o custo\n",
    "        if i<100000:      # prevent resource exhaustion\n",
    "            J_history.append( calcula_custo(X, y, w, b))\n",
    "        # Faz print de tempos em tempos\n",
    "        if i% math.ceil(num_iters / 10) == 0:\n",
    "            \n",
    "            print(f\"Iteração {i:4d}: Custo {J_history[-1]:8.2f}   \")\n",
    "\n",
    "    return w, b, J_history # retorna valores finais e históricos"
   ]
  },
  {
   "cell_type": "markdown",
   "id": "0fc222a6",
   "metadata": {
    "id": "0fc222a6",
    "pycharm": {
     "name": "#%% md\n"
    }
   },
   "source": [
    "Na célula a seguir testamos a implementação"
   ]
  },
  {
   "cell_type": "code",
   "execution_count": 14,
   "id": "3a5ac992",
   "metadata": {
    "colab": {
     "base_uri": "https://localhost:8080/"
    },
    "id": "3a5ac992",
    "outputId": "15f30d61-7ff7-4f7c-caa4-b12ff4389491",
    "pycharm": {
     "name": "#%%\n"
    }
   },
   "outputs": [
    {
     "name": "stdout",
     "output_type": "stream",
     "text": [
      "Iteração    0: Custo     0.08   \n",
      "Iteração  100: Custo     0.00   \n",
      "Iteração  200: Custo     0.00   \n",
      "Iteração  300: Custo     0.00   \n",
      "Iteração  400: Custo     0.00   \n",
      "Iteração  500: Custo     0.00   \n",
      "Iteração  600: Custo     0.00   \n",
      "Iteração  700: Custo     0.00   \n",
      "Iteração  800: Custo     0.00   \n",
      "Iteração  900: Custo     0.00   \n",
      "b,w encontrados pelo método do gradiente: 785.20,[  0.3913  18.75   -53.36   -26.4201] \n",
      "previsão: 459.98, valor alvo: 460\n",
      "previsão: 232.01, valor alvo: 232\n",
      "previsão: 178.03, valor alvo: 178\n"
     ]
    }
   ],
   "source": [
    "# inicializando parâmetros\n",
    "# inicializando parâmetros\n",
    "b_inicial = 785.2\n",
    "w_inicial = np.array([ 0.39, 18.75, -53.36, -26.42])\n",
    "# parâmetros para rodar o Método do Gradiente:\n",
    "num_iters = 1000\n",
    "alpha     = 5.0e-7\n",
    "# Rodando o Método do gradiente\n",
    "w_final, b_final, J_hist = metodo_do_gradiente(X_trein, y_trein, w_inicial, b_inicial,\n",
    "                                                    calcula_custo, calcula_gradiente,\n",
    "                                                    alpha, num_iters)\n",
    "print(f\"b,w encontrados pelo método do gradiente: {b_final:0.2f},{w_final} \")\n",
    "m,_ = X_trein.shape\n",
    "for i in range(m):\n",
    "    print(f\"previsão: {np.dot(X_trein[i], w_final) + b_final:0.2f}, valor alvo: {y_trein[i]}\")"
   ]
  },
  {
   "cell_type": "code",
   "execution_count": 15,
   "id": "06159dde",
   "metadata": {
    "colab": {
     "base_uri": "https://localhost:8080/",
     "height": 428
    },
    "id": "06159dde",
    "outputId": "b5a50f8e-a5fd-461f-95a5-98ab6eb872cf",
    "pycharm": {
     "name": "#%%\n"
    }
   },
   "outputs": [
    {
     "data": {
      "image/png": "[encoded data removed]",
      "text/plain": [
       "<Figure size 864x288 with 2 Axes>"
      ]
     },
     "metadata": {
      "needs_background": "light"
     },
     "output_type": "display_data"
    }
   ],
   "source": [
    "# Plotando os resultados\n",
    "fig, (ax1, ax2) = plt.subplots(1, 2, constrained_layout=True, figsize=(12, 4))\n",
    "ax1.plot(J_hist)\n",
    "ax2.plot(100 + np.arange(len(J_hist[100:])), J_hist[100:])\n",
    "ax1.set_title(\"Custo vs. iteração\");  ax2.set_title(\"Custo vs. iteração (cauda do gráfico)\")\n",
    "ax1.set_ylabel('Custo')             ;  ax2.set_ylabel('Custo')\n",
    "ax1.set_xlabel('iteração')   ;  ax2.set_xlabel('iteração')\n",
    "plt.show()"
   ]
  },
  {
   "cell_type": "markdown",
   "id": "1e01cf89",
   "metadata": {
    "id": "1e01cf89",
    "pycharm": {
     "name": "#%% md\n"
    }
   },
   "source": [
    "*Estes resultados ainda não são os melhores*! O custo ainda está caindo e nossas previsões não estão tão precisas. No próximo código nós vamos descobrir como melhorar isso."
   ]
  },
  {
   "cell_type": "markdown",
   "id": "d7b12e72",
   "metadata": {
    "id": "d7b12e72",
    "pycharm": {
     "name": "#%% md\n"
    }
   },
   "source": [
    "# Parabéns!\n",
    "Com este código você:\n",
    "- Redesenvolveu as rotinas para Regressão Linear, agora com múltiplas variáveis.\n",
    "- Utilizou NumPy `np.dot` para vetorizar as implementações"
   ]
  },
  {
   "cell_type": "markdown",
   "id": "ed32b09b",
   "metadata": {},
   "source": [
    "## Happy Hour - Testando outros algoritmos só pra comparar como fizemos na aula 05\n",
    "\n",
    "Algoritmos implementados:\n",
    "- RMSProp\n",
    "- SGD (Gradiente Estocástico)\n",
    "- Gradiente Conjugado\n",
    "- Adam"
   ]
  },
  {
   "cell_type": "markdown",
   "id": "4de4056b-dcf4-4bb1-9931-55a2f50d2eaa",
   "metadata": {},
   "source": [
    "### **Método RMSProp**\n",
    "\n",
    "O **RMSProp** (Root Mean Square Propagation) é um algoritmo de otimização baseado no método de gradiente descendente, projetado para resolver algumas limitações de técnicas mais simples, como o Gradiente Descendente Estocástico (SGD). Ele foi proposto por Geoffrey Hinton em uma palestra e é especialmente útil em problemas de redes neurais profundas, onde a convergência pode ser lenta ou inconstante.\n",
    "\n",
    "#### **Intuição**\n",
    "O RMSProp tenta lidar com dois problemas comuns no gradiente descendente:\n",
    "1. **Oscilações no gradiente**: O RMSProp reduz oscilações indesejadas em direções de alta curvatura da função de custo (frequentemente observadas ao longo de eixos de inclinação íngreme).\n",
    "2. **Taxa de aprendizado adaptativa**: Diferente de métodos clássicos, o RMSProp ajusta a taxa de aprendizado de forma dinâmica para cada parâmetro com base na magnitude recente dos gradientes.\n",
    "\n",
    "#### **Parte Matemática**\n",
    "No RMSProp, ao invés de usar diretamente o gradiente $\\nabla J(\\theta)$ para atualizar os parâmetros $\\theta$, o algoritmo introduz uma forma de controlar a magnitude dos passos com base na média quadrática móvel dos gradientes.\n",
    "\n",
    "Aqui estão as equações matemáticas que descrevem o algoritmo:\n",
    "\n",
    "1. **Cálculo da média exponencial dos quadrados dos gradientes**:\n",
    "   \n",
    "   $\n",
    "   E[g^2]_t = \\beta E[g^2]_{t-1} + (1 - \\beta) g_t^2\n",
    "   $\n",
    "   Onde:\n",
    "   - $g_t$ é o gradiente no tempo $t$.\n",
    "   - $\\beta$ é um parâmetro de decaimento (para a maior parte das aplicações um valor de 0.9).\n",
    "   - $E[g^2]_t$ é a média exponencial do quadrado dos gradientes até o tempo $t$.\n",
    "\n",
    "3. **Atualização dos parâmetros**:\n",
    "\n",
    "   $\n",
    "   \\theta_{t+1} = \\theta_t - \\frac{\\alpha}{\\sqrt{E[g^2]_t + \\epsilon}} g_t\n",
    "   $\n",
    "   Onde:\n",
    "   - $\\alpha$ é a taxa de aprendizado.\n",
    "   - $\\epsilon$ é um valor pequeno adicionado para evitar divisões por zero (tipicamente $10^{-8}$).\n",
    "   - A divisão pelo termo $\\sqrt{E[g^2]_t + \\epsilon}$ ajusta a taxa de aprendizado para cada parâmetro de acordo com a magnitude recente de seus gradientes.\n",
    "\n",
    "#### **Vantagens do RMSProp**\n",
    "\n",
    "   - **Taxa de aprendizado adaptativa:** O RMSProp ajusta a taxa de aprendizado para cada parâmetro individualmente, o que facilita a convergência e ajuda a evitar grandes oscilações.\n",
    "   - **Bom desempenho em redes profundas:** Funciona bem em redes neurais profundas, onde o gradiente pode variar bastante para diferentes parâmetros.\n",
    "#### **Desvantagens do RMSProp**\n",
    "\n",
    "   - **Dificuldade em Ajustar a Taxa de Decaimento:** O parâmetro de decaimento exponencial, que controla o quanto o gradiente é suavizado ao longo do tempo, pode ser sensível e difícil de ajustar corretamente para diferentes problemas. Uma escolha inadequada pode levar a uma convergência lenta ou até impedir a convergência.\n",
    "\n",
    "   - **Estagnação em Mínimos Locais:** Como o RMSProp ajusta a taxa de aprendizado com base nas médias dos gradientes passados, pode acabar ficando preso em mínimos locais ou em regiões onde os gradientes são muito pequenos.\n",
    "\n",
    "   - **Pode Precisar de Ajuste Adicional:** Embora o RMSProp forneça taxas de aprendizado adaptativas, ainda pode ser necessário ajustar o valor inicial da taxa de aprendizado global para obter bons resultados em alguns problemas."
   ]
  },
  {
   "cell_type": "code",
   "execution_count": 16,
   "id": "ffa9f401-3ac0-4b2f-a61f-caccf9a7833d",
   "metadata": {},
   "outputs": [],
   "source": [
    "def rmsprop(X, y, w_in, b_in, alpha, num_iters, calcula_custo, calcula_gradiente, beta=0.9, epsilon=1e-8):\n",
    "    \"\"\"\n",
    "    Aplica o método RMSProp para ajustar w, b para problemas multivariados.\n",
    "\n",
    "    Argumentos da função:\n",
    "      X (ndarray (m, n))  : Conjunto de dados com m exemplos e n características\n",
    "      y (ndarray (m,))    : Valores alvo de saída\n",
    "      w_in (ndarray (n,)) : Valores iniciais para os parâmetros w (vetor)\n",
    "      b_in (escalar)      : Valor inicial para o parâmetro b\n",
    "      alpha (float)       : Taxa de aprendizado\n",
    "      num_iters (int)     : Número de iterações\n",
    "      calcula_custo       : Função para calcular o custo\n",
    "      calcula_gradiente   : Função para calcular o gradiente\n",
    "      beta (float)        : Fator de decaimento para RMSProp (geralmente próximo de 0.9)\n",
    "      epsilon (float)     : Pequeno valor para evitar divisão por zero no cálculo do gradiente (geralmente 1e-8)\n",
    "\n",
    "    Retorna:\n",
    "      w (ndarray (n,))    : Valor atualizado de w\n",
    "      b (scalar)          : Valor atualizado de b\n",
    "      J_history (list)    : Histórico dos valores de custo\n",
    "    \"\"\"\n",
    "\n",
    "    # Inicializar variáveis\n",
    "    J_history = []\n",
    "    w = w_in\n",
    "    b = b_in\n",
    "    \n",
    "    # Inicialização de acumuladores de gradiente como vetores do tamanho de w\n",
    "    v_dw = np.zeros_like(w)  # Vetor do mesmo tamanho que w\n",
    "    v_db = 0  # b é escalar\n",
    "\n",
    "    for i in range(num_iters):\n",
    "        # Calcula o gradiente\n",
    "        dj_db, dj_dw = calcula_gradiente(X, y, w, b)\n",
    "\n",
    "        # Atualiza os acumuladores RMSProp para w e b (element-wise para w)\n",
    "        v_dw = beta * v_dw + (1 - beta) * (dj_dw**2)\n",
    "        v_db = beta * v_db + (1 - beta) * (dj_db**2)\n",
    "\n",
    "        # Atualiza os parâmetros w e b\n",
    "        w = w - alpha * dj_dw / (np.sqrt(v_dw) + epsilon)\n",
    "        b = b - alpha * dj_db / (np.sqrt(v_db) + epsilon)\n",
    "\n",
    "        # Armazena o custo para cada iteração\n",
    "        J_history.append(calcula_custo(X, y, w, b))\n",
    "        \n",
    "        # Exibe o progresso em intervalos regulares\n",
    "        if i % (num_iters // 10) == 0 or i == num_iters - 1:\n",
    "            print(f\"Iteração {i:4d}: Custo {J_history[-1]:8.2f}\")\n",
    "\n",
    "    return w, b, J_history\n",
    "\n",
    "\n"
   ]
  },
  {
   "cell_type": "markdown",
   "id": "275caa39-a4af-4619-bcd8-fa76765ae20c",
   "metadata": {},
   "source": [
    "### **Gradiente Descendente Estocástico (SGD)**\n",
    "\n",
    "O **Gradiente Descendente Estocástico (SGD)** é uma variante do método de gradiente descendente que atualiza os parâmetros do modelo utilizando apenas um subconjunto (ou uma única amostra) do conjunto de dados a cada iteração. Essa abordagem pode resultar em uma convergência mais rápida, especialmente em grandes conjuntos de dados.\n",
    "\n",
    "#### **Intuição**\n",
    "\n",
    "O gradiente descendente tradicional utiliza a média de todos os gradientes das amostras para atualizar os parâmetros, o que pode ser computacionalmente custoso para grandes conjuntos de dados. O SGD, por outro lado, escolhe aleatoriamente uma amostra ou um mini-lote de amostras para calcular a atualização do parâmetro, permitindo que o algoritmo comece a atualizar os parâmetros imediatamente, o que pode acelerar a convergência e ajudar a escapar de mínimos locais.\n",
    "\n",
    "##### **Parte Matemática**\n",
    "\n",
    "A atualização dos parâmetros $\\theta$ no SGD é dada pela seguinte fórmula:\n",
    "\n",
    "$\n",
    "\\theta_{t+1} = \\theta_t - \\alpha \\nabla J(\\theta_t; x^{(i)}, y^{(i)})\n",
    "$\n",
    "\n",
    "Onde:\n",
    "- $\\theta_t$ é o vetor de parâmetros na iteração $t$,\n",
    "- $\\alpha$ é a taxa de aprendizado,\n",
    "- $\\nabla J(\\theta_t; x^{(i)}, y^{(i)})$ é o gradiente da função de custo calculado para a amostra $(x^{(i)}, y^{(i)})$.\n",
    "\n",
    "#### **Vantagens do SGD**\n",
    "\n",
    "1. **Eficiência Computacional**: O SGD é muito mais rápido que o gradiente descendente padrão em grandes conjuntos de dados, pois utiliza apenas uma amostra (ou um pequeno lote) para cada atualização.\n",
    "2. **Capacidade de Escapar de Mínimos Locais**: A natureza estocástica do SGD pode ajudar a escapar de mínimos locais, uma característica especialmente útil em funções de custo não convexas.\n",
    "\n",
    "#### **Desvantagens do SGD**\n",
    "\n",
    "1. **Oscilações**: As atualizações estocásticas podem causar oscilações na função de custo, dificultando a convergência em um mínimo global.\n",
    "2. **Escolha da Taxa de Aprendizado**: A escolha da taxa de aprendizado pode ser crítica; uma taxa muito alta pode levar a uma divergência, enquanto uma taxa muito baixa pode resultar em uma convergência muito lenta.\n"
   ]
  },
  {
   "cell_type": "code",
   "execution_count": 17,
   "id": "d6ff3a18-1249-45ac-a9e0-1a74de7b87d9",
   "metadata": {},
   "outputs": [],
   "source": [
    "\n",
    "def sgd(X, y, w_in, b_in, alpha, num_iters, calcula_custo, calcula_gradiente):\n",
    "    \"\"\"\n",
    "    Aplica o Método do Gradiente Estocástico (SGD) para ajustar w, b.\n",
    "\n",
    "    Argumentos da função:\n",
    "      X (ndarray (m, n))   : Conjunto de dados com m exemplos e n características\n",
    "      y (ndarray (m,))     : Valores alvo de saída\n",
    "      w_in (ndarray (n,))  : Valores iniciais para os parâmetros w (vetor)\n",
    "      b_in (scalar)        : Valor inicial para o parâmetro b\n",
    "      alpha (float)        : Taxa de aprendizado\n",
    "      num_iters (int)      : Número de iterações\n",
    "      calcula_custo        : Função para calcular o custo\n",
    "      calcula_gradiente    : Função para calcular o gradiente\n",
    "\n",
    "    Retorna:\n",
    "      w (ndarray (n,))     : Valor atualizado de w\n",
    "      b (scalar)           : Valor atualizado de b\n",
    "      J_history (list)     : Histórico dos valores de custo\n",
    "    \"\"\"\n",
    "\n",
    "    # Inicializar variáveis\n",
    "    J_history = []\n",
    "    b = b_in\n",
    "    w = w_in\n",
    "    m = len(y)  # Número de amostras\n",
    "\n",
    "    for i in range(num_iters):\n",
    "        # Embaralhar os dados a cada iteração\n",
    "        indices = np.random.permutation(m)\n",
    "        X_shuffled = X[indices]\n",
    "        y_shuffled = y[indices]\n",
    "\n",
    "        # Atualiza w e b para cada exemplo de treinamento\n",
    "        for j in range(m):\n",
    "            # Seleciona uma única amostra (vetor de características e valor alvo)\n",
    "            x_i = X_shuffled[j]   # Vetor (n,)\n",
    "            y_i = y_shuffled[j]   # Escalar\n",
    "\n",
    "            # Calcula o gradiente para essa amostra\n",
    "            dj_db, dj_dw = calcula_gradiente(x_i.reshape(1, -1), np.array([y_i]), w, b)\n",
    "\n",
    "            # Atualiza os parâmetros w e b\n",
    "            w = w - alpha * dj_dw\n",
    "            b = b - alpha * dj_db\n",
    "\n",
    "        # Armazena o custo após a passagem por todo o conjunto de dados\n",
    "        J_history.append(calcula_custo(X, y, w, b))\n",
    "\n",
    "        # Exibe o progresso em intervalos regulares\n",
    "        if i % (num_iters // 10) == 0 or i == num_iters - 1:\n",
    "            print(f\"Iteração {i:4d}: Custo {J_history[-1]:8.2f}\")\n",
    "\n",
    "    return w, b, J_history\n"
   ]
  },
  {
   "cell_type": "markdown",
   "id": "e8868b2d-81e7-4edf-bac2-f0a619ad139f",
   "metadata": {},
   "source": [
    "### **Método de Gradiente Conjugado**\n",
    "\n",
    "O **Método de Gradiente Conjugado** é uma técnica eficiente para resolver sistemas de equações lineares e minimizar funções quadráticas. Ele é amplamente utilizado em otimização, especialmente quando o número de parâmetros é grande, pois evita a necessidade de calcular a matriz Hessiana (que pode ser muito custosa em termos computacionais).\n",
    "\n",
    "Neste caso, aplicamos o **Gradiente Conjugado** para ajustar os parâmetros `w` e `b` de um modelo de regressão linear. O método explora as propriedades da função de custo para determinar a direção ótima de descida a cada iteração, buscando melhorar a velocidade de convergência em comparação ao gradiente descendente comum.\n",
    "\n",
    "#### **Descrição do Algoritmo**\n",
    "\n",
    "1. **Inicialização**:\n",
    "    - Definimos os valores iniciais de `w` e `b` como `w_in` e `b_in`, que serão ajustados pelo algoritmo.\n",
    "    - Os gradientes anteriores (`g_prev_w`, `g_prev_b`) são inicializados como `0`, assim como as direções conjugadas (`p_w`, `p_b`).\n",
    "\n",
    "2. **Cálculo do Gradiente**:\n",
    "    - Em cada iteração, calculamos o gradiente da função de custo em relação a `w` e `b` usando a função `calcula_gradiente`.\n",
    "\n",
    "3. **Critério de Parada**:\n",
    "    - Se a norma do gradiente for menor que um limiar definido (`tol`), o algoritmo para, indicando que a convergência foi atingida.\n",
    "\n",
    "4. **Atualização da Direção Conjugada**:\n",
    "    - Na primeira iteração, a direção de descida é definida como o negativo do gradiente.\n",
    "    - Em iterações subsequentes, calculamos o fator \\( \\beta_t \\) (Polak-Ribiére), que ajusta a nova direção de descida em função da direção anterior, de forma que as direções permaneçam conjugadas.\n",
    "\n",
    "5. **Busca Linear e Atualização**:\n",
    "    - A cada iteração, atualizamos `w` e `b` na direção conjugada calculada, com um passo de tamanho \\( \\alpha \\) (aqui, um valor fixo de 0.01, mas pode ser adaptado).\n",
    "\n",
    "6. **Histórico de Custo**:\n",
    "    - Armazenamos o valor do custo em cada iteração para monitorar o progresso da otimização."
   ]
  },
  {
   "cell_type": "code",
   "execution_count": 18,
   "id": "db3b09c4-cd23-4f0b-a182-b0c3f97e13a9",
   "metadata": {},
   "outputs": [],
   "source": [
    "def gradiente_conjugado(x, y, w_in, b_in, alpha, num_iters, calcula_custo, calcula_gradiente, tol=1e-40):\n",
    "    \"\"\"\n",
    "    Método de Gradiente Conjugado para ajuste de w e b.\n",
    "\n",
    "    Argumentos:\n",
    "      x (ndarray (m, n))  : Conjunto de dados com m amostras e n características\n",
    "      y (ndarray (m,))    : Valores alvo de saída\n",
    "      w_in (ndarray (n,)) : Vetor inicial para os parâmetros w\n",
    "      b_in (scalar)       : Valor inicial para o parâmetro b\n",
    "      alpha (float)       : Tamanho de passo ou taxa de aprendizado\n",
    "      num_iters (int)     : Número de iterações\n",
    "      calcula_custo       : Função para calcular o custo\n",
    "      calcula_gradiente   : Função para calcular o gradiente\n",
    "      tol (float)         : Tolerância para critério de parada\n",
    "\n",
    "    Retorna:\n",
    "      w (ndarray (n,))    : Valor atualizado de w\n",
    "      b (scalar)          : Valor atualizado de b\n",
    "      J_history (list)    : Histórico dos valores de custo\n",
    "    \"\"\"\n",
    "    w = w_in\n",
    "    b = b_in\n",
    "    J_history = []\n",
    "\n",
    "    g_prev_w = np.zeros(len(w))\n",
    "    g_prev_b = 0\n",
    "    p_w = -g_prev_w  # Inicializa como negativo do gradiente\n",
    "    p_b = -g_prev_b\n",
    "\n",
    "    for t in range(1, num_iters + 1):\n",
    "        # Calcula o gradiente para w e b\n",
    "        dj_db, dj_dw = calcula_gradiente(x, y, w, b)\n",
    "\n",
    "        # Critério de parada baseado na norma do gradiente\n",
    "        if np.sqrt(np.sum(dj_dw ** 2)) < tol and abs(dj_db) < tol:\n",
    "            print(f\"Convergência atingida na iteração {t}.\")\n",
    "            break\n",
    "\n",
    "        # Primeira iteração - p inicial é o negativo do gradiente\n",
    "        if t == 1:\n",
    "            p_w = -dj_dw\n",
    "            p_b = -dj_db\n",
    "        else:\n",
    "            # Computa beta_t usando o método Polak-Ribiére\n",
    "            if np.dot(g_prev_w, g_prev_w) != 0:  # Prevenir divisão por zero\n",
    "                beta_t = np.dot(dj_dw, dj_dw - g_prev_w) / np.dot(g_prev_w, g_prev_w)\n",
    "            else:\n",
    "                beta_t = 0  # Ou outra abordagem\n",
    "            \n",
    "            p_w = -dj_dw + beta_t * p_w\n",
    "            p_b = -dj_db + beta_t * p_b\n",
    "\n",
    "        # Atualiza os parâmetros\n",
    "        w += alpha * p_w\n",
    "        b += alpha * p_b\n",
    "\n",
    "        # Calcula o custo e armazena no histórico\n",
    "        J_history.append(calcula_custo(x, y, w, b))\n",
    "\n",
    "        # Atualiza o gradiente anterior\n",
    "        g_prev_w = dj_dw\n",
    "        g_prev_b = dj_db\n",
    "\n",
    "        # Exibe o progresso em intervalos regulares\n",
    "        if t % (num_iters // 10) == 0 or t == num_iters:\n",
    "            print(f\"Iteração {t:4d}: Custo {J_history[-1]:8.2f}\")\n",
    "\n",
    "    return w, b, J_history\n"
   ]
  },
  {
   "cell_type": "markdown",
   "id": "938eed3b-fd7a-4e6a-bd6f-daa61ea33f37",
   "metadata": {},
   "source": [
    "### **Algoritmo Adam (Adaptive Moment Estimation)**\n",
    "\n",
    "O algoritmo **Adam** combina as ideias dos métodos de **Momentum** e **RMSProp** para realizar uma atualização adaptativa dos parâmetros durante a otimização. Ele ajusta a taxa de aprendizado de cada parâmetro individualmente, com base em estimativas de momentos de primeira e segunda ordem.\n",
    "\n",
    "#### **Etapas do Algoritmo**\n",
    "\n",
    "1. **Inicialização**:\n",
    "   - Inicializa os momentos $m_w, m_b, v_w, v_b$ como zeros, onde:\n",
    "     - $m_w, m_b$ são as médias móveis exponenciais dos gradientes para os parâmetros $w$ e $b$.\n",
    "     - $v_w, v_b$ são as médias móveis exponenciais dos quadrados dos gradientes.\n",
    "   - Define os hiperparâmetros: taxa de aprendizado $\\alpha$, decaimentos $\\beta_1, \\beta_2$ e um pequeno valor $\\epsilon$ para evitar divisão por zero (estabilização numérica).\n",
    "\n",
    "2. **Atualização dos Momentos**:\n",
    "3. \n",
    "   - A cada iteração, atualiza as médias móveis dos gradientes:\n",
    "    \n",
    "     $\n",
    "     m_w = \\beta_1 m_w + (1 - \\beta_1) \\cdot \\nabla J(w)\n",
    "     $\n",
    "\n",
    "     $\n",
    "     m_b = \\beta_1 m_b + (1 - \\beta_1) \\cdot \\nabla J(b)\n",
    "     $\n",
    "     \n",
    "   - Atualiza as médias móveis dos quadrados dos gradientes:\n",
    "\n",
    "     $\n",
    "     v_w = \\beta_2 v_w + (1 - \\beta_2) \\cdot \\left( \\nabla J(w) \\right)^2\n",
    "     $\n",
    "\n",
    "     $\n",
    "     v_b = \\beta_2 v_b + (1 - \\beta_2) \\cdot \\left( \\nabla J(b) \\right)^2\n",
    "     $\n",
    "\n",
    "4. **Correção de Bias**:\n",
    "   - Como $m_w$, $m_b$, $v_w$ e $v_b$ estão inicialmente biasados em direção a zero nas primeiras iterações, faz-se a correção de bias:\n",
    "\n",
    "     $\n",
    "     m_w^{\\text{corrigido}} = \\frac{m_w}{1 - \\beta_1^t}, \\quad m_b^{\\text{corrigido}} = \\frac{m_b}{1 - \\beta_1^t}\n",
    "     $\n",
    "\n",
    "     $\n",
    "     v_w^{\\text{corrigido}} = \\frac{v_w}{1 - \\beta_2^t}, \\quad v_b^{\\text{corrigido}} = \\frac{v_b}{1 - \\beta_2^t}\n",
    "     $\n",
    "\n",
    "5. **Atualização dos Parâmetros**:\n",
    "   - Finalmente, os parâmetros $w$ e $b$ são atualizados de acordo com as médias corrigidas e os quadrados dos gradientes:\n",
    "\n",
    "     $\n",
    "     w = w - \\alpha \\cdot \\frac{m_w^{\\text{corrigido}}}{\\sqrt{v_w^{\\text{corrigido}}} + \\epsilon}\n",
    "     $\n",
    "\n",
    "     $\n",
    "     b = b - \\alpha \\cdot \\frac{m_b^{\\text{corrigido}}}{\\sqrt{v_b^{\\text{corrigido}}} + \\epsilon}\n",
    "     $\n",
    "\n",
    "### Hiperparâmetros do Adam\n",
    "\n",
    "- $\\alpha$ : Taxa de aprendizado (comumente $0.001$).\n",
    "- $\\beta_1$ : Exponencial para a média dos gradientes (geralmente $0.9$).\n",
    "- $\\beta_2$ : Exponencial para a média dos gradientes ao quadrado (geralmente $0.999$).\n",
    "- $\\epsilon$ : Pequeno valor para evitar divisão por zero (geralmente $10^{-8}$).\n",
    "\n",
    "### Vantagens do Adam\n",
    "\n",
    "- **Taxa de aprendizado adaptativa**: O Adam ajusta automaticamente a taxa de aprendizado para cada parâmetro, o que torna o algoritmo mais robusto em diferentes tipos de problemas.\n",
    "- **Combinação de Momentos**: Aproveita a média dos gradientes (momentum) e as variâncias dos gradientes (RMSProp), combinando os benefícios dos dois métodos.\n",
    "- **Desempenho em Redes Neurais**: Funciona bem em redes neurais profundas e problemas onde o gradiente pode variar muito entre parâmetros.\n"
   ]
  },
  {
   "cell_type": "code",
   "execution_count": 19,
   "id": "11cdc1f0-9de2-4a43-8c6f-b9d71d4d2a97",
   "metadata": {},
   "outputs": [],
   "source": [
    "def adam(x, y, w_in, b_in, alpha, beta1, beta2, epsilon, num_iters, calcula_custo, calcula_gradiente):\n",
    "    \"\"\"\n",
    "    Aplica o algoritmo Adam para otimização de w e b em um cenário multivariado.\n",
    "\n",
    "    Argumentos:\n",
    "      x (ndarray): Conjunto de dados com m amostras e n características.\n",
    "      y (ndarray): Valores alvo de saída.\n",
    "      w_in (ndarray): Valores iniciais para os parâmetros w (vetor de pesos).\n",
    "      b_in (scalar): Valor inicial para o parâmetro b (intercepto).\n",
    "      alpha (float): Taxa de aprendizado.\n",
    "      beta1 (float): Exponencial para a média dos gradientes.\n",
    "      beta2 (float): Exponencial para a média dos gradientes ao quadrado.\n",
    "      epsilon (float): Pequeno valor para evitar divisão por zero.\n",
    "      num_iters (int): Número total de iterações.\n",
    "      calcula_custo: Função que calcula o custo.\n",
    "      calcula_gradiente: Função que calcula o gradiente.\n",
    "\n",
    "    Retorna:\n",
    "      w (ndarray): Valor otimizado de w (vetor de pesos).\n",
    "      b (scalar): Valor otimizado de b (intercepto).\n",
    "      J_history (list): Histórico dos valores de custo.\n",
    "    \"\"\"\n",
    "    w = w_in\n",
    "    b = b_in\n",
    "    m_w, v_w = np.zeros_like(w), np.zeros_like(w)  # Inicialização dos momentos de w\n",
    "    m_b, v_b = 0, 0  # Inicialização dos momentos de b\n",
    "\n",
    "    J_history = []\n",
    "\n",
    "    for t in range(1, num_iters + 1):\n",
    "        # Calcula o gradiente\n",
    "        dj_db, dj_dw = calcula_gradiente(x, y, w, b)\n",
    "\n",
    "        # Atualiza as médias e variâncias dos gradientes (momentos)\n",
    "        m_w = beta1 * m_w + (1 - beta1) * dj_dw\n",
    "        m_b = beta1 * m_b + (1 - beta1) * dj_db\n",
    "\n",
    "        v_w = beta2 * v_w + (1 - beta2) * (dj_dw ** 2)\n",
    "        v_b = beta2 * v_b + (1 - beta2) * (dj_db ** 2)\n",
    "\n",
    "        # Correções de bias\n",
    "        m_w_corrigido = m_w / (1 - beta1 ** t)\n",
    "        m_b_corrigido = m_b / (1 - beta1 ** t)\n",
    "        v_w_corrigido = v_w / (1 - beta2 ** t)\n",
    "        v_b_corrigido = v_b / (1 - beta2 ** t)\n",
    "\n",
    "        # Atualiza os parâmetros\n",
    "        w -= alpha * (m_w_corrigido / (np.sqrt(v_w_corrigido) + epsilon))\n",
    "        b -= alpha * (m_b_corrigido / (np.sqrt(v_b_corrigido) + epsilon))\n",
    "\n",
    "        # Armazena o custo atual\n",
    "        J_history.append(calcula_custo(x, y, w, b))\n",
    "        \n",
    "        # Exibe o progresso em intervalos regulares\n",
    "        if t % (num_iters // 10) == 0 or t == num_iters:\n",
    "            print(f\"Iteração {t:4d}: Custo {J_history[-1]:8.2f}   \")\n",
    "\n",
    "    return w, b, J_history\n"
   ]
  },
  {
   "cell_type": "markdown",
   "id": "31133eb3-dccd-4ca5-a478-d46ff4fb8908",
   "metadata": {},
   "source": [
    "### Parte Prática\n",
    "\n",
    "#### Rodando o RMSProp"
   ]
  },
  {
   "cell_type": "code",
   "execution_count": 20,
   "id": "7b8f282e",
   "metadata": {
    "id": "7b8f282e",
    "pycharm": {
     "name": "#%%\n"
    }
   },
   "outputs": [
    {
     "name": "stdout",
     "output_type": "stream",
     "text": [
      "Iteração    0: Custo    10.42\n",
      "Iteração  100: Custo     0.34\n",
      "Iteração  200: Custo     0.32\n",
      "Iteração  300: Custo     0.32\n",
      "Iteração  400: Custo     0.32\n",
      "Iteração  500: Custo     0.32\n",
      "Iteração  600: Custo     0.32\n",
      "Iteração  700: Custo     0.32\n",
      "Iteração  800: Custo     0.32\n",
      "Iteração  900: Custo     0.32\n",
      "Iteração  999: Custo     0.32\n",
      "b,w encontrados pelo método RMSProp: 785.20,[  0.3908  18.75   -53.3632 -26.4222] \n",
      "previsão: 458.92, valor alvo: 460\n",
      "previsão: 231.27, valor alvo: 232\n",
      "previsão: 177.56, valor alvo: 178\n"
     ]
    }
   ],
   "source": [
    "# inicializando parâmetros\n",
    "b_inicial = 785.2\n",
    "w_inicial = np.array([ 0.391, 18.75, -53.36, -26.42])\n",
    "# parâmetros para rodar o Método do Gradiente:\n",
    "num_iters = 1000\n",
    "alpha     = 1e-3\n",
    "# Rodando o Método do gradiente\n",
    "w_final, b_final, J_hist = rmsprop(X_trein, y_trein, w_inicial, b_inicial, alpha, num_iters,\n",
    "                                                    calcula_custo, calcula_gradiente)\n",
    "print(f\"b,w encontrados pelo método RMSProp: {b_final:0.2f},{w_final} \")\n",
    "m,_ = X_trein.shape\n",
    "for i in range(m):\n",
    "    print(f\"previsão: {np.dot(X_trein[i], w_final) + b_final:0.2f}, valor alvo: {y_trein[i]}\")"
   ]
  },
  {
   "cell_type": "code",
   "execution_count": 21,
   "id": "dc7e1e91",
   "metadata": {},
   "outputs": [
    {
     "data": {
      "image/png": "[encoded data removed]",
      "text/plain": [
       "<Figure size 864x288 with 2 Axes>"
      ]
     },
     "metadata": {
      "needs_background": "light"
     },
     "output_type": "display_data"
    }
   ],
   "source": [
    "# Plotando os resultados\n",
    "fig, (ax1, ax2) = plt.subplots(1, 2, constrained_layout=True, figsize=(12, 4))\n",
    "ax1.plot(J_hist)\n",
    "ax2.plot(100 + np.arange(len(J_hist[100:])), J_hist[100:])\n",
    "ax1.set_title(\"Custo vs. iteração\");  ax2.set_title(\"Custo vs. iteração (cauda do gráfico)\")\n",
    "ax1.set_ylabel('Custo')             ;  ax2.set_ylabel('Custo')\n",
    "ax1.set_xlabel('iteração')   ;  ax2.set_xlabel('iteração')\n",
    "plt.show()"
   ]
  },
  {
   "cell_type": "markdown",
   "id": "f04b19d9",
   "metadata": {},
   "source": [
    "#### Rodando o SGD"
   ]
  },
  {
   "cell_type": "code",
   "execution_count": 22,
   "id": "416f268e",
   "metadata": {},
   "outputs": [
    {
     "name": "stdout",
     "output_type": "stream",
     "text": [
      "Iteração    0: Custo     0.11\n",
      "Iteração  100: Custo     0.03\n",
      "Iteração  200: Custo     0.01\n",
      "Iteração  300: Custo     0.00\n",
      "Iteração  400: Custo     0.00\n",
      "Iteração  500: Custo     0.00\n",
      "Iteração  600: Custo     0.00\n",
      "Iteração  700: Custo     0.00\n",
      "Iteração  800: Custo     0.00\n",
      "Iteração  900: Custo     0.00\n",
      "Iteração  999: Custo     0.00\n",
      "b,w encontrados pelo método SGD: 785.20,[  0.3913  18.75   -53.36   -26.42  ] \n",
      "previsão: 459.98, valor alvo: 460\n",
      "previsão: 232.01, valor alvo: 232\n",
      "previsão: 178.03, valor alvo: 178\n"
     ]
    }
   ],
   "source": [
    "# inicializando parâmetros\n",
    "b_inicial = 785.2\n",
    "w_inicial = np.array([ 0.391, 18.75, -53.36, -26.42])\n",
    "# parâmetros para rodar o Método do Gradiente:\n",
    "num_iters = 1000\n",
    "alpha     = 1e-9\n",
    "# Rodando o Método do gradiente\n",
    "w_final, b_final, J_hist = sgd(X_trein, y_trein, w_inicial, b_inicial, alpha, num_iters,\n",
    "                                                    calcula_custo, calcula_gradiente)\n",
    "print(f\"b,w encontrados pelo método SGD: {b_final:0.2f},{w_final} \")\n",
    "m,_ = X_trein.shape\n",
    "for i in range(m):\n",
    "    print(f\"previsão: {np.dot(X_trein[i], w_final) + b_final:0.2f}, valor alvo: {y_trein[i]}\")"
   ]
  },
  {
   "cell_type": "code",
   "execution_count": 23,
   "id": "7832dc79",
   "metadata": {},
   "outputs": [
    {
     "data": {
      "image/png": "[encoded data removed]",
      "text/plain": [
       "<Figure size 864x288 with 2 Axes>"
      ]
     },
     "metadata": {
      "needs_background": "light"
     },
     "output_type": "display_data"
    }
   ],
   "source": [
    "# Plotando os resultados\n",
    "fig, (ax1, ax2) = plt.subplots(1, 2, constrained_layout=True, figsize=(12, 4))\n",
    "ax1.plot(J_hist)\n",
    "ax2.plot(100 + np.arange(len(J_hist[100:])), J_hist[100:])\n",
    "ax1.set_title(\"Custo vs. iteração\");  ax2.set_title(\"Custo vs. iteração (cauda do gráfico)\")\n",
    "ax1.set_ylabel('Custo')             ;  ax2.set_ylabel('Custo')\n",
    "ax1.set_xlabel('iteração')   ;  ax2.set_xlabel('iteração')\n",
    "plt.show()"
   ]
  },
  {
   "cell_type": "markdown",
   "id": "a61354d3",
   "metadata": {},
   "source": [
    "### Rodando o Gradiente Conjugado"
   ]
  },
  {
   "cell_type": "code",
   "execution_count": 24,
   "id": "85d8fbac",
   "metadata": {},
   "outputs": [
    {
     "name": "stdout",
     "output_type": "stream",
     "text": [
      "Iteração  100: Custo     0.07\n",
      "Iteração  200: Custo     0.04\n",
      "Iteração  300: Custo     0.03\n",
      "Iteração  400: Custo     0.02\n",
      "Iteração  500: Custo     0.01\n",
      "Iteração  600: Custo     0.01\n",
      "Iteração  700: Custo     0.00\n",
      "Iteração  800: Custo     0.00\n",
      "Iteração  900: Custo     0.00\n",
      "Iteração 1000: Custo     0.00\n",
      "b,w encontrados pelo método Gradiente Conjugado: 785.20,[  0.3913  18.75   -53.36   -26.42  ] \n",
      "previsão: 459.92, valor alvo: 460\n",
      "previsão: 231.97, valor alvo: 232\n",
      "previsão: 178.00, valor alvo: 178\n"
     ]
    }
   ],
   "source": [
    "# inicializando parâmetros\n",
    "b_inicial = 785.2\n",
    "w_inicial = np.array([ 0.391, 18.75, -53.36, -26.42])\n",
    "# parâmetros para rodar o Método do Gradiente:\n",
    "num_iters = 1000\n",
    "alpha     = 1e-9\n",
    "# Rodando o Método do gradiente\n",
    "w_final, b_final, J_hist = gradiente_conjugado(X_trein, y_trein, w_inicial, b_inicial, alpha, num_iters,\n",
    "                                                    calcula_custo, calcula_gradiente)\n",
    "print(f\"b,w encontrados pelo método Gradiente Conjugado: {b_final:0.2f},{w_final} \")\n",
    "m,_ = X_trein.shape\n",
    "for i in range(m):\n",
    "    print(f\"previsão: {np.dot(X_trein[i], w_final) + b_final:0.2f}, valor alvo: {y_trein[i]}\")"
   ]
  },
  {
   "cell_type": "code",
   "execution_count": 25,
   "id": "012a24d6",
   "metadata": {},
   "outputs": [
    {
     "data": {
      "image/png": "[encoded data removed]",
      "text/plain": [
       "<Figure size 864x288 with 2 Axes>"
      ]
     },
     "metadata": {
      "needs_background": "light"
     },
     "output_type": "display_data"
    }
   ],
   "source": [
    "# Plotando os resultados\n",
    "fig, (ax1, ax2) = plt.subplots(1, 2, constrained_layout=True, figsize=(12, 4))\n",
    "ax1.plot(J_hist)\n",
    "ax2.plot(100 + np.arange(len(J_hist[100:])), J_hist[100:])\n",
    "ax1.set_title(\"Custo vs. iteração\");  ax2.set_title(\"Custo vs. iteração (cauda do gráfico)\")\n",
    "ax1.set_ylabel('Custo')             ;  ax2.set_ylabel('Custo')\n",
    "ax1.set_xlabel('iteração')   ;  ax2.set_xlabel('iteração')\n",
    "plt.show()"
   ]
  },
  {
   "cell_type": "markdown",
   "id": "1ad78212",
   "metadata": {},
   "source": [
    "### Rodando o Adam"
   ]
  },
  {
   "cell_type": "code",
   "execution_count": 26,
   "id": "fa03f8b2",
   "metadata": {},
   "outputs": [
    {
     "name": "stdout",
     "output_type": "stream",
     "text": [
      "Iteração  100: Custo     0.38   \n",
      "Iteração  200: Custo     0.00   \n",
      "Iteração  300: Custo     0.00   \n",
      "Iteração  400: Custo     0.00   \n",
      "Iteração  500: Custo     0.00   \n",
      "Iteração  600: Custo     0.00   \n",
      "Iteração  700: Custo     0.00   \n",
      "Iteração  800: Custo     0.00   \n",
      "Iteração  900: Custo     0.00   \n",
      "Iteração 1000: Custo     0.00   \n",
      "b,w encontrados pelo método Adam: 785.18,[  0.3913  18.7536 -53.3605 -26.4213] \n",
      "previsão: 460.00, valor alvo: 460\n",
      "previsão: 232.00, valor alvo: 232\n",
      "previsão: 178.00, valor alvo: 178\n"
     ]
    }
   ],
   "source": [
    "# inicializando parâmetros\n",
    "b_inicial = 785.1811367994083\n",
    "w_inicial = np.array([ 0.39133535, 18.75376741, -53.36032453, -26.42131618])\n",
    "# parâmetros para rodar o Método do Gradiente:\n",
    "num_iters = 1000\n",
    "alpha  = 0.1\n",
    "beta1 = 0.9\n",
    "beta2 = 0.999\n",
    "epsilon = 1e-8\n",
    "# Rodando o Método do gradiente\n",
    "w_final, b_final, J_hist = adam(X_trein, y_trein, w_inicial, b_inicial, alpha, beta1, beta2, epsilon, num_iters,\n",
    "                                                    calcula_custo, calcula_gradiente)\n",
    "print(f\"b,w encontrados pelo método Adam: {b_final:0.2f},{w_final} \")\n",
    "m,_ = X_trein.shape\n",
    "for i in range(m):\n",
    "    print(f\"previsão: {np.dot(X_trein[i], w_final) + b_final:0.2f}, valor alvo: {y_trein[i]}\")"
   ]
  },
  {
   "cell_type": "code",
   "execution_count": 27,
   "id": "38c07267",
   "metadata": {},
   "outputs": [
    {
     "data": {
      "image/png": "[encoded data removed]",
      "text/plain": [
       "<Figure size 864x288 with 2 Axes>"
      ]
     },
     "metadata": {
      "needs_background": "light"
     },
     "output_type": "display_data"
    }
   ],
   "source": [
    "# Plotando os resultados\n",
    "fig, (ax1, ax2) = plt.subplots(1, 2, constrained_layout=True, figsize=(12, 4))\n",
    "ax1.plot(J_hist)\n",
    "ax2.plot(100 + np.arange(len(J_hist[100:])), J_hist[100:])\n",
    "ax1.set_title(\"Custo vs. iteração\");  ax2.set_title(\"Custo vs. iteração (cauda do gráfico)\")\n",
    "ax1.set_ylabel('Custo')             ;  ax2.set_ylabel('Custo')\n",
    "ax1.set_xlabel('iteração')   ;  ax2.set_xlabel('iteração')\n",
    "plt.show()"
   ]
  }
 ],
 "metadata": {
  "colab": {
   "provenance": []
  },
  "dl_toc_settings": {
   "rndtag": "15456"
  },
  "kernelspec": {
   "display_name": "Python 3 (ipykernel)",
   "language": "python",
   "name": "python3"
  },
  "language_info": {
   "codemirror_mode": {
    "name": "ipython",
    "version": 3
   },
   "file_extension": ".py",
   "mimetype": "text/x-python",
   "name": "python",
   "nbconvert_exporter": "python",
   "pygments_lexer": "ipython3",
   "version": "3.10.12"
  },
  "toc-autonumbering": false
 },
 "nbformat": 4,
 "nbformat_minor": 5
}
